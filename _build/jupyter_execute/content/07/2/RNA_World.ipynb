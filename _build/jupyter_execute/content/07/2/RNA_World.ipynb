{
 "cells": [
  {
   "cell_type": "markdown",
   "metadata": {},
   "source": [
    "# RNA World Hypothesis\n",
    "\n",
    "RNA is a simpler cousin of DNA.  As you may know, RNA is widely thought to be the first self replicating life-form to arise perhaps around 4 billion years ago. One of the strongest arguments for this theory is that RNA is able to carry information in its nucleotides like DNA, and like protein, it is able to adopt higher order structures to catalyze reactions, such as self replication. So it is likely, and there is growing evidence that this is the case, that the first form of replicating life was RNA. And because of this dual property of RNA as a hereditary information vessel as well as a structural/functional element we can use RNA molecules to build very nice population models. \n",
    "\n",
    "So in this section, we'll be walking you through building genetic populations, simulating their evolution, and using statistics and other mathematical tools for understanding key properties of populations."
   ]
  },
  {
   "cell_type": "code",
   "execution_count": 1,
   "metadata": {
    "execution": {
     "iopub.execute_input": "2020-06-29T22:29:26.201960Z",
     "iopub.status.busy": "2020-06-29T22:29:26.201361Z",
     "iopub.status.idle": "2020-06-29T22:29:26.212405Z",
     "shell.execute_reply": "2020-06-29T22:29:26.212875Z"
    }
   },
   "outputs": [
    {
     "name": "stderr",
     "output_type": "stream",
     "text": [
      "/home/leo/anaconda3/lib/python3.6/site-packages/IPython/core/display.py:717: UserWarning: Consider using IPython.display.IFrame instead\n",
      "  warnings.warn(\"Consider using IPython.display.IFrame instead\")\n"
     ]
    },
    {
     "data": {
      "text/html": [
       "<iframe width=\"560\" height=\"315\" src=\"https://www.youtube.com/embed/K1xnYFCZ9Yg\" frameborder=\"0\" allow=\"accelerometer; autoplay; encrypted-media; gyroscope; picture-in-picture\" allowfullscreen></iframe>"
      ],
      "text/plain": [
       "<IPython.core.display.HTML object>"
      ]
     },
     "execution_count": 1,
     "metadata": {},
     "output_type": "execute_result"
    }
   ],
   "source": [
    "from IPython.display import HTML\n",
    "\n",
    "# Youtube\n",
    "HTML('<iframe width=\"560\" height=\"315\" src=\"https://www.youtube.com/embed/K1xnYFCZ9Yg\" frameborder=\"0\" allow=\"accelerometer; autoplay; encrypted-media; gyroscope; picture-in-picture\" allowfullscreen></iframe>')"
   ]
  },
  {
   "cell_type": "code",
   "execution_count": 2,
   "metadata": {
    "collapsed": true,
    "execution": {
     "iopub.execute_input": "2020-06-29T22:29:26.216087Z",
     "iopub.status.busy": "2020-06-29T22:29:26.215537Z",
     "iopub.status.idle": "2020-06-29T22:29:26.217972Z",
     "shell.execute_reply": "2020-06-29T22:29:26.217417Z"
    }
   },
   "outputs": [],
   "source": [
    "#HTML('<iframe width=\"784\" height=\"441\" src=\"https://scaleofuniverse.com/\" /iframe>')"
   ]
  },
  {
   "cell_type": "markdown",
   "metadata": {
    "slideshow": {
     "slide_type": "-"
    }
   },
   "source": [
    "## Population Evolution in *an* RNA World\n",
    "\n",
    "In order to study the evolution of a population, we first need a model of a population. And even before that, we need to define what we mean by *population*. Populations can be defined on many levels and with many diffferent criteria. For our purposes, we will simply say that a population is a set of individuals sharing a common environment. And because this is population *genetics* we can think of individuals as entities comprising of specific genes or chromosomes. \n",
    "\n",
    "So where do we get a population from? As you may have discussed in previous workshops, there are very large datasets containing sequencing information from different populations. So we could download one of these datasets and perform some analysis on it. But I find this can be dry and tedious. So why download data when we can simply create our own?\n",
    "\n",
    "In this section we're going to be creating and studying our own \"artificial\" populations to illustrate some important population genetics concepts and methodologies. Not only will this help you learn population genetics, but you will get a lot more programming practice than if we were to simply parse data files and go from there. \n",
    "\n",
    "More specifically, we're going to build our own RNA world.\n",
    "\n",
    "### Building an RNA population\n",
    "\n",
    "As we saw earlier, RNA has the nice property of posessing a strong mapping between information carrying (sequence) and function (structure). This is analogous to what is known in evolutionary terms as a genotype and a phenotype. With these properties, we have everything we need to model a population, and simulate its evolution.\n",
    "\n",
    "#### RNA sequence-structure\n",
    "\n",
    "We can think of the genotype as a sequence $s$ consisting of letters/nucleotides from the alphabet $\\{U,A,C,G\\}$. The corresponding phenotype $\\omega$ is the secondary structure of $s$ which can be thought of as a pairing between nucleotides in the primary sequence that give rise to a 2D architecture. Because it has been shown that the function of many biomolecules, including RNA, is driven by structure this gives us a good proxy for phenotype. \n",
    "\n",
    "Below is an example of what an RNA secondary structure, or pairing, looks like."
   ]
  },
  {
   "cell_type": "code",
   "execution_count": 3,
   "metadata": {
    "execution": {
     "iopub.execute_input": "2020-06-29T22:29:26.222104Z",
     "iopub.status.busy": "2020-06-29T22:29:26.221425Z",
     "iopub.status.idle": "2020-06-29T22:29:26.223989Z",
     "shell.execute_reply": "2020-06-29T22:29:26.224432Z"
    },
    "slideshow": {
     "slide_type": "-"
    }
   },
   "outputs": [
    {
     "data": {
      "text/html": [
       "<img src=\"https://viennarna.github.io/forgi/_images/1y26_ss.png\"/>"
      ],
      "text/plain": [
       "<IPython.core.display.Image object>"
      ]
     },
     "execution_count": 3,
     "metadata": {},
     "output_type": "execute_result"
    }
   ],
   "source": [
    "### 1\n",
    "\n",
    "from IPython.display import Image\n",
    "#This will load an image of an RNA secondary structure\n",
    "Image(url='https://viennarna.github.io/forgi/_images/1y26_ss.png')\n"
   ]
  },
  {
   "cell_type": "code",
   "execution_count": 4,
   "metadata": {
    "execution": {
     "iopub.execute_input": "2020-06-29T22:29:26.228413Z",
     "iopub.status.busy": "2020-06-29T22:29:26.227823Z",
     "iopub.status.idle": "2020-06-29T22:29:26.230196Z",
     "shell.execute_reply": "2020-06-29T22:29:26.230634Z"
    }
   },
   "outputs": [
    {
     "data": {
      "text/html": [
       "<iframe width=\"560\" height=\"315\" src=\"https://www.youtube.com/embed/JQByjprj_mA\" frameborder=\"0\" allow=\"accelerometer; autoplay; encrypted-media; gyroscope; picture-in-picture\" allowfullscreen></iframe>"
      ],
      "text/plain": [
       "<IPython.core.display.HTML object>"
      ]
     },
     "execution_count": 4,
     "metadata": {},
     "output_type": "execute_result"
    }
   ],
   "source": [
    "from IPython.display import HTML\n",
    "\n",
    "# Youtube\n",
    "HTML('<iframe width=\"560\" height=\"315\" src=\"https://www.youtube.com/embed/JQByjprj_mA\" frameborder=\"0\" allow=\"accelerometer; autoplay; encrypted-media; gyroscope; picture-in-picture\" allowfullscreen></iframe>')\n",
    "#import matplotlib.pyplot as plt\n",
    "#import forgi.visual.mplotlib as fvm\n",
    "#import forgi\n",
    "#cg = forgi.load_rna(\"1y26.fx\", allow_many=False)\n",
    "#fvm.plot_rna(cg, text_kwargs={\"fontweight\":\"black\"}, lighten=0.7,\n",
    "#             backbone_kwargs={\"linewidth\":3})\n",
    "#plt.show()"
   ]
  },
  {
   "cell_type": "markdown",
   "metadata": {},
   "source": [
    "As you can see, unpaired positions are forming loop-like structures, and paired positions are forming stem-like structures. It is this spatial arrangement of nucleotides that drives RNA's function. Therefore, another sequence that adopts a similar shape, is likely to behave in a similar manner. Another thing to notice is that, although in reality this is often not the case, in general we only allow pairs between $\\{C,G\\}$ and $\\{A, U\\}$ nucleotides, most modern approaches allow for non-canonical pairings and you will find some examples of this in the above structure.\n",
    "\n",
    "*How do we go from a sequence to a structure?*\n",
    "\n",
    "So a secondary structure is just a list of pairings between positions. How do we get the optimal pairing?\n",
    "\n",
    "The algorithm we're going to be using in our simulations is known as the Nussinov Algorithm. The Nussinov algorithm is one of the first and simplest attempts at predicting RNA structure. Because bonds tend to stabilize RNA, the algorithm tries to maximize the number of pairs in the structure and return that as its solution. Current approaches achieve more accurate solutions by using energy models based one experimental values to then obtain a structure that minimizes free energy. But since we're not really concerned with the accuracy of our predictions, Nussinov is a good entry point. Furthermore, the main algorithmic concepts are the same between Nussinov and state of the art RNA structure prediction algorithms. I implemented the algorithm in a separate file called `fold.py` that we can import and use its functions. I'm not going to go into detail here on how the algorithm works because it is beyond the scope of this workshop but there is a bonus exercise at the end if you're curious.\n",
    "\n",
    "You can predict a secondary structure by calling `nussinov()` with a sequence string and it will return a tuple in the form `(structure, pairs)`."
   ]
  },
  {
   "cell_type": "code",
   "execution_count": 5,
   "metadata": {
    "execution": {
     "iopub.execute_input": "2020-06-29T22:29:26.234727Z",
     "iopub.status.busy": "2020-06-29T22:29:26.234178Z",
     "iopub.status.idle": "2020-06-29T22:29:26.288183Z",
     "shell.execute_reply": "2020-06-29T22:29:26.287624Z"
    },
    "slideshow": {
     "slide_type": "-"
    }
   },
   "outputs": [
    {
     "name": "stdout",
     "output_type": "stream",
     "text": [
      ">test\n",
      "ACCCGAUGUUAUAUAUACCU\n",
      "(...(..(((....).))))\n"
     ]
    }
   ],
   "source": [
    "### 2\n",
    "import numpy as np\n",
    "from fold import nussinov #Codes by Carlos G. Oliver (https://github.com/cgoliver)\n",
    "\n",
    "sequence_to_fold = \"ACCCGAUGUUAUAUAUACCU\"\n",
    "struc = nussinov(sequence_to_fold)\n",
    "print(\">test\") #creates the structure of a .fx file for \"forna\"\n",
    "print(sequence_to_fold)\n",
    "print(struc[0])\n",
    "#Check the molecule at: http://rna.tbi.univie.ac.at/forna/\n",
    "# Paste the text below in the webpage and see the structure\n",
    "#>test\n",
    "#ACCCGAUGUUAUAUAUACCU\n",
    "#(...(..(((....).))))"
   ]
  },
  {
   "cell_type": "markdown",
   "metadata": {},
   "source": [
    "You will see a funny dot-bracket string in the output. This is a representation of the structure of an RNA. Quite simply, a matching parir of parentheses (open and close) correspond to the nucleotides at those positions being paried. Whereas, a dot means that that position is unpaired in the structure. Feel free to play around with the input sequence to get a better understanding of the notation.\n",
    "\n",
    "If you want to visually check the sequence, go to: [forna](http://rna.tbi.univie.ac.at/forna/forna.html) and copy the text above with the sequence and its structure in the **Add Molecule** button.  The webpage is embedded below.\n",
    "\n",
    "So that's enough about RNA structure prediction. Let's move on to building our populations."
   ]
  },
  {
   "cell_type": "code",
   "execution_count": 6,
   "metadata": {
    "execution": {
     "iopub.execute_input": "2020-06-29T22:29:26.292402Z",
     "iopub.status.busy": "2020-06-29T22:29:26.291816Z",
     "iopub.status.idle": "2020-06-29T22:29:26.294529Z",
     "shell.execute_reply": "2020-06-29T22:29:26.294963Z"
    }
   },
   "outputs": [
    {
     "data": {
      "text/html": [
       "<iframe width=\"784\" height=\"441\" src=\"http://rna.tbi.univie.ac.at/forna/forna.html\" /iframe>"
      ],
      "text/plain": [
       "<IPython.core.display.HTML object>"
      ]
     },
     "execution_count": 6,
     "metadata": {},
     "output_type": "execute_result"
    }
   ],
   "source": [
    "HTML('<iframe width=\"784\" height=\"441\" src=\"http://rna.tbi.univie.ac.at/forna/forna.html\" /iframe>')"
   ]
  },
  {
   "cell_type": "code",
   "execution_count": 7,
   "metadata": {
    "execution": {
     "iopub.execute_input": "2020-06-29T22:29:26.299713Z",
     "iopub.status.busy": "2020-06-29T22:29:26.298847Z",
     "iopub.status.idle": "2020-06-29T22:29:26.301860Z",
     "shell.execute_reply": "2020-06-29T22:29:26.301398Z"
    }
   },
   "outputs": [
    {
     "name": "stdout",
     "output_type": "stream",
     "text": [
      "[3 0 3]\n"
     ]
    }
   ],
   "source": [
    "print(np.random.choice(5, 3, p=[0.1, 0, 0.6, 0.3, 0],replace=True))"
   ]
  },
  {
   "cell_type": "markdown",
   "metadata": {
    "collapsed": true,
    "slideshow": {
     "slide_type": "-"
    }
   },
   "source": [
    "### Fitness of a sequence: Target Structure\n",
    "\n",
    "Now that we have a good way of getting a phenotype (secondary structure), we need a way to evaluate the fitness of that phenotype. If we think in real life terms, fitness is the ability of a genotype to replicate into the next generation. If you have a gene carrying a mutation that causes some kind of disease, your fitness is decreased and you have a lower chance of contributing offspring to the next generation. On a molecular level the same concept applies. A molecule needs to accomplish a certain function, i.e. bind to some other molecule or send some kind of signal. And as we've seen before, the most important factor that determines how well it can carry out this function is its structure. So we can imagine that a certain structure, we can call this a 'target' structure, is required in order to accomplish a certain function. So a sequence that folds correctly to a target structure is seen as having a greater fitness than one that does not. Since we've encoded structures as simple dot-bracket strings, we can easily compare structures and thus evaluate the fitness between a given structure and the target, or 'correct' structure. \n",
    "\n",
    "There are many ways to compare structures $w_{1}$ and $w_{2}$, but we're going to use one of the simplest ways, which is base-pair distance. This is just the number of pairs in $w_{1}$ that are not in $w_{2}$. Again, this is beyond the scope of this workshop so I'll just give you the code for it and if you would like to know more you can ask me."
   ]
  },
  {
   "cell_type": "code",
   "execution_count": 8,
   "metadata": {
    "execution": {
     "iopub.execute_input": "2020-06-29T22:29:26.309501Z",
     "iopub.status.busy": "2020-06-29T22:29:26.308940Z",
     "iopub.status.idle": "2020-06-29T22:29:26.311694Z",
     "shell.execute_reply": "2020-06-29T22:29:26.311147Z"
    }
   },
   "outputs": [
    {
     "name": "stdout",
     "output_type": "stream",
     "text": [
      "('((....))', [(0, 7), (1, 6)])\n",
      "('.(....).', [(1, 6)])\n",
      "1\n"
     ]
    }
   ],
   "source": [
    "### 3\n",
    "\n",
    "#ss_to_bp() and bp_distance() by Vladimir Reinharz.\n",
    "def ss_to_bp(ss):\n",
    "    bps = set()\n",
    "    l = []\n",
    "    for i, x in enumerate(ss):\n",
    "            if x == '(':\n",
    "                    l.append(i)\n",
    "            elif x == ')':\n",
    "                    bps.add((l.pop(), i))\n",
    "    return bps\n",
    "\n",
    "def bp_distance(w1, w2):\n",
    "    \"\"\"\n",
    "    return base pair distance between structures w1 and w1. \n",
    "    w1 and w1 are lists of tuples representing pairing indices.\n",
    "    \"\"\"\n",
    "    return len(set(w1).symmetric_difference(set(w2)))\n",
    "\n",
    "#let's fold two sequences\n",
    "w1 = nussinov(\"CCAAAAGG\")\n",
    "w2 = nussinov(\"ACAAAAGA\")\n",
    "\n",
    "print(w1)\n",
    "print(w2)\n",
    "\n",
    "#give the list of pairs to bp_distance and see what the distance is.\n",
    "print(bp_distance(w1[-1], w2[-1]))"
   ]
  },
  {
   "cell_type": "markdown",
   "metadata": {},
   "source": [
    "## Defining a cell\n",
    "\n",
    "The cell we will define here is a simple organism with two copies of an RNA gene, each with its own structure.  This simple definition of a cell will help us create populations to play around in our evolutionary reactor."
   ]
  },
  {
   "cell_type": "code",
   "execution_count": 9,
   "metadata": {
    "execution": {
     "iopub.execute_input": "2020-06-29T22:29:26.316823Z",
     "iopub.status.busy": "2020-06-29T22:29:26.316266Z",
     "iopub.status.idle": "2020-06-29T22:29:26.319118Z",
     "shell.execute_reply": "2020-06-29T22:29:26.318615Z"
    }
   },
   "outputs": [
    {
     "name": "stdout",
     "output_type": "stream",
     "text": [
      "AACCCCUU (....). AACCCCUU (....).\n"
     ]
    }
   ],
   "source": [
    "### 4\n",
    "class Cell:\n",
    "    def __init__(self, seq_1, struc_1, seq_2, struc_2):\n",
    "        self.sequence_1 = seq_1\n",
    "        self.sequence_2 = seq_2\n",
    "        self.structure_1 = struc_1\n",
    "        self.structure_2 = struc_2\n",
    "        \n",
    "#for now just try initializing a Cell with made up sequences and structures\n",
    "cell = Cell(\"AACCCCUU\", \"((.....))\", \"GGAAAACA\", \"(....).\")\n",
    "print(cell.sequence_1, cell.structure_2, cell.sequence_1, cell.structure_2)"
   ]
  },
  {
   "cell_type": "markdown",
   "metadata": {},
   "source": [
    "## Populations of Cells\n",
    "\n",
    "Now we've defined a 'Cell'. Since a population is a collection of individuals our populations will naturally consist of **lists** of 'Cell' objects, each with their own sequences. Here we initialize all the Cells with random sequences and add them to the 'population' list."
   ]
  },
  {
   "cell_type": "code",
   "execution_count": 10,
   "metadata": {
    "collapsed": true,
    "execution": {
     "iopub.execute_input": "2020-06-29T22:29:26.325133Z",
     "iopub.status.busy": "2020-06-29T22:29:26.324576Z",
     "iopub.status.idle": "2020-06-29T22:29:26.326845Z",
     "shell.execute_reply": "2020-06-29T22:29:26.326301Z"
    }
   },
   "outputs": [],
   "source": [
    "### 5\n",
    "import random\n",
    "\n",
    "def populate(target, pop_size):\n",
    "    '''Creates a population of cells (pop_size) with a number of random RNA nucleotides (AUCG)\n",
    "    matching the length of the target structure'''\n",
    "    population = []\n",
    "\n",
    "    for i in range(pop_size):\n",
    "        #get a random sequence to start with\n",
    "        sequence = \"\".join([random.choice(\"AUCG\") for _ in range(len(target))])\n",
    "        #use nussinov to get the secondary structure for the sequence\n",
    "        structure = nussinov(sequence)\n",
    "        #add a new Cell object to the population list\n",
    "        new_cell = Cell(sequence, structure, sequence, structure)\n",
    "        new_cell.id = i\n",
    "        new_cell.parent = i\n",
    "        population.append(new_cell)\n",
    "            \n",
    "    return population"
   ]
  },
  {
   "cell_type": "markdown",
   "metadata": {},
   "source": [
    "Try creating a new population and printing the first 10 sequences and structures (in dot-bracket) on the first chromosome!"
   ]
  },
  {
   "cell_type": "code",
   "execution_count": 11,
   "metadata": {
    "execution": {
     "iopub.execute_input": "2020-06-29T22:29:26.387380Z",
     "iopub.status.busy": "2020-06-29T22:29:26.364250Z",
     "iopub.status.idle": "2020-06-29T22:29:26.399012Z",
     "shell.execute_reply": "2020-06-29T22:29:26.399471Z"
    }
   },
   "outputs": [
    {
     "name": "stdout",
     "output_type": "stream",
     "text": [
      "0 UUUGACGAUA ((.....).) UUUGACGAUA ((.....).)\n",
      "1 UGACUCGUGG ..(....).. UGACUCGUGG ..(....)..\n",
      "2 AGAAGUAUUG (.(....)). AGAAGUAUUG (.(....)).\n",
      "3 AGAGUGGACG .(......). AGAGUGGACG .(......).\n",
      "4 AUUCCCUAGG (.....)... AUUCCCUAGG (.....)...\n",
      "5 AGAGUGGCCC .(.(....)) AGAGUGGCCC .(.(....))\n",
      "6 CCACAUUAUU ..(.....). CCACAUUAUU ..(.....).\n",
      "7 GACAGGUAAA .(....)... GACAGGUAAA .(....)...\n",
      "8 AUCUUGCGGU (.(....).) AUCUUGCGGU (.(....).)\n",
      "9 GCUCGUCGGU (.....)... GCUCGUCGGU (.....)...\n",
      "290 AGGUGUCAUG ((....).). AGGUGUCAUG ((....).).\n",
      "291 AAGGGUUAAG (....).... AAGGGUUAAG (....)....\n",
      "292 AAGACGAUCU ((.....).) AAGACGAUCU ((.....).)\n",
      "293 CAGGAACCAA ..(....).. CAGGAACCAA ..(....)..\n",
      "294 GGAUCCGGAG (....).... GGAUCCGGAG (....)....\n",
      "295 UAGAAAUGUA ((....)..) UAGAAAUGUA ((....)..)\n",
      "296 GAACCACUUA .((....)). GAACCACUUA .((....)).\n",
      "297 CAGGCCGAGG (.....)... CAGGCCGAGG (.....)...\n",
      "298 GAUAUACAUC (((....))) GAUAUACAUC (((....)))\n",
      "299 GUACUUAAUG .(....)... GUACUUAAUG .(....)...\n"
     ]
    }
   ],
   "source": [
    "### 6\n",
    "target = \"(((....)))\"\n",
    "pop = populate(target, pop_size=300)\n",
    "for p in pop[:10]:\n",
    "    print(p.id, p.sequence_1, p.structure_1[0], p.sequence_2, p.structure_2[0])\n",
    "    \n",
    "for p in pop[-10:]:#for p in pop[:10]:#for p in pop[-10:]:#for p in pop[:10]:\n",
    "    print(p.id, p.sequence_1, p.structure_1[0], p.sequence_2, p.structure_2[0])"
   ]
  },
  {
   "cell_type": "markdown",
   "metadata": {},
   "source": [
    "## The Fitness of a Cell \n",
    "\n",
    "\n",
    "Once we are able to create populations of cells, we need a way of asssessing their individual fitness.  In our model, a *Cell* is an object that contains two sequences of RNA, something analogous to having two copies of a gene in each chromosome.   \n",
    "\n",
    "We could simply loop through each *Cell* in the population and check the base pair distance to the target structure we defined.  However, this approach of using base-pair distance is not the best for defining fitness. There are two reasons for this: \n",
    "\n",
    "1. We want fitness to represent a *probability* that a cell will reproduce (pass its genes to the next generation), and base pair distance is, in our case, an integer value.\n",
    "2. We want this probability to be a *relative* measure of fitness. That is, we want the fitness to be proportional to how good a cell is with respect to all others in the population. This touches on an important principle in evolution where we only need to be 'better' than the rest of the population (the competition) and not good in some absolute measure. For instance, if you and I are being chased by a predator. In order to survive, I only need to be faster than you, and not necessarily some absolute level of fitness.\n",
    "\n",
    "In order to get a probability (number between 0 and 1) we use the following equation to define the fitness of a structure $\\omega$ on a target structure $T$:\n",
    "\n",
    "$$P(\\omega, T) = N^{-1} exp(\\frac{-\\beta \\texttt{dist}(\\omega, T)}{\\texttt{len}(\\omega)})$$\n",
    "\n",
    "$$N = \\sum_{i \\in Pop}{P(\\omega_i, T})$$\n",
    "\n",
    "Here, the $N$ is what gives us the 'relative' measure because we divide the fitness of the Cell by the sum of the fitness of every other Cell. \n",
    "\n",
    "Let's take a quick look at how this function behaves if we plot different base pair distance values.\n",
    "\n",
    "What is the effect of the parameter $\\beta$? Try plotting the same function but with different values of $\\beta$."
   ]
  },
  {
   "cell_type": "code",
   "execution_count": 12,
   "metadata": {
    "execution": {
     "iopub.execute_input": "2020-06-29T22:29:26.406248Z",
     "iopub.status.busy": "2020-06-29T22:29:26.405681Z",
     "iopub.status.idle": "2020-06-29T22:29:26.845182Z",
     "shell.execute_reply": "2020-06-29T22:29:26.844687Z"
    }
   },
   "outputs": [
    {
     "data": {
      "text/plain": [
       "Text(0, 0.5, 'P(w, T)')"
      ]
     },
     "execution_count": 12,
     "metadata": {},
     "output_type": "execute_result"
    },
    {
     "data": {
      "image/png": "[encoded data removed]",
      "text/plain": [
       "<Figure size 432x288 with 1 Axes>"
      ]
     },
     "metadata": {
      "filenames": {
       "image/png": "/home/leo/Documents/ASTROBIOLOGY200/ASTROBIOLOGY200/_build/jupyter_execute/content/07/2/RNA_World_20_1.png"
      },
      "needs_background": "light"
     },
     "output_type": "display_data"
    }
   ],
   "source": [
    "%matplotlib inline\n",
    "import matplotlib.pyplot as plt\n",
    "import math\n",
    "\n",
    "target_length = 50\n",
    "beta = -3\n",
    "\n",
    "plt.plot([math.exp(beta * (bp_dist / float(target_length))) for bp_dist in range(target_length)])\n",
    "plt.xlabel(\"Base pair distance to target structure\")\n",
    "plt.ylabel(\"P(w, T)\")"
   ]
  },
  {
   "cell_type": "markdown",
   "metadata": {},
   "source": [
    "As you can see, it's a very simple function that evaluates to 1 (highest fitness) if the base pair distance is 0, and decreases as the structures get further and further away from the target. I didn't include the $N$ in the plotting as it will be a bit more annoying to compute, but it is simply a scaling factor so the shape and main idea won't be different.\n",
    "\n",
    "Now we can use this function to get a fitness value for each Cell in our population."
   ]
  },
  {
   "cell_type": "code",
   "execution_count": 13,
   "metadata": {
    "execution": {
     "iopub.execute_input": "2020-06-29T22:29:26.859054Z",
     "iopub.status.busy": "2020-06-29T22:29:26.858475Z",
     "iopub.status.idle": "2020-06-29T22:29:26.863873Z",
     "shell.execute_reply": "2020-06-29T22:29:26.863335Z"
    }
   },
   "outputs": [
    {
     "name": "stdout",
     "output_type": "stream",
     "text": [
      "0.004082361339676633 3 3\n",
      "0.007438547347012176 2 2\n",
      "0.004082361339676633 3 3\n",
      "0.007438547347012176 2 2\n",
      "0.0022404474059549355 4 4\n",
      "0.001229583606444745 5 5\n",
      "0.0022404474059549355 4 4\n",
      "0.0022404474059549355 4 4\n",
      "0.013553916968585836 1 1\n",
      "0.0022404474059549355 4 4\n"
     ]
    }
   ],
   "source": [
    "### 7\n",
    "\n",
    "def compute_fitness(population, target, beta=-3):\n",
    "    \"\"\"\n",
    "    Assigns a fitness and bp_distance value to each cell in the population.\n",
    "    \"\"\"\n",
    "    #store the fitness values of each cell\n",
    "    tot = []\n",
    "    #iterate through each cell\n",
    "    for cell in population:\n",
    "        \n",
    "        #calculate the bp_distance of each chromosome using the cell's structure\n",
    "        bp_distance_1 = bp_distance(cell.structure_1[-1], ss_to_bp(target))\n",
    "        bp_distance_2 = bp_distance(cell.structure_2[-1], ss_to_bp(target))\n",
    "        \n",
    "        #use the bp_distances and the above fitness equation to calculate the fitness of each chromosome\n",
    "        fitness_1 = math.exp((beta * bp_distance_1 / float(len(cell.sequence_1))))\n",
    "        fitness_2 =  math.exp((beta * bp_distance_2 / float(len(cell.sequence_2))))\n",
    "\n",
    "        #get the fitness of the whole cell by multiplying the fitnesses of each chromosome\n",
    "        cell.fitness = fitness_1 * fitness_2\n",
    "               \n",
    "        #store the bp_distance of each chromosome.\n",
    "        cell.bp_distance_1 = bp_distance_1\n",
    "        cell.bp_distance_2 = bp_distance_2\n",
    "    \n",
    "        \n",
    "        #add the cell's fitness value to the list of all fitness values (used for normalization later)\n",
    "        tot.append(cell.fitness)\n",
    "\n",
    "    #normalization factor is sum of all fitness values in population\n",
    "    norm = np.sum(tot)\n",
    "    #divide all fitness values by the normalization factor.\n",
    "    for cell in population:\n",
    "        cell.fitness = cell.fitness / norm\n",
    "\n",
    "    return None\n",
    "\n",
    "compute_fitness(pop, target)\n",
    "for cell in pop[:10]:\n",
    "    print(cell.fitness, cell.bp_distance_1, cell.bp_distance_2)"
   ]
  },
  {
   "cell_type": "markdown",
   "metadata": {},
   "source": [
    "## Introducing diversity: Mutations\n",
    "\n",
    "Evolution would go nowhere without random mutations. While mutations are technically just random errors in the copying of genetic material, they are essential in the process of evolution. This is because they introduce novel diversity to populatons, which with a low frequency can be beneficial. And when a beneficial mutation arises (i.e. a mutation that increases fitness, or replication probability) it quickly takes over the population and the populatioin as a whole has a higher fitness.\n",
    "\n",
    "Implementing mutations in our model will be quite straightforward. Since mutations happen at the genotype/sequence level, we simply have to iterate through our strings of nucleotides (sequences) and randomly introduce changes."
   ]
  },
  {
   "cell_type": "code",
   "execution_count": 14,
   "metadata": {
    "execution": {
     "iopub.execute_input": "2020-06-29T22:29:26.870879Z",
     "iopub.status.busy": "2020-06-29T22:29:26.870315Z",
     "iopub.status.idle": "2020-06-29T22:29:26.873163Z",
     "shell.execute_reply": "2020-06-29T22:29:26.872612Z"
    }
   },
   "outputs": [
    {
     "name": "stdout",
     "output_type": "stream",
     "text": [
      "AAAAGGAGUGUGUAUGU\n",
      "('AugAGGAGUugGcucGU', True)\n"
     ]
    }
   ],
   "source": [
    "def mutate(sequence, mutation_rate=0.001):\n",
    "    \"\"\"Takes a sequence and mutates bases with probability mutation_rate\"\"\"\n",
    "    \n",
    "    #start an empty string to store the mutated sequence\n",
    "    new_sequence = \"\"\n",
    "    #boolean storing whether or not the sequence got mutated\n",
    "    mutated = False\n",
    "    #go through every bp in the sequence\n",
    "    for bp in sequence:\n",
    "        #generate a random number between 0 and 1\n",
    "        r = random.random()\n",
    "        #if r is below mutation rate, introduce a mutation\n",
    "        if r < mutation_rate:\n",
    "            #add a randomly sampled nucleotide to the new sequence\n",
    "            new_sequence = new_sequence + random.choice(\"aucg\")\n",
    "            mutated = True\n",
    "        else:\n",
    "            #if the mutation condition did not get met, copy the current bp to the new sequence\n",
    "            new_sequence = new_sequence + bp\n",
    "            \n",
    "    return (new_sequence, mutated)\n",
    "\n",
    "sequence_to_mutate = 'AAAAGGAGUGUGUAUGU'\n",
    "print(sequence_to_mutate)\n",
    "print(mutate(sequence_to_mutate, mutation_rate=0.5))"
   ]
  },
  {
   "cell_type": "markdown",
   "metadata": {},
   "source": [
    "## Selection\n",
    "\n",
    "The final process in this evolution model is selection. Once you have populations with a diverse range of fitnesses, we need to select the fittest individuals and let them replicate and contribute offspring to the next generation. In real populations this is just the process of reproduction. If you're fit enough you will be likely to reproduce more than another individual who is not as well suited to the environment.\n",
    "\n",
    "In order to represent this process in our model, we will use the fitness values that we assigned to each Cell earlier and use that to select replicating Cells. This is equivalent to sampling from a population with the sampling being weighted by the fitness of each Cell. Thankfully, `numpy.random.choice` comes to the rescue here. Once we have sampled enough Cells to build our next generation, we introduce mutations and compute the fitness values of the new generation."
   ]
  },
  {
   "cell_type": "code",
   "execution_count": 15,
   "metadata": {
    "execution": {
     "iopub.execute_input": "2020-06-29T22:29:26.889611Z",
     "iopub.status.busy": "2020-06-29T22:29:26.889040Z",
     "iopub.status.idle": "2020-06-29T22:29:26.892633Z",
     "shell.execute_reply": "2020-06-29T22:29:26.892156Z"
    }
   },
   "outputs": [
    {
     "name": "stdout",
     "output_type": "stream",
     "text": [
      "CAAUGACCUC\n",
      "GGUACUUAGC\n",
      "GACAGGUAAA\n",
      "UAGAACUGGG\n",
      "CGCCCGUUCA\n",
      "GAUAUACAUC\n",
      "UUGAAUCCGU\n",
      "CCACAUUAUU\n",
      "AGAGUGGACG\n",
      "GCUGGUUGAA\n"
     ]
    }
   ],
   "source": [
    "def selection(population, target, mutation_rate=0.001, beta=-3):\n",
    "    \"\"\"\n",
    "    Returns a new population with offspring of the input population\n",
    "    \"\"\"\n",
    "\n",
    "    #select the sequences that will be 'parents' and contribute to the next generation\n",
    "    parents = np.random.choice(population, len(population), p=[rna.fitness for rna in population], replace=True)\n",
    "\n",
    "    #build the next generation using the parents list\n",
    "    next_generation = []    \n",
    "    for i, p in enumerate(parents):\n",
    "        new_cell = Cell(p.sequence_1, p.structure_1, p.sequence_2, p.structure_2)\n",
    "        new_cell.id = i\n",
    "        new_cell.parent = p.id\n",
    "        \n",
    "        next_generation.append(new_cell)\n",
    "\n",
    "    #introduce mutations in next_generation sequeneces and re-fold when a mutation occurs\n",
    "    for rna in next_generation:      \n",
    "        mutated_sequence_1, mutated_1 = mutate(rna.sequence_1, mutation_rate=mutation_rate)\n",
    "        mutated_sequence_2, mutated_2 = mutate(rna.sequence_2, mutation_rate=mutation_rate)\n",
    "        \n",
    "        if mutated_1:\n",
    "            rna.sequence_1 = mutated_sequence_1\n",
    "            rna.structure_1 = nussinov(mutated_sequence_1)\n",
    "        if mutated_2:\n",
    "            rna.sequence_2 = mutated_sequence_2\n",
    "            rna.structure_2 = nussinov(mutated_sequence_2)\n",
    "        else:\n",
    "            continue\n",
    "\n",
    "    #update fitness values for the new generation\n",
    "    compute_fitness(next_generation, target, beta=beta)\n",
    "\n",
    "    return next_generation\n",
    "\n",
    "next_gen = selection(pop, target)\n",
    "for cell in next_gen[:10]:\n",
    "    print(cell.sequence_1)"
   ]
  },
  {
   "cell_type": "markdown",
   "metadata": {},
   "source": [
    "## Gathering information on our populations\n",
    "\n",
    "Here we simply store some statistics (in a dictionary) on the population at each generation such as the average base pair distance and the average fitness of the populations. No coding to do here, it's not a very interesting function but feel free to give it a look."
   ]
  },
  {
   "cell_type": "code",
   "execution_count": 16,
   "metadata": {
    "collapsed": true,
    "execution": {
     "iopub.execute_input": "2020-06-29T22:29:26.899032Z",
     "iopub.status.busy": "2020-06-29T22:29:26.898493Z",
     "iopub.status.idle": "2020-06-29T22:29:26.901387Z",
     "shell.execute_reply": "2020-06-29T22:29:26.900841Z"
    }
   },
   "outputs": [],
   "source": [
    "def record_stats(pop, population_stats):\n",
    "    \"\"\"\n",
    "    Takes a population list and a dictionary and updates it with stats on the population.\n",
    "    \"\"\"\n",
    "    generation_bp_distance_1 = [rna.bp_distance_1 for rna in pop]\n",
    "    generation_bp_distance_2 = [rna.bp_distance_2 for rna in pop]\n",
    "\n",
    "    mean_bp_distance_1 = np.mean(generation_bp_distance_1)\n",
    "    mean_bp_distance_2 = np.mean(generation_bp_distance_2)\n",
    "    \n",
    "    mean_fitness = np.mean([rna.fitness for rna in pop])\n",
    "\n",
    "\n",
    "    population_stats.setdefault('mean_bp_distance_1', []).append(mean_bp_distance_1)\n",
    "    population_stats.setdefault('mean_bp_distance_2', []).append(mean_bp_distance_2)\n",
    "    \n",
    "    population_stats.setdefault('mean_fitness', []).append(mean_fitness)\n",
    "    \n",
    "    return None"
   ]
  },
  {
   "cell_type": "markdown",
   "metadata": {},
   "source": [
    "## And finally.... evolution\n",
    "\n",
    "We can put all the above parts together in a simple function that does the following:\n",
    "\n",
    "1. start a new population and compute its fitness\n",
    "2. repeat the following for the desired number of generations:\n",
    "    1. record statistics on population\n",
    "    2. perform selection+mutation\n",
    "    3. store new population\n",
    "\n",
    "And that's it! We have an evolutionary reactor!"
   ]
  },
  {
   "cell_type": "code",
   "execution_count": 17,
   "metadata": {
    "collapsed": true,
    "execution": {
     "iopub.execute_input": "2020-06-29T22:29:26.908192Z",
     "iopub.status.busy": "2020-06-29T22:29:26.907650Z",
     "iopub.status.idle": "2020-06-29T22:29:26.910587Z",
     "shell.execute_reply": "2020-06-29T22:29:26.910046Z"
    }
   },
   "outputs": [],
   "source": [
    "def evolve(target, generations=20, pop_size=100, mutation_rate=0.001, beta=-2):\n",
    "    \"\"\"\n",
    "    Takes target structure and sets up initial population, performs selection and iterates for desired generations.\n",
    "    \"\"\"\n",
    "    #store list of all populations throughotu generations [[cells from generation 1], [cells from gen. 2]...]\n",
    "    populations = []\n",
    "    #start a dictionary that will hold some stats on the populations.\n",
    "    population_stats = {}\n",
    "    \n",
    "    #get a starting population\n",
    "    initial_population = populate(target, pop_size=pop_size)\n",
    "    #compute fitness of initial population\n",
    "    compute_fitness(initial_population, target)\n",
    "\n",
    "    #set current_generation to initial population.\n",
    "    current_generation = initial_population\n",
    "\n",
    "    #iterate the selection process over the desired number of generations\n",
    "    for i in range(generations):\n",
    "\n",
    "        #let's get some stats on the structures in the populations   \n",
    "        record_stats(current_generation, population_stats)\n",
    "        \n",
    "        #add the current generation to our list of populations.\n",
    "        populations.append(current_generation)\n",
    "\n",
    "        #select the next generation\n",
    "        new_gen = selection(current_generation, target, mutation_rate=mutation_rate, beta=beta)\n",
    "        #set current generation to be the generation we just obtained.\n",
    "        current_generation = new_gen \n",
    "    \n",
    "    return (populations, population_stats)"
   ]
  },
  {
   "cell_type": "markdown",
   "metadata": {},
   "source": [
    "Try a run of the `evolve()` function."
   ]
  },
  {
   "cell_type": "code",
   "execution_count": 18,
   "metadata": {
    "execution": {
     "iopub.execute_input": "2020-06-29T22:29:26.992352Z",
     "iopub.status.busy": "2020-06-29T22:29:26.948016Z",
     "iopub.status.idle": "2020-06-29T22:29:27.101126Z",
     "shell.execute_reply": "2020-06-29T22:29:27.101588Z"
    }
   },
   "outputs": [
    {
     "name": "stdout",
     "output_type": "stream",
     "text": [
      "0 "
     ]
    },
    {
     "name": "stdout",
     "output_type": "stream",
     "text": [
      "UUUGACGAUA ((.....).) UUUGACGAUA ((.....).)\n",
      "1 UGACUCGUGG ..(....).. UGACUCGUGG ..(....)..\n",
      "2 AGAAGUAUUG (.(....)). AGAAGUAUUG (.(....)).\n",
      "3 AGAGUGGACG .(......). AGAGUGGACG .(......).\n",
      "4 AUUCCCUAGG (.....)... AUUCCCUAGG (.....)...\n",
      "5 AGAGUGGCCC .(.(....)) AGAGUGGCCC .(.(....))\n",
      "6 CCACAUUAUU ..(.....). CCACAUUAUU ..(.....).\n",
      "7 GACAGGUAAA .(....)... GACAGGUAAA .(....)...\n",
      "8 AUCUUGCGGU (.(....).) AUCUUGCGGU (.(....).)\n",
      "9 GCUCGUCGGU (.....)... GCUCGUCGGU (.....)...\n",
      "290 AGGUGUCAUG ((....).). AGGUGUCAUG ((....).).\n",
      "291 AAGGGUUAAG (....).... AAGGGUUAAG (....)....\n",
      "292 AAGACGAUCU ((.....).) AAGACGAUCU ((.....).)\n",
      "293 CAGGAACCAA ..(....).. CAGGAACCAA ..(....)..\n",
      "294 GGAUCCGGAG (....).... GGAUCCGGAG (....)....\n",
      "295 UAGAAAUGUA ((....)..) UAGAAAUGUA ((....)..)\n",
      "296 GAACCACUUA .((....)). GAACCACUUA .((....)).\n",
      "297 CAGGCCGAGG (.....)... CAGGCCGAGG (.....)...\n",
      "298 GAUAUACAUC (((....))) GAUAUACAUC (((....)))\n",
      "299 GUACUUAAUG .(....)... GUACUUAAUG .(....)...\n"
     ]
    }
   ],
   "source": [
    "target = \"(((....)))\"\n",
    "pops, pops_stats = evolve(target, generations=20, pop_size=300, mutation_rate=0.001, beta=-2)\n",
    "\n",
    "#Print the first 10 sequences of the population\n",
    "for p in pop[:10]:\n",
    "    print(p.id, p.sequence_1, p.structure_1[0], p.sequence_2, p.structure_2[0])\n",
    "\n",
    "#Print the last 10 sequences of the population    \n",
    "for p in pop[-10:]:\n",
    "    print(p.id, p.sequence_1, p.structure_1[0], p.sequence_2, p.structure_2[0])"
   ]
  },
  {
   "cell_type": "markdown",
   "metadata": {},
   "source": [
    "Let's see if it actually worked by plotting the average base pair distance as a function of generations for both genes in each cell. We should expect a gradual decrease as the populations get closer to the target structure."
   ]
  },
  {
   "cell_type": "code",
   "execution_count": 19,
   "metadata": {
    "execution": {
     "iopub.execute_input": "2020-06-29T22:29:27.111324Z",
     "iopub.status.busy": "2020-06-29T22:29:27.110660Z",
     "iopub.status.idle": "2020-06-29T22:29:27.286922Z",
     "shell.execute_reply": "2020-06-29T22:29:27.287385Z"
    }
   },
   "outputs": [
    {
     "data": {
      "image/png": "[encoded data removed]",
      "text/plain": [
       "<Figure size 720x360 with 1 Axes>"
      ]
     },
     "metadata": {
      "filenames": {
       "image/png": "/home/leo/Documents/ASTROBIOLOGY200/ASTROBIOLOGY200/_build/jupyter_execute/content/07/2/RNA_World_34_0.png"
      },
      "needs_background": "light"
     },
     "output_type": "display_data"
    }
   ],
   "source": [
    "def evo_plot(pops_stats):\n",
    "    \"\"\"\n",
    "    Plot base pair distance for each chromosome over generations.\n",
    "    \"\"\"\n",
    "    plt.figure('Mean base pair Distance',figsize=(10,5))\n",
    "    for m in ['mean_bp_distance_1', 'mean_bp_distance_2']:\n",
    "        plt.plot(pops_stats[m], label=m)\n",
    "    plt.legend()\n",
    "    plt.xlabel(\"Generations\")\n",
    "    plt.ylabel(\"Mean Base Pair Distance\")\n",
    "    \n",
    "evo_plot(pops_stats)"
   ]
  },
  {
   "cell_type": "markdown",
   "metadata": {},
   "source": [
    "Let's see the structure of random cells from each generation.  Run the code below and copy the output in the RNA folding webpage. Compare the base-pair distance plot with the structures.\n",
    "\n",
    "Questions:\n",
    "- Do you notice some simmilarities from a particular generation onwards? Compare your observations to the plot with the Mean Base Pair Distance.\n",
    "- What could trigger another evolutionary jump? \n",
    "\n",
    "![Structure of RNA](RNA_evolution.png)\n"
   ]
  },
  {
   "cell_type": "code",
   "execution_count": 20,
   "metadata": {
    "execution": {
     "iopub.execute_input": "2020-06-29T22:29:27.292203Z",
     "iopub.status.busy": "2020-06-29T22:29:27.290818Z",
     "iopub.status.idle": "2020-06-29T22:29:27.294211Z",
     "shell.execute_reply": "2020-06-29T22:29:27.294660Z"
    }
   },
   "outputs": [
    {
     "data": {
      "text/html": [
       "<iframe width=\"784\" height=\"441\" src=\"http://rna.tbi.univie.ac.at/forna/forna.html\" /iframe>"
      ],
      "text/plain": [
       "<IPython.core.display.HTML object>"
      ]
     },
     "execution_count": 20,
     "metadata": {},
     "output_type": "execute_result"
    }
   ],
   "source": [
    "from IPython.display import HTML\n",
    "HTML('<iframe width=\"784\" height=\"441\" src=\"http://rna.tbi.univie.ac.at/forna/forna.html\" /iframe>')"
   ]
  },
  {
   "cell_type": "code",
   "execution_count": 21,
   "metadata": {
    "execution": {
     "iopub.execute_input": "2020-06-29T22:29:27.302556Z",
     "iopub.status.busy": "2020-06-29T22:29:27.301673Z",
     "iopub.status.idle": "2020-06-29T22:29:27.308741Z",
     "shell.execute_reply": "2020-06-29T22:29:27.309199Z"
    }
   },
   "outputs": [
    {
     "name": "stdout",
     "output_type": "stream",
     "text": [
      ">Gen1_Cell_37\n",
      "UGUUGUUCGA\n",
      "((.....).)\n",
      "\n",
      ">Gen2_Cell_264\n",
      "UGUAUGCCGC\n",
      ".(....)...\n",
      "\n",
      ">Gen3_Cell_233\n",
      "AGGCCGGCCU\n",
      "(((....)))\n",
      "\n",
      ">Gen4_Cell_284\n",
      "GCGGCCACAC\n",
      "(.(....).)\n",
      "\n",
      ">Gen5_Cell_17\n",
      "AGGCCGGCCU\n",
      "(((....)))\n",
      "\n",
      ">Gen6_Cell_294\n",
      "UCGUAGACGA\n",
      "(((....)))\n",
      "\n",
      ">Gen7_Cell_95\n",
      "UCGUAGACGA\n",
      "(((....)))\n",
      "\n",
      ">Gen8_Cell_112\n",
      "AGGCCGGCCU\n",
      "(((....)))\n",
      "\n",
      ">Gen9_Cell_140\n",
      "GAUUCUGAUC\n",
      "(((....)))\n",
      "\n",
      ">Gen10_Cell_107\n",
      "GAUUCUGAUC\n",
      "(((....)))\n",
      "\n",
      ">Gen11_Cell_197\n",
      "UCGgAGACGA\n",
      "(((....)))\n",
      "\n",
      ">Gen12_Cell_98\n",
      "UCGgAGACGA\n",
      "(((....)))\n",
      "\n",
      ">Gen13_Cell_126\n",
      "CAUAGUAAUG\n",
      "(((....)))\n",
      "\n",
      ">Gen14_Cell_255\n",
      "CAUAGUAAUG\n",
      "(((....)))\n",
      "\n",
      ">Gen15_Cell_85\n",
      "UCGUAGACGA\n",
      "(((....)))\n",
      "\n",
      ">Gen16_Cell_59\n",
      "UCGgAGACGA\n",
      "(((....)))\n",
      "\n",
      ">Gen17_Cell_76\n",
      "UCUAUGAAGA\n",
      "(((....)))\n",
      "\n",
      ">Gen18_Cell_275\n",
      "UCGUAGACGA\n",
      "(((....)))\n",
      "\n",
      ">Gen19_Cell_84\n",
      "UCGUAGACGA\n",
      "(((....)))\n",
      "\n",
      ">Gen20_Cell_262\n",
      "UCGUAGACGA\n",
      "(((....)))\n",
      "\n"
     ]
    }
   ],
   "source": [
    "#Select a random RNA sequence from each generation to check its folding structure\n",
    "from random import randrange\n",
    "#print(randrange(999))\n",
    "generations=20\n",
    "pop_size=300\n",
    "#Print some random cells from each generation \n",
    "#pops[generation][cell in that generation].{quality to retrieve}\n",
    "for gen in range(0,generations):\n",
    "    cid=randrange(pop_size)\n",
    "    print('>Gen'+np.str(gen+1)+'_Cell_'+np.str(pops[gen][cid].id)+'')\n",
    "    print(pops[gen][2].sequence_1)\n",
    "    print(''+np.str(pops[gen][2].structure_1[0])+'\\n')"
   ]
  },
  {
   "cell_type": "markdown",
   "metadata": {},
   "source": [
    "You should see a nice drop in base pair distance! Another way of visualizing this is by plotting a histogram of the base pair distance of all Cells in the initial population versus the final population."
   ]
  },
  {
   "cell_type": "code",
   "execution_count": 22,
   "metadata": {
    "execution": {
     "iopub.execute_input": "2020-06-29T22:29:27.312394Z",
     "iopub.status.busy": "2020-06-29T22:29:27.311845Z",
     "iopub.status.idle": "2020-06-29T22:29:27.313626Z",
     "shell.execute_reply": "2020-06-29T22:29:27.314073Z"
    }
   },
   "outputs": [],
   "source": [
    "#import seaborn as sns\n",
    "#def bp_distance_distributions(pops):\n",
    "#    \"\"\"\n",
    "#    Plots histograms of base pair distance in initial and final populations.\n",
    "#    \"\"\"\n",
    "#    #plot bp_distance_1 for rnas in first population\n",
    "#   g = sns.distplot([rna.bp_distance_1 for rna in pops[0]], label='initial population')\n",
    "#    #plot bp_distance_1 for rnas in first population\n",
    "#    g = sns.distplot([rna.bp_distance_1 for rna in pops[-1]], label='final population')\n",
    "#    g.set(xlabel='Mean Base Pair Distance')\n",
    "#    g.legend()\n",
    "#\n",
    "#bp_distance_distributions(pops)"
   ]
  },
  {
   "cell_type": "markdown",
   "metadata": {},
   "source": [
    "## Introducing mating to the model\n",
    "\n",
    "The populations we generated evolved asexually. This means that individuals do not mate or exchange genetic information. So to make our simulation a bit more interesting let's let the Cells mate. This is going to require a few small changes in the `selection()` function. Previously, when we selected sequences to go into the next generation we just let them provide one offspring which was a copy of itself and introduced mutations. Now instead of choosing one Cell at a time, we will randomly choose two 'parents' that will mate. When they mate, each parent will contribute one of its chromosomes to the child. We'll repeat this process until we have filled the next generation."
   ]
  },
  {
   "cell_type": "code",
   "execution_count": 23,
   "metadata": {
    "execution": {
     "iopub.execute_input": "2020-06-29T22:29:27.325781Z",
     "iopub.status.busy": "2020-06-29T22:29:27.321226Z",
     "iopub.status.idle": "2020-06-29T22:29:27.489196Z",
     "shell.execute_reply": "2020-06-29T22:29:27.489638Z"
    }
   },
   "outputs": [
    {
     "name": "stdout",
     "output_type": "stream",
     "text": [
      "GCUGGUUGAA\n",
      "UAGAAAUGUA\n",
      "GAUAUACAUC\n",
      "UUGAAUCCGU\n",
      "UGUUCCUACC\n",
      "GUGAUCUGAC\n",
      "CCCCACGAGG\n",
      "CGGAUGAUGC\n",
      "GUGAAGUGAA\n",
      "AUAAUAACCC\n"
     ]
    }
   ],
   "source": [
    "def selection_with_mating(population, target, mutation_rate=0.001, beta=-2):\n",
    "    next_generation = []\n",
    "    \n",
    "    counter = 0\n",
    "    while len(next_generation) < len(population):\n",
    "        #select two parents based on their fitness\n",
    "        parents_pair = np.random.choice(population, 2, p=[rna.fitness for rna in population], replace=False)\n",
    "        \n",
    "        #take the sequence and structure from the first parent's first chromosome and give it to the child\n",
    "        child_chrom_1 = (parents_pair[0].sequence_1, parents_pair[0].structure_1)\n",
    "\n",
    "        #do the same for the child's second chromosome and the second parent.\n",
    "        child_chrom_2 = (parents_pair[1].sequence_2, parents_pair[1].structure_2)\n",
    "\n",
    "\n",
    "        #initialize the new child Cell with the new chromosomes.\n",
    "        child_cell = Cell(child_chrom_1[0], child_chrom_1[1], child_chrom_2[0], child_chrom_2[1])\n",
    "\n",
    "        #give the child and id and store who its parents are\n",
    "        child_cell.id = counter\n",
    "        child_cell.parent_1 = parents_pair[0].id\n",
    "        child_cell.parent_2 = parents_pair[1].id\n",
    "\n",
    "        #add the child to the new generation\n",
    "        next_generation.append(child_cell)\n",
    "        \n",
    "        counter = counter + 1\n",
    "            \n",
    "        \n",
    "    #introduce mutations in next_generation sequeneces and re-fold when a mutation occurs (same as before)\n",
    "    for rna in next_generation:      \n",
    "        mutated_sequence_1, mutated_1 = mutate(rna.sequence_1, mutation_rate=mutation_rate)\n",
    "        mutated_sequence_2, mutated_2 = mutate(rna.sequence_2, mutation_rate=mutation_rate)\n",
    "\n",
    "        if mutated_1:\n",
    "            rna.sequence_1 = mutated_sequence_1\n",
    "            rna.structure_1 = nussinov(mutated_sequence_1)\n",
    "        if mutated_2:\n",
    "            rna.sequence_2 = mutated_sequence_2\n",
    "            rna.structure_2 = nussinov(mutated_sequence_2)\n",
    "        else:\n",
    "            continue\n",
    "\n",
    "    #update fitness values for the new generation\n",
    "    compute_fitness(next_generation, target, beta=beta)\n",
    "\n",
    "    return next_generation    \n",
    "\n",
    "#run a small test to make sure it works\n",
    "next_gen = selection_with_mating(pop, target)\n",
    "for cell in next_gen[:10]:\n",
    "    print(cell.sequence_1)"
   ]
  },
  {
   "cell_type": "markdown",
   "metadata": {},
   "source": [
    "Now we just have to update our `evolution()` function to call the new `selection_with_mating()` function."
   ]
  },
  {
   "cell_type": "code",
   "execution_count": 24,
   "metadata": {
    "collapsed": true,
    "execution": {
     "iopub.execute_input": "2020-06-29T22:29:27.496569Z",
     "iopub.status.busy": "2020-06-29T22:29:27.495617Z",
     "iopub.status.idle": "2020-06-29T22:29:27.498494Z",
     "shell.execute_reply": "2020-06-29T22:29:27.498010Z"
    }
   },
   "outputs": [],
   "source": [
    "def evolve_with_mating(target, generations=10, pop_size=100, mutation_rate=0.001, beta=-2):\n",
    "    populations = []\n",
    "    population_stats = {}\n",
    "    \n",
    "    initial_population = populate(target, pop_size=pop_size)\n",
    "    compute_fitness(initial_population, target)\n",
    "        \n",
    "    current_generation = initial_population\n",
    "\n",
    "    #iterate the selection process over the desired number of generations\n",
    "    for i in range(generations):\n",
    "        #let's get some stats on the structures in the populations   \n",
    "        record_stats(current_generation, population_stats)\n",
    "        \n",
    "        #add the current generation to our list of populations.\n",
    "        populations.append(current_generation)\n",
    "\n",
    "        #select the next generation, but this time with mutations\n",
    "        new_gen = selection_with_mating(current_generation, target, mutation_rate=mutation_rate, beta=beta)\n",
    "        current_generation = new_gen \n",
    "    \n",
    "    return (populations, population_stats)"
   ]
  },
  {
   "cell_type": "markdown",
   "metadata": {},
   "source": [
    "Try out the new evolution model!"
   ]
  },
  {
   "cell_type": "code",
   "execution_count": 25,
   "metadata": {
    "execution": {
     "iopub.execute_input": "2020-06-29T22:29:27.571470Z",
     "iopub.status.busy": "2020-06-29T22:29:27.535859Z",
     "iopub.status.idle": "2020-06-29T22:29:58.697318Z",
     "shell.execute_reply": "2020-06-29T22:29:58.695847Z"
    }
   },
   "outputs": [
    {
     "data": {
      "image/png": "[encoded data removed]",
      "text/plain": [
       "<Figure size 720x360 with 1 Axes>"
      ]
     },
     "metadata": {
      "filenames": {
       "image/png": "/home/leo/Documents/ASTROBIOLOGY200/ASTROBIOLOGY200/_build/jupyter_execute/content/07/2/RNA_World_45_0.png"
      },
      "needs_background": "light"
     },
     "output_type": "display_data"
    }
   ],
   "source": [
    "pops_mating, pops_stats_mating = evolve_with_mating(\"(((....)))\", generations=20, pop_size=1000, beta=-2)\n",
    "\n",
    "evo_plot(pops_stats_mating)"
   ]
  },
  {
   "cell_type": "code",
   "execution_count": 26,
   "metadata": {
    "execution": {
     "iopub.execute_input": "2020-06-29T22:29:58.706806Z",
     "iopub.status.busy": "2020-06-29T22:29:58.705677Z",
     "iopub.status.idle": "2020-06-29T22:29:58.712974Z",
     "shell.execute_reply": "2020-06-29T22:29:58.713432Z"
    }
   },
   "outputs": [
    {
     "name": "stdout",
     "output_type": "stream",
     "text": [
      ">Gen1_Cell_493\n",
      "CCAUGUUAAG\n",
      "(..(....))\n",
      "\n",
      ">Gen2_Cell_108\n",
      "CAUGGAGACG\n",
      "(.(....).)\n",
      "\n",
      ">Gen3_Cell_904\n",
      "CCCAGACUCA\n",
      "..........\n",
      "\n",
      ">Gen4_Cell_5\n",
      "CUGCACACAG\n",
      "(((....)))\n",
      "\n",
      ">Gen5_Cell_556\n",
      "UACUGUGACA\n",
      "(......)..\n",
      "\n",
      ">Gen6_Cell_402\n",
      "UCAAAGUUGA\n",
      "(((....)))\n",
      "\n",
      ">Gen7_Cell_336\n",
      "UCACCACUGU\n",
      ".((....)).\n",
      "\n",
      ">Gen8_Cell_682\n",
      "UCGGACUAGA\n",
      "((......))\n",
      "\n",
      ">Gen9_Cell_61\n",
      "GCACAAUUGC\n",
      "(((....)))\n",
      "\n",
      ">Gen10_Cell_231\n",
      "UUUCUGAAAA\n",
      "(((....)))\n",
      "\n",
      ">Gen11_Cell_40\n",
      "UUAGCGAUAA\n",
      "(((....)))\n",
      "\n",
      ">Gen12_Cell_92\n",
      "GUUGUUCAAC\n",
      "(((....)))\n",
      "\n",
      ">Gen13_Cell_620\n",
      "GUAUCAAUAC\n",
      "(((....)))\n",
      "\n",
      ">Gen14_Cell_480\n",
      "UUAGCGAUAA\n",
      "(((....)))\n",
      "\n",
      ">Gen15_Cell_896\n",
      "GUAUCAAUAC\n",
      "(((....)))\n",
      "\n",
      ">Gen16_Cell_317\n",
      "GAGGUGGCUC\n",
      "(((....)))\n",
      "\n",
      ">Gen17_Cell_583\n",
      "AUGUAUCCAU\n",
      "(((....)))\n",
      "\n",
      ">Gen18_Cell_459\n",
      "CCCGCACGGG\n",
      "(((....)))\n",
      "\n",
      ">Gen19_Cell_448\n",
      "CUUCCAAAAG\n",
      "(((....)))\n",
      "\n",
      ">Gen20_Cell_588\n",
      "UUUAUGGAAA\n",
      "(((....)))\n",
      "\n"
     ]
    }
   ],
   "source": [
    "#Select a random RNA sequence from each generation to check its folding structure\n",
    "from random import randrange\n",
    "#print(randrange(999))\n",
    "generations=20\n",
    "pop_size=1000\n",
    "#Print some random cells from each generation \n",
    "#pops[generation][cell in that generation].{quality to retrieve}\n",
    "for gen in range(0,generations):\n",
    "    cid=randrange(pop_size)\n",
    "    print('>Gen'+np.str(gen+1)+'_Cell_'+np.str(pops_mating[gen][cid].id)+'')\n",
    "    print(pops_mating[gen][2].sequence_1)\n",
    "    print(''+np.str(pops_mating[gen][2].structure_1[0])+'\\n')"
   ]
  },
  {
   "cell_type": "markdown",
   "metadata": {},
   "source": [
    "# Acknowledgements\n",
    "\n",
    "The computational codes of this notebook were originally created by [Carlos G. Oliver](https://github.com/cgoliver), and adapted by Evert Durán for ASTRO200."
   ]
  },
  {
   "cell_type": "code",
   "execution_count": null,
   "metadata": {
    "collapsed": true
   },
   "outputs": [],
   "source": []
  }
 ],
 "metadata": {
  "kernelspec": {
   "display_name": "Python 3",
   "language": "python",
   "name": "python3"
  },
  "language_info": {
   "codemirror_mode": {
    "name": "ipython",
    "version": 3
   },
   "file_extension": ".py",
   "mimetype": "text/x-python",
   "name": "python",
   "nbconvert_exporter": "python",
   "pygments_lexer": "ipython3",
   "version": "3.6.3"
  }
 },
 "nbformat": 4,
 "nbformat_minor": 1
}