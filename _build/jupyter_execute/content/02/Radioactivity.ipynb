{
 "cells": [
  {
   "cell_type": "code",
   "execution_count": 1,
   "metadata": {
    "execution": {
     "iopub.execute_input": "2020-06-29T20:34:52.961494Z",
     "iopub.status.busy": "2020-06-29T20:34:52.957352Z",
     "iopub.status.idle": "2020-06-29T20:34:52.975135Z",
     "shell.execute_reply": "2020-06-29T20:34:52.973817Z"
    }
   },
   "outputs": [
    {
     "data": {
      "text/html": [
       "<script>\n",
       "code_show=true; \n",
       "function code_toggle() {\n",
       " if (code_show){\n",
       " $('div.input').hide();\n",
       " } else {\n",
       " $('div.input').show();\n",
       " }\n",
       " code_show = !code_show\n",
       "} \n",
       "$( document ).ready(code_toggle);\n",
       "</script>\n",
       "The raw code for this IPython notebook is by default hidden for easier reading.\n",
       "To toggle on/off the raw code, click <a href=\"javascript:code_toggle()\">here</a>."
      ],
      "text/plain": [
       "<IPython.core.display.HTML object>"
      ]
     },
     "execution_count": 1,
     "metadata": {},
     "output_type": "execute_result"
    }
   ],
   "source": [
    "from IPython.display import HTML\n",
    "\n",
    "HTML('''<script>\n",
    "code_show=true; \n",
    "function code_toggle() {\n",
    " if (code_show){\n",
    " $('div.input').hide();\n",
    " } else {\n",
    " $('div.input').show();\n",
    " }\n",
    " code_show = !code_show\n",
    "} \n",
    "$( document ).ready(code_toggle);\n",
    "</script>\n",
    "The raw code for this IPython notebook is by default hidden for easier reading.\n",
    "To toggle on/off the raw code, click <a href=\"javascript:code_toggle()\">here</a>.''')"
   ]
  },
  {
   "cell_type": "markdown",
   "metadata": {},
   "source": [
    "# Radioactive Decay Interactives\n",
    "\n",
    "## Interactive Figure 1: Model of Radioactive Decay\n",
    "\n",
    "This first figure takes a population of 900 atoms and models their radioactive decay."
   ]
  },
  {
   "cell_type": "markdown",
   "metadata": {},
   "source": [
    "This first interactive is designed to allow you to explore what happens during radioactive decay of some isotope. An *isotope* refers to a particular version of an element.  For example, the non-radioactive Carbon-12 isotope has 6 protons and 6 neutrons in its nucleus but the radioactive Carbon-14 isotope has 6 protons and 8 neutrons in its nucleus.  Different isotopes of the same element behave identically in terms of chemistry and bonding to other atoms, but their nuclear properties can differ.\n",
    "\n",
    "During radioactive decay, a *parent isotope* is said to decay into a *daughter isotope*.  So, for example, the parent isotope of Carbon-14 decays into Nitrogen-14.  There is no way to predict when any one nucleus of a *parent isotope* will decay into a *daughter isotope*.   That said, if you look at a large number of nuclei of a parent isotope, they exhibit a very simple property:\n",
    "\n",
    "> **The same *fraction* of a radioactive parent isotope will decay over the same amount of time.**\n",
    "    \n",
    "The time it takes for one-half of a population of parent isotopes to decay (on average) into daughter isotopes is called the *half-life* of that isotope.  Different parent isotopes can have very different half-lifes.   **NOTE:** This interactive shows a simulation of the decay of only 900 atoms.  The radioactive decay is still modelled as occurring randomly for any one atom, so the simulation will show slightly different results on different runs!!"
   ]
  },
  {
   "cell_type": "markdown",
   "metadata": {},
   "source": [
    "Some questions to consider \n",
    "1. After 1 half-life, about 50% of a parent isotope should have decayed and become daughter isotope.  Use the interactive graphic below and adjust the elapsed time to figure out how long one half-life is for each isotope.  Explain your approach.\n",
    "2. How much of a parent isotope is left after 2 half-lifes? 3 half-lifes? 4 half-lifes? 5 half-lifes?  Explain how you figured this out.\n",
    "3. You should have found about 25% of the original amount of parent isotope is left after 2 half-lifes.  This may seem surprising since in the first half-life 50% of the original amount of parent isotope decayed.  Explain why 'less' of it decayed during the second half-life.  **HINT** Consider the very simple property of radioactive decay we highlighted above."
   ]
  },
  {
   "cell_type": "code",
   "execution_count": 2,
   "metadata": {
    "execution": {
     "iopub.execute_input": "2020-06-29T20:34:52.984026Z",
     "iopub.status.busy": "2020-06-29T20:34:52.982973Z",
     "iopub.status.idle": "2020-06-29T20:34:53.350255Z",
     "shell.execute_reply": "2020-06-29T20:34:53.350727Z"
    }
   },
   "outputs": [],
   "source": [
    "from IPython.display import display\n",
    "import numpy as np\n",
    "import bqplot as bq\n",
    "import ipywidgets as widgets\n",
    "import random as random\n",
    "import pandas as pd\n",
    "import number_formatting as nf\n",
    "from math import ceil, floor, log10"
   ]
  },
  {
   "cell_type": "code",
   "execution_count": 3,
   "metadata": {
    "execution": {
     "iopub.execute_input": "2020-06-29T20:34:53.362697Z",
     "iopub.status.busy": "2020-06-29T20:34:53.362111Z",
     "iopub.status.idle": "2020-06-29T20:34:53.374129Z",
     "shell.execute_reply": "2020-06-29T20:34:53.373576Z"
    }
   },
   "outputs": [],
   "source": [
    "## Originally developed June 2018 by Samuel Holen\n",
    "##\n",
    "## Edits by Juan Cabanela October 2018 to allow changes in the GUI.\n",
    "## - Made the display of the precise number/faction of parent/daught atoms instructor\n",
    "##   configurable.\n",
    "## - Fixed a problem with the display of data, forced data to only be displayed for first\n",
    "##   10 half-lifes regardless of actual generated decay times (this allows hard-coding of)\n",
    "##   num_ticks and tick values.\n",
    "\n",
    "## Pre-construct model of radioactive decay of a population\n",
    "## of parent and daughter atoms.\n",
    "## \n",
    "\n",
    "# GUI Configuration Parameters\n",
    "show_counts = True\n",
    "max_half_lifes = 10   # maximum half-lives to graph\n",
    "time_ticks = 6  # number of ticks for the time axis\n",
    "# half-lives to place ticks on horizontal axis\n",
    "half_life_ticks = np.linspace(0, max_half_lifes, time_ticks)\n",
    "\n",
    "# Constants Related to decay of the parent species to the daughter species\n",
    "N_parent = 900          # initial number of parent atoms (should be a perfect square)\n",
    "N_daughter = 0          # initial number of daughter atoms\n",
    "tau = 1                 # placeholder for the half-life of the parent species \n",
    "h = 0.025               # time step (in half lives)\n",
    "mu = np.log(2.) / tau   # constant for decay time distribution \n",
    "Plot_all_times = True   # Plot all times (otherwise, selects only before time slider value)\n",
    "\n",
    "# Initialize tracking of number of atoms\n",
    "Parent_counts = []          # list of number of parent atoms \n",
    "Dauther_counts = []          # list of number of daughter atoms\n",
    "\n",
    "# Generate a uniform random distribution of N_parent numbers from 0 to 1\n",
    "z = np.random.rand(N_parent)\n",
    "\n",
    "# Function to convert uniform distribution of random numbers to\n",
    "# a distribution weighted to model radiactive decay. The times are in number of \n",
    "# half-lives. \n",
    "#\n",
    "# The unsorted data representing the number of half-lifes until the individual\n",
    "# decay of each atom.\n",
    "decay_times = -np.log(1 - z) / mu\n",
    "decay_times_sorted = np.sort( decay_times )\n",
    "\n",
    "# Genereate array of numbers of atoms left\n",
    "# Adjusted so that each count contains 0 and N_parent\n",
    "Parent_counts = np.arange(N_parent,-1, -1, dtype='int') # Number of parent atoms\n",
    "Daughter_counts = np.ones_like(Parent_counts)\n",
    "Daughter_counts = N_parent - Parent_counts   # Number of daughter atoms\n",
    "\n",
    "#\n",
    "# Construct Pandas data frames\n",
    "#\n",
    "\n",
    "# Time column adjusted to include t=0\n",
    "decay_data = pd.DataFrame()\n",
    "decay_data['time'] = np.concatenate((np.zeros(1), decay_times_sorted))\n",
    "decay_data['Parent'] = Parent_counts\n",
    "decay_data['Daughter'] = Daughter_counts\n",
    "\n",
    "# Data array for species\n",
    "species = pd.DataFrame()\n",
    "species['parent_long'] = ['Generic', 'Carbon', 'Thallium','Uranium','Rubidium']\n",
    "species['daughter_long'] = ['Generic', 'Nitrogen','Lead','Thorium','Strontium']\n",
    "species['parent_short'] = ['Parent', 'C-14','Tl-208','U-235','Rb-87']\n",
    "species['daughter_short'] = ['Daughter', 'N-14','Pb-208','Th-231','Sr-87']\n",
    "species['half-lives'] = [tau, 5730, 3.053 * 60, 703.8, 48.8]\n",
    "species['step-size'] = [h, 125, 0.05 * 60, 15, 1]\n",
    "species['timeunits'] = ['half-lives', 'years', 'seconds', 'million years', 'billion years']"
   ]
  },
  {
   "cell_type": "code",
   "execution_count": 4,
   "metadata": {
    "execution": {
     "iopub.execute_input": "2020-06-29T20:34:53.400666Z",
     "iopub.status.busy": "2020-06-29T20:34:53.399946Z",
     "iopub.status.idle": "2020-06-29T20:34:53.401929Z",
     "shell.execute_reply": "2020-06-29T20:34:53.402453Z"
    }
   },
   "outputs": [],
   "source": [
    "##\n",
    "## Define functions to respond to controls on population plots.\n",
    "##\n",
    "\n",
    "def UpdateSpecies(change=None):\n",
    "    ##\n",
    "    ## Deal with possible changes of species\n",
    "    ##\n",
    "    \n",
    "    # Generate a new uniform random distribution of N_parent numbers from 0 to 1 and\n",
    "    # then convert uniform distribution to one weighted to model radioactive decay.\n",
    "    z = np.random.rand(N_parent)\n",
    "    decay_times = -np.log(1 - z) / mu\n",
    "    decay_times_sorted = np.sort( decay_times )\n",
    "    decay_data['time'] = np.concatenate((np.zeros(1), decay_times_sorted))\n",
    "    \n",
    "    # Reset the time to zero\n",
    "    Time_slide.value = 0\n",
    "    \n",
    "    # Adjust half-life data and limits on plots appropriately \n",
    "    new_index = species.loc[species.parent_long == pick_Species.value].index[0]\n",
    "    \n",
    "    # Set the half-life based the selected species\n",
    "    hf = species['half-lives'][new_index]\n",
    "    \n",
    "    # Set the limit on the time sider to be 10 half-lifes\n",
    "    Time_slide.max = max_half_lifes*hf\n",
    "    \n",
    "    # Set the time step on slider\n",
    "    Time_slide.step = species['step-size'][new_index]\n",
    "\n",
    "    # Updates the time slider label/units\n",
    "    unit_label.value = species['timeunits'][new_index]\n",
    "    \n",
    "    # Updates the time axes on the plot\n",
    "    x_time.max = Time_slide.max\n",
    "    ax_x_time.scale = x_time\n",
    "    ax_x_time.label = unit_label.value\n",
    "    \n",
    "    # Update tick values\n",
    "    ax_x_time.tick_values = list(half_life_ticks*hf)\n",
    "\n",
    "    # Update the legend\n",
    "    parent_label_new = species['parent_short'][new_index]\n",
    "    daughter_label_new = species['daughter_short'][new_index]\n",
    "    line_parent.labels = [parent_label_new]\n",
    "    line_daughter.labels = [daughter_label_new]\n",
    "    \n",
    "    # Update the species in the box that shows how many are present    \n",
    "    parent_label.value = parent_label_new + ' produced'\n",
    "    daughter_label.value = daughter_label_new + ' remaining'\n",
    "\n",
    "    # Now call the function for updating the plot in the event of a time change\n",
    "    UpdateTimes()\n",
    "\n",
    "    \n",
    "def UpdateFraction(change=None):\n",
    "    ##\n",
    "    ## Deal with whether fraction view or number view selected to set scales for plot,\n",
    "    ## y values for plot, and label values\n",
    "    ##\n",
    "    if frac_or_num.value == False:\n",
    "        # Number count mode enabled\n",
    "\n",
    "        # Update axes and scales\n",
    "        fig_counts.axes = [ax_x_time, ax_y_number]\n",
    "        line_parent.scales={'x': x_time, 'y': y_number}\n",
    "        line_daughter.scales={'x': x_time, 'y': y_number}\n",
    "        pts_parent.scales={'x': x_time, 'y': y_number}\n",
    "        pts_daughter.scales={'x': x_time, 'y': y_number}\n",
    "        line_time.scales={'x': x_time, 'y': y_number}\n",
    "\n",
    "        # Update 'time line' limits\n",
    "        line_time.y = [0, N_parent]    \n",
    "    else:\n",
    "        # Fraction mode enabled\n",
    "\n",
    "        # Updated axes and scales\n",
    "        fig_counts.axes = [ax_x_time, ax_y_fraction]\n",
    "        line_parent.scales={'x': x_time, 'y': y_fraction}\n",
    "        line_daughter.scales={'x': x_time, 'y': y_fraction}\n",
    "        pts_parent.scales={'x': x_time, 'y': y_fraction}\n",
    "        pts_daughter.scales={'x': x_time, 'y': y_fraction}\n",
    "        line_time.scales={'x': x_time, 'y': y_fraction}\n",
    "\n",
    "        # Update 'time line' limits\n",
    "        line_time.y = [0, 1]\n",
    "\n",
    "    UpdateTimes()\n",
    "\n",
    "    \n",
    "def UpdateTimes(change=None):\n",
    "    ##\n",
    "    ## Deal with changes in the time slider\n",
    "    ##\n",
    "\n",
    "    # Recall half-life of this species\n",
    "    species_idx = species.loc[species.parent_long == pick_Species.value].index[0]\n",
    "    hf = species['half-lives'][species_idx]\n",
    "\n",
    "    # Update time label with 3 significant figures\n",
    "    Time_label.value = str(nf.SigFig(Time_slide.value, 3))\n",
    "        \n",
    "    # Get the array of times\n",
    "    time_arr = hf * decay_data['time']\n",
    "    \n",
    "    # Set the times to be x values\n",
    "    line_daughter.x = time_arr\n",
    "    line_parent.x = line_daughter.x\n",
    "    pts_daughter.x = line_daughter.x\n",
    "    pts_parent.x = line_daughter.x\n",
    "    line_time.x = [Time_slide.value, Time_slide.value]\n",
    "    \n",
    "    # Changes the color of population to reflect the decays\n",
    "    for i in range(N_parent):\n",
    "        if Time_slide.value >= decay_times[i]*hf:\n",
    "            Colors[i] = 'blue'\n",
    "        else:\n",
    "            Colors[i] = 'red'\n",
    "    population_scat.colors = Colors\n",
    "    \n",
    "    # Identify where we are in the data set\n",
    "    i = 0\n",
    "    while i < N_parent + 1 and hf*decay_data['time'][i] < Time_slide.value:        \n",
    "        i += 1\n",
    "    if i > 0:\n",
    "        i -= 1\n",
    "        \n",
    "    # Update selection of the parent and daughter data to be plotted\n",
    "    if Plot_all_times:\n",
    "        daughter_decay = decay_data['Daughter']\n",
    "        parent_decay = decay_data['Parent']\n",
    "    else:\n",
    "        daughter_decay = decay_data['Daughter'][0:i+1]\n",
    "        parent_decay = decay_data['Parent'][0:i+1] \n",
    "    \n",
    "    line_parent.y = parent_decay\n",
    "    line_daughter.y = daughter_decay\n",
    "        \n",
    "    ##\n",
    "    ## Deal with whether fraction view or number view selected to set scales for plot,\n",
    "    ## y values for plot, and label values\n",
    "    ##\n",
    "    if frac_or_num.value == False:\n",
    "        # Number count mode enabled\n",
    "\n",
    "        # Update number of parent and daughter in labels\n",
    "        parent_present.value = str(decay_data['Parent'][i])\n",
    "        daughter_present.value = str(decay_data['Daughter'][i])\n",
    "    else:\n",
    "        # Fraction mode enabled\n",
    "        \n",
    "        # Update the x and y arrays for the parent and daughter lines\n",
    "        line_parent.y = (1/N_parent)*parent_decay\n",
    "        line_daughter.y = (1/N_parent)*daughter_decay\n",
    "    \n",
    "        # Update number of parent and daughter in labels\n",
    "        parent_present.value = '{:.3f}'.format((1/N_parent)*decay_data['Parent'][i])\n",
    "        daughter_present.value = '{:.3f}'.format((1/N_parent)*decay_data['Daughter'][i])\n",
    "    \n",
    "    # Update parent and daughter lines\n",
    "    pts_parent.y = line_parent.y\n",
    "    pts_daughter.y = line_daughter.y\n",
    "    \n",
    "    # Update the tooltip labels and formats (Bug? Doesn't appear to be working)\n",
    "    #pts_parent.tooltip.labels[1] = parent_label_new\n",
    "    #pts_daughter.tooltip.labels[1] = daughter_label_new\n",
    "    #if frac_or_num.value == False:\n",
    "    #    pts_parent.tooltip.formats[1] = '3.0f'\n",
    "    #    pts_daughter.tooltip.formats[1] = '3.0f'\n",
    "    #else:\n",
    "    #    pts_parent.tooltip.formats[1] = '0.3f'\n",
    "    #    pts_daughter.tooltip.formats[1] = '0.3f'\n",
    "        \n"
   ]
  },
  {
   "cell_type": "code",
   "execution_count": 5,
   "metadata": {
    "execution": {
     "iopub.execute_input": "2020-06-29T20:34:53.438826Z",
     "iopub.status.busy": "2020-06-29T20:34:53.438031Z",
     "iopub.status.idle": "2020-06-29T20:34:53.481751Z",
     "shell.execute_reply": "2020-06-29T20:34:53.478580Z"
    }
   },
   "outputs": [],
   "source": [
    "##\n",
    "## Set up counts versus time plot\n",
    "##\n",
    "\n",
    "# Set up Species to be Generic\n",
    "init_species_ind = 0  \n",
    "\n",
    "# Set up initial time\n",
    "init_time = 0\n",
    "init_time_idx = 0\n",
    "\n",
    "# Set up axes\n",
    "x_time = bq.LinearScale(min = 0, max=max_half_lifes)\n",
    "y_number = bq.LinearScale(min = 0, max=N_parent)\n",
    "y_fraction = bq.LinearScale(min = 0, max=1)\n",
    "\n",
    "# Labels and scales for Axes\n",
    "ax_x_time = bq.Axis(label=species['timeunits'][init_species_ind], scale=x_time, num_ticks = time_ticks,\n",
    "                    tick_values = half_life_ticks )\n",
    "ax_y_number = bq.Axis(label='Number of atoms', scale=y_number, orientation='vertical')\n",
    "ax_y_fraction = bq.Axis(label='Fraction of atoms', scale=y_fraction, orientation='vertical')\n",
    "\n",
    "# Define tooltip (Bug: doesn't allow relabeling Tooltips, also needs to apply to Scatter, not Lines)\n",
    "#def_tt_parent = bq.Tooltip(fields=['x', 'y'], formats=['.2f', '3.0f'], labels=['time', species['parent_short'][init_species_ind]])\n",
    "#def_tt_daughter = bq.Tooltip(fields=['x', 'y'], formats=['.2f', '3.0f'], labels=['time', species['daughter_short'][init_species_ind]])\n",
    "def_tt_parent = bq.Tooltip(fields=['x', 'y'], formats=['.2f', '.3f'], labels=['time', 'amount of parent isotope'])\n",
    "def_tt_daughter = bq.Tooltip(fields=['x', 'y'], formats=['.2f', '.3f'], labels=['time', 'amount of daughter isotope'])\n",
    "\n",
    "# Define the Lines and Scatter plots\n",
    "# NOTE: Scatter only necessary to allow tooltips to function.\n",
    "init_x = decay_data['time']*species['half-lives'][init_species_ind]\n",
    "if Plot_all_times:\n",
    "    init_parent = decay_data['Parent']\n",
    "    init_daughter = decay_data['Daughter']\n",
    "else:\n",
    "    init_parent = decay_data['Parent'][0:init_time_idx]\n",
    "    init_daughter = decay_data['Daughter'][0:init_time_idx]\n",
    "    \n",
    "pts_parent = bq.Scatter(x=init_x, y=init_parent,\n",
    "                      scales={'x': x_time, 'y': y_number}, marker='circle', default_size=2,\n",
    "                      display_legend=False, colors=['red'], labels=[species['parent_short'][init_species_ind]], \n",
    "                      tooltip=def_tt_parent)\n",
    "pts_daughter = bq.Scatter(x=init_x, y=init_daughter,\n",
    "                        scales={'x': x_time, 'y': y_number}, marker='circle', default_size=2,\n",
    "                        display_legend=False, colors=['blue'], labels=[species['daughter_short'][init_species_ind]],\n",
    "                        tooltip=def_tt_daughter)\n",
    "line_parent = bq.Lines(x=init_x, y=init_parent, \n",
    "                       scales={'x': x_time, 'y': y_number}, display_legend=True, colors=['red'], \n",
    "                       labels=[species['parent_short'][init_species_ind]], )\n",
    "line_daughter = bq.Lines(x=init_x, y=init_daughter, \n",
    "                         scales={'x': x_time, 'y': y_number}, display_legend=True, colors=['blue'], \n",
    "                         labels=[species['daughter_short'][init_species_ind]] )\n",
    "\n",
    "# Set up a vertical line on this plot to indicate the current time\n",
    "times_x = [init_time, init_time]\n",
    "times_y = [0, N_parent]\n",
    "line_time = bq.Lines(x=times_x, y=times_y,\n",
    "                     scales={'x': x_time, 'y': y_number}, \n",
    "                     colors=['greenyellow'])\n",
    "\n",
    "# Creates figure for plot\n",
    "fig_counts = bq.Figure(axes=[ax_x_time, ax_y_number], marks=[line_parent, line_daughter, line_time, pts_parent, pts_daughter], \n",
    "                       legend_location='right', legend_style={'fill': 'white'}, \n",
    "                       title='Counts versus Time', background_style={'fill': 'black'}, \n",
    "                       layout={'width': '500px', 'min_height': '400px'},\n",
    "                      animation=1000)"
   ]
  },
  {
   "cell_type": "code",
   "execution_count": 6,
   "metadata": {
    "execution": {
     "iopub.execute_input": "2020-06-29T20:34:53.551265Z",
     "iopub.status.busy": "2020-06-29T20:34:53.549913Z",
     "iopub.status.idle": "2020-06-29T20:34:53.571565Z",
     "shell.execute_reply": "2020-06-29T20:34:53.558455Z"
    }
   },
   "outputs": [],
   "source": [
    "# Slider widget to control the amount of time that has passed\n",
    "# Set for generic half-life situation initially (0 to 10 half-lifes)\n",
    "Time_slide = widgets.FloatSlider(\n",
    "    value=0.,\n",
    "    description='Time',\n",
    "    min=0.,\n",
    "    max=max_half_lifes,\n",
    "    step=h,\n",
    "    disabled=False,\n",
    "    continuous_update=False,\n",
    "    orientation='horizontal',\n",
    "    readout=False,\n",
    "    readout_format='.1f',\n",
    "    layout=widgets.Layout(overflow_x='visible',\n",
    "                          overflow_y='visible',\n",
    "                          width='400px',\n",
    "                          max_width='500px',\n",
    "                          min_width='250px')\n",
    ")\n",
    "\n",
    "# Widget to display the number of parent atoms present\n",
    "parent_present = widgets.Text(\n",
    "    value = str(N_parent),\n",
    "    style = {'description_width': 'initial'},\n",
    "    #description = species['parent_short'][0]+' remaining',\n",
    "    disabled = True,\n",
    "    layout=widgets.Layout(overflow_x='visible',\n",
    "                          overflow_y='visible',\n",
    "                          width='175px',\n",
    "                          max_width='300px',\n",
    "                          min_width='125px')\n",
    ")\n",
    "\n",
    "# Widget to display the number of daughter atoms present\n",
    "daughter_present = widgets.Text(\n",
    "    value = str(0),\n",
    "    style = {'description_width': 'initial'},\n",
    "    #description = species['daughter_short'][0]+' produced',\n",
    "    disabled = True,\n",
    "    layout=widgets.Layout(overflow_x='visible',\n",
    "                          overflow_y='visible',\n",
    "                          width='175px',\n",
    "                          max_width='300px',\n",
    "                          min_width='125px')\n",
    ")\n",
    "\n",
    "# Widgets to label the time slider with units\n",
    "Time_label = widgets.Label(value=str(Time_slide.value))\n",
    "unit_label = widgets.Label(value=str(species['timeunits'][0]))\n",
    "Composite_Time_Label = widgets.HBox([Time_label, unit_label],\n",
    "                                   layout=widgets.Layout(width='200px'))\n",
    "\n",
    "# Labels for the parent/daughter present displays\n",
    "parent_label = widgets.Label(value=species['parent_short'][0]+' remaining',\n",
    "                             layout=widgets.Layout(width='200px', \n",
    "                                                   overflow_x='visible',\n",
    "                                                   overflow_y='visible') )\n",
    "daughter_label = widgets.Label(value=species['daughter_short'][0]+' produced',\n",
    "                             layout=widgets.Layout(width='200px', \n",
    "                                                   overflow_x='visible',\n",
    "                                                   overflow_y='visible') )\n",
    "\n",
    "# Checkbox to choose whether to display the number of each species\n",
    "# or the fraction of each\n",
    "frac_or_num = widgets.Checkbox(value=False, description='Display as fraction of atoms')\n",
    "\n",
    "# Widget to allow one to choose which species to work with\n",
    "pick_Species = widgets.RadioButtons(options=species['parent_long'][:],\n",
    "                                    value='Generic', description='Species:', disabled=False,\n",
    "                                    layout=widgets.Layout(width='250px'))\n"
   ]
  },
  {
   "cell_type": "code",
   "execution_count": 7,
   "metadata": {
    "execution": {
     "iopub.execute_input": "2020-06-29T20:34:53.592878Z",
     "iopub.status.busy": "2020-06-29T20:34:53.592254Z",
     "iopub.status.idle": "2020-06-29T20:34:53.596928Z",
     "shell.execute_reply": "2020-06-29T20:34:53.595341Z"
    }
   },
   "outputs": [],
   "source": [
    "# Scale for population figure\n",
    "x_sc = bq.LinearScale(min=1, max=np.sqrt(N_parent))\n",
    "y_sc = bq.LinearScale(min=1, max=np.sqrt(N_parent))\n",
    "\n",
    "# Axes for population figure\n",
    "ax_x = bq.Axis(scale=x_sc, num_ticks=0)\n",
    "ax_y = bq.Axis(scale=y_sc, orientation='vertical', num_ticks=0)\n",
    "\n",
    "# Creates an array of x values: [1,2,...,30,1,2,...30,.....,1,2,...,30]\n",
    "x_ls = []\n",
    "for i in range(1,int(np.sqrt(N_parent))+1):\n",
    "    x_ls.append(float(i))\n",
    "x_ls = x_ls * int(np.sqrt(N_parent))\n",
    "x_arr = np.array(x_ls)\n",
    "\n",
    "# Creates an array of y values: [1,1,...,1,2,2,...2,......,30,30,...,30]\n",
    "y_ls = []\n",
    "for i in range(1,int(np.sqrt(N_parent))+1):\n",
    "    y_ls += [float(i)] * int(np.sqrt(N_parent))\n",
    "y_arr = np.array(y_ls)    \n",
    "\n",
    "# Creates a color array with the same number of entries as the number of atoms in\n",
    "# the sample\n",
    "Colors = ['red'] * N_parent\n",
    "\n",
    "# Plot the population model\n",
    "population_scat = bq.Scatter(x=x_arr, y=y_arr, scales={'x': x_sc, 'y': y_sc}, colors =['red'])"
   ]
  },
  {
   "cell_type": "code",
   "execution_count": 8,
   "metadata": {
    "execution": {
     "iopub.execute_input": "2020-06-29T20:34:53.680591Z",
     "iopub.status.busy": "2020-06-29T20:34:53.677003Z",
     "iopub.status.idle": "2020-06-29T20:34:53.763412Z",
     "shell.execute_reply": "2020-06-29T20:34:53.751994Z"
    }
   },
   "outputs": [
    {
     "data": {
      "application/vnd.jupyter.widget-view+json": {
       "model_id": "6aaf7089cd7b4f63b63147f87428fbf1",
       "version_major": 2,
       "version_minor": 0
      },
      "text/plain": [
       "VBox(children=(HBox(children=(Figure(axes=[Axis(label='half-lives', num_ticks=6, scale=LinearScale(max=10.0, m…"
      ]
     },
     "metadata": {},
     "output_type": "display_data"
    }
   ],
   "source": [
    "# Picking a new species resets everything\n",
    "pick_Species.observe(UpdateSpecies, names=['value'])\n",
    "\n",
    "# Update view from fraction to/from number\n",
    "frac_or_num.observe(UpdateFraction, names=['value'])\n",
    "\n",
    "# Update times\n",
    "Time_slide.observe(UpdateTimes, names=['value'])\n",
    "Time_label.observe(UpdateTimes, names=['value'])\n",
    "\n",
    "# Figure for the population\n",
    "fig_population = bq.Figure(title='Population of Atoms', marks=[population_scat], axes=[ax_x, ax_y], \n",
    "                background_style={'fill' : 'black'},padding_x = 0.025,\n",
    "                min_aspect_ratio=1, max_aspect_ratio=1)\n",
    "\n",
    "# Boxes to organize display\n",
    "parent_box = widgets.HBox([parent_label, parent_present],\n",
    "                          layout=widgets.Layout(overflow_x='visible', overflow_y='visible'))\n",
    "daughter_box = widgets.HBox([daughter_label, daughter_present],\n",
    "                            layout=widgets.Layout(overflow_x='visible', overflow_y='visible'))\n",
    "# Set visibility of the exact counts/fractions\n",
    "if (show_counts == False):\n",
    "    parent_box.layout.visibility = 'hidden'\n",
    "    daughter_box.layout.visibility = 'hidden'\n",
    "\n",
    "value_box = widgets.VBox([parent_box, daughter_box])\n",
    "species_box = widgets.HBox([value_box, pick_Species])\n",
    "\n",
    "slide_box = widgets.HBox([Time_slide, Composite_Time_Label])\n",
    "slide_check_box = widgets.VBox([slide_box, frac_or_num])\n",
    "\n",
    "top_box = widgets.HBox([fig_counts, fig_population],\n",
    "                      layout=widgets.Layout(width='900px'))\n",
    "top_box.children[0].layout.width = '450px'\n",
    "top_box.children[1].layout.width = '450px'\n",
    "\n",
    "bottom_box = widgets.HBox([species_box, slide_check_box],\n",
    "                      layout=widgets.Layout(width='900px'))\n",
    "bottom_box.children[0].layout.width = '450px'\n",
    "bottom_box.children[1].layout.width = '450px'\n",
    "\n",
    "# Final display\n",
    "Final = widgets.VBox([top_box, bottom_box])\n",
    "Final.layout.overflow = 'hidden'\n",
    "display(Final)"
   ]
  },
  {
   "cell_type": "markdown",
   "metadata": {},
   "source": [
    "## Interactive Figure 2: Geochron Plot"
   ]
  },
  {
   "cell_type": "markdown",
   "metadata": {},
   "source": [
    "Assuming a non-radiogenic isotope (that is, an isotope that is not the result of radioactive decay) that also will not decay, its amount should be constant.  This means that for different mineral samples we can measure the ratio of parent isotope versus the non-radiogenic isotope ($P/D_i$) and daughter isotope ($D$) versus the non-radiogenic isotope ($D/D_i$) to build an geochron plot.  For example, using the following isotopes\n",
    "\n",
    "- $D_i$ (non-radiogenic isotope of daughter element)\n",
    "- $D$ (Daughter Isoptope)\n",
    "- $P$ (Parent isotope)\n",
    "\n",
    "an geochron plot could plot $D/D_i$ versus $P/D_i$.  \n",
    "\n",
    "What sets the *geochron method* (also known as the *isochron method*) apart from the just measuring parent and daughter abundances is the use of the non-radiogenic isotope of the daughter element.  This avoids the assumption of no initial daughter isotope before the rock solidified (radioactive decay can occur while rock is molten).\n",
    "\n",
    "Some minerals in the rock incorporate the parent better than daughter which is why the initial amount of parent \n",
    "isotope versus daughter isotope can vary.  We expect daughter versus non-radiogenic isotope ratio to be constant\n",
    "if we pick the non-radiogenic isotope to be the same element as the daughter isotope.\n",
    "\n",
    "With all this said, it is actually often not this simple as many daughter isotopes are themselves radioactive and decay, leading to a chain of reactions, so comparing abundances of parent to daughter isotopes is not simple.\n",
    "\n",
    "*Note:* The idea for the geochron dating interactive came from a Isochron Diagram Java app at *ScienceCourseware.org*.  However that app had some issues in that it didn't divide by a non-radiogenic isotope (or at least didn't mention it).  In fact, they used $D_i$ for the initial amount of daughter isotope instead of the non-radiogenic isotope of the same element as the daughter isotope."
   ]
  },
  {
   "cell_type": "markdown",
   "metadata": {},
   "source": [
    "Consider the following questions:\n",
    "\n",
    "1. Notice that the geochron shown here is using the parent and daugther isotope ratios for 4 mineral samples in a rock.  Consider the sample that starts off with the most parent isotope initially (the point initially farthest to the right).  Adjust the geochron to show the samples after 1 half-life.  How much of that parent isotope was there initially?  How much is there after 1 half-life?  Does this make sense? \n",
    "2. Consider the sample that starts off with the least parent isotope initially (the point initially farthest to the left).  Adjust the geochron to show the samples after 1 half-life.  How much of that parent isotope was there initially?  How much is there after 1 half-life?  Does this make sense? \n",
    "3. What fraction of the parent isotope should have decayed into daughter isotope after one half-life?  Does it matter if the mineral sample we look at started with more parent isotope than another mineral sample in the same rock?  Why or why not?  \n",
    "4. Why is it as time elapses that the points representing the 4 mineral samples all move toward the upper left?  Can you explain why their motions are parallel to one another?\n",
    "4. Imagine you are looking at the parent isotope Rubidium-87 which decays into Strontium-87.  You examine 4 mineral samples in an meteorite and they line up in a line with a slope of 0.0666.  Determine the age of that meteorite (or rather, the time since it solidified).  Also explain how we can determine how much of the daughter isotope was in the meteorite initially.\n"
   ]
  },
  {
   "cell_type": "code",
   "execution_count": 9,
   "metadata": {
    "execution": {
     "iopub.execute_input": "2020-06-29T20:34:53.782078Z",
     "iopub.status.busy": "2020-06-29T20:34:53.778374Z",
     "iopub.status.idle": "2020-06-29T20:34:53.785097Z",
     "shell.execute_reply": "2020-06-29T20:34:53.784619Z"
    }
   },
   "outputs": [],
   "source": [
    "##\n",
    "## Define the various isotopes we want to consider\n",
    "##\n",
    "\n",
    "isotope_info = pd.DataFrame(columns=['Name', 'PName', 'PAbbrev', 'DName', 'DAbbrev', 'DiName', 'DiAbbrev', 'HalfLife', 'HLUnits'])\n",
    "isotope_info['index'] = ['generic', 'Rb87']\n",
    "isotope_info['Name'] = ['Generic', 'Rb-87->Sr-87']\n",
    "isotope_info['PName'] = ['Parent', 'Rubidium-87']\n",
    "isotope_info['PAbbrev'] = ['P', 'Rb-87']\n",
    "isotope_info['DName'] = ['Daughter', 'Strontium-87']\n",
    "isotope_info['DAbbrev'] = ['D', 'Sr-87']\n",
    "isotope_info['DiName'] = ['Non-Radiogenic Isotope of Daughter Element', 'Strontium-86']\n",
    "isotope_info['DiAbbrev'] = ['D_i', 'Sr-86']\n",
    "isotope_info['HalfLife'] = [ 1, 48.8 ]\n",
    "isotope_info['HLUnits'] = [ 'half-lives', 'Billion years']\n",
    "isotope_info = isotope_info.set_index('index')\n",
    "\n",
    "# Set initial isotope to plot\n",
    "init_isotope = 'generic'"
   ]
  },
  {
   "cell_type": "code",
   "execution_count": 10,
   "metadata": {
    "execution": {
     "iopub.execute_input": "2020-06-29T20:34:53.793691Z",
     "iopub.status.busy": "2020-06-29T20:34:53.793069Z",
     "iopub.status.idle": "2020-06-29T20:34:53.795557Z",
     "shell.execute_reply": "2020-06-29T20:34:53.795094Z"
    }
   },
   "outputs": [],
   "source": [
    "##\n",
    "## Define the initial amounts of parent and daughter in the sample.\n",
    "##\n",
    "## In principle, I would change this depending on the isotopes we plot.  But I am only plotting\n",
    "## Rb87 --> Sr-87, since that is the most classical use of this Geochron approach.\n",
    "##\n",
    "\n",
    "# Range of P to D_i fractions and initial amounts of D to D_i to consider\n",
    "P2Di_min = 0.05\n",
    "P2Di_max = 0.40\n",
    "D2Di0_min = 0.05\n",
    "D2Di0_max = 0.75\n",
    "\n",
    "# Generate three mineral samples in different thirds of the entire range\n",
    "range_P2Di  = (P2Di_max-P2Di_min)\n",
    "\n",
    "# Create sample amounts\n",
    "n_samples = 4\n",
    "nums = np.array(list(range(1, n_samples+1)))\n",
    "initial_samples = pd.DataFrame(index=nums)\n",
    "initial_D2Di0 = D2Di0_min + (D2Di0_max - D2Di0_min) * np.random.random()\n",
    "initial_samples['P2Di'] = P2Di_min + (range_P2Di/n_samples) * (nums - np.random.random(n_samples))\n",
    "initial_samples['D2Di'] = initial_D2Di0*np.ones_like(nums)\n"
   ]
  },
  {
   "cell_type": "code",
   "execution_count": 11,
   "metadata": {
    "execution": {
     "iopub.execute_input": "2020-06-29T20:34:53.817918Z",
     "iopub.status.busy": "2020-06-29T20:34:53.807669Z",
     "iopub.status.idle": "2020-06-29T20:34:53.819647Z",
     "shell.execute_reply": "2020-06-29T20:34:53.820084Z"
    }
   },
   "outputs": [],
   "source": [
    "##\n",
    "## Define functions to call when building interactive plot\n",
    "##\n",
    "\n",
    "def amt_left(sample_in, taus):\n",
    "    # Generate a sample DataFrame after tau half-lifes given an initial DataFrame\n",
    "    sample = sample_in.copy(deep = True)\n",
    "    sample['P2Di'] = sample_in['P2Di']*((1/2)**(taus))\n",
    "    sample['D2Di'] = sample_in['D2Di'] + sample_in['P2Di']*(1 - (1/2)**(taus))\n",
    "    return sample\n",
    "\n",
    "def line_points(sample):\n",
    "    global x_min, x_max, y_min, y_max, initial_D2Di0\n",
    "    \n",
    "    # Determine the end points of a line going through the sample points.\n",
    "    x_range = x_max - x_min\n",
    "    y_range = y_max - y_min\n",
    "    \n",
    "    # Slope (extrapolate from first two points - could be done by a fit to the points)\n",
    "    slope = (sample['D2Di'][2]-sample['D2Di'][1])/(sample['P2Di'][2]-sample['P2Di'][1])\n",
    "    y_final = initial_D2Di0 + slope*x_range\n",
    "    x_points = (x_min, x_max)\n",
    "    y_points = (initial_D2Di0, y_final)\n",
    "    return x_points, y_points, slope\n",
    "\n",
    "def init2current(samples0, samples):\n",
    "    # Compute the lines connecting initital and final points for plotting\n",
    "    n_pts = len(samples0)\n",
    "\n",
    "    xlist = []\n",
    "    ylist = []\n",
    "    for pt in range(1, n_pts+1):\n",
    "        x = np.array([ samples0['P2Di'][pt], samples['P2Di'][pt] ])\n",
    "        y = np.array([ samples0['D2Di'][pt], samples['D2Di'][pt] ])\n",
    "        xlist.append(x)\n",
    "        ylist.append(y)\n",
    "    \n",
    "    return(xlist, ylist)\n",
    "    \n",
    "def HL_changed(change):\n",
    "    global isotope, sample, initial_samples, dots_current, line_current, connectors, slope_label\n",
    "    \n",
    "    # Determine half-life of this isotope\n",
    "    idx = (isotope_info.Name == isotope.value)\n",
    "    HL = float(isotope_info[idx].HalfLife.tolist()[0])\n",
    "    \n",
    "    # How many half-lives have passed?  Use this to get new sample and line info\n",
    "    this_tau = HL_slider.value / HL\n",
    "    sample = amt_left(initial_samples, this_tau)\n",
    "    x_sample, y_sample, slope =  line_points(sample)\n",
    "    \n",
    "    # Update plot\n",
    "    dots_current.x = sample['P2Di']\n",
    "    dots_current.y = sample['D2Di']\n",
    "    line_current.x = x_sample\n",
    "    line_current.y = y_sample\n",
    "    slope_label.value = 'Slope: {0:0.4f}'.format(slope)\n",
    "    xlist, ylist = init2current(initial_samples, sample)\n",
    "    connectors.x = xlist\n",
    "    connectors.y = ylist\n",
    "    \n",
    "    \n",
    "def isotope_changed(change):\n",
    "    global ax_x_P2Di, ax_y_D2Di, HL_slider, HLlabel, UnitsText, Max_half_lives\n",
    "\n",
    "    # Extract the necessary isotope descriptors from the Pandas DataFrame\n",
    "    idx = (isotope_info.Name == change.new)\n",
    "    HL = float(isotope_info[idx].HalfLife.tolist()[0])\n",
    "    HLUnits = isotope_info[idx].HLUnits.tolist()[0]\n",
    "    PAbbrev = isotope_info[idx].PAbbrev.tolist()[0]\n",
    "    DAbbrev = isotope_info[idx].DAbbrev.tolist()[0]\n",
    "    DiAbbrev = isotope_info[idx].DiAbbrev.tolist()[0]\n",
    "\n",
    "    # Get old half-life\n",
    "    idx_old = (isotope_info.Name == change.old)\n",
    "    HL_old = float(isotope_info[idx_old].HalfLife.tolist()[0])\n",
    "\n",
    "    # Determine current age reading from slider and adjust to new units\n",
    "    init_age = HL_slider.value \n",
    "    \n",
    "    # Hard code generic versus others\n",
    "    if (change.new != isotope_info.loc['generic'].Name):\n",
    "        HL_slider.description = \"Time\"\n",
    "    else: \n",
    "        HL_slider.description = \"Half-lives\"    \n",
    "\n",
    "    # Adjust time scales\n",
    "    if (HL_old < HL):\n",
    "        # Adjust maximum limits first before adjusting values (since new HL > old HL)\n",
    "        HL_slider.max = Max_half_lives*HL\n",
    "        HLlabel.max = HL_slider.max \n",
    "        HL_slider.value = HL*(init_age/HL_old)\n",
    "        HLlabel.value = HL_slider.value       \n",
    "    else:\n",
    "        # Adjust maximum limits after adjusting values (since new HL < old HL)\n",
    "        HL_slider.value = HL*(init_age/HL_old)\n",
    "        HLlabel.value = HL_slider.value\n",
    "        HL_slider.max = Max_half_lives*HL\n",
    "        HLlabel.max = HL_slider.max \n",
    "                \n",
    "    # Set the axes and other labels to display\n",
    "    UnitsText.value = HLUnits\n",
    "    ax_x_P2Di.label = '{0} / {1}'.format(PAbbrev, DiAbbrev)\n",
    "    ax_y_D2Di.label = '{0} / {1}'.format(DAbbrev, DiAbbrev)\n",
    "\n"
   ]
  },
  {
   "cell_type": "code",
   "execution_count": 12,
   "metadata": {
    "execution": {
     "iopub.execute_input": "2020-06-29T20:34:53.847068Z",
     "iopub.status.busy": "2020-06-29T20:34:53.837315Z",
     "iopub.status.idle": "2020-06-29T20:34:53.947598Z",
     "shell.execute_reply": "2020-06-29T20:34:53.946319Z"
    }
   },
   "outputs": [
    {
     "data": {
      "application/vnd.jupyter.widget-view+json": {
       "model_id": "62a48777caff4c3289f032eddcd08140",
       "version_major": 2,
       "version_minor": 0
      },
      "text/plain": [
       "HBox(children=(Figure(axes=[Axis(label='P / D_i', scale=LinearScale(max=0.4, min=0.0)), Axis(label='D / D_i', …"
      ]
     },
     "metadata": {},
     "output_type": "display_data"
    }
   ],
   "source": [
    "##\n",
    "## Set up isochron plot\n",
    "##\n",
    "\n",
    "# Largest possible fraction of decay (only go out to 5 half-lives)\n",
    "Max_half_lives = 5\n",
    "Max_decay_fraction = 1 - (1/2)**(Max_half_lives)\n",
    "\n",
    "# detemine maximum and minimum values of X and Y axes\n",
    "x_step = 0.05\n",
    "x_min = 0\n",
    "x_max = x_step * ceil(initial_samples['P2Di'][n_samples] / x_step)\n",
    "y_step = 0.04\n",
    "y_min = y_step * floor(initial_D2Di0 / y_step)\n",
    "y_max = y_step * ceil((initial_D2Di0 + initial_samples['P2Di'][n_samples] * Max_decay_fraction) / y_step)\n",
    "\n",
    "# Labels and scales for Axes\n",
    "x_P2Di = bq.LinearScale(min = x_min, max = x_max)\n",
    "y_D2Di = bq.LinearScale(min = y_min, max = y_max)\n",
    "ax_x_P2Di = bq.Axis(label='P / D_i', scale=x_P2Di)\n",
    "ax_y_D2Di = bq.Axis(label='D / D_i', scale=y_D2Di, orientation='vertical')\n",
    "\n",
    "# Set up initial conditions\n",
    "taus = 0    # zero half lives past\n",
    "sample = amt_left(initial_samples, taus)\n",
    "\n",
    "##\n",
    "## Define the lines\n",
    "##\n",
    "\n",
    "# Initial amount of daughter line (with dots for initial amounts of parent)\n",
    "x_init, y_init, slope_init =  line_points(initial_samples)\n",
    "line_initial = bq.Lines(x=x_init, y=y_init, scales={'x': x_P2Di, 'y': y_D2Di}, \n",
    "                   line_style='dashed', colors=['red'], labels=['Initial Sample'])\n",
    "dots_initial = bq.Scatter(x=initial_samples['P2Di'], y=initial_samples['D2Di'], scales={'x': x_P2Di, 'y': y_D2Di}, \n",
    "                   colors=['white'], stroke='red', fill= True, labels=['Initial Isochron'])\n",
    "\n",
    "# Current quantities on isochron line\n",
    "x_sample, y_sample, slope =  line_points(sample)\n",
    "line_current = bq.Lines(x=x_sample, y=y_sample, scales={'x': x_P2Di, 'y': y_D2Di}, \n",
    "                   line_style='solid', colors=['red'], labels=['Current Isochron'])\n",
    "dots_current = bq.Scatter(x=sample['P2Di'], y=sample['D2Di'], scales={'x': x_P2Di, 'y': y_D2Di}, \n",
    "                   colors=['red'], stroke='red', fill= True, labels=['Current Isochron'])\n",
    "\n",
    "# Connect Initial and Current quantities on isochron line\n",
    "xlist, ylist = init2current(initial_samples, sample)\n",
    "connectors = bq.Lines(x=xlist, y=ylist, scales={'x': x_P2Di, 'y': y_D2Di}, \n",
    "                   line_style='dotted', colors=['black'])\n",
    "\n",
    "##\n",
    "## Construct plot\n",
    "##\n",
    "isochron = bq.Figure(axes=[ax_x_P2Di, ax_y_D2Di], \n",
    "                     marks=[connectors, line_initial, dots_initial, line_current, dots_current],\n",
    "                     title='Geochron Diagram', \n",
    "                     layout={'width': '700px', 'height': '500px', \n",
    "                             'max_width': '700px', 'max_height': '500px',\n",
    "                             'min_width': '600px', 'min_height': '400px'})\n",
    "\n",
    "##\n",
    "## Construct controls\n",
    "##\n",
    "\n",
    "# Select Generic or Specific Isotopes\n",
    "isotope = widgets.RadioButtons(options=list(isotope_info.Name), \n",
    "                               value=isotope_info.loc[init_isotope].Name, description='Isotope:', \n",
    "                               disabled=False, \n",
    "                               layout=widgets.Layout(height='75px', max_height='100px', min_height='50px', \n",
    "                                                    width='200px', max_width='300px',  min_width='100px'))\n",
    "isotope.observe(isotope_changed, 'value')\n",
    "\n",
    "# Slider and text field controling age\n",
    "idx = (isotope_info.Name == isotope.value)\n",
    "HL = float(isotope_info[idx].HalfLife.tolist()[0])\n",
    "HLUnits = isotope_info[idx].HLUnits.tolist()[0]\n",
    "\n",
    "HL_slider = widgets.FloatSlider(value=0, min=0, max=Max_half_lives*HL, step=0.02,\n",
    "                                description='Half-lives', disabled=False,\n",
    "                                continuous_update=False, orientation='horizontal',\n",
    "                                readout=False, readout_format='.2f',\n",
    "                                layout=widgets.Layout(height='75px', max_height='100px', min_height='50px', \n",
    "                                                    width='200px', max_width='300px',  min_width='100px'))\n",
    "HL_slider.observe(HL_changed, 'value')\n",
    "\n",
    "# Get units value and units for age label, then apply them\n",
    "HLlabel = widgets.BoundedFloatText(value = HL_slider.value, min = HL_slider.min, max = HL_slider.max, \n",
    "                                   step = HL_slider.step,\n",
    "                                       layout={'width': '75px', 'height': '50px', \n",
    "                                               'max_width': '75px', 'max_height': '75px',\n",
    "                                               'min_width': '50px', 'min_height': '50px'})\n",
    "UnitsText = widgets.Label(value=HLUnits)\n",
    "age_label = widgets.HBox([HLlabel, UnitsText])\n",
    "# Link HL slider with this text\n",
    "widgets.jslink((HL_slider, 'value'), (HLlabel, 'value'))\n",
    "\n",
    "# Describe slope\n",
    "slope_label = widgets.Label(value = 'Slope: {0:0.4f}'.format(slope),\n",
    "                                       layout={'align_items':'center','align_content':'center', \n",
    "                                               'justify_content':'center', \n",
    "                                               'width': '100px', 'height': '50px', \n",
    "                                               'max_width': '100px', 'max_height': '75px',\n",
    "                                               'min_width': '50px', 'min_height': '50px'})\n",
    "\n",
    "\n",
    "controls = widgets.VBox( [isotope, HL_slider, age_label, slope_label], \n",
    "                        layout=widgets.Layout(align_content='center', align_items='center', \n",
    "                                              justify_content='center', \n",
    "                                              width='300px', height='500px', \n",
    "                                              max_width='300px', max_height='500px',\n",
    "                                              min_width='100px', min_height='400px',\n",
    "                                              overflow_x='hidden', overflow_y='hidden') )\n",
    "\n",
    "display(widgets.HBox( [isochron, controls] ) )"
   ]
  }
 ],
 "metadata": {
  "kernelspec": {
   "display_name": "Python 3",
   "language": "python",
   "name": "python3"
  },
  "language_info": {
   "codemirror_mode": {
    "name": "ipython",
    "version": 3
   },
   "file_extension": ".py",
   "mimetype": "text/x-python",
   "name": "python",
   "nbconvert_exporter": "python",
   "pygments_lexer": "ipython3",
   "version": "3.6.3"
  },
  "widgets": {
   "application/vnd.jupyter.widget-state+json": {
    "state": {
     "006bbe67f92e49cdae65a10e054c66fe": {
      "model_module": "@jupyter-widgets/base",
      "model_module_version": "1.2.0",
      "model_name": "LayoutModel",
      "state": {
       "_model_module": "@jupyter-widgets/base",
       "_model_module_version": "1.2.0",
       "_model_name": "LayoutModel",
       "_view_count": null,
       "_view_module": "@jupyter-widgets/base",
       "_view_module_version": "1.2.0",
       "_view_name": "LayoutView",
       "align_content": null,
       "align_items": null,
       "align_self": null,
       "border": null,
       "bottom": null,
       "display": null,
       "flex": null,
       "flex_flow": null,
       "grid_area": null,
       "grid_auto_columns": null,
       "grid_auto_flow": null,
       "grid_auto_rows": null,
       "grid_column": null,
       "grid_gap": null,
       "grid_row": null,
       "grid_template_areas": null,
       "grid_template_columns": null,
       "grid_template_rows": null,
       "height": null,
       "justify_content": null,
       "justify_items": null,
       "left": null,
       "margin": null,
       "max_height": null,
       "max_width": null,
       "min_height": null,
       "min_width": null,
       "object_fit": null,
       "object_position": null,
       "order": null,
       "overflow": null,
       "overflow_x": null,
       "overflow_y": null,
       "padding": null,
       "right": null,
       "top": null,
       "visibility": null,
       "width": null
      }
     },
     "00cad060d81a443c98a84175fd4dd1c8": {
      "model_module": "@jupyter-widgets/controls",
      "model_module_version": "1.5.0",
      "model_name": "HBoxModel",
      "state": {
       "_dom_classes": [],
       "_model_module": "@jupyter-widgets/controls",
       "_model_module_version": "1.5.0",
       "_model_name": "HBoxModel",
       "_view_count": null,
       "_view_module": "@jupyter-widgets/controls",
       "_view_module_version": "1.5.0",
       "_view_name": "HBoxView",
       "box_style": "",
       "children": [
        "IPY_MODEL_3c92b29a9c9a4e62b80691c449910e22",
        "IPY_MODEL_87cedaac2f7c478c8c4200a2704b18f2"
       ],
       "layout": "IPY_MODEL_492a2519e74f4297bd3584f482408783"
      }
     },
     "03837942d1e5432a80cb807c7941396a": {
      "buffers": [
       {
        "data": "AAAAAAAAAACamZmZmZnZPw==",
        "encoding": "base64",
        "path": [
         "x",
         "value"
        ]
       },
       {
        "data": "R8aXi5Ck4j9HxpeLkKTiPw==",
        "encoding": "base64",
        "path": [
         "y",
         "value"
        ]
       }
      ],
      "model_module": "bqplot",
      "model_module_version": "^0.5.0",
      "model_name": "LinesModel",
      "state": {
       "_model_module": "bqplot",
       "_model_module_version": "^0.5.0",
       "_model_name": "LinesModel",
       "_view_count": null,
       "_view_module": "bqplot",
       "_view_module_version": "^0.5.0",
       "_view_name": "Lines",
       "apply_clip": true,
       "close_path": false,
       "color": null,
       "colors": [
        "red"
       ],
       "curves_subset": [],
       "display_legend": false,
       "enable_hover": true,
       "fill": "none",
       "fill_colors": [],
       "fill_opacities": [],
       "interactions": {
        "hover": "tooltip"
       },
       "interpolation": "linear",
       "labels": [
        "Initial Sample"
       ],
       "labels_visibility": "none",
       "line_style": "dashed",
       "marker": null,
       "marker_size": 64,
       "opacities": [],
       "preserve_domain": {},
       "scales": {
        "x": "IPY_MODEL_5751b16087af458c96e54942855ec4e4",
        "y": "IPY_MODEL_9c3dfbdafcd24ed5b7cfd420081fe649"
       },
       "scales_metadata": {
        "color": {
         "dimension": "color"
        },
        "x": {
         "dimension": "x",
         "orientation": "horizontal"
        },
        "y": {
         "dimension": "y",
         "orientation": "vertical"
        }
       },
       "selected": null,
       "selected_style": {},
       "stroke_width": 2.0,
       "tooltip": null,
       "tooltip_location": "mouse",
       "tooltip_style": {
        "opacity": 0.9
       },
       "unselected_style": {},
       "visible": true,
       "x": {
        "dtype": "float64",
        "shape": [
         2
        ],
        "type": null
       },
       "y": {
        "dtype": "float64",
        "shape": [
         2
        ],
        "type": null
       }
      }
     },
     "038869dfe4934049bbc035e869e43a9a": {
      "model_module": "@jupyter-widgets/base",
      "model_module_version": "1.2.0",
      "model_name": "LayoutModel",
      "state": {
       "_model_module": "@jupyter-widgets/base",
       "_model_module_version": "1.2.0",
       "_model_name": "LayoutModel",
       "_view_count": null,
       "_view_module": "@jupyter-widgets/base",
       "_view_module_version": "1.2.0",
       "_view_name": "LayoutView",
       "align_content": null,
       "align_items": null,
       "align_self": null,
       "border": null,
       "bottom": null,
       "display": null,
       "flex": null,
       "flex_flow": null,
       "grid_area": null,
       "grid_auto_columns": null,
       "grid_auto_flow": null,
       "grid_auto_rows": null,
       "grid_column": null,
       "grid_gap": null,
       "grid_row": null,
       "grid_template_areas": null,
       "grid_template_columns": null,
       "grid_template_rows": null,
       "height": "500px",
       "justify_content": null,
       "justify_items": null,
       "left": null,
       "margin": null,
       "max_height": "500px",
       "max_width": "700px",
       "min_height": "400px",
       "min_width": "600px",
       "object_fit": null,
       "object_position": null,
       "order": null,
       "overflow": null,
       "overflow_x": null,
       "overflow_y": null,
       "padding": null,
       "right": null,
       "top": null,
       "visibility": null,
       "width": "700px"
      }
     },
     "03b88f34b91d4f7491b0e0d644fc4701": {
      "model_module": "@jupyter-widgets/base",
      "model_module_version": "1.2.0",
      "model_name": "LayoutModel",
      "state": {
       "_model_module": "@jupyter-widgets/base",
       "_model_module_version": "1.2.0",
       "_model_name": "LayoutModel",
       "_view_count": null,
       "_view_module": "@jupyter-widgets/base",
       "_view_module_version": "1.2.0",
       "_view_name": "LayoutView",
       "align_content": null,
       "align_items": null,
       "align_self": null,
       "border": null,
       "bottom": null,
       "display": null,
       "flex": null,
       "flex_flow": null,
       "grid_area": null,
       "grid_auto_columns": null,
       "grid_auto_flow": null,
       "grid_auto_rows": null,
       "grid_column": null,
       "grid_gap": null,
       "grid_row": null,
       "grid_template_areas": null,
       "grid_template_columns": null,
       "grid_template_rows": null,
       "height": null,
       "justify_content": null,
       "justify_items": null,
       "left": null,
       "margin": null,
       "max_height": null,
       "max_width": null,
       "min_height": null,
       "min_width": null,
       "object_fit": null,
       "object_position": null,
       "order": null,
       "overflow": null,
       "overflow_x": null,
       "overflow_y": null,
       "padding": null,
       "right": null,
       "top": null,
       "visibility": null,
       "width": null
      }
     },
     "09510aaac6514c3ea8e6ba065478a13d": {
      "model_module": "@jupyter-widgets/controls",
      "model_module_version": "1.5.0",
      "model_name": "LabelModel",
      "state": {
       "_dom_classes": [],
       "_model_module": "@jupyter-widgets/controls",
       "_model_module_version": "1.5.0",
       "_model_name": "LabelModel",
       "_view_count": null,
       "_view_module": "@jupyter-widgets/controls",
       "_view_module_version": "1.5.0",
       "_view_name": "LabelView",
       "description": "",
       "description_tooltip": null,
       "layout": "IPY_MODEL_0d6a753740004413839a0dbd21582509",
       "placeholder": "​",
       "style": "IPY_MODEL_e94d8a53467e4ed58a19829676afdfc5",
       "value": "0.0"
      }
     },
     "0cc5d878a7354a30a293b369ec20a1b1": {
      "model_module": "bqplot",
      "model_module_version": "^0.5.0",
      "model_name": "FigureModel",
      "state": {
       "_dom_classes": [],
       "_model_module": "bqplot",
       "_model_module_version": "^0.5.0",
       "_model_name": "FigureModel",
       "_view_count": null,
       "_view_module": "bqplot",
       "_view_module_version": "^0.5.0",
       "_view_name": "Figure",
       "animation_duration": 0,
       "axes": [
        "IPY_MODEL_5e0c4fde89034b6896b09b55797a8852",
        "IPY_MODEL_9414881378f340de8f44b4ad7c1328b9"
       ],
       "background_style": {},
       "fig_margin": {
        "bottom": 60,
        "left": 60,
        "right": 60,
        "top": 60
       },
       "interaction": null,
       "layout": "IPY_MODEL_038869dfe4934049bbc035e869e43a9a",
       "legend_location": "top-right",
       "legend_style": {},
       "legend_text": {},
       "marks": [
        "IPY_MODEL_dc842d12f8e846e7a4dab3e04029a43c",
        "IPY_MODEL_03837942d1e5432a80cb807c7941396a",
        "IPY_MODEL_29ada2622e7c4b27ae72736e0da0e97e",
        "IPY_MODEL_d74c5f40777a46259dc8c913e0927bad",
        "IPY_MODEL_c962a96d721d4c08b11ebe9361ea8e14"
       ],
       "max_aspect_ratio": 100.0,
       "min_aspect_ratio": 0.01,
       "padding_x": 0.0,
       "padding_y": 0.025,
       "pixel_ratio": null,
       "scale_x": "IPY_MODEL_220c3047d70142618014e732bbe9db2f",
       "scale_y": "IPY_MODEL_aa963971a2c74d82b9a4a52147178f90",
       "theme": "classic",
       "title": "Geochron Diagram",
       "title_style": {}
      }
     },
     "0d6a753740004413839a0dbd21582509": {
      "model_module": "@jupyter-widgets/base",
      "model_module_version": "1.2.0",
      "model_name": "LayoutModel",
      "state": {
       "_model_module": "@jupyter-widgets/base",
       "_model_module_version": "1.2.0",
       "_model_name": "LayoutModel",
       "_view_count": null,
       "_view_module": "@jupyter-widgets/base",
       "_view_module_version": "1.2.0",
       "_view_name": "LayoutView",
       "align_content": null,
       "align_items": null,
       "align_self": null,
       "border": null,
       "bottom": null,
       "display": null,
       "flex": null,
       "flex_flow": null,
       "grid_area": null,
       "grid_auto_columns": null,
       "grid_auto_flow": null,
       "grid_auto_rows": null,
       "grid_column": null,
       "grid_gap": null,
       "grid_row": null,
       "grid_template_areas": null,
       "grid_template_columns": null,
       "grid_template_rows": null,
       "height": null,
       "justify_content": null,
       "justify_items": null,
       "left": null,
       "margin": null,
       "max_height": null,
       "max_width": null,
       "min_height": null,
       "min_width": null,
       "object_fit": null,
       "object_position": null,
       "order": null,
       "overflow": null,
       "overflow_x": null,
       "overflow_y": null,
       "padding": null,
       "right": null,
       "top": null,
       "visibility": null,
       "width": null
      }
     },
     "127354f1d68e4956a16ed4248c6e0a54": {
      "model_module": "@jupyter-widgets/base",
      "model_module_version": "1.2.0",
      "model_name": "LayoutModel",
      "state": {
       "_model_module": "@jupyter-widgets/base",
       "_model_module_version": "1.2.0",
       "_model_name": "LayoutModel",
       "_view_count": null,
       "_view_module": "@jupyter-widgets/base",
       "_view_module_version": "1.2.0",
       "_view_name": "LayoutView",
       "align_content": null,
       "align_items": null,
       "align_self": null,
       "border": null,
       "bottom": null,
       "display": null,
       "flex": null,
       "flex_flow": null,
       "grid_area": null,
       "grid_auto_columns": null,
       "grid_auto_flow": null,
       "grid_auto_rows": null,
       "grid_column": null,
       "grid_gap": null,
       "grid_row": null,
       "grid_template_areas": null,
       "grid_template_columns": null,
       "grid_template_rows": null,
       "height": null,
       "justify_content": null,
       "justify_items": null,
       "left": null,
       "margin": null,
       "max_height": null,
       "max_width": "500px",
       "min_height": null,
       "min_width": "250px",
       "object_fit": null,
       "object_position": null,
       "order": null,
       "overflow": null,
       "overflow_x": "visible",
       "overflow_y": "visible",
       "padding": null,
       "right": null,
       "top": null,
       "visibility": null,
       "width": "400px"
      }
     },
     "130c7757cb8d46c2a5a1df804f7d5306": {
      "model_module": "@jupyter-widgets/base",
      "model_module_version": "1.2.0",
      "model_name": "LayoutModel",
      "state": {
       "_model_module": "@jupyter-widgets/base",
       "_model_module_version": "1.2.0",
       "_model_name": "LayoutModel",
       "_view_count": null,
       "_view_module": "@jupyter-widgets/base",
       "_view_module_version": "1.2.0",
       "_view_name": "LayoutView",
       "align_content": null,
       "align_items": null,
       "align_self": null,
       "border": null,
       "bottom": null,
       "display": null,
       "flex": null,
       "flex_flow": null,
       "grid_area": null,
       "grid_auto_columns": null,
       "grid_auto_flow": null,
       "grid_auto_rows": null,
       "grid_column": null,
       "grid_gap": null,
       "grid_row": null,
       "grid_template_areas": null,
       "grid_template_columns": null,
       "grid_template_rows": null,
       "height": "75px",
       "justify_content": null,
       "justify_items": null,
       "left": null,
       "margin": null,
       "max_height": "100px",
       "max_width": "300px",
       "min_height": "50px",
       "min_width": "100px",
       "object_fit": null,
       "object_position": null,
       "order": null,
       "overflow": null,
       "overflow_x": null,
       "overflow_y": null,
       "padding": null,
       "right": null,
       "top": null,
       "visibility": null,
       "width": "200px"
      }
     },
     "166a601f1f3b4b4e96958d387f74d563": {
      "buffers": [
       {
        "data": "AAAAAAAAAAAAAAAAAAAAQAAAAAAAABBAAAAAAAAAGEAAAAAAAAAgQAAAAAAAACRA",
        "encoding": "base64",
        "path": [
         "tick_values",
         "value"
        ]
       }
      ],
      "model_module": "bqplot",
      "model_module_version": "^0.5.0",
      "model_name": "AxisModel",
      "state": {
       "_model_module": "bqplot",
       "_model_module_version": "^0.5.0",
       "_model_name": "AxisModel",
       "_view_count": null,
       "_view_module": "bqplot",
       "_view_module_version": "^0.5.0",
       "_view_name": "Axis",
       "color": null,
       "grid_color": null,
       "grid_lines": "solid",
       "label": "half-lives",
       "label_color": null,
       "label_location": "middle",
       "label_offset": null,
       "num_ticks": 6,
       "offset": {},
       "orientation": "horizontal",
       "scale": "IPY_MODEL_f911070814f84c59a1762b729757d838",
       "side": null,
       "tick_format": null,
       "tick_rotate": 0,
       "tick_style": {},
       "tick_values": {
        "dtype": "float64",
        "shape": [
         6
        ],
        "type": null
       },
       "visible": true
      }
     },
     "1a3c8fe9922143408d6afc67acea64ba": {
      "model_module": "bqplot",
      "model_module_version": "^0.5.0",
      "model_name": "AxisModel",
      "state": {
       "_model_module": "bqplot",
       "_model_module_version": "^0.5.0",
       "_model_name": "AxisModel",
       "_view_count": null,
       "_view_module": "bqplot",
       "_view_module_version": "^0.5.0",
       "_view_name": "Axis",
       "color": null,
       "grid_color": null,
       "grid_lines": "solid",
       "label": "",
       "label_color": null,
       "label_location": "middle",
       "label_offset": null,
       "num_ticks": 0,
       "offset": {},
       "orientation": "vertical",
       "scale": "IPY_MODEL_73e06d2778594eeb9ae5c062758d13f2",
       "side": null,
       "tick_format": null,
       "tick_rotate": 0,
       "tick_style": {},
       "tick_values": null,
       "visible": true
      }
     },
     "1b84cfbcf3f84f66bfa509447bc6e286": {
      "model_module": "@jupyter-widgets/base",
      "model_module_version": "1.2.0",
      "model_name": "LayoutModel",
      "state": {
       "_model_module": "@jupyter-widgets/base",
       "_model_module_version": "1.2.0",
       "_model_name": "LayoutModel",
       "_view_count": null,
       "_view_module": "@jupyter-widgets/base",
       "_view_module_version": "1.2.0",
       "_view_name": "LayoutView",
       "align_content": null,
       "align_items": null,
       "align_self": null,
       "border": null,
       "bottom": null,
       "display": null,
       "flex": null,
       "flex_flow": null,
       "grid_area": null,
       "grid_auto_columns": null,
       "grid_auto_flow": null,
       "grid_auto_rows": null,
       "grid_column": null,
       "grid_gap": null,
       "grid_row": null,
       "grid_template_areas": null,
       "grid_template_columns": null,
       "grid_template_rows": null,
       "height": null,
       "justify_content": null,
       "justify_items": null,
       "left": null,
       "margin": null,
       "max_height": null,
       "max_width": null,
       "min_height": null,
       "min_width": null,
       "object_fit": null,
       "object_position": null,
       "order": null,
       "overflow": null,
       "overflow_x": null,
       "overflow_y": null,
       "padding": null,
       "right": null,
       "top": null,
       "visibility": null,
       "width": "200px"
      }
     },
     "1fb80f753a0d4d16bb21cf50c9d05ec7": {
      "model_module": "bqplot",
      "model_module_version": "^0.5.0",
      "model_name": "LinearScaleModel",
      "state": {
       "_model_module": "bqplot",
       "_model_module_version": "^0.5.0",
       "_model_name": "LinearScaleModel",
       "_view_count": null,
       "_view_module": "bqplot",
       "_view_module_version": "^0.5.0",
       "_view_name": "LinearScale",
       "allow_padding": false,
       "max": 1.0,
       "mid_range": 0.8,
       "min": 0.0,
       "min_range": 0.6,
       "reverse": false,
       "stabilized": false
      }
     },
     "1fe5df0ef9a9489680ffc6b7b7e9b158": {
      "model_module": "@jupyter-widgets/controls",
      "model_module_version": "1.5.0",
      "model_name": "DescriptionStyleModel",
      "state": {
       "_model_module": "@jupyter-widgets/controls",
       "_model_module_version": "1.5.0",
       "_model_name": "DescriptionStyleModel",
       "_view_count": null,
       "_view_module": "@jupyter-widgets/base",
       "_view_module_version": "1.2.0",
       "_view_name": "StyleView",
       "description_width": "initial"
      }
     },
     "208728ab0a284156bfd32106c0a1a58d": {
      "model_module": "@jupyter-widgets/base",
      "model_module_version": "1.2.0",
      "model_name": "LayoutModel",
      "state": {
       "_model_module": "@jupyter-widgets/base",
       "_model_module_version": "1.2.0",
       "_model_name": "LayoutModel",
       "_view_count": null,
       "_view_module": "@jupyter-widgets/base",
       "_view_module_version": "1.2.0",
       "_view_name": "LayoutView",
       "align_content": null,
       "align_items": null,
       "align_self": null,
       "border": null,
       "bottom": null,
       "display": null,
       "flex": null,
       "flex_flow": null,
       "grid_area": null,
       "grid_auto_columns": null,
       "grid_auto_flow": null,
       "grid_auto_rows": null,
       "grid_column": null,
       "grid_gap": null,
       "grid_row": null,
       "grid_template_areas": null,
       "grid_template_columns": null,
       "grid_template_rows": null,
       "height": null,
       "justify_content": null,
       "justify_items": null,
       "left": null,
       "margin": null,
       "max_height": null,
       "max_width": null,
       "min_height": null,
       "min_width": null,
       "object_fit": null,
       "object_position": null,
       "order": null,
       "overflow": "hidden",
       "overflow_x": null,
       "overflow_y": null,
       "padding": null,
       "right": null,
       "top": null,
       "visibility": null,
       "width": null
      }
     },
     "20aa94aff10d4acca69b00b968620247": {
      "buffers": [
       {
        "data": "AAAAAAAA8D8=",
        "encoding": "base64",
        "path": [
         "default_opacities",
         "value"
        ]
       },
       {
        "data": "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",
        "encoding": "base64",
        "path": [
         "x",
         "value"
        ]
       },
       {
        "data": "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",
        "encoding": "base64",
        "path": [
         "y",
         "value"
        ]
       }
      ],
      "model_module": "bqplot",
      "model_module_version": "^0.5.0",
      "model_name": "ScatterModel",
      "state": {
       "_model_module": "bqplot",
       "_model_module_version": "^0.5.0",
       "_model_name": "ScatterModel",
       "_view_count": null,
       "_view_module": "bqplot",
       "_view_module_version": "^0.5.0",
       "_view_name": "Scatter",
       "apply_clip": true,
       "color": null,
       "colors": [
        "red"
       ],
       "default_opacities": {
        "dtype": "float64",
        "shape": [
         1
        ],
        "type": null
       },
       "default_size": 2,
       "default_skew": 0.5,
       "display_legend": false,
       "display_names": true,
       "drag_color": null,
       "drag_size": 5.0,
       "enable_delete": false,
       "enable_hover": true,
       "enable_move": false,
       "fill": true,
       "hovered_point": null,
       "hovered_style": {},
       "interactions": {
        "hover": "tooltip"
       },
       "labels": [
        "Parent"
       ],
       "marker": "circle",
       "names": null,
       "names_unique": true,
       "opacity": null,
       "preserve_domain": {},
       "restrict_x": false,
       "restrict_y": false,
       "rotation": null,
       "scales": {
        "x": "IPY_MODEL_f911070814f84c59a1762b729757d838",
        "y": "IPY_MODEL_8436836f9ae74ff1bd92a6df3d64635c"
       },
       "scales_metadata": {
        "color": {
         "dimension": "color"
        },
        "opacity": {
         "dimension": "opacity"
        },
        "rotation": {
         "dimension": "rotation"
        },
        "size": {
         "dimension": "size"
        },
        "skew": {
         "dimension": "skew"
        },
        "x": {
         "dimension": "x",
         "orientation": "horizontal"
        },
        "y": {
         "dimension": "y",
         "orientation": "vertical"
        }
       },
       "selected": null,
       "selected_style": {},
       "size": null,
       "skew": null,
       "stroke": null,
       "stroke_width": 1.5,
       "tooltip": "IPY_MODEL_988265e501c3464899509e193a1662a0",
       "tooltip_location": "mouse",
       "tooltip_style": {
        "opacity": 0.9
       },
       "unhovered_style": {},
       "unselected_style": {},
       "update_on_move": false,
       "visible": true,
       "x": {
        "dtype": "float64",
        "shape": [
         901
        ],
        "type": null
       },
       "y": {
        "dtype": "int32",
        "shape": [
         901
        ],
        "type": null
       }
      }
     },
     "220c3047d70142618014e732bbe9db2f": {
      "model_module": "bqplot",
      "model_module_version": "^0.5.0",
      "model_name": "LinearScaleModel",
      "state": {
       "_model_module": "bqplot",
       "_model_module_version": "^0.5.0",
       "_model_name": "LinearScaleModel",
       "_view_count": null,
       "_view_module": "bqplot",
       "_view_module_version": "^0.5.0",
       "_view_name": "LinearScale",
       "allow_padding": false,
       "max": 1.0,
       "mid_range": 0.8,
       "min": 0.0,
       "min_range": 0.6,
       "reverse": false,
       "stabilized": false
      }
     },
     "252abbd391d24360b29d74f997aba3a0": {
      "model_module": "@jupyter-widgets/controls",
      "model_module_version": "1.5.0",
      "model_name": "RadioButtonsModel",
      "state": {
       "_dom_classes": [],
       "_model_module": "@jupyter-widgets/controls",
       "_model_module_version": "1.5.0",
       "_model_name": "RadioButtonsModel",
       "_options_labels": [
        "Generic",
        "Carbon",
        "Thallium",
        "Uranium",
        "Rubidium"
       ],
       "_view_count": null,
       "_view_module": "@jupyter-widgets/controls",
       "_view_module_version": "1.5.0",
       "_view_name": "RadioButtonsView",
       "description": "Species:",
       "description_tooltip": null,
       "disabled": false,
       "index": 0,
       "layout": "IPY_MODEL_fb9ebc1f094540b780aeed088480cca6",
       "style": "IPY_MODEL_8b206b15a9004a3abd925cc357e2cbaa"
      }
     },
     "273a9949e21745d08079804ab35e20ea": {
      "buffers": [
       {
        "data": "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",
        "encoding": "base64",
        "path": [
         "x",
         "value"
        ]
       },
       {
        "data": "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",
        "encoding": "base64",
        "path": [
         "y",
         "value"
        ]
       }
      ],
      "model_module": "bqplot",
      "model_module_version": "^0.5.0",
      "model_name": "LinesModel",
      "state": {
       "_model_module": "bqplot",
       "_model_module_version": "^0.5.0",
       "_model_name": "LinesModel",
       "_view_count": null,
       "_view_module": "bqplot",
       "_view_module_version": "^0.5.0",
       "_view_name": "Lines",
       "apply_clip": true,
       "close_path": false,
       "color": null,
       "colors": [
        "blue"
       ],
       "curves_subset": [],
       "display_legend": true,
       "enable_hover": true,
       "fill": "none",
       "fill_colors": [],
       "fill_opacities": [],
       "interactions": {
        "hover": "tooltip"
       },
       "interpolation": "linear",
       "labels": [
        "Daughter"
       ],
       "labels_visibility": "none",
       "line_style": "solid",
       "marker": null,
       "marker_size": 64,
       "opacities": [],
       "preserve_domain": {},
       "scales": {
        "x": "IPY_MODEL_f911070814f84c59a1762b729757d838",
        "y": "IPY_MODEL_8436836f9ae74ff1bd92a6df3d64635c"
       },
       "scales_metadata": {
        "color": {
         "dimension": "color"
        },
        "x": {
         "dimension": "x",
         "orientation": "horizontal"
        },
        "y": {
         "dimension": "y",
         "orientation": "vertical"
        }
       },
       "selected": null,
       "selected_style": {},
       "stroke_width": 2.0,
       "tooltip": null,
       "tooltip_location": "mouse",
       "tooltip_style": {
        "opacity": 0.9
       },
       "unselected_style": {},
       "visible": true,
       "x": {
        "dtype": "float64",
        "shape": [
         901
        ],
        "type": null
       },
       "y": {
        "dtype": "int32",
        "shape": [
         901
        ],
        "type": null
       }
      }
     },
     "29ada2622e7c4b27ae72736e0da0e97e": {
      "buffers": [
       {
        "data": "AAAAAAAA8D8=",
        "encoding": "base64",
        "path": [
         "default_opacities",
         "value"
        ]
       },
       {
        "data": "H8huT+O6sz85UaeInjXCP2hYmaOaHc4/5/PNzSiT1j8=",
        "encoding": "base64",
        "path": [
         "x",
         "value"
        ]
       },
       {
        "data": "R8aXi5Ck4j9HxpeLkKTiP0fGl4uQpOI/R8aXi5Ck4j8=",
        "encoding": "base64",
        "path": [
         "y",
         "value"
        ]
       }
      ],
      "model_module": "bqplot",
      "model_module_version": "^0.5.0",
      "model_name": "ScatterModel",
      "state": {
       "_model_module": "bqplot",
       "_model_module_version": "^0.5.0",
       "_model_name": "ScatterModel",
       "_view_count": null,
       "_view_module": "bqplot",
       "_view_module_version": "^0.5.0",
       "_view_name": "Scatter",
       "apply_clip": true,
       "color": null,
       "colors": [
        "white"
       ],
       "default_opacities": {
        "dtype": "float64",
        "shape": [
         1
        ],
        "type": null
       },
       "default_size": 64,
       "default_skew": 0.5,
       "display_legend": false,
       "display_names": true,
       "drag_color": null,
       "drag_size": 5.0,
       "enable_delete": false,
       "enable_hover": true,
       "enable_move": false,
       "fill": true,
       "hovered_point": null,
       "hovered_style": {},
       "interactions": {
        "hover": "tooltip"
       },
       "labels": [
        "Initial Isochron"
       ],
       "marker": "circle",
       "names": null,
       "names_unique": true,
       "opacity": null,
       "preserve_domain": {},
       "restrict_x": false,
       "restrict_y": false,
       "rotation": null,
       "scales": {
        "x": "IPY_MODEL_5751b16087af458c96e54942855ec4e4",
        "y": "IPY_MODEL_9c3dfbdafcd24ed5b7cfd420081fe649"
       },
       "scales_metadata": {
        "color": {
         "dimension": "color"
        },
        "opacity": {
         "dimension": "opacity"
        },
        "rotation": {
         "dimension": "rotation"
        },
        "size": {
         "dimension": "size"
        },
        "skew": {
         "dimension": "skew"
        },
        "x": {
         "dimension": "x",
         "orientation": "horizontal"
        },
        "y": {
         "dimension": "y",
         "orientation": "vertical"
        }
       },
       "selected": null,
       "selected_style": {},
       "size": null,
       "skew": null,
       "stroke": "red",
       "stroke_width": 1.5,
       "tooltip": null,
       "tooltip_location": "mouse",
       "tooltip_style": {
        "opacity": 0.9
       },
       "unhovered_style": {},
       "unselected_style": {},
       "update_on_move": false,
       "visible": true,
       "x": {
        "dtype": "float64",
        "shape": [
         4
        ],
        "type": null
       },
       "y": {
        "dtype": "float64",
        "shape": [
         4
        ],
        "type": null
       }
      }
     },
     "3386e9be9fd2416592cc641771257fc3": {
      "model_module": "@jupyter-widgets/controls",
      "model_module_version": "1.5.0",
      "model_name": "TextModel",
      "state": {
       "_dom_classes": [],
       "_model_module": "@jupyter-widgets/controls",
       "_model_module_version": "1.5.0",
       "_model_name": "TextModel",
       "_view_count": null,
       "_view_module": "@jupyter-widgets/controls",
       "_view_module_version": "1.5.0",
       "_view_name": "TextView",
       "continuous_update": true,
       "description": "",
       "description_tooltip": null,
       "disabled": true,
       "layout": "IPY_MODEL_732833decd8a4a27b1334396f8b5d26d",
       "placeholder": "​",
       "style": "IPY_MODEL_98e25b2eb40f46429e63f57df68121e3",
       "value": "900"
      }
     },
     "397e74359cf14e388f54c61d07edafa1": {
      "model_module": "@jupyter-widgets/controls",
      "model_module_version": "1.5.0",
      "model_name": "HBoxModel",
      "state": {
       "_dom_classes": [],
       "_model_module": "@jupyter-widgets/controls",
       "_model_module_version": "1.5.0",
       "_model_name": "HBoxModel",
       "_view_count": null,
       "_view_module": "@jupyter-widgets/controls",
       "_view_module_version": "1.5.0",
       "_view_name": "HBoxView",
       "box_style": "",
       "children": [
        "IPY_MODEL_45d01646881e4fc5976d64d5ce947f9d",
        "IPY_MODEL_a8d464f7914a4a0a9b0f4cc5004f0118"
       ],
       "layout": "IPY_MODEL_455d167380ce494aa76c138a00289008"
      }
     },
     "3b1b600345c149af8adce46a1f7c8eb1": {
      "model_module": "@jupyter-widgets/controls",
      "model_module_version": "1.5.0",
      "model_name": "HBoxModel",
      "state": {
       "_dom_classes": [],
       "_model_module": "@jupyter-widgets/controls",
       "_model_module_version": "1.5.0",
       "_model_name": "HBoxModel",
       "_view_count": null,
       "_view_module": "@jupyter-widgets/controls",
       "_view_module_version": "1.5.0",
       "_view_name": "HBoxView",
       "box_style": "",
       "children": [
        "IPY_MODEL_af2a97ea78774df1bc77d8fbc5287272",
        "IPY_MODEL_905b0db7e6ef4f2bad061da28b9a6ff4"
       ],
       "layout": "IPY_MODEL_45735b9c26874d6cae21e77779f09c0a"
      }
     },
     "3c92b29a9c9a4e62b80691c449910e22": {
      "model_module": "@jupyter-widgets/controls",
      "model_module_version": "1.5.0",
      "model_name": "BoundedFloatTextModel",
      "state": {
       "_dom_classes": [],
       "_model_module": "@jupyter-widgets/controls",
       "_model_module_version": "1.5.0",
       "_model_name": "BoundedFloatTextModel",
       "_view_count": null,
       "_view_module": "@jupyter-widgets/controls",
       "_view_module_version": "1.5.0",
       "_view_name": "FloatTextView",
       "continuous_update": false,
       "description": "",
       "description_tooltip": null,
       "disabled": false,
       "layout": "IPY_MODEL_6d582c7669274a0ebf2a5b77eafaf6b4",
       "max": 5.0,
       "min": 0.0,
       "step": 0.02,
       "style": "IPY_MODEL_9c6ebe0d76f2471cb8a0e70912292c4e",
       "value": 0.0
      }
     },
     "3d03a116ec7e47148be45f327d190a97": {
      "buffers": [
       {
        "data": "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",
        "encoding": "base64",
        "path": [
         "x",
         "value"
        ]
       },
       {
        "data": "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",
        "encoding": "base64",
        "path": [
         "y",
         "value"
        ]
       }
      ],
      "model_module": "bqplot",
      "model_module_version": "^0.5.0",
      "model_name": "LinesModel",
      "state": {
       "_model_module": "bqplot",
       "_model_module_version": "^0.5.0",
       "_model_name": "LinesModel",
       "_view_count": null,
       "_view_module": "bqplot",
       "_view_module_version": "^0.5.0",
       "_view_name": "Lines",
       "apply_clip": true,
       "close_path": false,
       "color": null,
       "colors": [
        "red"
       ],
       "curves_subset": [],
       "display_legend": true,
       "enable_hover": true,
       "fill": "none",
       "fill_colors": [],
       "fill_opacities": [],
       "interactions": {
        "hover": "tooltip"
       },
       "interpolation": "linear",
       "labels": [
        "Parent"
       ],
       "labels_visibility": "none",
       "line_style": "solid",
       "marker": null,
       "marker_size": 64,
       "opacities": [],
       "preserve_domain": {},
       "scales": {
        "x": "IPY_MODEL_f911070814f84c59a1762b729757d838",
        "y": "IPY_MODEL_8436836f9ae74ff1bd92a6df3d64635c"
       },
       "scales_metadata": {
        "color": {
         "dimension": "color"
        },
        "x": {
         "dimension": "x",
         "orientation": "horizontal"
        },
        "y": {
         "dimension": "y",
         "orientation": "vertical"
        }
       },
       "selected": null,
       "selected_style": {},
       "stroke_width": 2.0,
       "tooltip": null,
       "tooltip_location": "mouse",
       "tooltip_style": {
        "opacity": 0.9
       },
       "unselected_style": {},
       "visible": true,
       "x": {
        "dtype": "float64",
        "shape": [
         901
        ],
        "type": null
       },
       "y": {
        "dtype": "int32",
        "shape": [
         901
        ],
        "type": null
       }
      }
     },
     "43086864324748c499b07cc6ff1075b8": {
      "model_module": "@jupyter-widgets/base",
      "model_module_version": "1.2.0",
      "model_name": "LayoutModel",
      "state": {
       "_model_module": "@jupyter-widgets/base",
       "_model_module_version": "1.2.0",
       "_model_name": "LayoutModel",
       "_view_count": null,
       "_view_module": "@jupyter-widgets/base",
       "_view_module_version": "1.2.0",
       "_view_name": "LayoutView",
       "align_content": null,
       "align_items": null,
       "align_self": null,
       "border": null,
       "bottom": null,
       "display": null,
       "flex": null,
       "flex_flow": null,
       "grid_area": null,
       "grid_auto_columns": null,
       "grid_auto_flow": null,
       "grid_auto_rows": null,
       "grid_column": null,
       "grid_gap": null,
       "grid_row": null,
       "grid_template_areas": null,
       "grid_template_columns": null,
       "grid_template_rows": null,
       "height": null,
       "justify_content": null,
       "justify_items": null,
       "left": null,
       "margin": null,
       "max_height": null,
       "max_width": null,
       "min_height": null,
       "min_width": null,
       "object_fit": null,
       "object_position": null,
       "order": null,
       "overflow": null,
       "overflow_x": null,
       "overflow_y": null,
       "padding": null,
       "right": null,
       "top": null,
       "visibility": null,
       "width": null
      }
     },
     "44e2a1cc8b44449f80cb4f3fc843d4ee": {
      "model_module": "@jupyter-widgets/controls",
      "model_module_version": "1.5.0",
      "model_name": "DescriptionStyleModel",
      "state": {
       "_model_module": "@jupyter-widgets/controls",
       "_model_module_version": "1.5.0",
       "_model_name": "DescriptionStyleModel",
       "_view_count": null,
       "_view_module": "@jupyter-widgets/base",
       "_view_module_version": "1.2.0",
       "_view_name": "StyleView",
       "description_width": ""
      }
     },
     "455d167380ce494aa76c138a00289008": {
      "model_module": "@jupyter-widgets/base",
      "model_module_version": "1.2.0",
      "model_name": "LayoutModel",
      "state": {
       "_model_module": "@jupyter-widgets/base",
       "_model_module_version": "1.2.0",
       "_model_name": "LayoutModel",
       "_view_count": null,
       "_view_module": "@jupyter-widgets/base",
       "_view_module_version": "1.2.0",
       "_view_name": "LayoutView",
       "align_content": null,
       "align_items": null,
       "align_self": null,
       "border": null,
       "bottom": null,
       "display": null,
       "flex": null,
       "flex_flow": null,
       "grid_area": null,
       "grid_auto_columns": null,
       "grid_auto_flow": null,
       "grid_auto_rows": null,
       "grid_column": null,
       "grid_gap": null,
       "grid_row": null,
       "grid_template_areas": null,
       "grid_template_columns": null,
       "grid_template_rows": null,
       "height": null,
       "justify_content": null,
       "justify_items": null,
       "left": null,
       "margin": null,
       "max_height": null,
       "max_width": null,
       "min_height": null,
       "min_width": null,
       "object_fit": null,
       "object_position": null,
       "order": null,
       "overflow": null,
       "overflow_x": "visible",
       "overflow_y": "visible",
       "padding": null,
       "right": null,
       "top": null,
       "visibility": null,
       "width": null
      }
     },
     "45735b9c26874d6cae21e77779f09c0a": {
      "model_module": "@jupyter-widgets/base",
      "model_module_version": "1.2.0",
      "model_name": "LayoutModel",
      "state": {
       "_model_module": "@jupyter-widgets/base",
       "_model_module_version": "1.2.0",
       "_model_name": "LayoutModel",
       "_view_count": null,
       "_view_module": "@jupyter-widgets/base",
       "_view_module_version": "1.2.0",
       "_view_name": "LayoutView",
       "align_content": null,
       "align_items": null,
       "align_self": null,
       "border": null,
       "bottom": null,
       "display": null,
       "flex": null,
       "flex_flow": null,
       "grid_area": null,
       "grid_auto_columns": null,
       "grid_auto_flow": null,
       "grid_auto_rows": null,
       "grid_column": null,
       "grid_gap": null,
       "grid_row": null,
       "grid_template_areas": null,
       "grid_template_columns": null,
       "grid_template_rows": null,
       "height": null,
       "justify_content": null,
       "justify_items": null,
       "left": null,
       "margin": null,
       "max_height": null,
       "max_width": null,
       "min_height": null,
       "min_width": null,
       "object_fit": null,
       "object_position": null,
       "order": null,
       "overflow": null,
       "overflow_x": null,
       "overflow_y": null,
       "padding": null,
       "right": null,
       "top": null,
       "visibility": null,
       "width": "900px"
      }
     },
     "45d01646881e4fc5976d64d5ce947f9d": {
      "model_module": "@jupyter-widgets/controls",
      "model_module_version": "1.5.0",
      "model_name": "LabelModel",
      "state": {
       "_dom_classes": [],
       "_model_module": "@jupyter-widgets/controls",
       "_model_module_version": "1.5.0",
       "_model_name": "LabelModel",
       "_view_count": null,
       "_view_module": "@jupyter-widgets/controls",
       "_view_module_version": "1.5.0",
       "_view_name": "LabelView",
       "description": "",
       "description_tooltip": null,
       "layout": "IPY_MODEL_4e6b24fd929d44e481e9f347965bd354",
       "placeholder": "​",
       "style": "IPY_MODEL_bd20e0470bc840d1adf011626a98b455",
       "value": "Daughter produced"
      }
     },
     "492a2519e74f4297bd3584f482408783": {
      "model_module": "@jupyter-widgets/base",
      "model_module_version": "1.2.0",
      "model_name": "LayoutModel",
      "state": {
       "_model_module": "@jupyter-widgets/base",
       "_model_module_version": "1.2.0",
       "_model_name": "LayoutModel",
       "_view_count": null,
       "_view_module": "@jupyter-widgets/base",
       "_view_module_version": "1.2.0",
       "_view_name": "LayoutView",
       "align_content": null,
       "align_items": null,
       "align_self": null,
       "border": null,
       "bottom": null,
       "display": null,
       "flex": null,
       "flex_flow": null,
       "grid_area": null,
       "grid_auto_columns": null,
       "grid_auto_flow": null,
       "grid_auto_rows": null,
       "grid_column": null,
       "grid_gap": null,
       "grid_row": null,
       "grid_template_areas": null,
       "grid_template_columns": null,
       "grid_template_rows": null,
       "height": null,
       "justify_content": null,
       "justify_items": null,
       "left": null,
       "margin": null,
       "max_height": null,
       "max_width": null,
       "min_height": null,
       "min_width": null,
       "object_fit": null,
       "object_position": null,
       "order": null,
       "overflow": null,
       "overflow_x": null,
       "overflow_y": null,
       "padding": null,
       "right": null,
       "top": null,
       "visibility": null,
       "width": null
      }
     },
     "4943b958de1d405da3a4d79d2645d538": {
      "model_module": "@jupyter-widgets/controls",
      "model_module_version": "1.5.0",
      "model_name": "DescriptionStyleModel",
      "state": {
       "_model_module": "@jupyter-widgets/controls",
       "_model_module_version": "1.5.0",
       "_model_name": "DescriptionStyleModel",
       "_view_count": null,
       "_view_module": "@jupyter-widgets/base",
       "_view_module_version": "1.2.0",
       "_view_name": "StyleView",
       "description_width": ""
      }
     },
     "4e6b24fd929d44e481e9f347965bd354": {
      "model_module": "@jupyter-widgets/base",
      "model_module_version": "1.2.0",
      "model_name": "LayoutModel",
      "state": {
       "_model_module": "@jupyter-widgets/base",
       "_model_module_version": "1.2.0",
       "_model_name": "LayoutModel",
       "_view_count": null,
       "_view_module": "@jupyter-widgets/base",
       "_view_module_version": "1.2.0",
       "_view_name": "LayoutView",
       "align_content": null,
       "align_items": null,
       "align_self": null,
       "border": null,
       "bottom": null,
       "display": null,
       "flex": null,
       "flex_flow": null,
       "grid_area": null,
       "grid_auto_columns": null,
       "grid_auto_flow": null,
       "grid_auto_rows": null,
       "grid_column": null,
       "grid_gap": null,
       "grid_row": null,
       "grid_template_areas": null,
       "grid_template_columns": null,
       "grid_template_rows": null,
       "height": null,
       "justify_content": null,
       "justify_items": null,
       "left": null,
       "margin": null,
       "max_height": null,
       "max_width": null,
       "min_height": null,
       "min_width": null,
       "object_fit": null,
       "object_position": null,
       "order": null,
       "overflow": null,
       "overflow_x": "visible",
       "overflow_y": "visible",
       "padding": null,
       "right": null,
       "top": null,
       "visibility": null,
       "width": "200px"
      }
     },
     "521d99ba78d940fe97d0257302058e4b": {
      "model_module": "@jupyter-widgets/base",
      "model_module_version": "1.2.0",
      "model_name": "LayoutModel",
      "state": {
       "_model_module": "@jupyter-widgets/base",
       "_model_module_version": "1.2.0",
       "_model_name": "LayoutModel",
       "_view_count": null,
       "_view_module": "@jupyter-widgets/base",
       "_view_module_version": "1.2.0",
       "_view_name": "LayoutView",
       "align_content": null,
       "align_items": null,
       "align_self": null,
       "border": null,
       "bottom": null,
       "display": null,
       "flex": null,
       "flex_flow": null,
       "grid_area": null,
       "grid_auto_columns": null,
       "grid_auto_flow": null,
       "grid_auto_rows": null,
       "grid_column": null,
       "grid_gap": null,
       "grid_row": null,
       "grid_template_areas": null,
       "grid_template_columns": null,
       "grid_template_rows": null,
       "height": null,
       "justify_content": null,
       "justify_items": null,
       "left": null,
       "margin": null,
       "max_height": null,
       "max_width": null,
       "min_height": null,
       "min_width": null,
       "object_fit": null,
       "object_position": null,
       "order": null,
       "overflow": null,
       "overflow_x": "visible",
       "overflow_y": "visible",
       "padding": null,
       "right": null,
       "top": null,
       "visibility": null,
       "width": "200px"
      }
     },
     "563304edb2754780b04a5e9ad2951398": {
      "model_module": "@jupyter-widgets/controls",
      "model_module_version": "1.5.0",
      "model_name": "DescriptionStyleModel",
      "state": {
       "_model_module": "@jupyter-widgets/controls",
       "_model_module_version": "1.5.0",
       "_model_name": "DescriptionStyleModel",
       "_view_count": null,
       "_view_module": "@jupyter-widgets/base",
       "_view_module_version": "1.2.0",
       "_view_name": "StyleView",
       "description_width": ""
      }
     },
     "5751b16087af458c96e54942855ec4e4": {
      "model_module": "bqplot",
      "model_module_version": "^0.5.0",
      "model_name": "LinearScaleModel",
      "state": {
       "_model_module": "bqplot",
       "_model_module_version": "^0.5.0",
       "_model_name": "LinearScaleModel",
       "_view_count": null,
       "_view_module": "bqplot",
       "_view_module_version": "^0.5.0",
       "_view_name": "LinearScale",
       "allow_padding": true,
       "max": 0.4,
       "mid_range": 0.8,
       "min": 0.0,
       "min_range": 0.6,
       "reverse": false,
       "stabilized": false
      }
     },
     "57616606a1c84bdeac6b04677a00f415": {
      "model_module": "@jupyter-widgets/base",
      "model_module_version": "1.2.0",
      "model_name": "LayoutModel",
      "state": {
       "_model_module": "@jupyter-widgets/base",
       "_model_module_version": "1.2.0",
       "_model_name": "LayoutModel",
       "_view_count": null,
       "_view_module": "@jupyter-widgets/base",
       "_view_module_version": "1.2.0",
       "_view_name": "LayoutView",
       "align_content": null,
       "align_items": null,
       "align_self": null,
       "border": null,
       "bottom": null,
       "display": null,
       "flex": null,
       "flex_flow": null,
       "grid_area": null,
       "grid_auto_columns": null,
       "grid_auto_flow": null,
       "grid_auto_rows": null,
       "grid_column": null,
       "grid_gap": null,
       "grid_row": null,
       "grid_template_areas": null,
       "grid_template_columns": null,
       "grid_template_rows": null,
       "height": null,
       "justify_content": null,
       "justify_items": null,
       "left": null,
       "margin": null,
       "max_height": null,
       "max_width": null,
       "min_height": null,
       "min_width": null,
       "object_fit": null,
       "object_position": null,
       "order": null,
       "overflow": null,
       "overflow_x": null,
       "overflow_y": null,
       "padding": null,
       "right": null,
       "top": null,
       "visibility": null,
       "width": null
      }
     },
     "5e0c4fde89034b6896b09b55797a8852": {
      "model_module": "bqplot",
      "model_module_version": "^0.5.0",
      "model_name": "AxisModel",
      "state": {
       "_model_module": "bqplot",
       "_model_module_version": "^0.5.0",
       "_model_name": "AxisModel",
       "_view_count": null,
       "_view_module": "bqplot",
       "_view_module_version": "^0.5.0",
       "_view_name": "Axis",
       "color": null,
       "grid_color": null,
       "grid_lines": "solid",
       "label": "P / D_i",
       "label_color": null,
       "label_location": "middle",
       "label_offset": null,
       "num_ticks": null,
       "offset": {},
       "orientation": "horizontal",
       "scale": "IPY_MODEL_5751b16087af458c96e54942855ec4e4",
       "side": null,
       "tick_format": null,
       "tick_rotate": 0,
       "tick_style": {},
       "tick_values": null,
       "visible": true
      }
     },
     "5ee1f59f455b43c8b4cc3e81ea90b13b": {
      "model_module": "@jupyter-widgets/controls",
      "model_module_version": "1.5.0",
      "model_name": "HBoxModel",
      "state": {
       "_dom_classes": [],
       "_model_module": "@jupyter-widgets/controls",
       "_model_module_version": "1.5.0",
       "_model_name": "HBoxModel",
       "_view_count": null,
       "_view_module": "@jupyter-widgets/controls",
       "_view_module_version": "1.5.0",
       "_view_name": "HBoxView",
       "box_style": "",
       "children": [
        "IPY_MODEL_fdadce15c0474aacafe10b6d31bcb4ff",
        "IPY_MODEL_c9ae38753fa94e8fa6b58ffb98e65ea3"
       ],
       "layout": "IPY_MODEL_03b88f34b91d4f7491b0e0d644fc4701"
      }
     },
     "62a48777caff4c3289f032eddcd08140": {
      "model_module": "@jupyter-widgets/controls",
      "model_module_version": "1.5.0",
      "model_name": "HBoxModel",
      "state": {
       "_dom_classes": [],
       "_model_module": "@jupyter-widgets/controls",
       "_model_module_version": "1.5.0",
       "_model_name": "HBoxModel",
       "_view_count": null,
       "_view_module": "@jupyter-widgets/controls",
       "_view_module_version": "1.5.0",
       "_view_name": "HBoxView",
       "box_style": "",
       "children": [
        "IPY_MODEL_0cc5d878a7354a30a293b369ec20a1b1",
        "IPY_MODEL_d3c43a2021714f95aa66e43bebca2f9b"
       ],
       "layout": "IPY_MODEL_fb122667344a4175806b9b1f4a4926c8"
      }
     },
     "699fb617bfc24295b7ec15aaea6c6e7a": {
      "model_module": "@jupyter-widgets/controls",
      "model_module_version": "1.5.0",
      "model_name": "LinkModel",
      "state": {
       "_model_module": "@jupyter-widgets/controls",
       "_model_module_version": "1.5.0",
       "_model_name": "LinkModel",
       "_view_count": null,
       "_view_module": "@jupyter-widgets/controls",
       "_view_module_version": "1.5.0",
       "_view_name": null,
       "source": [
        "IPY_MODEL_aa8b6506cae2415aade50c2f085d5553",
        "value"
       ],
       "target": [
        "IPY_MODEL_3c92b29a9c9a4e62b80691c449910e22",
        "value"
       ]
      }
     },
     "6aaf7089cd7b4f63b63147f87428fbf1": {
      "model_module": "@jupyter-widgets/controls",
      "model_module_version": "1.5.0",
      "model_name": "VBoxModel",
      "state": {
       "_dom_classes": [],
       "_model_module": "@jupyter-widgets/controls",
       "_model_module_version": "1.5.0",
       "_model_name": "VBoxModel",
       "_view_count": null,
       "_view_module": "@jupyter-widgets/controls",
       "_view_module_version": "1.5.0",
       "_view_name": "VBoxView",
       "box_style": "",
       "children": [
        "IPY_MODEL_3b1b600345c149af8adce46a1f7c8eb1",
        "IPY_MODEL_d25f3dbfc71e4017bd1eec6c3e95730e"
       ],
       "layout": "IPY_MODEL_208728ab0a284156bfd32106c0a1a58d"
      }
     },
     "6bdf37022dd54061808f70a1a2007634": {
      "buffers": [
       {
        "data": "AAAAAAAAAAA=",
        "encoding": "base64",
        "path": [
         "x",
         "value"
        ]
       },
       {
        "data": "AAAAAIQDAAA=",
        "encoding": "base64",
        "path": [
         "y",
         "value"
        ]
       }
      ],
      "model_module": "bqplot",
      "model_module_version": "^0.5.0",
      "model_name": "LinesModel",
      "state": {
       "_model_module": "bqplot",
       "_model_module_version": "^0.5.0",
       "_model_name": "LinesModel",
       "_view_count": null,
       "_view_module": "bqplot",
       "_view_module_version": "^0.5.0",
       "_view_name": "Lines",
       "apply_clip": true,
       "close_path": false,
       "color": null,
       "colors": [
        "greenyellow"
       ],
       "curves_subset": [],
       "display_legend": false,
       "enable_hover": true,
       "fill": "none",
       "fill_colors": [],
       "fill_opacities": [],
       "interactions": {
        "hover": "tooltip"
       },
       "interpolation": "linear",
       "labels": [],
       "labels_visibility": "none",
       "line_style": "solid",
       "marker": null,
       "marker_size": 64,
       "opacities": [],
       "preserve_domain": {},
       "scales": {
        "x": "IPY_MODEL_f911070814f84c59a1762b729757d838",
        "y": "IPY_MODEL_8436836f9ae74ff1bd92a6df3d64635c"
       },
       "scales_metadata": {
        "color": {
         "dimension": "color"
        },
        "x": {
         "dimension": "x",
         "orientation": "horizontal"
        },
        "y": {
         "dimension": "y",
         "orientation": "vertical"
        }
       },
       "selected": null,
       "selected_style": {},
       "stroke_width": 2.0,
       "tooltip": null,
       "tooltip_location": "mouse",
       "tooltip_style": {
        "opacity": 0.9
       },
       "unselected_style": {},
       "visible": true,
       "x": {
        "dtype": "int32",
        "shape": [
         2
        ],
        "type": null
       },
       "y": {
        "dtype": "int32",
        "shape": [
         2
        ],
        "type": null
       }
      }
     },
     "6d582c7669274a0ebf2a5b77eafaf6b4": {
      "model_module": "@jupyter-widgets/base",
      "model_module_version": "1.2.0",
      "model_name": "LayoutModel",
      "state": {
       "_model_module": "@jupyter-widgets/base",
       "_model_module_version": "1.2.0",
       "_model_name": "LayoutModel",
       "_view_count": null,
       "_view_module": "@jupyter-widgets/base",
       "_view_module_version": "1.2.0",
       "_view_name": "LayoutView",
       "align_content": null,
       "align_items": null,
       "align_self": null,
       "border": null,
       "bottom": null,
       "display": null,
       "flex": null,
       "flex_flow": null,
       "grid_area": null,
       "grid_auto_columns": null,
       "grid_auto_flow": null,
       "grid_auto_rows": null,
       "grid_column": null,
       "grid_gap": null,
       "grid_row": null,
       "grid_template_areas": null,
       "grid_template_columns": null,
       "grid_template_rows": null,
       "height": "50px",
       "justify_content": null,
       "justify_items": null,
       "left": null,
       "margin": null,
       "max_height": "75px",
       "max_width": "75px",
       "min_height": "50px",
       "min_width": "50px",
       "object_fit": null,
       "object_position": null,
       "order": null,
       "overflow": null,
       "overflow_x": null,
       "overflow_y": null,
       "padding": null,
       "right": null,
       "top": null,
       "visibility": null,
       "width": "75px"
      }
     },
     "6ff15e6387ca4e2c92fb8f5b0e61f8e6": {
      "model_module": "@jupyter-widgets/controls",
      "model_module_version": "1.5.0",
      "model_name": "VBoxModel",
      "state": {
       "_dom_classes": [],
       "_model_module": "@jupyter-widgets/controls",
       "_model_module_version": "1.5.0",
       "_model_name": "VBoxModel",
       "_view_count": null,
       "_view_module": "@jupyter-widgets/controls",
       "_view_module_version": "1.5.0",
       "_view_name": "VBoxView",
       "box_style": "",
       "children": [
        "IPY_MODEL_5ee1f59f455b43c8b4cc3e81ea90b13b",
        "IPY_MODEL_c6c35ad4c3c84323a829f852fa0f65f6"
       ],
       "layout": "IPY_MODEL_d0e09143babd45ce8ebf10d911157892"
      }
     },
     "732833decd8a4a27b1334396f8b5d26d": {
      "model_module": "@jupyter-widgets/base",
      "model_module_version": "1.2.0",
      "model_name": "LayoutModel",
      "state": {
       "_model_module": "@jupyter-widgets/base",
       "_model_module_version": "1.2.0",
       "_model_name": "LayoutModel",
       "_view_count": null,
       "_view_module": "@jupyter-widgets/base",
       "_view_module_version": "1.2.0",
       "_view_name": "LayoutView",
       "align_content": null,
       "align_items": null,
       "align_self": null,
       "border": null,
       "bottom": null,
       "display": null,
       "flex": null,
       "flex_flow": null,
       "grid_area": null,
       "grid_auto_columns": null,
       "grid_auto_flow": null,
       "grid_auto_rows": null,
       "grid_column": null,
       "grid_gap": null,
       "grid_row": null,
       "grid_template_areas": null,
       "grid_template_columns": null,
       "grid_template_rows": null,
       "height": null,
       "justify_content": null,
       "justify_items": null,
       "left": null,
       "margin": null,
       "max_height": null,
       "max_width": "300px",
       "min_height": null,
       "min_width": "125px",
       "object_fit": null,
       "object_position": null,
       "order": null,
       "overflow": null,
       "overflow_x": "visible",
       "overflow_y": "visible",
       "padding": null,
       "right": null,
       "top": null,
       "visibility": null,
       "width": "175px"
      }
     },
     "73e06d2778594eeb9ae5c062758d13f2": {
      "model_module": "bqplot",
      "model_module_version": "^0.5.0",
      "model_name": "LinearScaleModel",
      "state": {
       "_model_module": "bqplot",
       "_model_module_version": "^0.5.0",
       "_model_name": "LinearScaleModel",
       "_view_count": null,
       "_view_module": "bqplot",
       "_view_module_version": "^0.5.0",
       "_view_name": "LinearScale",
       "allow_padding": true,
       "max": 30.0,
       "mid_range": 0.8,
       "min": 1.0,
       "min_range": 0.6,
       "reverse": false,
       "stabilized": false
      }
     },
     "76543c3d0d82496aa6ea75b13f0c8b2e": {
      "model_module": "@jupyter-widgets/controls",
      "model_module_version": "1.5.0",
      "model_name": "HBoxModel",
      "state": {
       "_dom_classes": [],
       "_model_module": "@jupyter-widgets/controls",
       "_model_module_version": "1.5.0",
       "_model_name": "HBoxModel",
       "_view_count": null,
       "_view_module": "@jupyter-widgets/controls",
       "_view_module_version": "1.5.0",
       "_view_name": "HBoxView",
       "box_style": "",
       "children": [
        "IPY_MODEL_f15b4f3e051947ccbc233da216d0ae0e",
        "IPY_MODEL_252abbd391d24360b29d74f997aba3a0"
       ],
       "layout": "IPY_MODEL_efd0a6abd42a4ce6aadb17f283f28fba"
      }
     },
     "798ebb6e7ca0485ca1a75498488b0944": {
      "model_module": "@jupyter-widgets/controls",
      "model_module_version": "1.5.0",
      "model_name": "SliderStyleModel",
      "state": {
       "_model_module": "@jupyter-widgets/controls",
       "_model_module_version": "1.5.0",
       "_model_name": "SliderStyleModel",
       "_view_count": null,
       "_view_module": "@jupyter-widgets/base",
       "_view_module_version": "1.2.0",
       "_view_name": "StyleView",
       "description_width": "",
       "handle_color": null
      }
     },
     "7c5e6a99f189481ea60eb7818737822e": {
      "model_module": "bqplot",
      "model_module_version": "^0.5.0",
      "model_name": "TooltipModel",
      "state": {
       "_dom_classes": [],
       "_model_module": "bqplot",
       "_model_module_version": "^0.5.0",
       "_model_name": "TooltipModel",
       "_view_count": null,
       "_view_module": "bqplot",
       "_view_module_version": "^0.5.0",
       "_view_name": "Tooltip",
       "fields": [
        "x",
        "y"
       ],
       "formats": [
        ".2f",
        ".3f"
       ],
       "labels": [
        "time",
        "amount of daughter isotope"
       ],
       "layout": "IPY_MODEL_43086864324748c499b07cc6ff1075b8",
       "show_labels": true
      }
     },
     "8436836f9ae74ff1bd92a6df3d64635c": {
      "model_module": "bqplot",
      "model_module_version": "^0.5.0",
      "model_name": "LinearScaleModel",
      "state": {
       "_model_module": "bqplot",
       "_model_module_version": "^0.5.0",
       "_model_name": "LinearScaleModel",
       "_view_count": null,
       "_view_module": "bqplot",
       "_view_module_version": "^0.5.0",
       "_view_name": "LinearScale",
       "allow_padding": true,
       "max": 900.0,
       "mid_range": 0.8,
       "min": 0.0,
       "min_range": 0.6,
       "reverse": false,
       "stabilized": false
      }
     },
     "87cedaac2f7c478c8c4200a2704b18f2": {
      "model_module": "@jupyter-widgets/controls",
      "model_module_version": "1.5.0",
      "model_name": "LabelModel",
      "state": {
       "_dom_classes": [],
       "_model_module": "@jupyter-widgets/controls",
       "_model_module_version": "1.5.0",
       "_model_name": "LabelModel",
       "_view_count": null,
       "_view_module": "@jupyter-widgets/controls",
       "_view_module_version": "1.5.0",
       "_view_name": "LabelView",
       "description": "",
       "description_tooltip": null,
       "layout": "IPY_MODEL_ec5e645bacbc4486b1f6136b23817f26",
       "placeholder": "​",
       "style": "IPY_MODEL_af14bbac9dab4b1db76333187484e424",
       "value": "half-lives"
      }
     },
     "8b206b15a9004a3abd925cc357e2cbaa": {
      "model_module": "@jupyter-widgets/controls",
      "model_module_version": "1.5.0",
      "model_name": "DescriptionStyleModel",
      "state": {
       "_model_module": "@jupyter-widgets/controls",
       "_model_module_version": "1.5.0",
       "_model_name": "DescriptionStyleModel",
       "_view_count": null,
       "_view_module": "@jupyter-widgets/base",
       "_view_module_version": "1.2.0",
       "_view_name": "StyleView",
       "description_width": ""
      }
     },
     "905b0db7e6ef4f2bad061da28b9a6ff4": {
      "model_module": "bqplot",
      "model_module_version": "^0.5.0",
      "model_name": "FigureModel",
      "state": {
       "_dom_classes": [],
       "_model_module": "bqplot",
       "_model_module_version": "^0.5.0",
       "_model_name": "FigureModel",
       "_view_count": null,
       "_view_module": "bqplot",
       "_view_module_version": "^0.5.0",
       "_view_name": "Figure",
       "animation_duration": 0,
       "axes": [
        "IPY_MODEL_b12ede6590d4411cb113e3942ca71938",
        "IPY_MODEL_1a3c8fe9922143408d6afc67acea64ba"
       ],
       "background_style": {
        "fill": "black"
       },
       "fig_margin": {
        "bottom": 60,
        "left": 60,
        "right": 60,
        "top": 60
       },
       "interaction": null,
       "layout": "IPY_MODEL_922927d3f7d7494c9cc3dac3da9adf62",
       "legend_location": "top-right",
       "legend_style": {},
       "legend_text": {},
       "marks": [
        "IPY_MODEL_92c5b552c4244d2ab93ca55c5247743c"
       ],
       "max_aspect_ratio": 1.0,
       "min_aspect_ratio": 1.0,
       "padding_x": 0.025,
       "padding_y": 0.025,
       "pixel_ratio": null,
       "scale_x": "IPY_MODEL_d36d8657f8d247179b26373696cff83f",
       "scale_y": "IPY_MODEL_aae135ea43104ba1a08ca1a5e2202d0e",
       "theme": "classic",
       "title": "Population of Atoms",
       "title_style": {}
      }
     },
     "9185358f43a94bbe98fab86cf53b7554": {
      "model_module": "@jupyter-widgets/controls",
      "model_module_version": "1.5.0",
      "model_name": "HBoxModel",
      "state": {
       "_dom_classes": [],
       "_model_module": "@jupyter-widgets/controls",
       "_model_module_version": "1.5.0",
       "_model_name": "HBoxModel",
       "_view_count": null,
       "_view_module": "@jupyter-widgets/controls",
       "_view_module_version": "1.5.0",
       "_view_name": "HBoxView",
       "box_style": "",
       "children": [
        "IPY_MODEL_9d2e53a0cc7c45eb810a91f91d69af41",
        "IPY_MODEL_3386e9be9fd2416592cc641771257fc3"
       ],
       "layout": "IPY_MODEL_ac0bb8f14ba44a229eb9d8c3f190851d"
      }
     },
     "922927d3f7d7494c9cc3dac3da9adf62": {
      "model_module": "@jupyter-widgets/base",
      "model_module_version": "1.2.0",
      "model_name": "LayoutModel",
      "state": {
       "_model_module": "@jupyter-widgets/base",
       "_model_module_version": "1.2.0",
       "_model_name": "LayoutModel",
       "_view_count": null,
       "_view_module": "@jupyter-widgets/base",
       "_view_module_version": "1.2.0",
       "_view_name": "LayoutView",
       "align_content": null,
       "align_items": null,
       "align_self": null,
       "border": null,
       "bottom": null,
       "display": null,
       "flex": null,
       "flex_flow": null,
       "grid_area": null,
       "grid_auto_columns": null,
       "grid_auto_flow": null,
       "grid_auto_rows": null,
       "grid_column": null,
       "grid_gap": null,
       "grid_row": null,
       "grid_template_areas": null,
       "grid_template_columns": null,
       "grid_template_rows": null,
       "height": null,
       "justify_content": null,
       "justify_items": null,
       "left": null,
       "margin": null,
       "max_height": null,
       "max_width": null,
       "min_height": null,
       "min_width": null,
       "object_fit": null,
       "object_position": null,
       "order": null,
       "overflow": null,
       "overflow_x": null,
       "overflow_y": null,
       "padding": null,
       "right": null,
       "top": null,
       "visibility": null,
       "width": "450px"
      }
     },
     "92c5b552c4244d2ab93ca55c5247743c": {
      "buffers": [
       {
        "data": "AAAAAAAA8D8=",
        "encoding": "base64",
        "path": [
         "default_opacities",
         "value"
        ]
       },
       {
        "data": "AAAAAAAA8D8AAAAAAAAAQAAAAAAAAAhAAAAAAAAAEEAAAAAAAAAUQAAAAAAAABhAAAAAAAAAHEAAAAAAAAAgQAAAAAAAACJAAAAAAAAAJEAAAAAAAAAmQAAAAAAAAChAAAAAAAAAKkAAAAAAAAAsQAAAAAAAAC5AAAAAAAAAMEAAAAAAAAAxQAAAAAAAADJAAAAAAAAAM0AAAAAAAAA0QAAAAAAAADVAAAAAAAAANkAAAAAAAAA3QAAAAAAAADhAAAAAAAAAOUAAAAAAAAA6QAAAAAAAADtAAAAAAAAAPEAAAAAAAAA9QAAAAAAAAD5AAAAAAAAA8D8AAAAAAAAAQAAAAAAAAAhAAAAAAAAAEEAAAAAAAAAUQAAAAAAAABhAAAAAAAAAHEAAAAAAAAAgQAAAAAAAACJAAAAAAAAAJEAAAAAAAAAmQAAAAAAAAChAAAAAAAAAKkAAAAAAAAAsQAAAAAAAAC5AAAAAAAAAMEAAAAAAAAAxQAAAAAAAADJAAAAAAAAAM0AAAAAAAAA0QAAAAAAAADVAAAAAAAAANkAAAAAAAAA3QAAAAAAAADhAAAAAAAAAOUAAAAAAAAA6QAAAAAAAADtAAAAAAAAAPEAAAAAAAAA9QAAAAAAAAD5AAAAAAAAA8D8AAAAAAAAAQAAAAAAAAAhAAAAAAAAAEEAAAAAAAAAUQAAAAAAAABhAAAAAAAAAHEAAAAAAAAAgQAAAAAAAACJAAAAAAAAAJEAAAAAAAAAmQAAAAAAAAChAAAAAAAAAKkAAAAAAAAAsQAAAAAAAAC5AAAAAAAAAMEAAAAAAAAAxQAAAAAAAADJAAAAAAAAAM0AAAAAAAAA0QAAAAAAAADVAAAAAAAAANkAAAAAAAAA3QAAAAAAAADhAAAAAAAAAOUAAAAAAAAA6QAAAAAAAADtAAAAAAAAAPEAAAAAAAAA9QAAAAAAAAD5AAAAAAAAA8D8AAAAAAAAAQAAAAAAAAAhAAAAAAAAAEEAAAAAAAAAUQAAAAAAAABhAAAAAAAAAHEAAAAAAAAAgQAAAAAAAACJAAAAAAAAAJEAAAAAAAAAmQAAAAAAAAChAAAAAAAAAKkAAAAAAAAAsQAAAAAAAAC5AAAAAAAAAMEAAAAAAAAAxQAAAAAAAADJAAAAAAAAAM0AAAAAAAAA0QAAAAAAAADVAAAAAAAAANkAAAAAAAAA3QAAAAAAAADhAAAAAAAAAOUAAAAAAAAA6QAAAAAAAADtAAAAAAAAAPEAAAAAAAAA9QAAAAAAAAD5AAAAAAAAA8D8AAAAAAAAAQAAAAAAAAAhAAAAAAAAAEEAAAAAAAAAUQAAAAAAAABhAAAAAAAAAHEAAAAAAAAAgQAAAAAAAACJAAAAAAAAAJEAAAAAAAAAmQAAAAAAAAChAAAAAAAAAKkAAAAAAAAAsQAAAAAAAAC5AAAAAAAAAMEAAAAAAAAAxQAAAAAAAADJAAAAAAAAAM0AAAAAAAAA0QAAAAAAAADVAAAAAAAAANkAAAAAAAAA3QAAAAAAAADhAAAAAAAAAOUAAAAAAAAA6QAAAAAAAADtAAAAAAAAAPEAAAAAAAAA9QAAAAAAAAD5AAAAAAAAA8D8AAAAAAAAAQAAAAAAAAAhAAAAAAAAAEEAAAAAAAAAUQAAAAAAAABhAAAAAAAAAHEAAAAAAAAAgQAAAAAAAACJAAAAAAAAAJEAAAAAAAAAmQAAAAAAAAChAAAAAAAAAKkAAAAAAAAAsQAAAAAAAAC5AAAAAAAAAMEAAAAAAAAAxQAAAAAAAADJAAAAAAAAAM0AAAAAAAAA0QAAAAAAAADVAAAAAAAAANkAAAAAAAAA3QAAAAAAAADhAAAAAAAAAOUAAAAAAAAA6QAAAAAAAADtAAAAAAAAAPEAAAAAAAAA9QAAAAAAAAD5AAAAAAAAA8D8AAAAAAAAAQAAAAAAAAAhAAAAAAAAAEEAAAAAAAAAUQAAAAAAAABhAAAAAAAAAHEAAAAAAAAAgQAAAAAAAACJAAAAAAAAAJEAAAAAAAAAmQAAAAAAAAChAAAAAAAAAKkAAAAAAAAAsQAAAAAAAAC5AAAAAAAAAMEAAAAAAAAAxQAAAAAAAADJAAAAAAAAAM0AAAAAAAAA0QAAAAAAAADVAAAAAAAAANkAAAAAAAAA3QAAAAAAAADhAAAAAAAAAOUAAAAAAAAA6QAAAAAAAADtAAAAAAAAAPEAAAAAAAAA9QAAAAAAAAD5AAAAAAAAA8D8AAAAAAAAAQAAAAAAAAAhAAAAAAAAAEEAAAAAAAAAUQAAAAAAAABhAAAAAAAAAHEAAAAAAAAAgQAAAAAAAACJAAAAAAAAAJEAAAAAAAAAmQAAAAAAAAChAAAAAAAAAKkAAAAAAAAAsQAAAAAAAAC5AAAAAAAAAMEAAAAAAAAAxQAAAAAAAADJAAAAAAAAAM0AAAAAAAAA0QAAAAAAAADVAAAAAAAAANkAAAAAAAAA3QAAAAAAAADhAAAAAAAAAOUAAAAAAAAA6QAAAAAAAADtAAAAAAAAAPEAAAAAAAAA9QAAAAAAAAD5AAAAAAAAA8D8AAAAAAAAAQAAAAAAAAAhAAAAAAAAAEEAAAAAAAAAUQAAAAAAAABhAAAAAAAAAHEAAAAAAAAAgQAAAAAAAACJAAAAAAAAAJEAAAAAAAAAmQAAAAAAAAChAAAAAAAAAKkAAAAAAAAAsQAAAAAAAAC5AAAAAAAAAMEAAAAAAAAAxQAAAAAAAADJAAAAAAAAAM0AAAAAAAAA0QAAAAAAAADVAAAAAAAAANkAAAAAAAAA3QAAAAAAAADhAAAAAAAAAOUAAAAAAAAA6QAAAAAAAADtAAAAAAAAAPEAAAAAAAAA9QAAAAAAAAD5AAAAAAAAA8D8AAAAAAAAAQAAAAAAAAAhAAAAAAAAAEEAAAAAAAAAUQAAAAAAAABhAAAAAAAAAHEAAAAAAAAAgQAAAAAAAACJAAAAAAAAAJEAAAAAAAAAmQAAAAAAAAChAAAAAAAAAKkAAAAAAAAAsQAAAAAAAAC5AAAAAAAAAMEAAAAAAAAAxQAAAAAAAADJAAAAAAAAAM0AAAAAAAAA0QAAAAAAAADVAAAAAAAAANkAAAAAAAAA3QAAAAAAAADhAAAAAAAAAOUAAAAAAAAA6QAAAAAAAADtAAAAAAAAAPEAAAAAAAAA9QAAAAAAAAD5AAAAAAAAA8D8AAAAAAAAAQAAAAAAAAAhAAAAAAAAAEEAAAAAAAAAUQAAAAAAAABhAAAAAAAAAHEAAAAAAAAAgQAAAAAAAACJAAAAAAAAAJEAAAAAAAAAmQAAAAAAAAChAAAAAAAAAKkAAAAAAAAAsQAAAAAAAAC5AAAAAAAAAMEAAAAAAAAAxQAAAAAAAADJAAAAAAAAAM0AAAAAAAAA0QAAAAAAAADVAAAAAAAAANkAAAAAAAAA3QAAAAAAAADhAAAAAAAAAOUAAAAAAAAA6QAAAAAAAADtAAAAAAAAAPEAAAAAAAAA9QAAAAAAAAD5AAAAAAAAA8D8AAAAAAAAAQAAAAAAAAAhAAAAAAAAAEEAAAAAAAAAUQAAAAAAAABhAAAAAAAAAHEAAAAAAAAAgQAAAAAAAACJAAAAAAAAAJEAAAAAAAAAmQAAAAAAAAChAAAAAAAAAKkAAAAAAAAAsQAAAAAAAAC5AAAAAAAAAMEAAAAAAAAAxQAAAAAAAADJAAAAAAAAAM0AAAAAAAAA0QAAAAAAAADVAAAAAAAAANkAAAAAAAAA3QAAAAAAAADhAAAAAAAAAOUAAAAAAAAA6QAAAAAAAADtAAAAAAAAAPEAAAAAAAAA9QAAAAAAAAD5AAAAAAAAA8D8AAAAAAAAAQAAAAAAAAAhAAAAAAAAAEEAAAAAAAAAUQAAAAAAAABhAAAAAAAAAHEAAAAAAAAAgQAAAAAAAACJAAAAAAAAAJEAAAAAAAAAmQAAAAAAAAChAAAAAAAAAKkAAAAAAAAAsQAAAAAAAAC5AAAAAAAAAMEAAAAAAAAAxQAAAAAAAADJAAAAAAAAAM0AAAAAAAAA0QAAAAAAAADVAAAAAAAAANkAAAAAAAAA3QAAAAAAAADhAAAAAAAAAOUAAAAAAAAA6QAAAAAAAADtAAAAAAAAAPEAAAAAAAAA9QAAAAAAAAD5AAAAAAAAA8D8AAAAAAAAAQAAAAAAAAAhAAAAAAAAAEEAAAAAAAAAUQAAAAAAAABhAAAAAAAAAHEAAAAAAAAAgQAAAAAAAACJAAAAAAAAAJEAAAAAAAAAmQAAAAAAAAChAAAAAAAAAKkAAAAAAAAAsQAAAAAAAAC5AAAAAAAAAMEAAAAAAAAAxQAAAAAAAADJAAAAAAAAAM0AAAAAAAAA0QAAAAAAAADVAAAAAAAAANkAAAAAAAAA3QAAAAAAAADhAAAAAAAAAOUAAAAAAAAA6QAAAAAAAADtAAAAAAAAAPEAAAAAAAAA9QAAAAAAAAD5AAAAAAAAA8D8AAAAAAAAAQAAAAAAAAAhAAAAAAAAAEEAAAAAAAAAUQAAAAAAAABhAAAAAAAAAHEAAAAAAAAAgQAAAAAAAACJAAAAAAAAAJEAAAAAAAAAmQAAAAAAAAChAAAAAAAAAKkAAAAAAAAAsQAAAAAAAAC5AAAAAAAAAMEAAAAAAAAAxQAAAAAAAADJAAAAAAAAAM0AAAAAAAAA0QAAAAAAAADVAAAAAAAAANkAAAAAAAAA3QAAAAAAAADhAAAAAAAAAOUAAAAAAAAA6QAAAAAAAADtAAAAAAAAAPEAAAAAAAAA9QAAAAAAAAD5AAAAAAAAA8D8AAAAAAAAAQAAAAAAAAAhAAAAAAAAAEEAAAAAAAAAUQAAAAAAAABhAAAAAAAAAHEAAAAAAAAAgQAAAAAAAACJAAAAAAAAAJEAAAAAAAAAmQAAAAAAAAChAAAAAAAAAKkAAAAAAAAAsQAAAAAAAAC5AAAAAAAAAMEAAAAAAAAAxQAAAAAAAADJAAAAAAAAAM0AAAAAAAAA0QAAAAAAAADVAAAAAAAAANkAAAAAAAAA3QAAAAAAAADhAAAAAAAAAOUAAAAAAAAA6QAAAAAAAADtAAAAAAAAAPEAAAAAAAAA9QAAAAAAAAD5AAAAAAAAA8D8AAAAAAAAAQAAAAAAAAAhAAAAAAAAAEEAAAAAAAAAUQAAAAAAAABhAAAAAAAAAHEAAAAAAAAAgQAAAAAAAACJAAAAAAAAAJEAAAAAAAAAmQAAAAAAAAChAAAAAAAAAKkAAAAAAAAAsQAAAAAAAAC5AAAAAAAAAMEAAAAAAAAAxQAAAAAAAADJAAAAAAAAAM0AAAAAAAAA0QAAAAAAAADVAAAAAAAAANkAAAAAAAAA3QAAAAAAAADhAAAAAAAAAOUAAAAAAAAA6QAAAAAAAADtAAAAAAAAAPEAAAAAAAAA9QAAAAAAAAD5AAAAAAAAA8D8AAAAAAAAAQAAAAAAAAAhAAAAAAAAAEEAAAAAAAAAUQAAAAAAAABhAAAAAAAAAHEAAAAAAAAAgQAAAAAAAACJAAAAAAAAAJEAAAAAAAAAmQAAAAAAAAChAAAAAAAAAKkAAAAAAAAAsQAAAAAAAAC5AAAAAAAAAMEAAAAAAAAAxQAAAAAAAADJAAAAAAAAAM0AAAAAAAAA0QAAAAAAAADVAAAAAAAAANkAAAAAAAAA3QAAAAAAAADhAAAAAAAAAOUAAAAAAAAA6QAAAAAAAADtAAAAAAAAAPEAAAAAAAAA9QAAAAAAAAD5AAAAAAAAA8D8AAAAAAAAAQAAAAAAAAAhAAAAAAAAAEEAAAAAAAAAUQAAAAAAAABhAAAAAAAAAHEAAAAAAAAAgQAAAAAAAACJAAAAAAAAAJEAAAAAAAAAmQAAAAAAAAChAAAAAAAAAKkAAAAAAAAAsQAAAAAAAAC5AAAAAAAAAMEAAAAAAAAAxQAAAAAAAADJAAAAAAAAAM0AAAAAAAAA0QAAAAAAAADVAAAAAAAAANkAAAAAAAAA3QAAAAAAAADhAAAAAAAAAOUAAAAAAAAA6QAAAAAAAADtAAAAAAAAAPEAAAAAAAAA9QAAAAAAAAD5AAAAAAAAA8D8AAAAAAAAAQAAAAAAAAAhAAAAAAAAAEEAAAAAAAAAUQAAAAAAAABhAAAAAAAAAHEAAAAAAAAAgQAAAAAAAACJAAAAAAAAAJEAAAAAAAAAmQAAAAAAAAChAAAAAAAAAKkAAAAAAAAAsQAAAAAAAAC5AAAAAAAAAMEAAAAAAAAAxQAAAAAAAADJAAAAAAAAAM0AAAAAAAAA0QAAAAAAAADVAAAAAAAAANkAAAAAAAAA3QAAAAAAAADhAAAAAAAAAOUAAAAAAAAA6QAAAAAAAADtAAAAAAAAAPEAAAAAAAAA9QAAAAAAAAD5AAAAAAAAA8D8AAAAAAAAAQAAAAAAAAAhAAAAAAAAAEEAAAAAAAAAUQAAAAAAAABhAAAAAAAAAHEAAAAAAAAAgQAAAAAAAACJAAAAAAAAAJEAAAAAAAAAmQAAAAAAAAChAAAAAAAAAKkAAAAAAAAAsQAAAAAAAAC5AAAAAAAAAMEAAAAAAAAAxQAAAAAAAADJAAAAAAAAAM0AAAAAAAAA0QAAAAAAAADVAAAAAAAAANkAAAAAAAAA3QAAAAAAAADhAAAAAAAAAOUAAAAAAAAA6QAAAAAAAADtAAAAAAAAAPEAAAAAAAAA9QAAAAAAAAD5AAAAAAAAA8D8AAAAAAAAAQAAAAAAAAAhAAAAAAAAAEEAAAAAAAAAUQAAAAAAAABhAAAAAAAAAHEAAAAAAAAAgQAAAAAAAACJAAAAAAAAAJEAAAAAAAAAmQAAAAAAAAChAAAAAAAAAKkAAAAAAAAAsQAAAAAAAAC5AAAAAAAAAMEAAAAAAAAAxQAAAAAAAADJAAAAAAAAAM0AAAAAAAAA0QAAAAAAAADVAAAAAAAAANkAAAAAAAAA3QAAAAAAAADhAAAAAAAAAOUAAAAAAAAA6QAAAAAAAADtAAAAAAAAAPEAAAAAAAAA9QAAAAAAAAD5AAAAAAAAA8D8AAAAAAAAAQAAAAAAAAAhAAAAAAAAAEEAAAAAAAAAUQAAAAAAAABhAAAAAAAAAHEAAAAAAAAAgQAAAAAAAACJAAAAAAAAAJEAAAAAAAAAmQAAAAAAAAChAAAAAAAAAKkAAAAAAAAAsQAAAAAAAAC5AAAAAAAAAMEAAAAAAAAAxQAAAAAAAADJAAAAAAAAAM0AAAAAAAAA0QAAAAAAAADVAAAAAAAAANkAAAAAAAAA3QAAAAAAAADhAAAAAAAAAOUAAAAAAAAA6QAAAAAAAADtAAAAAAAAAPEAAAAAAAAA9QAAAAAAAAD5AAAAAAAAA8D8AAAAAAAAAQAAAAAAAAAhAAAAAAAAAEEAAAAAAAAAUQAAAAAAAABhAAAAAAAAAHEAAAAAAAAAgQAAAAAAAACJAAAAAAAAAJEAAAAAAAAAmQAAAAAAAAChAAAAAAAAAKkAAAAAAAAAsQAAAAAAAAC5AAAAAAAAAMEAAAAAAAAAxQAAAAAAAADJAAAAAAAAAM0AAAAAAAAA0QAAAAAAAADVAAAAAAAAANkAAAAAAAAA3QAAAAAAAADhAAAAAAAAAOUAAAAAAAAA6QAAAAAAAADtAAAAAAAAAPEAAAAAAAAA9QAAAAAAAAD5AAAAAAAAA8D8AAAAAAAAAQAAAAAAAAAhAAAAAAAAAEEAAAAAAAAAUQAAAAAAAABhAAAAAAAAAHEAAAAAAAAAgQAAAAAAAACJAAAAAAAAAJEAAAAAAAAAmQAAAAAAAAChAAAAAAAAAKkAAAAAAAAAsQAAAAAAAAC5AAAAAAAAAMEAAAAAAAAAxQAAAAAAAADJAAAAAAAAAM0AAAAAAAAA0QAAAAAAAADVAAAAAAAAANkAAAAAAAAA3QAAAAAAAADhAAAAAAAAAOUAAAAAAAAA6QAAAAAAAADtAAAAAAAAAPEAAAAAAAAA9QAAAAAAAAD5AAAAAAAAA8D8AAAAAAAAAQAAAAAAAAAhAAAAAAAAAEEAAAAAAAAAUQAAAAAAAABhAAAAAAAAAHEAAAAAAAAAgQAAAAAAAACJAAAAAAAAAJEAAAAAAAAAmQAAAAAAAAChAAAAAAAAAKkAAAAAAAAAsQAAAAAAAAC5AAAAAAAAAMEAAAAAAAAAxQAAAAAAAADJAAAAAAAAAM0AAAAAAAAA0QAAAAAAAADVAAAAAAAAANkAAAAAAAAA3QAAAAAAAADhAAAAAAAAAOUAAAAAAAAA6QAAAAAAAADtAAAAAAAAAPEAAAAAAAAA9QAAAAAAAAD5AAAAAAAAA8D8AAAAAAAAAQAAAAAAAAAhAAAAAAAAAEEAAAAAAAAAUQAAAAAAAABhAAAAAAAAAHEAAAAAAAAAgQAAAAAAAACJAAAAAAAAAJEAAAAAAAAAmQAAAAAAAAChAAAAAAAAAKkAAAAAAAAAsQAAAAAAAAC5AAAAAAAAAMEAAAAAAAAAxQAAAAAAAADJAAAAAAAAAM0AAAAAAAAA0QAAAAAAAADVAAAAAAAAANkAAAAAAAAA3QAAAAAAAADhAAAAAAAAAOUAAAAAAAAA6QAAAAAAAADtAAAAAAAAAPEAAAAAAAAA9QAAAAAAAAD5AAAAAAAAA8D8AAAAAAAAAQAAAAAAAAAhAAAAAAAAAEEAAAAAAAAAUQAAAAAAAABhAAAAAAAAAHEAAAAAAAAAgQAAAAAAAACJAAAAAAAAAJEAAAAAAAAAmQAAAAAAAAChAAAAAAAAAKkAAAAAAAAAsQAAAAAAAAC5AAAAAAAAAMEAAAAAAAAAxQAAAAAAAADJAAAAAAAAAM0AAAAAAAAA0QAAAAAAAADVAAAAAAAAANkAAAAAAAAA3QAAAAAAAADhAAAAAAAAAOUAAAAAAAAA6QAAAAAAAADtAAAAAAAAAPEAAAAAAAAA9QAAAAAAAAD5AAAAAAAAA8D8AAAAAAAAAQAAAAAAAAAhAAAAAAAAAEEAAAAAAAAAUQAAAAAAAABhAAAAAAAAAHEAAAAAAAAAgQAAAAAAAACJAAAAAAAAAJEAAAAAAAAAmQAAAAAAAAChAAAAAAAAAKkAAAAAAAAAsQAAAAAAAAC5AAAAAAAAAMEAAAAAAAAAxQAAAAAAAADJAAAAAAAAAM0AAAAAAAAA0QAAAAAAAADVAAAAAAAAANkAAAAAAAAA3QAAAAAAAADhAAAAAAAAAOUAAAAAAAAA6QAAAAAAAADtAAAAAAAAAPEAAAAAAAAA9QAAAAAAAAD5AAAAAAAAA8D8AAAAAAAAAQAAAAAAAAAhAAAAAAAAAEEAAAAAAAAAUQAAAAAAAABhAAAAAAAAAHEAAAAAAAAAgQAAAAAAAACJAAAAAAAAAJEAAAAAAAAAmQAAAAAAAAChAAAAAAAAAKkAAAAAAAAAsQAAAAAAAAC5AAAAAAAAAMEAAAAAAAAAxQAAAAAAAADJAAAAAAAAAM0AAAAAAAAA0QAAAAAAAADVAAAAAAAAANkAAAAAAAAA3QAAAAAAAADhAAAAAAAAAOUAAAAAAAAA6QAAAAAAAADtAAAAAAAAAPEAAAAAAAAA9QAAAAAAAAD5A",
        "encoding": "base64",
        "path": [
         "x",
         "value"
        ]
       },
       {
        "data": "AAAAAAAA8D8AAAAAAADwPwAAAAAAAPA/AAAAAAAA8D8AAAAAAADwPwAAAAAAAPA/AAAAAAAA8D8AAAAAAADwPwAAAAAAAPA/AAAAAAAA8D8AAAAAAADwPwAAAAAAAPA/AAAAAAAA8D8AAAAAAADwPwAAAAAAAPA/AAAAAAAA8D8AAAAAAADwPwAAAAAAAPA/AAAAAAAA8D8AAAAAAADwPwAAAAAAAPA/AAAAAAAA8D8AAAAAAADwPwAAAAAAAPA/AAAAAAAA8D8AAAAAAADwPwAAAAAAAPA/AAAAAAAA8D8AAAAAAADwPwAAAAAAAPA/AAAAAAAAAEAAAAAAAAAAQAAAAAAAAABAAAAAAAAAAEAAAAAAAAAAQAAAAAAAAABAAAAAAAAAAEAAAAAAAAAAQAAAAAAAAABAAAAAAAAAAEAAAAAAAAAAQAAAAAAAAABAAAAAAAAAAEAAAAAAAAAAQAAAAAAAAABAAAAAAAAAAEAAAAAAAAAAQAAAAAAAAABAAAAAAAAAAEAAAAAAAAAAQAAAAAAAAABAAAAAAAAAAEAAAAAAAAAAQAAAAAAAAABAAAAAAAAAAEAAAAAAAAAAQAAAAAAAAABAAAAAAAAAAEAAAAAAAAAAQAAAAAAAAABAAAAAAAAACEAAAAAAAAAIQAAAAAAAAAhAAAAAAAAACEAAAAAAAAAIQAAAAAAAAAhAAAAAAAAACEAAAAAAAAAIQAAAAAAAAAhAAAAAAAAACEAAAAAAAAAIQAAAAAAAAAhAAAAAAAAACEAAAAAAAAAIQAAAAAAAAAhAAAAAAAAACEAAAAAAAAAIQAAAAAAAAAhAAAAAAAAACEAAAAAAAAAIQAAAAAAAAAhAAAAAAAAACEAAAAAAAAAIQAAAAAAAAAhAAAAAAAAACEAAAAAAAAAIQAAAAAAAAAhAAAAAAAAACEAAAAAAAAAIQAAAAAAAAAhAAAAAAAAAEEAAAAAAAAAQQAAAAAAAABBAAAAAAAAAEEAAAAAAAAAQQAAAAAAAABBAAAAAAAAAEEAAAAAAAAAQQAAAAAAAABBAAAAAAAAAEEAAAAAAAAAQQAAAAAAAABBAAAAAAAAAEEAAAAAAAAAQQAAAAAAAABBAAAAAAAAAEEAAAAAAAAAQQAAAAAAAABBAAAAAAAAAEEAAAAAAAAAQQAAAAAAAABBAAAAAAAAAEEAAAAAAAAAQQAAAAAAAABBAAAAAAAAAEEAAAAAAAAAQQAAAAAAAABBAAAAAAAAAEEAAAAAAAAAQQAAAAAAAABBAAAAAAAAAFEAAAAAAAAAUQAAAAAAAABRAAAAAAAAAFEAAAAAAAAAUQAAAAAAAABRAAAAAAAAAFEAAAAAAAAAUQAAAAAAAABRAAAAAAAAAFEAAAAAAAAAUQAAAAAAAABRAAAAAAAAAFEAAAAAAAAAUQAAAAAAAABRAAAAAAAAAFEAAAAAAAAAUQAAAAAAAABRAAAAAAAAAFEAAAAAAAAAUQAAAAAAAABRAAAAAAAAAFEAAAAAAAAAUQAAAAAAAABRAAAAAAAAAFEAAAAAAAAAUQAAAAAAAABRAAAAAAAAAFEAAAAAAAAAUQAAAAAAAABRAAAAAAAAAGEAAAAAAAAAYQAAAAAAAABhAAAAAAAAAGEAAAAAAAAAYQAAAAAAAABhAAAAAAAAAGEAAAAAAAAAYQAAAAAAAABhAAAAAAAAAGEAAAAAAAAAYQAAAAAAAABhAAAAAAAAAGEAAAAAAAAAYQAAAAAAAABhAAAAAAAAAGEAAAAAAAAAYQAAAAAAAABhAAAAAAAAAGEAAAAAAAAAYQAAAAAAAABhAAAAAAAAAGEAAAAAAAAAYQAAAAAAAABhAAAAAAAAAGEAAAAAAAAAYQAAAAAAAABhAAAAAAAAAGEAAAAAAAAAYQAAAAAAAABhAAAAAAAAAHEAAAAAAAAAcQAAAAAAAABxAAAAAAAAAHEAAAAAAAAAcQAAAAAAAABxAAAAAAAAAHEAAAAAAAAAcQAAAAAAAABxAAAAAAAAAHEAAAAAAAAAcQAAAAAAAABxAAAAAAAAAHEAAAAAAAAAcQAAAAAAAABxAAAAAAAAAHEAAAAAAAAAcQAAAAAAAABxAAAAAAAAAHEAAAAAAAAAcQAAAAAAAABxAAAAAAAAAHEAAAAAAAAAcQAAAAAAAABxAAAAAAAAAHEAAAAAAAAAcQAAAAAAAABxAAAAAAAAAHEAAAAAAAAAcQAAAAAAAABxAAAAAAAAAIEAAAAAAAAAgQAAAAAAAACBAAAAAAAAAIEAAAAAAAAAgQAAAAAAAACBAAAAAAAAAIEAAAAAAAAAgQAAAAAAAACBAAAAAAAAAIEAAAAAAAAAgQAAAAAAAACBAAAAAAAAAIEAAAAAAAAAgQAAAAAAAACBAAAAAAAAAIEAAAAAAAAAgQAAAAAAAACBAAAAAAAAAIEAAAAAAAAAgQAAAAAAAACBAAAAAAAAAIEAAAAAAAAAgQAAAAAAAACBAAAAAAAAAIEAAAAAAAAAgQAAAAAAAACBAAAAAAAAAIEAAAAAAAAAgQAAAAAAAACBAAAAAAAAAIkAAAAAAAAAiQAAAAAAAACJAAAAAAAAAIkAAAAAAAAAiQAAAAAAAACJAAAAAAAAAIkAAAAAAAAAiQAAAAAAAACJAAAAAAAAAIkAAAAAAAAAiQAAAAAAAACJAAAAAAAAAIkAAAAAAAAAiQAAAAAAAACJAAAAAAAAAIkAAAAAAAAAiQAAAAAAAACJAAAAAAAAAIkAAAAAAAAAiQAAAAAAAACJAAAAAAAAAIkAAAAAAAAAiQAAAAAAAACJAAAAAAAAAIkAAAAAAAAAiQAAAAAAAACJAAAAAAAAAIkAAAAAAAAAiQAAAAAAAACJAAAAAAAAAJEAAAAAAAAAkQAAAAAAAACRAAAAAAAAAJEAAAAAAAAAkQAAAAAAAACRAAAAAAAAAJEAAAAAAAAAkQAAAAAAAACRAAAAAAAAAJEAAAAAAAAAkQAAAAAAAACRAAAAAAAAAJEAAAAAAAAAkQAAAAAAAACRAAAAAAAAAJEAAAAAAAAAkQAAAAAAAACRAAAAAAAAAJEAAAAAAAAAkQAAAAAAAACRAAAAAAAAAJEAAAAAAAAAkQAAAAAAAACRAAAAAAAAAJEAAAAAAAAAkQAAAAAAAACRAAAAAAAAAJEAAAAAAAAAkQAAAAAAAACRAAAAAAAAAJkAAAAAAAAAmQAAAAAAAACZAAAAAAAAAJkAAAAAAAAAmQAAAAAAAACZAAAAAAAAAJkAAAAAAAAAmQAAAAAAAACZAAAAAAAAAJkAAAAAAAAAmQAAAAAAAACZAAAAAAAAAJkAAAAAAAAAmQAAAAAAAACZAAAAAAAAAJkAAAAAAAAAmQAAAAAAAACZAAAAAAAAAJkAAAAAAAAAmQAAAAAAAACZAAAAAAAAAJkAAAAAAAAAmQAAAAAAAACZAAAAAAAAAJkAAAAAAAAAmQAAAAAAAACZAAAAAAAAAJkAAAAAAAAAmQAAAAAAAACZAAAAAAAAAKEAAAAAAAAAoQAAAAAAAAChAAAAAAAAAKEAAAAAAAAAoQAAAAAAAAChAAAAAAAAAKEAAAAAAAAAoQAAAAAAAAChAAAAAAAAAKEAAAAAAAAAoQAAAAAAAAChAAAAAAAAAKEAAAAAAAAAoQAAAAAAAAChAAAAAAAAAKEAAAAAAAAAoQAAAAAAAAChAAAAAAAAAKEAAAAAAAAAoQAAAAAAAAChAAAAAAAAAKEAAAAAAAAAoQAAAAAAAAChAAAAAAAAAKEAAAAAAAAAoQAAAAAAAAChAAAAAAAAAKEAAAAAAAAAoQAAAAAAAAChAAAAAAAAAKkAAAAAAAAAqQAAAAAAAACpAAAAAAAAAKkAAAAAAAAAqQAAAAAAAACpAAAAAAAAAKkAAAAAAAAAqQAAAAAAAACpAAAAAAAAAKkAAAAAAAAAqQAAAAAAAACpAAAAAAAAAKkAAAAAAAAAqQAAAAAAAACpAAAAAAAAAKkAAAAAAAAAqQAAAAAAAACpAAAAAAAAAKkAAAAAAAAAqQAAAAAAAACpAAAAAAAAAKkAAAAAAAAAqQAAAAAAAACpAAAAAAAAAKkAAAAAAAAAqQAAAAAAAACpAAAAAAAAAKkAAAAAAAAAqQAAAAAAAACpAAAAAAAAALEAAAAAAAAAsQAAAAAAAACxAAAAAAAAALEAAAAAAAAAsQAAAAAAAACxAAAAAAAAALEAAAAAAAAAsQAAAAAAAACxAAAAAAAAALEAAAAAAAAAsQAAAAAAAACxAAAAAAAAALEAAAAAAAAAsQAAAAAAAACxAAAAAAAAALEAAAAAAAAAsQAAAAAAAACxAAAAAAAAALEAAAAAAAAAsQAAAAAAAACxAAAAAAAAALEAAAAAAAAAsQAAAAAAAACxAAAAAAAAALEAAAAAAAAAsQAAAAAAAACxAAAAAAAAALEAAAAAAAAAsQAAAAAAAACxAAAAAAAAALkAAAAAAAAAuQAAAAAAAAC5AAAAAAAAALkAAAAAAAAAuQAAAAAAAAC5AAAAAAAAALkAAAAAAAAAuQAAAAAAAAC5AAAAAAAAALkAAAAAAAAAuQAAAAAAAAC5AAAAAAAAALkAAAAAAAAAuQAAAAAAAAC5AAAAAAAAALkAAAAAAAAAuQAAAAAAAAC5AAAAAAAAALkAAAAAAAAAuQAAAAAAAAC5AAAAAAAAALkAAAAAAAAAuQAAAAAAAAC5AAAAAAAAALkAAAAAAAAAuQAAAAAAAAC5AAAAAAAAALkAAAAAAAAAuQAAAAAAAAC5AAAAAAAAAMEAAAAAAAAAwQAAAAAAAADBAAAAAAAAAMEAAAAAAAAAwQAAAAAAAADBAAAAAAAAAMEAAAAAAAAAwQAAAAAAAADBAAAAAAAAAMEAAAAAAAAAwQAAAAAAAADBAAAAAAAAAMEAAAAAAAAAwQAAAAAAAADBAAAAAAAAAMEAAAAAAAAAwQAAAAAAAADBAAAAAAAAAMEAAAAAAAAAwQAAAAAAAADBAAAAAAAAAMEAAAAAAAAAwQAAAAAAAADBAAAAAAAAAMEAAAAAAAAAwQAAAAAAAADBAAAAAAAAAMEAAAAAAAAAwQAAAAAAAADBAAAAAAAAAMUAAAAAAAAAxQAAAAAAAADFAAAAAAAAAMUAAAAAAAAAxQAAAAAAAADFAAAAAAAAAMUAAAAAAAAAxQAAAAAAAADFAAAAAAAAAMUAAAAAAAAAxQAAAAAAAADFAAAAAAAAAMUAAAAAAAAAxQAAAAAAAADFAAAAAAAAAMUAAAAAAAAAxQAAAAAAAADFAAAAAAAAAMUAAAAAAAAAxQAAAAAAAADFAAAAAAAAAMUAAAAAAAAAxQAAAAAAAADFAAAAAAAAAMUAAAAAAAAAxQAAAAAAAADFAAAAAAAAAMUAAAAAAAAAxQAAAAAAAADFAAAAAAAAAMkAAAAAAAAAyQAAAAAAAADJAAAAAAAAAMkAAAAAAAAAyQAAAAAAAADJAAAAAAAAAMkAAAAAAAAAyQAAAAAAAADJAAAAAAAAAMkAAAAAAAAAyQAAAAAAAADJAAAAAAAAAMkAAAAAAAAAyQAAAAAAAADJAAAAAAAAAMkAAAAAAAAAyQAAAAAAAADJAAAAAAAAAMkAAAAAAAAAyQAAAAAAAADJAAAAAAAAAMkAAAAAAAAAyQAAAAAAAADJAAAAAAAAAMkAAAAAAAAAyQAAAAAAAADJAAAAAAAAAMkAAAAAAAAAyQAAAAAAAADJAAAAAAAAAM0AAAAAAAAAzQAAAAAAAADNAAAAAAAAAM0AAAAAAAAAzQAAAAAAAADNAAAAAAAAAM0AAAAAAAAAzQAAAAAAAADNAAAAAAAAAM0AAAAAAAAAzQAAAAAAAADNAAAAAAAAAM0AAAAAAAAAzQAAAAAAAADNAAAAAAAAAM0AAAAAAAAAzQAAAAAAAADNAAAAAAAAAM0AAAAAAAAAzQAAAAAAAADNAAAAAAAAAM0AAAAAAAAAzQAAAAAAAADNAAAAAAAAAM0AAAAAAAAAzQAAAAAAAADNAAAAAAAAAM0AAAAAAAAAzQAAAAAAAADNAAAAAAAAANEAAAAAAAAA0QAAAAAAAADRAAAAAAAAANEAAAAAAAAA0QAAAAAAAADRAAAAAAAAANEAAAAAAAAA0QAAAAAAAADRAAAAAAAAANEAAAAAAAAA0QAAAAAAAADRAAAAAAAAANEAAAAAAAAA0QAAAAAAAADRAAAAAAAAANEAAAAAAAAA0QAAAAAAAADRAAAAAAAAANEAAAAAAAAA0QAAAAAAAADRAAAAAAAAANEAAAAAAAAA0QAAAAAAAADRAAAAAAAAANEAAAAAAAAA0QAAAAAAAADRAAAAAAAAANEAAAAAAAAA0QAAAAAAAADRAAAAAAAAANUAAAAAAAAA1QAAAAAAAADVAAAAAAAAANUAAAAAAAAA1QAAAAAAAADVAAAAAAAAANUAAAAAAAAA1QAAAAAAAADVAAAAAAAAANUAAAAAAAAA1QAAAAAAAADVAAAAAAAAANUAAAAAAAAA1QAAAAAAAADVAAAAAAAAANUAAAAAAAAA1QAAAAAAAADVAAAAAAAAANUAAAAAAAAA1QAAAAAAAADVAAAAAAAAANUAAAAAAAAA1QAAAAAAAADVAAAAAAAAANUAAAAAAAAA1QAAAAAAAADVAAAAAAAAANUAAAAAAAAA1QAAAAAAAADVAAAAAAAAANkAAAAAAAAA2QAAAAAAAADZAAAAAAAAANkAAAAAAAAA2QAAAAAAAADZAAAAAAAAANkAAAAAAAAA2QAAAAAAAADZAAAAAAAAANkAAAAAAAAA2QAAAAAAAADZAAAAAAAAANkAAAAAAAAA2QAAAAAAAADZAAAAAAAAANkAAAAAAAAA2QAAAAAAAADZAAAAAAAAANkAAAAAAAAA2QAAAAAAAADZAAAAAAAAANkAAAAAAAAA2QAAAAAAAADZAAAAAAAAANkAAAAAAAAA2QAAAAAAAADZAAAAAAAAANkAAAAAAAAA2QAAAAAAAADZAAAAAAAAAN0AAAAAAAAA3QAAAAAAAADdAAAAAAAAAN0AAAAAAAAA3QAAAAAAAADdAAAAAAAAAN0AAAAAAAAA3QAAAAAAAADdAAAAAAAAAN0AAAAAAAAA3QAAAAAAAADdAAAAAAAAAN0AAAAAAAAA3QAAAAAAAADdAAAAAAAAAN0AAAAAAAAA3QAAAAAAAADdAAAAAAAAAN0AAAAAAAAA3QAAAAAAAADdAAAAAAAAAN0AAAAAAAAA3QAAAAAAAADdAAAAAAAAAN0AAAAAAAAA3QAAAAAAAADdAAAAAAAAAN0AAAAAAAAA3QAAAAAAAADdAAAAAAAAAOEAAAAAAAAA4QAAAAAAAADhAAAAAAAAAOEAAAAAAAAA4QAAAAAAAADhAAAAAAAAAOEAAAAAAAAA4QAAAAAAAADhAAAAAAAAAOEAAAAAAAAA4QAAAAAAAADhAAAAAAAAAOEAAAAAAAAA4QAAAAAAAADhAAAAAAAAAOEAAAAAAAAA4QAAAAAAAADhAAAAAAAAAOEAAAAAAAAA4QAAAAAAAADhAAAAAAAAAOEAAAAAAAAA4QAAAAAAAADhAAAAAAAAAOEAAAAAAAAA4QAAAAAAAADhAAAAAAAAAOEAAAAAAAAA4QAAAAAAAADhAAAAAAAAAOUAAAAAAAAA5QAAAAAAAADlAAAAAAAAAOUAAAAAAAAA5QAAAAAAAADlAAAAAAAAAOUAAAAAAAAA5QAAAAAAAADlAAAAAAAAAOUAAAAAAAAA5QAAAAAAAADlAAAAAAAAAOUAAAAAAAAA5QAAAAAAAADlAAAAAAAAAOUAAAAAAAAA5QAAAAAAAADlAAAAAAAAAOUAAAAAAAAA5QAAAAAAAADlAAAAAAAAAOUAAAAAAAAA5QAAAAAAAADlAAAAAAAAAOUAAAAAAAAA5QAAAAAAAADlAAAAAAAAAOUAAAAAAAAA5QAAAAAAAADlAAAAAAAAAOkAAAAAAAAA6QAAAAAAAADpAAAAAAAAAOkAAAAAAAAA6QAAAAAAAADpAAAAAAAAAOkAAAAAAAAA6QAAAAAAAADpAAAAAAAAAOkAAAAAAAAA6QAAAAAAAADpAAAAAAAAAOkAAAAAAAAA6QAAAAAAAADpAAAAAAAAAOkAAAAAAAAA6QAAAAAAAADpAAAAAAAAAOkAAAAAAAAA6QAAAAAAAADpAAAAAAAAAOkAAAAAAAAA6QAAAAAAAADpAAAAAAAAAOkAAAAAAAAA6QAAAAAAAADpAAAAAAAAAOkAAAAAAAAA6QAAAAAAAADpAAAAAAAAAO0AAAAAAAAA7QAAAAAAAADtAAAAAAAAAO0AAAAAAAAA7QAAAAAAAADtAAAAAAAAAO0AAAAAAAAA7QAAAAAAAADtAAAAAAAAAO0AAAAAAAAA7QAAAAAAAADtAAAAAAAAAO0AAAAAAAAA7QAAAAAAAADtAAAAAAAAAO0AAAAAAAAA7QAAAAAAAADtAAAAAAAAAO0AAAAAAAAA7QAAAAAAAADtAAAAAAAAAO0AAAAAAAAA7QAAAAAAAADtAAAAAAAAAO0AAAAAAAAA7QAAAAAAAADtAAAAAAAAAO0AAAAAAAAA7QAAAAAAAADtAAAAAAAAAPEAAAAAAAAA8QAAAAAAAADxAAAAAAAAAPEAAAAAAAAA8QAAAAAAAADxAAAAAAAAAPEAAAAAAAAA8QAAAAAAAADxAAAAAAAAAPEAAAAAAAAA8QAAAAAAAADxAAAAAAAAAPEAAAAAAAAA8QAAAAAAAADxAAAAAAAAAPEAAAAAAAAA8QAAAAAAAADxAAAAAAAAAPEAAAAAAAAA8QAAAAAAAADxAAAAAAAAAPEAAAAAAAAA8QAAAAAAAADxAAAAAAAAAPEAAAAAAAAA8QAAAAAAAADxAAAAAAAAAPEAAAAAAAAA8QAAAAAAAADxAAAAAAAAAPUAAAAAAAAA9QAAAAAAAAD1AAAAAAAAAPUAAAAAAAAA9QAAAAAAAAD1AAAAAAAAAPUAAAAAAAAA9QAAAAAAAAD1AAAAAAAAAPUAAAAAAAAA9QAAAAAAAAD1AAAAAAAAAPUAAAAAAAAA9QAAAAAAAAD1AAAAAAAAAPUAAAAAAAAA9QAAAAAAAAD1AAAAAAAAAPUAAAAAAAAA9QAAAAAAAAD1AAAAAAAAAPUAAAAAAAAA9QAAAAAAAAD1AAAAAAAAAPUAAAAAAAAA9QAAAAAAAAD1AAAAAAAAAPUAAAAAAAAA9QAAAAAAAAD1AAAAAAAAAPkAAAAAAAAA+QAAAAAAAAD5AAAAAAAAAPkAAAAAAAAA+QAAAAAAAAD5AAAAAAAAAPkAAAAAAAAA+QAAAAAAAAD5AAAAAAAAAPkAAAAAAAAA+QAAAAAAAAD5AAAAAAAAAPkAAAAAAAAA+QAAAAAAAAD5AAAAAAAAAPkAAAAAAAAA+QAAAAAAAAD5AAAAAAAAAPkAAAAAAAAA+QAAAAAAAAD5AAAAAAAAAPkAAAAAAAAA+QAAAAAAAAD5AAAAAAAAAPkAAAAAAAAA+QAAAAAAAAD5AAAAAAAAAPkAAAAAAAAA+QAAAAAAAAD5A",
        "encoding": "base64",
        "path": [
         "y",
         "value"
        ]
       }
      ],
      "model_module": "bqplot",
      "model_module_version": "^0.5.0",
      "model_name": "ScatterModel",
      "state": {
       "_model_module": "bqplot",
       "_model_module_version": "^0.5.0",
       "_model_name": "ScatterModel",
       "_view_count": null,
       "_view_module": "bqplot",
       "_view_module_version": "^0.5.0",
       "_view_name": "Scatter",
       "apply_clip": true,
       "color": null,
       "colors": [
        "red"
       ],
       "default_opacities": {
        "dtype": "float64",
        "shape": [
         1
        ],
        "type": null
       },
       "default_size": 64,
       "default_skew": 0.5,
       "display_legend": false,
       "display_names": true,
       "drag_color": null,
       "drag_size": 5.0,
       "enable_delete": false,
       "enable_hover": true,
       "enable_move": false,
       "fill": true,
       "hovered_point": null,
       "hovered_style": {},
       "interactions": {
        "hover": "tooltip"
       },
       "labels": [],
       "marker": "circle",
       "names": null,
       "names_unique": true,
       "opacity": null,
       "preserve_domain": {},
       "restrict_x": false,
       "restrict_y": false,
       "rotation": null,
       "scales": {
        "x": "IPY_MODEL_d7e9f24c24534792b94a5a6fe59fd0c2",
        "y": "IPY_MODEL_73e06d2778594eeb9ae5c062758d13f2"
       },
       "scales_metadata": {
        "color": {
         "dimension": "color"
        },
        "opacity": {
         "dimension": "opacity"
        },
        "rotation": {
         "dimension": "rotation"
        },
        "size": {
         "dimension": "size"
        },
        "skew": {
         "dimension": "skew"
        },
        "x": {
         "dimension": "x",
         "orientation": "horizontal"
        },
        "y": {
         "dimension": "y",
         "orientation": "vertical"
        }
       },
       "selected": null,
       "selected_style": {},
       "size": null,
       "skew": null,
       "stroke": null,
       "stroke_width": 1.5,
       "tooltip": null,
       "tooltip_location": "mouse",
       "tooltip_style": {
        "opacity": 0.9
       },
       "unhovered_style": {},
       "unselected_style": {},
       "update_on_move": false,
       "visible": true,
       "x": {
        "dtype": "float64",
        "shape": [
         900
        ],
        "type": null
       },
       "y": {
        "dtype": "float64",
        "shape": [
         900
        ],
        "type": null
       }
      }
     },
     "9414881378f340de8f44b4ad7c1328b9": {
      "model_module": "bqplot",
      "model_module_version": "^0.5.0",
      "model_name": "AxisModel",
      "state": {
       "_model_module": "bqplot",
       "_model_module_version": "^0.5.0",
       "_model_name": "AxisModel",
       "_view_count": null,
       "_view_module": "bqplot",
       "_view_module_version": "^0.5.0",
       "_view_name": "Axis",
       "color": null,
       "grid_color": null,
       "grid_lines": "solid",
       "label": "D / D_i",
       "label_color": null,
       "label_location": "middle",
       "label_offset": null,
       "num_ticks": null,
       "offset": {},
       "orientation": "vertical",
       "scale": "IPY_MODEL_9c3dfbdafcd24ed5b7cfd420081fe649",
       "side": null,
       "tick_format": null,
       "tick_rotate": 0,
       "tick_style": {},
       "tick_values": null,
       "visible": true
      }
     },
     "988265e501c3464899509e193a1662a0": {
      "model_module": "bqplot",
      "model_module_version": "^0.5.0",
      "model_name": "TooltipModel",
      "state": {
       "_dom_classes": [],
       "_model_module": "bqplot",
       "_model_module_version": "^0.5.0",
       "_model_name": "TooltipModel",
       "_view_count": null,
       "_view_module": "bqplot",
       "_view_module_version": "^0.5.0",
       "_view_name": "Tooltip",
       "fields": [
        "x",
        "y"
       ],
       "formats": [
        ".2f",
        ".3f"
       ],
       "labels": [
        "time",
        "amount of parent isotope"
       ],
       "layout": "IPY_MODEL_006bbe67f92e49cdae65a10e054c66fe",
       "show_labels": true
      }
     },
     "98e25b2eb40f46429e63f57df68121e3": {
      "model_module": "@jupyter-widgets/controls",
      "model_module_version": "1.5.0",
      "model_name": "DescriptionStyleModel",
      "state": {
       "_model_module": "@jupyter-widgets/controls",
       "_model_module_version": "1.5.0",
       "_model_name": "DescriptionStyleModel",
       "_view_count": null,
       "_view_module": "@jupyter-widgets/base",
       "_view_module_version": "1.2.0",
       "_view_name": "StyleView",
       "description_width": "initial"
      }
     },
     "9c3dfbdafcd24ed5b7cfd420081fe649": {
      "model_module": "bqplot",
      "model_module_version": "^0.5.0",
      "model_name": "LinearScaleModel",
      "state": {
       "_model_module": "bqplot",
       "_model_module_version": "^0.5.0",
       "_model_name": "LinearScaleModel",
       "_view_count": null,
       "_view_module": "bqplot",
       "_view_module_version": "^0.5.0",
       "_view_name": "LinearScale",
       "allow_padding": true,
       "max": 0.96,
       "mid_range": 0.8,
       "min": 0.56,
       "min_range": 0.6,
       "reverse": false,
       "stabilized": false
      }
     },
     "9c6ebe0d76f2471cb8a0e70912292c4e": {
      "model_module": "@jupyter-widgets/controls",
      "model_module_version": "1.5.0",
      "model_name": "DescriptionStyleModel",
      "state": {
       "_model_module": "@jupyter-widgets/controls",
       "_model_module_version": "1.5.0",
       "_model_name": "DescriptionStyleModel",
       "_view_count": null,
       "_view_module": "@jupyter-widgets/base",
       "_view_module_version": "1.2.0",
       "_view_name": "StyleView",
       "description_width": ""
      }
     },
     "9d2e53a0cc7c45eb810a91f91d69af41": {
      "model_module": "@jupyter-widgets/controls",
      "model_module_version": "1.5.0",
      "model_name": "LabelModel",
      "state": {
       "_dom_classes": [],
       "_model_module": "@jupyter-widgets/controls",
       "_model_module_version": "1.5.0",
       "_model_name": "LabelModel",
       "_view_count": null,
       "_view_module": "@jupyter-widgets/controls",
       "_view_module_version": "1.5.0",
       "_view_name": "LabelView",
       "description": "",
       "description_tooltip": null,
       "layout": "IPY_MODEL_521d99ba78d940fe97d0257302058e4b",
       "placeholder": "​",
       "style": "IPY_MODEL_4943b958de1d405da3a4d79d2645d538",
       "value": "Parent remaining"
      }
     },
     "a35e267e692044b58c3bab0820e65db0": {
      "model_module": "@jupyter-widgets/controls",
      "model_module_version": "1.5.0",
      "model_name": "LabelModel",
      "state": {
       "_dom_classes": [],
       "_model_module": "@jupyter-widgets/controls",
       "_model_module_version": "1.5.0",
       "_model_name": "LabelModel",
       "_view_count": null,
       "_view_module": "@jupyter-widgets/controls",
       "_view_module_version": "1.5.0",
       "_view_name": "LabelView",
       "description": "",
       "description_tooltip": null,
       "layout": "IPY_MODEL_e34cef3dafb449179e637cf5ac587eac",
       "placeholder": "​",
       "style": "IPY_MODEL_563304edb2754780b04a5e9ad2951398",
       "value": "half-lives"
      }
     },
     "a49c7097981d494eb617ecb9bed96924": {
      "model_module": "@jupyter-widgets/controls",
      "model_module_version": "1.5.0",
      "model_name": "DescriptionStyleModel",
      "state": {
       "_model_module": "@jupyter-widgets/controls",
       "_model_module_version": "1.5.0",
       "_model_name": "DescriptionStyleModel",
       "_view_count": null,
       "_view_module": "@jupyter-widgets/base",
       "_view_module_version": "1.2.0",
       "_view_name": "StyleView",
       "description_width": ""
      }
     },
     "a8d464f7914a4a0a9b0f4cc5004f0118": {
      "model_module": "@jupyter-widgets/controls",
      "model_module_version": "1.5.0",
      "model_name": "TextModel",
      "state": {
       "_dom_classes": [],
       "_model_module": "@jupyter-widgets/controls",
       "_model_module_version": "1.5.0",
       "_model_name": "TextModel",
       "_view_count": null,
       "_view_module": "@jupyter-widgets/controls",
       "_view_module_version": "1.5.0",
       "_view_name": "TextView",
       "continuous_update": true,
       "description": "",
       "description_tooltip": null,
       "disabled": true,
       "layout": "IPY_MODEL_f2586891252a488bac54f649a1b0087b",
       "placeholder": "​",
       "style": "IPY_MODEL_1fe5df0ef9a9489680ffc6b7b7e9b158",
       "value": "0"
      }
     },
     "a9d307b9f7a74e1b89b73a9261aca120": {
      "model_module": "@jupyter-widgets/base",
      "model_module_version": "1.2.0",
      "model_name": "LayoutModel",
      "state": {
       "_model_module": "@jupyter-widgets/base",
       "_model_module_version": "1.2.0",
       "_model_name": "LayoutModel",
       "_view_count": null,
       "_view_module": "@jupyter-widgets/base",
       "_view_module_version": "1.2.0",
       "_view_name": "LayoutView",
       "align_content": null,
       "align_items": null,
       "align_self": null,
       "border": null,
       "bottom": null,
       "display": null,
       "flex": null,
       "flex_flow": null,
       "grid_area": null,
       "grid_auto_columns": null,
       "grid_auto_flow": null,
       "grid_auto_rows": null,
       "grid_column": null,
       "grid_gap": null,
       "grid_row": null,
       "grid_template_areas": null,
       "grid_template_columns": null,
       "grid_template_rows": null,
       "height": null,
       "justify_content": null,
       "justify_items": null,
       "left": null,
       "margin": null,
       "max_height": null,
       "max_width": null,
       "min_height": null,
       "min_width": null,
       "object_fit": null,
       "object_position": null,
       "order": null,
       "overflow": null,
       "overflow_x": null,
       "overflow_y": null,
       "padding": null,
       "right": null,
       "top": null,
       "visibility": null,
       "width": "900px"
      }
     },
     "aa8b6506cae2415aade50c2f085d5553": {
      "model_module": "@jupyter-widgets/controls",
      "model_module_version": "1.5.0",
      "model_name": "FloatSliderModel",
      "state": {
       "_dom_classes": [],
       "_model_module": "@jupyter-widgets/controls",
       "_model_module_version": "1.5.0",
       "_model_name": "FloatSliderModel",
       "_view_count": null,
       "_view_module": "@jupyter-widgets/controls",
       "_view_module_version": "1.5.0",
       "_view_name": "FloatSliderView",
       "continuous_update": false,
       "description": "Half-lives",
       "description_tooltip": null,
       "disabled": false,
       "layout": "IPY_MODEL_bbef9970994d4a0d9b65fa813c4cf298",
       "max": 5.0,
       "min": 0.0,
       "orientation": "horizontal",
       "readout": false,
       "readout_format": ".2f",
       "step": 0.02,
       "style": "IPY_MODEL_798ebb6e7ca0485ca1a75498488b0944",
       "value": 0.0
      }
     },
     "aa963971a2c74d82b9a4a52147178f90": {
      "model_module": "bqplot",
      "model_module_version": "^0.5.0",
      "model_name": "LinearScaleModel",
      "state": {
       "_model_module": "bqplot",
       "_model_module_version": "^0.5.0",
       "_model_name": "LinearScaleModel",
       "_view_count": null,
       "_view_module": "bqplot",
       "_view_module_version": "^0.5.0",
       "_view_name": "LinearScale",
       "allow_padding": false,
       "max": 1.0,
       "mid_range": 0.8,
       "min": 0.0,
       "min_range": 0.6,
       "reverse": false,
       "stabilized": false
      }
     },
     "aae135ea43104ba1a08ca1a5e2202d0e": {
      "model_module": "bqplot",
      "model_module_version": "^0.5.0",
      "model_name": "LinearScaleModel",
      "state": {
       "_model_module": "bqplot",
       "_model_module_version": "^0.5.0",
       "_model_name": "LinearScaleModel",
       "_view_count": null,
       "_view_module": "bqplot",
       "_view_module_version": "^0.5.0",
       "_view_name": "LinearScale",
       "allow_padding": false,
       "max": 1.0,
       "mid_range": 0.8,
       "min": 0.0,
       "min_range": 0.6,
       "reverse": false,
       "stabilized": false
      }
     },
     "ac0bb8f14ba44a229eb9d8c3f190851d": {
      "model_module": "@jupyter-widgets/base",
      "model_module_version": "1.2.0",
      "model_name": "LayoutModel",
      "state": {
       "_model_module": "@jupyter-widgets/base",
       "_model_module_version": "1.2.0",
       "_model_name": "LayoutModel",
       "_view_count": null,
       "_view_module": "@jupyter-widgets/base",
       "_view_module_version": "1.2.0",
       "_view_name": "LayoutView",
       "align_content": null,
       "align_items": null,
       "align_self": null,
       "border": null,
       "bottom": null,
       "display": null,
       "flex": null,
       "flex_flow": null,
       "grid_area": null,
       "grid_auto_columns": null,
       "grid_auto_flow": null,
       "grid_auto_rows": null,
       "grid_column": null,
       "grid_gap": null,
       "grid_row": null,
       "grid_template_areas": null,
       "grid_template_columns": null,
       "grid_template_rows": null,
       "height": null,
       "justify_content": null,
       "justify_items": null,
       "left": null,
       "margin": null,
       "max_height": null,
       "max_width": null,
       "min_height": null,
       "min_width": null,
       "object_fit": null,
       "object_position": null,
       "order": null,
       "overflow": null,
       "overflow_x": "visible",
       "overflow_y": "visible",
       "padding": null,
       "right": null,
       "top": null,
       "visibility": null,
       "width": null
      }
     },
     "adcfb07810844130af39bde9298d0518": {
      "model_module": "bqplot",
      "model_module_version": "^0.5.0",
      "model_name": "AxisModel",
      "state": {
       "_model_module": "bqplot",
       "_model_module_version": "^0.5.0",
       "_model_name": "AxisModel",
       "_view_count": null,
       "_view_module": "bqplot",
       "_view_module_version": "^0.5.0",
       "_view_name": "Axis",
       "color": null,
       "grid_color": null,
       "grid_lines": "solid",
       "label": "Number of atoms",
       "label_color": null,
       "label_location": "middle",
       "label_offset": null,
       "num_ticks": null,
       "offset": {},
       "orientation": "vertical",
       "scale": "IPY_MODEL_8436836f9ae74ff1bd92a6df3d64635c",
       "side": null,
       "tick_format": null,
       "tick_rotate": 0,
       "tick_style": {},
       "tick_values": null,
       "visible": true
      }
     },
     "ae51446d98964db09811fd60bf050366": {
      "model_module": "@jupyter-widgets/controls",
      "model_module_version": "1.5.0",
      "model_name": "SliderStyleModel",
      "state": {
       "_model_module": "@jupyter-widgets/controls",
       "_model_module_version": "1.5.0",
       "_model_name": "SliderStyleModel",
       "_view_count": null,
       "_view_module": "@jupyter-widgets/base",
       "_view_module_version": "1.2.0",
       "_view_name": "StyleView",
       "description_width": "",
       "handle_color": null
      }
     },
     "af06970d607645e08e9518d2a9b9aa87": {
      "model_module": "@jupyter-widgets/controls",
      "model_module_version": "1.5.0",
      "model_name": "DescriptionStyleModel",
      "state": {
       "_model_module": "@jupyter-widgets/controls",
       "_model_module_version": "1.5.0",
       "_model_name": "DescriptionStyleModel",
       "_view_count": null,
       "_view_module": "@jupyter-widgets/base",
       "_view_module_version": "1.2.0",
       "_view_name": "StyleView",
       "description_width": ""
      }
     },
     "af14bbac9dab4b1db76333187484e424": {
      "model_module": "@jupyter-widgets/controls",
      "model_module_version": "1.5.0",
      "model_name": "DescriptionStyleModel",
      "state": {
       "_model_module": "@jupyter-widgets/controls",
       "_model_module_version": "1.5.0",
       "_model_name": "DescriptionStyleModel",
       "_view_count": null,
       "_view_module": "@jupyter-widgets/base",
       "_view_module_version": "1.2.0",
       "_view_name": "StyleView",
       "description_width": ""
      }
     },
     "af2a97ea78774df1bc77d8fbc5287272": {
      "model_module": "bqplot",
      "model_module_version": "^0.5.0",
      "model_name": "FigureModel",
      "state": {
       "_dom_classes": [],
       "_model_module": "bqplot",
       "_model_module_version": "^0.5.0",
       "_model_name": "FigureModel",
       "_view_count": null,
       "_view_module": "bqplot",
       "_view_module_version": "^0.5.0",
       "_view_name": "Figure",
       "animation_duration": 0,
       "axes": [
        "IPY_MODEL_166a601f1f3b4b4e96958d387f74d563",
        "IPY_MODEL_adcfb07810844130af39bde9298d0518"
       ],
       "background_style": {
        "fill": "black"
       },
       "fig_margin": {
        "bottom": 60,
        "left": 60,
        "right": 60,
        "top": 60
       },
       "interaction": null,
       "layout": "IPY_MODEL_c5b5c2a52f734ed3b2f27c41befe2a57",
       "legend_location": "right",
       "legend_style": {
        "fill": "white"
       },
       "legend_text": {},
       "marks": [
        "IPY_MODEL_3d03a116ec7e47148be45f327d190a97",
        "IPY_MODEL_273a9949e21745d08079804ab35e20ea",
        "IPY_MODEL_6bdf37022dd54061808f70a1a2007634",
        "IPY_MODEL_20aa94aff10d4acca69b00b968620247",
        "IPY_MODEL_d622a6a4e4904d4c87f1aa8a0e53bbc2"
       ],
       "max_aspect_ratio": 100.0,
       "min_aspect_ratio": 0.01,
       "padding_x": 0.0,
       "padding_y": 0.025,
       "pixel_ratio": null,
       "scale_x": "IPY_MODEL_ce660d7f2cb94c0b8ade1c5031460754",
       "scale_y": "IPY_MODEL_1fb80f753a0d4d16bb21cf50c9d05ec7",
       "theme": "classic",
       "title": "Counts versus Time",
       "title_style": {}
      }
     },
     "b12ede6590d4411cb113e3942ca71938": {
      "model_module": "bqplot",
      "model_module_version": "^0.5.0",
      "model_name": "AxisModel",
      "state": {
       "_model_module": "bqplot",
       "_model_module_version": "^0.5.0",
       "_model_name": "AxisModel",
       "_view_count": null,
       "_view_module": "bqplot",
       "_view_module_version": "^0.5.0",
       "_view_name": "Axis",
       "color": null,
       "grid_color": null,
       "grid_lines": "solid",
       "label": "",
       "label_color": null,
       "label_location": "middle",
       "label_offset": null,
       "num_ticks": 0,
       "offset": {},
       "orientation": "horizontal",
       "scale": "IPY_MODEL_d7e9f24c24534792b94a5a6fe59fd0c2",
       "side": null,
       "tick_format": null,
       "tick_rotate": 0,
       "tick_style": {},
       "tick_values": null,
       "visible": true
      }
     },
     "b1de80d4be784d07b1ca8efcce707e59": {
      "model_module": "@jupyter-widgets/base",
      "model_module_version": "1.2.0",
      "model_name": "LayoutModel",
      "state": {
       "_model_module": "@jupyter-widgets/base",
       "_model_module_version": "1.2.0",
       "_model_name": "LayoutModel",
       "_view_count": null,
       "_view_module": "@jupyter-widgets/base",
       "_view_module_version": "1.2.0",
       "_view_name": "LayoutView",
       "align_content": null,
       "align_items": null,
       "align_self": null,
       "border": null,
       "bottom": null,
       "display": null,
       "flex": null,
       "flex_flow": null,
       "grid_area": null,
       "grid_auto_columns": null,
       "grid_auto_flow": null,
       "grid_auto_rows": null,
       "grid_column": null,
       "grid_gap": null,
       "grid_row": null,
       "grid_template_areas": null,
       "grid_template_columns": null,
       "grid_template_rows": null,
       "height": null,
       "justify_content": null,
       "justify_items": null,
       "left": null,
       "margin": null,
       "max_height": null,
       "max_width": null,
       "min_height": null,
       "min_width": null,
       "object_fit": null,
       "object_position": null,
       "order": null,
       "overflow": null,
       "overflow_x": null,
       "overflow_y": null,
       "padding": null,
       "right": null,
       "top": null,
       "visibility": null,
       "width": null
      }
     },
     "bbef9970994d4a0d9b65fa813c4cf298": {
      "model_module": "@jupyter-widgets/base",
      "model_module_version": "1.2.0",
      "model_name": "LayoutModel",
      "state": {
       "_model_module": "@jupyter-widgets/base",
       "_model_module_version": "1.2.0",
       "_model_name": "LayoutModel",
       "_view_count": null,
       "_view_module": "@jupyter-widgets/base",
       "_view_module_version": "1.2.0",
       "_view_name": "LayoutView",
       "align_content": null,
       "align_items": null,
       "align_self": null,
       "border": null,
       "bottom": null,
       "display": null,
       "flex": null,
       "flex_flow": null,
       "grid_area": null,
       "grid_auto_columns": null,
       "grid_auto_flow": null,
       "grid_auto_rows": null,
       "grid_column": null,
       "grid_gap": null,
       "grid_row": null,
       "grid_template_areas": null,
       "grid_template_columns": null,
       "grid_template_rows": null,
       "height": "75px",
       "justify_content": null,
       "justify_items": null,
       "left": null,
       "margin": null,
       "max_height": "100px",
       "max_width": "300px",
       "min_height": "50px",
       "min_width": "100px",
       "object_fit": null,
       "object_position": null,
       "order": null,
       "overflow": null,
       "overflow_x": null,
       "overflow_y": null,
       "padding": null,
       "right": null,
       "top": null,
       "visibility": null,
       "width": "200px"
      }
     },
     "bd20e0470bc840d1adf011626a98b455": {
      "model_module": "@jupyter-widgets/controls",
      "model_module_version": "1.5.0",
      "model_name": "DescriptionStyleModel",
      "state": {
       "_model_module": "@jupyter-widgets/controls",
       "_model_module_version": "1.5.0",
       "_model_name": "DescriptionStyleModel",
       "_view_count": null,
       "_view_module": "@jupyter-widgets/base",
       "_view_module_version": "1.2.0",
       "_view_name": "StyleView",
       "description_width": ""
      }
     },
     "c0e07c3e235540cbbc21e5261fb5c3d2": {
      "model_module": "@jupyter-widgets/controls",
      "model_module_version": "1.5.0",
      "model_name": "LabelModel",
      "state": {
       "_dom_classes": [],
       "_model_module": "@jupyter-widgets/controls",
       "_model_module_version": "1.5.0",
       "_model_name": "LabelModel",
       "_view_count": null,
       "_view_module": "@jupyter-widgets/controls",
       "_view_module_version": "1.5.0",
       "_view_name": "LabelView",
       "description": "",
       "description_tooltip": null,
       "layout": "IPY_MODEL_c91dc45ea5324dc6b0a6039f9baa14d8",
       "placeholder": "​",
       "style": "IPY_MODEL_44e2a1cc8b44449f80cb4f3fc843d4ee",
       "value": "Slope: 0.0000"
      }
     },
     "c128cdc368d341179cd9ad9bf1b00957": {
      "model_module": "@jupyter-widgets/base",
      "model_module_version": "1.2.0",
      "model_name": "LayoutModel",
      "state": {
       "_model_module": "@jupyter-widgets/base",
       "_model_module_version": "1.2.0",
       "_model_name": "LayoutModel",
       "_view_count": null,
       "_view_module": "@jupyter-widgets/base",
       "_view_module_version": "1.2.0",
       "_view_name": "LayoutView",
       "align_content": "center",
       "align_items": "center",
       "align_self": null,
       "border": null,
       "bottom": null,
       "display": null,
       "flex": null,
       "flex_flow": null,
       "grid_area": null,
       "grid_auto_columns": null,
       "grid_auto_flow": null,
       "grid_auto_rows": null,
       "grid_column": null,
       "grid_gap": null,
       "grid_row": null,
       "grid_template_areas": null,
       "grid_template_columns": null,
       "grid_template_rows": null,
       "height": "500px",
       "justify_content": "center",
       "justify_items": null,
       "left": null,
       "margin": null,
       "max_height": "500px",
       "max_width": "300px",
       "min_height": "400px",
       "min_width": "100px",
       "object_fit": null,
       "object_position": null,
       "order": null,
       "overflow": null,
       "overflow_x": "hidden",
       "overflow_y": "hidden",
       "padding": null,
       "right": null,
       "top": null,
       "visibility": null,
       "width": "300px"
      }
     },
     "c5b5c2a52f734ed3b2f27c41befe2a57": {
      "model_module": "@jupyter-widgets/base",
      "model_module_version": "1.2.0",
      "model_name": "LayoutModel",
      "state": {
       "_model_module": "@jupyter-widgets/base",
       "_model_module_version": "1.2.0",
       "_model_name": "LayoutModel",
       "_view_count": null,
       "_view_module": "@jupyter-widgets/base",
       "_view_module_version": "1.2.0",
       "_view_name": "LayoutView",
       "align_content": null,
       "align_items": null,
       "align_self": null,
       "border": null,
       "bottom": null,
       "display": null,
       "flex": null,
       "flex_flow": null,
       "grid_area": null,
       "grid_auto_columns": null,
       "grid_auto_flow": null,
       "grid_auto_rows": null,
       "grid_column": null,
       "grid_gap": null,
       "grid_row": null,
       "grid_template_areas": null,
       "grid_template_columns": null,
       "grid_template_rows": null,
       "height": null,
       "justify_content": null,
       "justify_items": null,
       "left": null,
       "margin": null,
       "max_height": null,
       "max_width": null,
       "min_height": "400px",
       "min_width": null,
       "object_fit": null,
       "object_position": null,
       "order": null,
       "overflow": null,
       "overflow_x": null,
       "overflow_y": null,
       "padding": null,
       "right": null,
       "top": null,
       "visibility": null,
       "width": "450px"
      }
     },
     "c6c35ad4c3c84323a829f852fa0f65f6": {
      "model_module": "@jupyter-widgets/controls",
      "model_module_version": "1.5.0",
      "model_name": "CheckboxModel",
      "state": {
       "_dom_classes": [],
       "_model_module": "@jupyter-widgets/controls",
       "_model_module_version": "1.5.0",
       "_model_name": "CheckboxModel",
       "_view_count": null,
       "_view_module": "@jupyter-widgets/controls",
       "_view_module_version": "1.5.0",
       "_view_name": "CheckboxView",
       "description": "Display as fraction of atoms",
       "description_tooltip": null,
       "disabled": false,
       "indent": true,
       "layout": "IPY_MODEL_57616606a1c84bdeac6b04677a00f415",
       "style": "IPY_MODEL_af06970d607645e08e9518d2a9b9aa87",
       "value": false
      }
     },
     "c91dc45ea5324dc6b0a6039f9baa14d8": {
      "model_module": "@jupyter-widgets/base",
      "model_module_version": "1.2.0",
      "model_name": "LayoutModel",
      "state": {
       "_model_module": "@jupyter-widgets/base",
       "_model_module_version": "1.2.0",
       "_model_name": "LayoutModel",
       "_view_count": null,
       "_view_module": "@jupyter-widgets/base",
       "_view_module_version": "1.2.0",
       "_view_name": "LayoutView",
       "align_content": "center",
       "align_items": "center",
       "align_self": null,
       "border": null,
       "bottom": null,
       "display": null,
       "flex": null,
       "flex_flow": null,
       "grid_area": null,
       "grid_auto_columns": null,
       "grid_auto_flow": null,
       "grid_auto_rows": null,
       "grid_column": null,
       "grid_gap": null,
       "grid_row": null,
       "grid_template_areas": null,
       "grid_template_columns": null,
       "grid_template_rows": null,
       "height": "50px",
       "justify_content": "center",
       "justify_items": null,
       "left": null,
       "margin": null,
       "max_height": "75px",
       "max_width": "100px",
       "min_height": "50px",
       "min_width": "50px",
       "object_fit": null,
       "object_position": null,
       "order": null,
       "overflow": null,
       "overflow_x": null,
       "overflow_y": null,
       "padding": null,
       "right": null,
       "top": null,
       "visibility": null,
       "width": "100px"
      }
     },
     "c962a96d721d4c08b11ebe9361ea8e14": {
      "buffers": [
       {
        "data": "AAAAAAAA8D8=",
        "encoding": "base64",
        "path": [
         "default_opacities",
         "value"
        ]
       },
       {
        "data": "H8huT+O6sz85UaeInjXCP2hYmaOaHc4/5/PNzSiT1j8=",
        "encoding": "base64",
        "path": [
         "x",
         "value"
        ]
       },
       {
        "data": "R8aXi5Ck4j9HxpeLkKTiP0fGl4uQpOI/R8aXi5Ck4j8=",
        "encoding": "base64",
        "path": [
         "y",
         "value"
        ]
       }
      ],
      "model_module": "bqplot",
      "model_module_version": "^0.5.0",
      "model_name": "ScatterModel",
      "state": {
       "_model_module": "bqplot",
       "_model_module_version": "^0.5.0",
       "_model_name": "ScatterModel",
       "_view_count": null,
       "_view_module": "bqplot",
       "_view_module_version": "^0.5.0",
       "_view_name": "Scatter",
       "apply_clip": true,
       "color": null,
       "colors": [
        "red"
       ],
       "default_opacities": {
        "dtype": "float64",
        "shape": [
         1
        ],
        "type": null
       },
       "default_size": 64,
       "default_skew": 0.5,
       "display_legend": false,
       "display_names": true,
       "drag_color": null,
       "drag_size": 5.0,
       "enable_delete": false,
       "enable_hover": true,
       "enable_move": false,
       "fill": true,
       "hovered_point": null,
       "hovered_style": {},
       "interactions": {
        "hover": "tooltip"
       },
       "labels": [
        "Current Isochron"
       ],
       "marker": "circle",
       "names": null,
       "names_unique": true,
       "opacity": null,
       "preserve_domain": {},
       "restrict_x": false,
       "restrict_y": false,
       "rotation": null,
       "scales": {
        "x": "IPY_MODEL_5751b16087af458c96e54942855ec4e4",
        "y": "IPY_MODEL_9c3dfbdafcd24ed5b7cfd420081fe649"
       },
       "scales_metadata": {
        "color": {
         "dimension": "color"
        },
        "opacity": {
         "dimension": "opacity"
        },
        "rotation": {
         "dimension": "rotation"
        },
        "size": {
         "dimension": "size"
        },
        "skew": {
         "dimension": "skew"
        },
        "x": {
         "dimension": "x",
         "orientation": "horizontal"
        },
        "y": {
         "dimension": "y",
         "orientation": "vertical"
        }
       },
       "selected": null,
       "selected_style": {},
       "size": null,
       "skew": null,
       "stroke": "red",
       "stroke_width": 1.5,
       "tooltip": null,
       "tooltip_location": "mouse",
       "tooltip_style": {
        "opacity": 0.9
       },
       "unhovered_style": {},
       "unselected_style": {},
       "update_on_move": false,
       "visible": true,
       "x": {
        "dtype": "float64",
        "shape": [
         4
        ],
        "type": null
       },
       "y": {
        "dtype": "float64",
        "shape": [
         4
        ],
        "type": null
       }
      }
     },
     "c9ae38753fa94e8fa6b58ffb98e65ea3": {
      "model_module": "@jupyter-widgets/controls",
      "model_module_version": "1.5.0",
      "model_name": "HBoxModel",
      "state": {
       "_dom_classes": [],
       "_model_module": "@jupyter-widgets/controls",
       "_model_module_version": "1.5.0",
       "_model_name": "HBoxModel",
       "_view_count": null,
       "_view_module": "@jupyter-widgets/controls",
       "_view_module_version": "1.5.0",
       "_view_name": "HBoxView",
       "box_style": "",
       "children": [
        "IPY_MODEL_09510aaac6514c3ea8e6ba065478a13d",
        "IPY_MODEL_a35e267e692044b58c3bab0820e65db0"
       ],
       "layout": "IPY_MODEL_1b84cfbcf3f84f66bfa509447bc6e286"
      }
     },
     "ce660d7f2cb94c0b8ade1c5031460754": {
      "model_module": "bqplot",
      "model_module_version": "^0.5.0",
      "model_name": "LinearScaleModel",
      "state": {
       "_model_module": "bqplot",
       "_model_module_version": "^0.5.0",
       "_model_name": "LinearScaleModel",
       "_view_count": null,
       "_view_module": "bqplot",
       "_view_module_version": "^0.5.0",
       "_view_name": "LinearScale",
       "allow_padding": false,
       "max": 1.0,
       "mid_range": 0.8,
       "min": 0.0,
       "min_range": 0.6,
       "reverse": false,
       "stabilized": false
      }
     },
     "d0e09143babd45ce8ebf10d911157892": {
      "model_module": "@jupyter-widgets/base",
      "model_module_version": "1.2.0",
      "model_name": "LayoutModel",
      "state": {
       "_model_module": "@jupyter-widgets/base",
       "_model_module_version": "1.2.0",
       "_model_name": "LayoutModel",
       "_view_count": null,
       "_view_module": "@jupyter-widgets/base",
       "_view_module_version": "1.2.0",
       "_view_name": "LayoutView",
       "align_content": null,
       "align_items": null,
       "align_self": null,
       "border": null,
       "bottom": null,
       "display": null,
       "flex": null,
       "flex_flow": null,
       "grid_area": null,
       "grid_auto_columns": null,
       "grid_auto_flow": null,
       "grid_auto_rows": null,
       "grid_column": null,
       "grid_gap": null,
       "grid_row": null,
       "grid_template_areas": null,
       "grid_template_columns": null,
       "grid_template_rows": null,
       "height": null,
       "justify_content": null,
       "justify_items": null,
       "left": null,
       "margin": null,
       "max_height": null,
       "max_width": null,
       "min_height": null,
       "min_width": null,
       "object_fit": null,
       "object_position": null,
       "order": null,
       "overflow": null,
       "overflow_x": null,
       "overflow_y": null,
       "padding": null,
       "right": null,
       "top": null,
       "visibility": null,
       "width": "450px"
      }
     },
     "d25f3dbfc71e4017bd1eec6c3e95730e": {
      "model_module": "@jupyter-widgets/controls",
      "model_module_version": "1.5.0",
      "model_name": "HBoxModel",
      "state": {
       "_dom_classes": [],
       "_model_module": "@jupyter-widgets/controls",
       "_model_module_version": "1.5.0",
       "_model_name": "HBoxModel",
       "_view_count": null,
       "_view_module": "@jupyter-widgets/controls",
       "_view_module_version": "1.5.0",
       "_view_name": "HBoxView",
       "box_style": "",
       "children": [
        "IPY_MODEL_76543c3d0d82496aa6ea75b13f0c8b2e",
        "IPY_MODEL_6ff15e6387ca4e2c92fb8f5b0e61f8e6"
       ],
       "layout": "IPY_MODEL_a9d307b9f7a74e1b89b73a9261aca120"
      }
     },
     "d36d8657f8d247179b26373696cff83f": {
      "model_module": "bqplot",
      "model_module_version": "^0.5.0",
      "model_name": "LinearScaleModel",
      "state": {
       "_model_module": "bqplot",
       "_model_module_version": "^0.5.0",
       "_model_name": "LinearScaleModel",
       "_view_count": null,
       "_view_module": "bqplot",
       "_view_module_version": "^0.5.0",
       "_view_name": "LinearScale",
       "allow_padding": false,
       "max": 1.0,
       "mid_range": 0.8,
       "min": 0.0,
       "min_range": 0.6,
       "reverse": false,
       "stabilized": false
      }
     },
     "d3c43a2021714f95aa66e43bebca2f9b": {
      "model_module": "@jupyter-widgets/controls",
      "model_module_version": "1.5.0",
      "model_name": "VBoxModel",
      "state": {
       "_dom_classes": [],
       "_model_module": "@jupyter-widgets/controls",
       "_model_module_version": "1.5.0",
       "_model_name": "VBoxModel",
       "_view_count": null,
       "_view_module": "@jupyter-widgets/controls",
       "_view_module_version": "1.5.0",
       "_view_name": "VBoxView",
       "box_style": "",
       "children": [
        "IPY_MODEL_e0dbb57e94fa46bdb72940a017d1de67",
        "IPY_MODEL_aa8b6506cae2415aade50c2f085d5553",
        "IPY_MODEL_00cad060d81a443c98a84175fd4dd1c8",
        "IPY_MODEL_c0e07c3e235540cbbc21e5261fb5c3d2"
       ],
       "layout": "IPY_MODEL_c128cdc368d341179cd9ad9bf1b00957"
      }
     },
     "d622a6a4e4904d4c87f1aa8a0e53bbc2": {
      "buffers": [
       {
        "data": "AAAAAAAA8D8=",
        "encoding": "base64",
        "path": [
         "default_opacities",
         "value"
        ]
       },
       {
        "data": "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",
        "encoding": "base64",
        "path": [
         "x",
         "value"
        ]
       },
       {
        "data": "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",
        "encoding": "base64",
        "path": [
         "y",
         "value"
        ]
       }
      ],
      "model_module": "bqplot",
      "model_module_version": "^0.5.0",
      "model_name": "ScatterModel",
      "state": {
       "_model_module": "bqplot",
       "_model_module_version": "^0.5.0",
       "_model_name": "ScatterModel",
       "_view_count": null,
       "_view_module": "bqplot",
       "_view_module_version": "^0.5.0",
       "_view_name": "Scatter",
       "apply_clip": true,
       "color": null,
       "colors": [
        "blue"
       ],
       "default_opacities": {
        "dtype": "float64",
        "shape": [
         1
        ],
        "type": null
       },
       "default_size": 2,
       "default_skew": 0.5,
       "display_legend": false,
       "display_names": true,
       "drag_color": null,
       "drag_size": 5.0,
       "enable_delete": false,
       "enable_hover": true,
       "enable_move": false,
       "fill": true,
       "hovered_point": null,
       "hovered_style": {},
       "interactions": {
        "hover": "tooltip"
       },
       "labels": [
        "Daughter"
       ],
       "marker": "circle",
       "names": null,
       "names_unique": true,
       "opacity": null,
       "preserve_domain": {},
       "restrict_x": false,
       "restrict_y": false,
       "rotation": null,
       "scales": {
        "x": "IPY_MODEL_f911070814f84c59a1762b729757d838",
        "y": "IPY_MODEL_8436836f9ae74ff1bd92a6df3d64635c"
       },
       "scales_metadata": {
        "color": {
         "dimension": "color"
        },
        "opacity": {
         "dimension": "opacity"
        },
        "rotation": {
         "dimension": "rotation"
        },
        "size": {
         "dimension": "size"
        },
        "skew": {
         "dimension": "skew"
        },
        "x": {
         "dimension": "x",
         "orientation": "horizontal"
        },
        "y": {
         "dimension": "y",
         "orientation": "vertical"
        }
       },
       "selected": null,
       "selected_style": {},
       "size": null,
       "skew": null,
       "stroke": null,
       "stroke_width": 1.5,
       "tooltip": "IPY_MODEL_7c5e6a99f189481ea60eb7818737822e",
       "tooltip_location": "mouse",
       "tooltip_style": {
        "opacity": 0.9
       },
       "unhovered_style": {},
       "unselected_style": {},
       "update_on_move": false,
       "visible": true,
       "x": {
        "dtype": "float64",
        "shape": [
         901
        ],
        "type": null
       },
       "y": {
        "dtype": "int32",
        "shape": [
         901
        ],
        "type": null
       }
      }
     },
     "d74c5f40777a46259dc8c913e0927bad": {
      "buffers": [
       {
        "data": "AAAAAAAAAACamZmZmZnZPw==",
        "encoding": "base64",
        "path": [
         "x",
         "value"
        ]
       },
       {
        "data": "R8aXi5Ck4j9HxpeLkKTiPw==",
        "encoding": "base64",
        "path": [
         "y",
         "value"
        ]
       }
      ],
      "model_module": "bqplot",
      "model_module_version": "^0.5.0",
      "model_name": "LinesModel",
      "state": {
       "_model_module": "bqplot",
       "_model_module_version": "^0.5.0",
       "_model_name": "LinesModel",
       "_view_count": null,
       "_view_module": "bqplot",
       "_view_module_version": "^0.5.0",
       "_view_name": "Lines",
       "apply_clip": true,
       "close_path": false,
       "color": null,
       "colors": [
        "red"
       ],
       "curves_subset": [],
       "display_legend": false,
       "enable_hover": true,
       "fill": "none",
       "fill_colors": [],
       "fill_opacities": [],
       "interactions": {
        "hover": "tooltip"
       },
       "interpolation": "linear",
       "labels": [
        "Current Isochron"
       ],
       "labels_visibility": "none",
       "line_style": "solid",
       "marker": null,
       "marker_size": 64,
       "opacities": [],
       "preserve_domain": {},
       "scales": {
        "x": "IPY_MODEL_5751b16087af458c96e54942855ec4e4",
        "y": "IPY_MODEL_9c3dfbdafcd24ed5b7cfd420081fe649"
       },
       "scales_metadata": {
        "color": {
         "dimension": "color"
        },
        "x": {
         "dimension": "x",
         "orientation": "horizontal"
        },
        "y": {
         "dimension": "y",
         "orientation": "vertical"
        }
       },
       "selected": null,
       "selected_style": {},
       "stroke_width": 2.0,
       "tooltip": null,
       "tooltip_location": "mouse",
       "tooltip_style": {
        "opacity": 0.9
       },
       "unselected_style": {},
       "visible": true,
       "x": {
        "dtype": "float64",
        "shape": [
         2
        ],
        "type": null
       },
       "y": {
        "dtype": "float64",
        "shape": [
         2
        ],
        "type": null
       }
      }
     },
     "d7e9f24c24534792b94a5a6fe59fd0c2": {
      "model_module": "bqplot",
      "model_module_version": "^0.5.0",
      "model_name": "LinearScaleModel",
      "state": {
       "_model_module": "bqplot",
       "_model_module_version": "^0.5.0",
       "_model_name": "LinearScaleModel",
       "_view_count": null,
       "_view_module": "bqplot",
       "_view_module_version": "^0.5.0",
       "_view_name": "LinearScale",
       "allow_padding": true,
       "max": 30.0,
       "mid_range": 0.8,
       "min": 1.0,
       "min_range": 0.6,
       "reverse": false,
       "stabilized": false
      }
     },
     "dc842d12f8e846e7a4dab3e04029a43c": {
      "buffers": [
       {
        "data": "H8huT+O6sz8fyG5P47qzPzlRp4ieNcI/OVGniJ41wj9oWJmjmh3OP2hYmaOaHc4/5/PNzSiT1j/n883NKJPWPw==",
        "encoding": "base64",
        "path": [
         "x",
         "value"
        ]
       },
       {
        "data": "R8aXi5Ck4j9HxpeLkKTiP0fGl4uQpOI/R8aXi5Ck4j9HxpeLkKTiP0fGl4uQpOI/R8aXi5Ck4j9HxpeLkKTiPw==",
        "encoding": "base64",
        "path": [
         "y",
         "value"
        ]
       }
      ],
      "model_module": "bqplot",
      "model_module_version": "^0.5.0",
      "model_name": "LinesModel",
      "state": {
       "_model_module": "bqplot",
       "_model_module_version": "^0.5.0",
       "_model_name": "LinesModel",
       "_view_count": null,
       "_view_module": "bqplot",
       "_view_module_version": "^0.5.0",
       "_view_name": "Lines",
       "apply_clip": true,
       "close_path": false,
       "color": null,
       "colors": [
        "black"
       ],
       "curves_subset": [],
       "display_legend": false,
       "enable_hover": true,
       "fill": "none",
       "fill_colors": [],
       "fill_opacities": [],
       "interactions": {
        "hover": "tooltip"
       },
       "interpolation": "linear",
       "labels": [],
       "labels_visibility": "none",
       "line_style": "dotted",
       "marker": null,
       "marker_size": 64,
       "opacities": [],
       "preserve_domain": {},
       "scales": {
        "x": "IPY_MODEL_5751b16087af458c96e54942855ec4e4",
        "y": "IPY_MODEL_9c3dfbdafcd24ed5b7cfd420081fe649"
       },
       "scales_metadata": {
        "color": {
         "dimension": "color"
        },
        "x": {
         "dimension": "x",
         "orientation": "horizontal"
        },
        "y": {
         "dimension": "y",
         "orientation": "vertical"
        }
       },
       "selected": null,
       "selected_style": {},
       "stroke_width": 2.0,
       "tooltip": null,
       "tooltip_location": "mouse",
       "tooltip_style": {
        "opacity": 0.9
       },
       "unselected_style": {},
       "visible": true,
       "x": {
        "dtype": "float64",
        "shape": [
         4,
         2
        ],
        "type": null
       },
       "y": {
        "dtype": "float64",
        "shape": [
         4,
         2
        ],
        "type": null
       }
      }
     },
     "e0dbb57e94fa46bdb72940a017d1de67": {
      "model_module": "@jupyter-widgets/controls",
      "model_module_version": "1.5.0",
      "model_name": "RadioButtonsModel",
      "state": {
       "_dom_classes": [],
       "_model_module": "@jupyter-widgets/controls",
       "_model_module_version": "1.5.0",
       "_model_name": "RadioButtonsModel",
       "_options_labels": [
        "Generic",
        "Rb-87->Sr-87"
       ],
       "_view_count": null,
       "_view_module": "@jupyter-widgets/controls",
       "_view_module_version": "1.5.0",
       "_view_name": "RadioButtonsView",
       "description": "Isotope:",
       "description_tooltip": null,
       "disabled": false,
       "index": 0,
       "layout": "IPY_MODEL_130c7757cb8d46c2a5a1df804f7d5306",
       "style": "IPY_MODEL_a49c7097981d494eb617ecb9bed96924"
      }
     },
     "e34cef3dafb449179e637cf5ac587eac": {
      "model_module": "@jupyter-widgets/base",
      "model_module_version": "1.2.0",
      "model_name": "LayoutModel",
      "state": {
       "_model_module": "@jupyter-widgets/base",
       "_model_module_version": "1.2.0",
       "_model_name": "LayoutModel",
       "_view_count": null,
       "_view_module": "@jupyter-widgets/base",
       "_view_module_version": "1.2.0",
       "_view_name": "LayoutView",
       "align_content": null,
       "align_items": null,
       "align_self": null,
       "border": null,
       "bottom": null,
       "display": null,
       "flex": null,
       "flex_flow": null,
       "grid_area": null,
       "grid_auto_columns": null,
       "grid_auto_flow": null,
       "grid_auto_rows": null,
       "grid_column": null,
       "grid_gap": null,
       "grid_row": null,
       "grid_template_areas": null,
       "grid_template_columns": null,
       "grid_template_rows": null,
       "height": null,
       "justify_content": null,
       "justify_items": null,
       "left": null,
       "margin": null,
       "max_height": null,
       "max_width": null,
       "min_height": null,
       "min_width": null,
       "object_fit": null,
       "object_position": null,
       "order": null,
       "overflow": null,
       "overflow_x": null,
       "overflow_y": null,
       "padding": null,
       "right": null,
       "top": null,
       "visibility": null,
       "width": null
      }
     },
     "e94d8a53467e4ed58a19829676afdfc5": {
      "model_module": "@jupyter-widgets/controls",
      "model_module_version": "1.5.0",
      "model_name": "DescriptionStyleModel",
      "state": {
       "_model_module": "@jupyter-widgets/controls",
       "_model_module_version": "1.5.0",
       "_model_name": "DescriptionStyleModel",
       "_view_count": null,
       "_view_module": "@jupyter-widgets/base",
       "_view_module_version": "1.2.0",
       "_view_name": "StyleView",
       "description_width": ""
      }
     },
     "ec5e645bacbc4486b1f6136b23817f26": {
      "model_module": "@jupyter-widgets/base",
      "model_module_version": "1.2.0",
      "model_name": "LayoutModel",
      "state": {
       "_model_module": "@jupyter-widgets/base",
       "_model_module_version": "1.2.0",
       "_model_name": "LayoutModel",
       "_view_count": null,
       "_view_module": "@jupyter-widgets/base",
       "_view_module_version": "1.2.0",
       "_view_name": "LayoutView",
       "align_content": null,
       "align_items": null,
       "align_self": null,
       "border": null,
       "bottom": null,
       "display": null,
       "flex": null,
       "flex_flow": null,
       "grid_area": null,
       "grid_auto_columns": null,
       "grid_auto_flow": null,
       "grid_auto_rows": null,
       "grid_column": null,
       "grid_gap": null,
       "grid_row": null,
       "grid_template_areas": null,
       "grid_template_columns": null,
       "grid_template_rows": null,
       "height": null,
       "justify_content": null,
       "justify_items": null,
       "left": null,
       "margin": null,
       "max_height": null,
       "max_width": null,
       "min_height": null,
       "min_width": null,
       "object_fit": null,
       "object_position": null,
       "order": null,
       "overflow": null,
       "overflow_x": null,
       "overflow_y": null,
       "padding": null,
       "right": null,
       "top": null,
       "visibility": null,
       "width": null
      }
     },
     "efd0a6abd42a4ce6aadb17f283f28fba": {
      "model_module": "@jupyter-widgets/base",
      "model_module_version": "1.2.0",
      "model_name": "LayoutModel",
      "state": {
       "_model_module": "@jupyter-widgets/base",
       "_model_module_version": "1.2.0",
       "_model_name": "LayoutModel",
       "_view_count": null,
       "_view_module": "@jupyter-widgets/base",
       "_view_module_version": "1.2.0",
       "_view_name": "LayoutView",
       "align_content": null,
       "align_items": null,
       "align_self": null,
       "border": null,
       "bottom": null,
       "display": null,
       "flex": null,
       "flex_flow": null,
       "grid_area": null,
       "grid_auto_columns": null,
       "grid_auto_flow": null,
       "grid_auto_rows": null,
       "grid_column": null,
       "grid_gap": null,
       "grid_row": null,
       "grid_template_areas": null,
       "grid_template_columns": null,
       "grid_template_rows": null,
       "height": null,
       "justify_content": null,
       "justify_items": null,
       "left": null,
       "margin": null,
       "max_height": null,
       "max_width": null,
       "min_height": null,
       "min_width": null,
       "object_fit": null,
       "object_position": null,
       "order": null,
       "overflow": null,
       "overflow_x": null,
       "overflow_y": null,
       "padding": null,
       "right": null,
       "top": null,
       "visibility": null,
       "width": "450px"
      }
     },
     "f15b4f3e051947ccbc233da216d0ae0e": {
      "model_module": "@jupyter-widgets/controls",
      "model_module_version": "1.5.0",
      "model_name": "VBoxModel",
      "state": {
       "_dom_classes": [],
       "_model_module": "@jupyter-widgets/controls",
       "_model_module_version": "1.5.0",
       "_model_name": "VBoxModel",
       "_view_count": null,
       "_view_module": "@jupyter-widgets/controls",
       "_view_module_version": "1.5.0",
       "_view_name": "VBoxView",
       "box_style": "",
       "children": [
        "IPY_MODEL_9185358f43a94bbe98fab86cf53b7554",
        "IPY_MODEL_397e74359cf14e388f54c61d07edafa1"
       ],
       "layout": "IPY_MODEL_b1de80d4be784d07b1ca8efcce707e59"
      }
     },
     "f2586891252a488bac54f649a1b0087b": {
      "model_module": "@jupyter-widgets/base",
      "model_module_version": "1.2.0",
      "model_name": "LayoutModel",
      "state": {
       "_model_module": "@jupyter-widgets/base",
       "_model_module_version": "1.2.0",
       "_model_name": "LayoutModel",
       "_view_count": null,
       "_view_module": "@jupyter-widgets/base",
       "_view_module_version": "1.2.0",
       "_view_name": "LayoutView",
       "align_content": null,
       "align_items": null,
       "align_self": null,
       "border": null,
       "bottom": null,
       "display": null,
       "flex": null,
       "flex_flow": null,
       "grid_area": null,
       "grid_auto_columns": null,
       "grid_auto_flow": null,
       "grid_auto_rows": null,
       "grid_column": null,
       "grid_gap": null,
       "grid_row": null,
       "grid_template_areas": null,
       "grid_template_columns": null,
       "grid_template_rows": null,
       "height": null,
       "justify_content": null,
       "justify_items": null,
       "left": null,
       "margin": null,
       "max_height": null,
       "max_width": "300px",
       "min_height": null,
       "min_width": "125px",
       "object_fit": null,
       "object_position": null,
       "order": null,
       "overflow": null,
       "overflow_x": "visible",
       "overflow_y": "visible",
       "padding": null,
       "right": null,
       "top": null,
       "visibility": null,
       "width": "175px"
      }
     },
     "f799dc488f2a496585acc2883426d71c": {
      "model_module": "bqplot",
      "model_module_version": "^0.5.0",
      "model_name": "AxisModel",
      "state": {
       "_model_module": "bqplot",
       "_model_module_version": "^0.5.0",
       "_model_name": "AxisModel",
       "_view_count": null,
       "_view_module": "bqplot",
       "_view_module_version": "^0.5.0",
       "_view_name": "Axis",
       "color": null,
       "grid_color": null,
       "grid_lines": "solid",
       "label": "Fraction of atoms",
       "label_color": null,
       "label_location": "middle",
       "label_offset": null,
       "num_ticks": null,
       "offset": {},
       "orientation": "vertical",
       "scale": "IPY_MODEL_fce69c72b7e74faabbf8f2053df6b2eb",
       "side": null,
       "tick_format": null,
       "tick_rotate": 0,
       "tick_style": {},
       "tick_values": null,
       "visible": true
      }
     },
     "f911070814f84c59a1762b729757d838": {
      "model_module": "bqplot",
      "model_module_version": "^0.5.0",
      "model_name": "LinearScaleModel",
      "state": {
       "_model_module": "bqplot",
       "_model_module_version": "^0.5.0",
       "_model_name": "LinearScaleModel",
       "_view_count": null,
       "_view_module": "bqplot",
       "_view_module_version": "^0.5.0",
       "_view_name": "LinearScale",
       "allow_padding": true,
       "max": 10.0,
       "mid_range": 0.8,
       "min": 0.0,
       "min_range": 0.6,
       "reverse": false,
       "stabilized": false
      }
     },
     "fb122667344a4175806b9b1f4a4926c8": {
      "model_module": "@jupyter-widgets/base",
      "model_module_version": "1.2.0",
      "model_name": "LayoutModel",
      "state": {
       "_model_module": "@jupyter-widgets/base",
       "_model_module_version": "1.2.0",
       "_model_name": "LayoutModel",
       "_view_count": null,
       "_view_module": "@jupyter-widgets/base",
       "_view_module_version": "1.2.0",
       "_view_name": "LayoutView",
       "align_content": null,
       "align_items": null,
       "align_self": null,
       "border": null,
       "bottom": null,
       "display": null,
       "flex": null,
       "flex_flow": null,
       "grid_area": null,
       "grid_auto_columns": null,
       "grid_auto_flow": null,
       "grid_auto_rows": null,
       "grid_column": null,
       "grid_gap": null,
       "grid_row": null,
       "grid_template_areas": null,
       "grid_template_columns": null,
       "grid_template_rows": null,
       "height": null,
       "justify_content": null,
       "justify_items": null,
       "left": null,
       "margin": null,
       "max_height": null,
       "max_width": null,
       "min_height": null,
       "min_width": null,
       "object_fit": null,
       "object_position": null,
       "order": null,
       "overflow": null,
       "overflow_x": null,
       "overflow_y": null,
       "padding": null,
       "right": null,
       "top": null,
       "visibility": null,
       "width": null
      }
     },
     "fb9ebc1f094540b780aeed088480cca6": {
      "model_module": "@jupyter-widgets/base",
      "model_module_version": "1.2.0",
      "model_name": "LayoutModel",
      "state": {
       "_model_module": "@jupyter-widgets/base",
       "_model_module_version": "1.2.0",
       "_model_name": "LayoutModel",
       "_view_count": null,
       "_view_module": "@jupyter-widgets/base",
       "_view_module_version": "1.2.0",
       "_view_name": "LayoutView",
       "align_content": null,
       "align_items": null,
       "align_self": null,
       "border": null,
       "bottom": null,
       "display": null,
       "flex": null,
       "flex_flow": null,
       "grid_area": null,
       "grid_auto_columns": null,
       "grid_auto_flow": null,
       "grid_auto_rows": null,
       "grid_column": null,
       "grid_gap": null,
       "grid_row": null,
       "grid_template_areas": null,
       "grid_template_columns": null,
       "grid_template_rows": null,
       "height": null,
       "justify_content": null,
       "justify_items": null,
       "left": null,
       "margin": null,
       "max_height": null,
       "max_width": null,
       "min_height": null,
       "min_width": null,
       "object_fit": null,
       "object_position": null,
       "order": null,
       "overflow": null,
       "overflow_x": null,
       "overflow_y": null,
       "padding": null,
       "right": null,
       "top": null,
       "visibility": null,
       "width": "250px"
      }
     },
     "fce69c72b7e74faabbf8f2053df6b2eb": {
      "model_module": "bqplot",
      "model_module_version": "^0.5.0",
      "model_name": "LinearScaleModel",
      "state": {
       "_model_module": "bqplot",
       "_model_module_version": "^0.5.0",
       "_model_name": "LinearScaleModel",
       "_view_count": null,
       "_view_module": "bqplot",
       "_view_module_version": "^0.5.0",
       "_view_name": "LinearScale",
       "allow_padding": true,
       "max": 1.0,
       "mid_range": 0.8,
       "min": 0.0,
       "min_range": 0.6,
       "reverse": false,
       "stabilized": false
      }
     },
     "fdadce15c0474aacafe10b6d31bcb4ff": {
      "model_module": "@jupyter-widgets/controls",
      "model_module_version": "1.5.0",
      "model_name": "FloatSliderModel",
      "state": {
       "_dom_classes": [],
       "_model_module": "@jupyter-widgets/controls",
       "_model_module_version": "1.5.0",
       "_model_name": "FloatSliderModel",
       "_view_count": null,
       "_view_module": "@jupyter-widgets/controls",
       "_view_module_version": "1.5.0",
       "_view_name": "FloatSliderView",
       "continuous_update": false,
       "description": "Time",
       "description_tooltip": null,
       "disabled": false,
       "layout": "IPY_MODEL_127354f1d68e4956a16ed4248c6e0a54",
       "max": 10.0,
       "min": 0.0,
       "orientation": "horizontal",
       "readout": false,
       "readout_format": ".1f",
       "step": 0.025,
       "style": "IPY_MODEL_ae51446d98964db09811fd60bf050366",
       "value": 0.0
      }
     }
    },
    "version_major": 2,
    "version_minor": 0
   }
  }
 },
 "nbformat": 4,
 "nbformat_minor": 2
}