{
 "cells": [
  {
   "cell_type": "code",
   "execution_count": 1,
   "metadata": {
    "execution": {
     "iopub.execute_input": "2020-06-29T04:17:14.872023Z",
     "iopub.status.busy": "2020-06-29T04:17:14.862809Z",
     "iopub.status.idle": "2020-06-29T04:17:14.878229Z",
     "shell.execute_reply": "2020-06-29T04:17:14.877327Z"
    }
   },
   "outputs": [
    {
     "data": {
      "text/html": [
       "<script>\n",
       "code_show=true; \n",
       "function code_toggle() {\n",
       " if (code_show){\n",
       " $('div.input').hide();\n",
       " } else {\n",
       " $('div.input').show();\n",
       " }\n",
       " code_show = !code_show\n",
       "} \n",
       "$( document ).ready(code_toggle);\n",
       "</script>\n",
       "The raw code for this IPython notebook is by default hidden for easier reading.\n",
       "To toggle on/off the raw code, click <a href=\"javascript:code_toggle()\">here</a>."
      ],
      "text/plain": [
       "<IPython.core.display.HTML object>"
      ]
     },
     "execution_count": 1,
     "metadata": {},
     "output_type": "execute_result"
    }
   ],
   "source": [
    "from IPython.display import HTML\n",
    "\n",
    "HTML('''<script>\n",
    "code_show=true; \n",
    "function code_toggle() {\n",
    " if (code_show){\n",
    " $('div.input').hide();\n",
    " } else {\n",
    " $('div.input').show();\n",
    " }\n",
    " code_show = !code_show\n",
    "} \n",
    "$( document ).ready(code_toggle);\n",
    "</script>\n",
    "The raw code for this IPython notebook is by default hidden for easier reading.\n",
    "To toggle on/off the raw code, click <a href=\"javascript:code_toggle()\">here</a>.''')"
   ]
  },
  {
   "cell_type": "markdown",
   "metadata": {},
   "source": [
    "# Radioactive Decay Interactives\n",
    "\n",
    "## Interactive Figure 1: Model of Radioactive Decay\n",
    "\n",
    "This first figure takes a population of 900 atoms and models their radioactive decay."
   ]
  },
  {
   "cell_type": "markdown",
   "metadata": {},
   "source": [
    "This first interactive is designed to allow you to explore what happens during radioactive decay of some isotope. An *isotope* refers to a particular version of an element.  For example, the non-radioactive Carbon-12 isotope has 6 protons and 6 neutrons in its nucleus but the radioactive Carbon-14 isotope has 6 protons and 8 neutrons in its nucleus.  Different isotopes of the same element behave identically in terms of chemistry and bonding to other atoms, but their nuclear properties can differ.\n",
    "\n",
    "During radioactive decay, a *parent isotope* is said to decay into a *daughter isotope*.  So, for example, the parent isotope of Carbon-14 decays into Nitrogen-14.  There is no way to predict when any one nucleus of a *parent isotope* will decay into a *daughter isotope*.   That said, if you look at a large number of nuclei of a parent isotope, they exhibit a very simple property:\n",
    "\n",
    "> **The same *fraction* of a radioactive parent isotope will decay over the same amount of time.**\n",
    "    \n",
    "The time it takes for one-half of a population of parent isotopes to decay (on average) into daughter isotopes is called the *half-life* of that isotope.  Different parent isotopes can have very different half-lifes.   **NOTE:** This interactive shows a simulation of the decay of only 900 atoms.  The radioactive decay is still modelled as occurring randomly for any one atom, so the simulation will show slightly different results on different runs!!"
   ]
  },
  {
   "cell_type": "markdown",
   "metadata": {},
   "source": [
    "Some questions to consider \n",
    "1. After 1 half-life, about 50% of a parent isotope should have decayed and become daughter isotope.  Use the interactive graphic below and adjust the elapsed time to figure out how long one half-life is for each isotope.  Explain your approach.\n",
    "2. How much of a parent isotope is left after 2 half-lifes? 3 half-lifes? 4 half-lifes? 5 half-lifes?  Explain how you figured this out.\n",
    "3. You should have found about 25% of the original amount of parent isotope is left after 2 half-lifes.  This may seem surprising since in the first half-life 50% of the original amount of parent isotope decayed.  Explain why 'less' of it decayed during the second half-life.  **HINT** Consider the very simple property of radioactive decay we highlighted above."
   ]
  },
  {
   "cell_type": "code",
   "execution_count": 2,
   "metadata": {
    "execution": {
     "iopub.execute_input": "2020-06-29T04:17:14.886793Z",
     "iopub.status.busy": "2020-06-29T04:17:14.885747Z",
     "iopub.status.idle": "2020-06-29T04:17:15.257245Z",
     "shell.execute_reply": "2020-06-29T04:17:15.256736Z"
    }
   },
   "outputs": [],
   "source": [
    "from IPython.display import display\n",
    "import numpy as np\n",
    "import bqplot as bq\n",
    "import ipywidgets as widgets\n",
    "import random as random\n",
    "import pandas as pd\n",
    "import number_formatting as nf\n",
    "from math import ceil, floor, log10"
   ]
  },
  {
   "cell_type": "code",
   "execution_count": 3,
   "metadata": {
    "execution": {
     "iopub.execute_input": "2020-06-29T04:17:15.274423Z",
     "iopub.status.busy": "2020-06-29T04:17:15.268733Z",
     "iopub.status.idle": "2020-06-29T04:17:15.281833Z",
     "shell.execute_reply": "2020-06-29T04:17:15.280313Z"
    }
   },
   "outputs": [],
   "source": [
    "## Originally developed June 2018 by Samuel Holen\n",
    "##\n",
    "## Edits by Juan Cabanela October 2018 to allow changes in the GUI.\n",
    "## - Made the display of the precise number/faction of parent/daught atoms instructor\n",
    "##   configurable.\n",
    "## - Fixed a problem with the display of data, forced data to only be displayed for first\n",
    "##   10 half-lifes regardless of actual generated decay times (this allows hard-coding of)\n",
    "##   num_ticks and tick values.\n",
    "\n",
    "## Pre-construct model of radioactive decay of a population\n",
    "## of parent and daughter atoms.\n",
    "## \n",
    "\n",
    "# GUI Configuration Parameters\n",
    "show_counts = True\n",
    "max_half_lifes = 10   # maximum half-lives to graph\n",
    "time_ticks = 6  # number of ticks for the time axis\n",
    "# half-lives to place ticks on horizontal axis\n",
    "half_life_ticks = np.linspace(0, max_half_lifes, time_ticks)\n",
    "\n",
    "# Constants Related to decay of the parent species to the daughter species\n",
    "N_parent = 900          # initial number of parent atoms (should be a perfect square)\n",
    "N_daughter = 0          # initial number of daughter atoms\n",
    "tau = 1                 # placeholder for the half-life of the parent species \n",
    "h = 0.025               # time step (in half lives)\n",
    "mu = np.log(2.) / tau   # constant for decay time distribution \n",
    "Plot_all_times = True   # Plot all times (otherwise, selects only before time slider value)\n",
    "\n",
    "# Initialize tracking of number of atoms\n",
    "Parent_counts = []          # list of number of parent atoms \n",
    "Dauther_counts = []          # list of number of daughter atoms\n",
    "\n",
    "# Generate a uniform random distribution of N_parent numbers from 0 to 1\n",
    "z = np.random.rand(N_parent)\n",
    "\n",
    "# Function to convert uniform distribution of random numbers to\n",
    "# a distribution weighted to model radiactive decay. The times are in number of \n",
    "# half-lives. \n",
    "#\n",
    "# The unsorted data representing the number of half-lifes until the individual\n",
    "# decay of each atom.\n",
    "decay_times = -np.log(1 - z) / mu\n",
    "decay_times_sorted = np.sort( decay_times )\n",
    "\n",
    "# Genereate array of numbers of atoms left\n",
    "# Adjusted so that each count contains 0 and N_parent\n",
    "Parent_counts = np.arange(N_parent,-1, -1, dtype='int') # Number of parent atoms\n",
    "Daughter_counts = np.ones_like(Parent_counts)\n",
    "Daughter_counts = N_parent - Parent_counts   # Number of daughter atoms\n",
    "\n",
    "#\n",
    "# Construct Pandas data frames\n",
    "#\n",
    "\n",
    "# Time column adjusted to include t=0\n",
    "decay_data = pd.DataFrame()\n",
    "decay_data['time'] = np.concatenate((np.zeros(1), decay_times_sorted))\n",
    "decay_data['Parent'] = Parent_counts\n",
    "decay_data['Daughter'] = Daughter_counts\n",
    "\n",
    "# Data array for species\n",
    "species = pd.DataFrame()\n",
    "species['parent_long'] = ['Generic', 'Carbon', 'Thallium','Uranium','Rubidium']\n",
    "species['daughter_long'] = ['Generic', 'Nitrogen','Lead','Thorium','Strontium']\n",
    "species['parent_short'] = ['Parent', 'C-14','Tl-208','U-235','Rb-87']\n",
    "species['daughter_short'] = ['Daughter', 'N-14','Pb-208','Th-231','Sr-87']\n",
    "species['half-lives'] = [tau, 5730, 3.053 * 60, 703.8, 48.8]\n",
    "species['step-size'] = [h, 125, 0.05 * 60, 15, 1]\n",
    "species['timeunits'] = ['half-lives', 'years', 'seconds', 'million years', 'billion years']"
   ]
  },
  {
   "cell_type": "code",
   "execution_count": 4,
   "metadata": {
    "execution": {
     "iopub.execute_input": "2020-06-29T04:17:15.309616Z",
     "iopub.status.busy": "2020-06-29T04:17:15.308652Z",
     "iopub.status.idle": "2020-06-29T04:17:15.311869Z",
     "shell.execute_reply": "2020-06-29T04:17:15.310888Z"
    }
   },
   "outputs": [],
   "source": [
    "##\n",
    "## Define functions to respond to controls on population plots.\n",
    "##\n",
    "\n",
    "def UpdateSpecies(change=None):\n",
    "    ##\n",
    "    ## Deal with possible changes of species\n",
    "    ##\n",
    "    \n",
    "    # Generate a new uniform random distribution of N_parent numbers from 0 to 1 and\n",
    "    # then convert uniform distribution to one weighted to model radioactive decay.\n",
    "    z = np.random.rand(N_parent)\n",
    "    decay_times = -np.log(1 - z) / mu\n",
    "    decay_times_sorted = np.sort( decay_times )\n",
    "    decay_data['time'] = np.concatenate((np.zeros(1), decay_times_sorted))\n",
    "    \n",
    "    # Reset the time to zero\n",
    "    Time_slide.value = 0\n",
    "    \n",
    "    # Adjust half-life data and limits on plots appropriately \n",
    "    new_index = species.loc[species.parent_long == pick_Species.value].index[0]\n",
    "    \n",
    "    # Set the half-life based the selected species\n",
    "    hf = species['half-lives'][new_index]\n",
    "    \n",
    "    # Set the limit on the time sider to be 10 half-lifes\n",
    "    Time_slide.max = max_half_lifes*hf\n",
    "    \n",
    "    # Set the time step on slider\n",
    "    Time_slide.step = species['step-size'][new_index]\n",
    "\n",
    "    # Updates the time slider label/units\n",
    "    unit_label.value = species['timeunits'][new_index]\n",
    "    \n",
    "    # Updates the time axes on the plot\n",
    "    x_time.max = Time_slide.max\n",
    "    ax_x_time.scale = x_time\n",
    "    ax_x_time.label = unit_label.value\n",
    "    \n",
    "    # Update tick values\n",
    "    ax_x_time.tick_values = list(half_life_ticks*hf)\n",
    "\n",
    "    # Update the legend\n",
    "    parent_label_new = species['parent_short'][new_index]\n",
    "    daughter_label_new = species['daughter_short'][new_index]\n",
    "    line_parent.labels = [parent_label_new]\n",
    "    line_daughter.labels = [daughter_label_new]\n",
    "    \n",
    "    # Update the species in the box that shows how many are present    \n",
    "    parent_label.value = parent_label_new + ' produced'\n",
    "    daughter_label.value = daughter_label_new + ' remaining'\n",
    "\n",
    "    # Now call the function for updating the plot in the event of a time change\n",
    "    UpdateTimes()\n",
    "\n",
    "    \n",
    "def UpdateFraction(change=None):\n",
    "    ##\n",
    "    ## Deal with whether fraction view or number view selected to set scales for plot,\n",
    "    ## y values for plot, and label values\n",
    "    ##\n",
    "    if frac_or_num.value == False:\n",
    "        # Number count mode enabled\n",
    "\n",
    "        # Update axes and scales\n",
    "        fig_counts.axes = [ax_x_time, ax_y_number]\n",
    "        line_parent.scales={'x': x_time, 'y': y_number}\n",
    "        line_daughter.scales={'x': x_time, 'y': y_number}\n",
    "        pts_parent.scales={'x': x_time, 'y': y_number}\n",
    "        pts_daughter.scales={'x': x_time, 'y': y_number}\n",
    "        line_time.scales={'x': x_time, 'y': y_number}\n",
    "\n",
    "        # Update 'time line' limits\n",
    "        line_time.y = [0, N_parent]    \n",
    "    else:\n",
    "        # Fraction mode enabled\n",
    "\n",
    "        # Updated axes and scales\n",
    "        fig_counts.axes = [ax_x_time, ax_y_fraction]\n",
    "        line_parent.scales={'x': x_time, 'y': y_fraction}\n",
    "        line_daughter.scales={'x': x_time, 'y': y_fraction}\n",
    "        pts_parent.scales={'x': x_time, 'y': y_fraction}\n",
    "        pts_daughter.scales={'x': x_time, 'y': y_fraction}\n",
    "        line_time.scales={'x': x_time, 'y': y_fraction}\n",
    "\n",
    "        # Update 'time line' limits\n",
    "        line_time.y = [0, 1]\n",
    "\n",
    "    UpdateTimes()\n",
    "\n",
    "    \n",
    "def UpdateTimes(change=None):\n",
    "    ##\n",
    "    ## Deal with changes in the time slider\n",
    "    ##\n",
    "\n",
    "    # Recall half-life of this species\n",
    "    species_idx = species.loc[species.parent_long == pick_Species.value].index[0]\n",
    "    hf = species['half-lives'][species_idx]\n",
    "\n",
    "    # Update time label with 3 significant figures\n",
    "    Time_label.value = str(nf.SigFig(Time_slide.value, 3))\n",
    "        \n",
    "    # Get the array of times\n",
    "    time_arr = hf * decay_data['time']\n",
    "    \n",
    "    # Set the times to be x values\n",
    "    line_daughter.x = time_arr\n",
    "    line_parent.x = line_daughter.x\n",
    "    pts_daughter.x = line_daughter.x\n",
    "    pts_parent.x = line_daughter.x\n",
    "    line_time.x = [Time_slide.value, Time_slide.value]\n",
    "    \n",
    "    # Changes the color of population to reflect the decays\n",
    "    for i in range(N_parent):\n",
    "        if Time_slide.value >= decay_times[i]*hf:\n",
    "            Colors[i] = 'blue'\n",
    "        else:\n",
    "            Colors[i] = 'red'\n",
    "    population_scat.colors = Colors\n",
    "    \n",
    "    # Identify where we are in the data set\n",
    "    i = 0\n",
    "    while i < N_parent + 1 and hf*decay_data['time'][i] < Time_slide.value:        \n",
    "        i += 1\n",
    "    if i > 0:\n",
    "        i -= 1\n",
    "        \n",
    "    # Update selection of the parent and daughter data to be plotted\n",
    "    if Plot_all_times:\n",
    "        daughter_decay = decay_data['Daughter']\n",
    "        parent_decay = decay_data['Parent']\n",
    "    else:\n",
    "        daughter_decay = decay_data['Daughter'][0:i+1]\n",
    "        parent_decay = decay_data['Parent'][0:i+1] \n",
    "    \n",
    "    line_parent.y = parent_decay\n",
    "    line_daughter.y = daughter_decay\n",
    "        \n",
    "    ##\n",
    "    ## Deal with whether fraction view or number view selected to set scales for plot,\n",
    "    ## y values for plot, and label values\n",
    "    ##\n",
    "    if frac_or_num.value == False:\n",
    "        # Number count mode enabled\n",
    "\n",
    "        # Update number of parent and daughter in labels\n",
    "        parent_present.value = str(decay_data['Parent'][i])\n",
    "        daughter_present.value = str(decay_data['Daughter'][i])\n",
    "    else:\n",
    "        # Fraction mode enabled\n",
    "        \n",
    "        # Update the x and y arrays for the parent and daughter lines\n",
    "        line_parent.y = (1/N_parent)*parent_decay\n",
    "        line_daughter.y = (1/N_parent)*daughter_decay\n",
    "    \n",
    "        # Update number of parent and daughter in labels\n",
    "        parent_present.value = '{:.3f}'.format((1/N_parent)*decay_data['Parent'][i])\n",
    "        daughter_present.value = '{:.3f}'.format((1/N_parent)*decay_data['Daughter'][i])\n",
    "    \n",
    "    # Update parent and daughter lines\n",
    "    pts_parent.y = line_parent.y\n",
    "    pts_daughter.y = line_daughter.y\n",
    "    \n",
    "    # Update the tooltip labels and formats (Bug? Doesn't appear to be working)\n",
    "    #pts_parent.tooltip.labels[1] = parent_label_new\n",
    "    #pts_daughter.tooltip.labels[1] = daughter_label_new\n",
    "    #if frac_or_num.value == False:\n",
    "    #    pts_parent.tooltip.formats[1] = '3.0f'\n",
    "    #    pts_daughter.tooltip.formats[1] = '3.0f'\n",
    "    #else:\n",
    "    #    pts_parent.tooltip.formats[1] = '0.3f'\n",
    "    #    pts_daughter.tooltip.formats[1] = '0.3f'\n",
    "        \n"
   ]
  },
  {
   "cell_type": "code",
   "execution_count": 5,
   "metadata": {
    "execution": {
     "iopub.execute_input": "2020-06-29T04:17:15.347977Z",
     "iopub.status.busy": "2020-06-29T04:17:15.347375Z",
     "iopub.status.idle": "2020-06-29T04:17:15.389155Z",
     "shell.execute_reply": "2020-06-29T04:17:15.386524Z"
    }
   },
   "outputs": [],
   "source": [
    "##\n",
    "## Set up counts versus time plot\n",
    "##\n",
    "\n",
    "# Set up Species to be Generic\n",
    "init_species_ind = 0  \n",
    "\n",
    "# Set up initial time\n",
    "init_time = 0\n",
    "init_time_idx = 0\n",
    "\n",
    "# Set up axes\n",
    "x_time = bq.LinearScale(min = 0, max=max_half_lifes)\n",
    "y_number = bq.LinearScale(min = 0, max=N_parent)\n",
    "y_fraction = bq.LinearScale(min = 0, max=1)\n",
    "\n",
    "# Labels and scales for Axes\n",
    "ax_x_time = bq.Axis(label=species['timeunits'][init_species_ind], scale=x_time, num_ticks = time_ticks,\n",
    "                    tick_values = half_life_ticks )\n",
    "ax_y_number = bq.Axis(label='Number of atoms', scale=y_number, orientation='vertical')\n",
    "ax_y_fraction = bq.Axis(label='Fraction of atoms', scale=y_fraction, orientation='vertical')\n",
    "\n",
    "# Define tooltip (Bug: doesn't allow relabeling Tooltips, also needs to apply to Scatter, not Lines)\n",
    "#def_tt_parent = bq.Tooltip(fields=['x', 'y'], formats=['.2f', '3.0f'], labels=['time', species['parent_short'][init_species_ind]])\n",
    "#def_tt_daughter = bq.Tooltip(fields=['x', 'y'], formats=['.2f', '3.0f'], labels=['time', species['daughter_short'][init_species_ind]])\n",
    "def_tt_parent = bq.Tooltip(fields=['x', 'y'], formats=['.2f', '.3f'], labels=['time', 'amount of parent isotope'])\n",
    "def_tt_daughter = bq.Tooltip(fields=['x', 'y'], formats=['.2f', '.3f'], labels=['time', 'amount of daughter isotope'])\n",
    "\n",
    "# Define the Lines and Scatter plots\n",
    "# NOTE: Scatter only necessary to allow tooltips to function.\n",
    "init_x = decay_data['time']*species['half-lives'][init_species_ind]\n",
    "if Plot_all_times:\n",
    "    init_parent = decay_data['Parent']\n",
    "    init_daughter = decay_data['Daughter']\n",
    "else:\n",
    "    init_parent = decay_data['Parent'][0:init_time_idx]\n",
    "    init_daughter = decay_data['Daughter'][0:init_time_idx]\n",
    "    \n",
    "pts_parent = bq.Scatter(x=init_x, y=init_parent,\n",
    "                      scales={'x': x_time, 'y': y_number}, marker='circle', default_size=2,\n",
    "                      display_legend=False, colors=['red'], labels=[species['parent_short'][init_species_ind]], \n",
    "                      tooltip=def_tt_parent)\n",
    "pts_daughter = bq.Scatter(x=init_x, y=init_daughter,\n",
    "                        scales={'x': x_time, 'y': y_number}, marker='circle', default_size=2,\n",
    "                        display_legend=False, colors=['blue'], labels=[species['daughter_short'][init_species_ind]],\n",
    "                        tooltip=def_tt_daughter)\n",
    "line_parent = bq.Lines(x=init_x, y=init_parent, \n",
    "                       scales={'x': x_time, 'y': y_number}, display_legend=True, colors=['red'], \n",
    "                       labels=[species['parent_short'][init_species_ind]], )\n",
    "line_daughter = bq.Lines(x=init_x, y=init_daughter, \n",
    "                         scales={'x': x_time, 'y': y_number}, display_legend=True, colors=['blue'], \n",
    "                         labels=[species['daughter_short'][init_species_ind]] )\n",
    "\n",
    "# Set up a vertical line on this plot to indicate the current time\n",
    "times_x = [init_time, init_time]\n",
    "times_y = [0, N_parent]\n",
    "line_time = bq.Lines(x=times_x, y=times_y,\n",
    "                     scales={'x': x_time, 'y': y_number}, \n",
    "                     colors=['greenyellow'])\n",
    "\n",
    "# Creates figure for plot\n",
    "fig_counts = bq.Figure(axes=[ax_x_time, ax_y_number], marks=[line_parent, line_daughter, line_time, pts_parent, pts_daughter], \n",
    "                       legend_location='right', legend_style={'fill': 'white'}, \n",
    "                       title='Counts versus Time', background_style={'fill': 'black'}, \n",
    "                       layout={'width': '500px', 'min_height': '400px'},\n",
    "                      animation=1000)"
   ]
  },
  {
   "cell_type": "code",
   "execution_count": 6,
   "metadata": {
    "execution": {
     "iopub.execute_input": "2020-06-29T04:17:15.458920Z",
     "iopub.status.busy": "2020-06-29T04:17:15.458313Z",
     "iopub.status.idle": "2020-06-29T04:17:15.475268Z",
     "shell.execute_reply": "2020-06-29T04:17:15.462711Z"
    }
   },
   "outputs": [],
   "source": [
    "# Slider widget to control the amount of time that has passed\n",
    "# Set for generic half-life situation initially (0 to 10 half-lifes)\n",
    "Time_slide = widgets.FloatSlider(\n",
    "    value=0.,\n",
    "    description='Time',\n",
    "    min=0.,\n",
    "    max=max_half_lifes,\n",
    "    step=h,\n",
    "    disabled=False,\n",
    "    continuous_update=False,\n",
    "    orientation='horizontal',\n",
    "    readout=False,\n",
    "    readout_format='.1f',\n",
    "    layout=widgets.Layout(overflow_x='visible',\n",
    "                          overflow_y='visible',\n",
    "                          width='400px',\n",
    "                          max_width='500px',\n",
    "                          min_width='250px')\n",
    ")\n",
    "\n",
    "# Widget to display the number of parent atoms present\n",
    "parent_present = widgets.Text(\n",
    "    value = str(N_parent),\n",
    "    style = {'description_width': 'initial'},\n",
    "    #description = species['parent_short'][0]+' remaining',\n",
    "    disabled = True,\n",
    "    layout=widgets.Layout(overflow_x='visible',\n",
    "                          overflow_y='visible',\n",
    "                          width='175px',\n",
    "                          max_width='300px',\n",
    "                          min_width='125px')\n",
    ")\n",
    "\n",
    "# Widget to display the number of daughter atoms present\n",
    "daughter_present = widgets.Text(\n",
    "    value = str(0),\n",
    "    style = {'description_width': 'initial'},\n",
    "    #description = species['daughter_short'][0]+' produced',\n",
    "    disabled = True,\n",
    "    layout=widgets.Layout(overflow_x='visible',\n",
    "                          overflow_y='visible',\n",
    "                          width='175px',\n",
    "                          max_width='300px',\n",
    "                          min_width='125px')\n",
    ")\n",
    "\n",
    "# Widgets to label the time slider with units\n",
    "Time_label = widgets.Label(value=str(Time_slide.value))\n",
    "unit_label = widgets.Label(value=str(species['timeunits'][0]))\n",
    "Composite_Time_Label = widgets.HBox([Time_label, unit_label],\n",
    "                                   layout=widgets.Layout(width='200px'))\n",
    "\n",
    "# Labels for the parent/daughter present displays\n",
    "parent_label = widgets.Label(value=species['parent_short'][0]+' remaining',\n",
    "                             layout=widgets.Layout(width='200px', \n",
    "                                                   overflow_x='visible',\n",
    "                                                   overflow_y='visible') )\n",
    "daughter_label = widgets.Label(value=species['daughter_short'][0]+' produced',\n",
    "                             layout=widgets.Layout(width='200px', \n",
    "                                                   overflow_x='visible',\n",
    "                                                   overflow_y='visible') )\n",
    "\n",
    "# Checkbox to choose whether to display the number of each species\n",
    "# or the fraction of each\n",
    "frac_or_num = widgets.Checkbox(value=False, description='Display as fraction of atoms')\n",
    "\n",
    "# Widget to allow one to choose which species to work with\n",
    "pick_Species = widgets.RadioButtons(options=species['parent_long'][:],\n",
    "                                    value='Generic', description='Species:', disabled=False,\n",
    "                                    layout=widgets.Layout(width='250px'))\n"
   ]
  },
  {
   "cell_type": "code",
   "execution_count": 7,
   "metadata": {
    "execution": {
     "iopub.execute_input": "2020-06-29T04:17:15.496719Z",
     "iopub.status.busy": "2020-06-29T04:17:15.496131Z",
     "iopub.status.idle": "2020-06-29T04:17:15.500535Z",
     "shell.execute_reply": "2020-06-29T04:17:15.498896Z"
    }
   },
   "outputs": [],
   "source": [
    "# Scale for population figure\n",
    "x_sc = bq.LinearScale(min=1, max=np.sqrt(N_parent))\n",
    "y_sc = bq.LinearScale(min=1, max=np.sqrt(N_parent))\n",
    "\n",
    "# Axes for population figure\n",
    "ax_x = bq.Axis(scale=x_sc, num_ticks=0)\n",
    "ax_y = bq.Axis(scale=y_sc, orientation='vertical', num_ticks=0)\n",
    "\n",
    "# Creates an array of x values: [1,2,...,30,1,2,...30,.....,1,2,...,30]\n",
    "x_ls = []\n",
    "for i in range(1,int(np.sqrt(N_parent))+1):\n",
    "    x_ls.append(float(i))\n",
    "x_ls = x_ls * int(np.sqrt(N_parent))\n",
    "x_arr = np.array(x_ls)\n",
    "\n",
    "# Creates an array of y values: [1,1,...,1,2,2,...2,......,30,30,...,30]\n",
    "y_ls = []\n",
    "for i in range(1,int(np.sqrt(N_parent))+1):\n",
    "    y_ls += [float(i)] * int(np.sqrt(N_parent))\n",
    "y_arr = np.array(y_ls)    \n",
    "\n",
    "# Creates a color array with the same number of entries as the number of atoms in\n",
    "# the sample\n",
    "Colors = ['red'] * N_parent\n",
    "\n",
    "# Plot the population model\n",
    "population_scat = bq.Scatter(x=x_arr, y=y_arr, scales={'x': x_sc, 'y': y_sc}, colors =['red'])"
   ]
  },
  {
   "cell_type": "code",
   "execution_count": 8,
   "metadata": {
    "execution": {
     "iopub.execute_input": "2020-06-29T04:17:15.625919Z",
     "iopub.status.busy": "2020-06-29T04:17:15.571172Z",
     "iopub.status.idle": "2020-06-29T04:17:15.656591Z",
     "shell.execute_reply": "2020-06-29T04:17:15.646855Z"
    }
   },
   "outputs": [
    {
     "data": {
      "application/vnd.jupyter.widget-view+json": {
       "model_id": "f08162f026ba453d8938035f347b90d2",
       "version_major": 2,
       "version_minor": 0
      },
      "text/plain": [
       "VBox(children=(HBox(children=(Figure(axes=[Axis(label='half-lives', num_ticks=6, scale=LinearScale(max=10.0, m…"
      ]
     },
     "metadata": {},
     "output_type": "display_data"
    }
   ],
   "source": [
    "# Picking a new species resets everything\n",
    "pick_Species.observe(UpdateSpecies, names=['value'])\n",
    "\n",
    "# Update view from fraction to/from number\n",
    "frac_or_num.observe(UpdateFraction, names=['value'])\n",
    "\n",
    "# Update times\n",
    "Time_slide.observe(UpdateTimes, names=['value'])\n",
    "Time_label.observe(UpdateTimes, names=['value'])\n",
    "\n",
    "# Figure for the population\n",
    "fig_population = bq.Figure(title='Population of Atoms', marks=[population_scat], axes=[ax_x, ax_y], \n",
    "                background_style={'fill' : 'black'},padding_x = 0.025,\n",
    "                min_aspect_ratio=1, max_aspect_ratio=1)\n",
    "\n",
    "# Boxes to organize display\n",
    "parent_box = widgets.HBox([parent_label, parent_present],\n",
    "                          layout=widgets.Layout(overflow_x='visible', overflow_y='visible'))\n",
    "daughter_box = widgets.HBox([daughter_label, daughter_present],\n",
    "                            layout=widgets.Layout(overflow_x='visible', overflow_y='visible'))\n",
    "# Set visibility of the exact counts/fractions\n",
    "if (show_counts == False):\n",
    "    parent_box.layout.visibility = 'hidden'\n",
    "    daughter_box.layout.visibility = 'hidden'\n",
    "\n",
    "value_box = widgets.VBox([parent_box, daughter_box])\n",
    "species_box = widgets.HBox([value_box, pick_Species])\n",
    "\n",
    "slide_box = widgets.HBox([Time_slide, Composite_Time_Label])\n",
    "slide_check_box = widgets.VBox([slide_box, frac_or_num])\n",
    "\n",
    "top_box = widgets.HBox([fig_counts, fig_population],\n",
    "                      layout=widgets.Layout(width='900px'))\n",
    "top_box.children[0].layout.width = '450px'\n",
    "top_box.children[1].layout.width = '450px'\n",
    "\n",
    "bottom_box = widgets.HBox([species_box, slide_check_box],\n",
    "                      layout=widgets.Layout(width='900px'))\n",
    "bottom_box.children[0].layout.width = '450px'\n",
    "bottom_box.children[1].layout.width = '450px'\n",
    "\n",
    "# Final display\n",
    "Final = widgets.VBox([top_box, bottom_box])\n",
    "Final.layout.overflow = 'hidden'\n",
    "display(Final)"
   ]
  },
  {
   "cell_type": "markdown",
   "metadata": {},
   "source": [
    "## Interactive Figure 2: Geochron Plot"
   ]
  },
  {
   "cell_type": "markdown",
   "metadata": {},
   "source": [
    "Assuming a non-radiogenic isotope (that is, an isotope that is not the result of radioactive decay) that also will not decay, its amount should be constant.  This means that for different mineral samples we can measure the ratio of parent isotope versus the non-radiogenic isotope ($P/D_i$) and daughter isotope ($D$) versus the non-radiogenic isotope ($D/D_i$) to build an geochron plot.  For example, using the following isotopes\n",
    "\n",
    "- $D_i$ (non-radiogenic isotope of daughter element)\n",
    "- $D$ (Daughter Isoptope)\n",
    "- $P$ (Parent isotope)\n",
    "\n",
    "an geochron plot could plot $D/D_i$ versus $P/D_i$.  \n",
    "\n",
    "What sets the *geochron method* (also known as the *isochron method*) apart from the just measuring parent and daughter abundances is the use of the non-radiogenic isotope of the daughter element.  This avoids the assumption of no initial daughter isotope before the rock solidified (radioactive decay can occur while rock is molten).\n",
    "\n",
    "Some minerals in the rock incorporate the parent better than daughter which is why the initial amount of parent \n",
    "isotope versus daughter isotope can vary.  We expect daughter versus non-radiogenic isotope ratio to be constant\n",
    "if we pick the non-radiogenic isotope to be the same element as the daughter isotope.\n",
    "\n",
    "With all this said, it is actually often not this simple as many daughter isotopes are themselves radioactive and decay, leading to a chain of reactions, so comparing abundances of parent to daughter isotopes is not simple.\n",
    "\n",
    "*Note:* The idea for the geochron dating interactive came from a Isochron Diagram Java app at *ScienceCourseware.org*.  However that app had some issues in that it didn't divide by a non-radiogenic isotope (or at least didn't mention it).  In fact, they used $D_i$ for the initial amount of daughter isotope instead of the non-radiogenic isotope of the same element as the daughter isotope."
   ]
  },
  {
   "cell_type": "markdown",
   "metadata": {},
   "source": [
    "Consider the following questions:\n",
    "\n",
    "1. Notice that the geochron shown here is using the parent and daugther isotope ratios for 4 mineral samples in a rock.  Consider the sample that starts off with the most parent isotope initially (the point initially farthest to the right).  Adjust the geochron to show the samples after 1 half-life.  How much of that parent isotope was there initially?  How much is there after 1 half-life?  Does this make sense? \n",
    "2. Consider the sample that starts off with the least parent isotope initially (the point initially farthest to the left).  Adjust the geochron to show the samples after 1 half-life.  How much of that parent isotope was there initially?  How much is there after 1 half-life?  Does this make sense? \n",
    "3. What fraction of the parent isotope should have decayed into daughter isotope after one half-life?  Does it matter if the mineral sample we look at started with more parent isotope than another mineral sample in the same rock?  Why or why not?  \n",
    "4. Why is it as time elapses that the points representing the 4 mineral samples all move toward the upper left?  Can you explain why their motions are parallel to one another?\n",
    "4. Imagine you are looking at the parent isotope Rubidium-87 which decays into Strontium-87.  You examine 4 mineral samples in an meteorite and they line up in a line with a slope of 0.0666.  Determine the age of that meteorite (or rather, the time since it solidified).  Also explain how we can determine how much of the daughter isotope was in the meteorite initially.\n"
   ]
  },
  {
   "cell_type": "code",
   "execution_count": 9,
   "metadata": {
    "execution": {
     "iopub.execute_input": "2020-06-29T04:17:15.673788Z",
     "iopub.status.busy": "2020-06-29T04:17:15.673222Z",
     "iopub.status.idle": "2020-06-29T04:17:15.675475Z",
     "shell.execute_reply": "2020-06-29T04:17:15.675017Z"
    }
   },
   "outputs": [],
   "source": [
    "##\n",
    "## Define the various isotopes we want to consider\n",
    "##\n",
    "\n",
    "isotope_info = pd.DataFrame(columns=['Name', 'PName', 'PAbbrev', 'DName', 'DAbbrev', 'DiName', 'DiAbbrev', 'HalfLife', 'HLUnits'])\n",
    "isotope_info['index'] = ['generic', 'Rb87']\n",
    "isotope_info['Name'] = ['Generic', 'Rb-87->Sr-87']\n",
    "isotope_info['PName'] = ['Parent', 'Rubidium-87']\n",
    "isotope_info['PAbbrev'] = ['P', 'Rb-87']\n",
    "isotope_info['DName'] = ['Daughter', 'Strontium-87']\n",
    "isotope_info['DAbbrev'] = ['D', 'Sr-87']\n",
    "isotope_info['DiName'] = ['Non-Radiogenic Isotope of Daughter Element', 'Strontium-86']\n",
    "isotope_info['DiAbbrev'] = ['D_i', 'Sr-86']\n",
    "isotope_info['HalfLife'] = [ 1, 48.8 ]\n",
    "isotope_info['HLUnits'] = [ 'half-lives', 'Billion years']\n",
    "isotope_info = isotope_info.set_index('index')\n",
    "\n",
    "# Set initial isotope to plot\n",
    "init_isotope = 'generic'"
   ]
  },
  {
   "cell_type": "code",
   "execution_count": 10,
   "metadata": {
    "execution": {
     "iopub.execute_input": "2020-06-29T04:17:15.683517Z",
     "iopub.status.busy": "2020-06-29T04:17:15.682963Z",
     "iopub.status.idle": "2020-06-29T04:17:15.684774Z",
     "shell.execute_reply": "2020-06-29T04:17:15.685240Z"
    }
   },
   "outputs": [],
   "source": [
    "##\n",
    "## Define the initial amounts of parent and daughter in the sample.\n",
    "##\n",
    "## In principle, I would change this depending on the isotopes we plot.  But I am only plotting\n",
    "## Rb87 --> Sr-87, since that is the most classical use of this Geochron approach.\n",
    "##\n",
    "\n",
    "# Range of P to D_i fractions and initial amounts of D to D_i to consider\n",
    "P2Di_min = 0.05\n",
    "P2Di_max = 0.40\n",
    "D2Di0_min = 0.05\n",
    "D2Di0_max = 0.75\n",
    "\n",
    "# Generate three mineral samples in different thirds of the entire range\n",
    "range_P2Di  = (P2Di_max-P2Di_min)\n",
    "\n",
    "# Create sample amounts\n",
    "n_samples = 4\n",
    "nums = np.array(list(range(1, n_samples+1)))\n",
    "initial_samples = pd.DataFrame(index=nums)\n",
    "initial_D2Di0 = D2Di0_min + (D2Di0_max - D2Di0_min) * np.random.random()\n",
    "initial_samples['P2Di'] = P2Di_min + (range_P2Di/n_samples) * (nums - np.random.random(n_samples))\n",
    "initial_samples['D2Di'] = initial_D2Di0*np.ones_like(nums)\n"
   ]
  },
  {
   "cell_type": "code",
   "execution_count": 11,
   "metadata": {
    "execution": {
     "iopub.execute_input": "2020-06-29T04:17:15.706540Z",
     "iopub.status.busy": "2020-06-29T04:17:15.692292Z",
     "iopub.status.idle": "2020-06-29T04:17:15.708819Z",
     "shell.execute_reply": "2020-06-29T04:17:15.708274Z"
    }
   },
   "outputs": [],
   "source": [
    "##\n",
    "## Define functions to call when building interactive plot\n",
    "##\n",
    "\n",
    "def amt_left(sample_in, taus):\n",
    "    # Generate a sample DataFrame after tau half-lifes given an initial DataFrame\n",
    "    sample = sample_in.copy(deep = True)\n",
    "    sample['P2Di'] = sample_in['P2Di']*((1/2)**(taus))\n",
    "    sample['D2Di'] = sample_in['D2Di'] + sample_in['P2Di']*(1 - (1/2)**(taus))\n",
    "    return sample\n",
    "\n",
    "def line_points(sample):\n",
    "    global x_min, x_max, y_min, y_max, initial_D2Di0\n",
    "    \n",
    "    # Determine the end points of a line going through the sample points.\n",
    "    x_range = x_max - x_min\n",
    "    y_range = y_max - y_min\n",
    "    \n",
    "    # Slope (extrapolate from first two points - could be done by a fit to the points)\n",
    "    slope = (sample['D2Di'][2]-sample['D2Di'][1])/(sample['P2Di'][2]-sample['P2Di'][1])\n",
    "    y_final = initial_D2Di0 + slope*x_range\n",
    "    x_points = (x_min, x_max)\n",
    "    y_points = (initial_D2Di0, y_final)\n",
    "    return x_points, y_points, slope\n",
    "\n",
    "def init2current(samples0, samples):\n",
    "    # Compute the lines connecting initital and final points for plotting\n",
    "    n_pts = len(samples0)\n",
    "\n",
    "    xlist = []\n",
    "    ylist = []\n",
    "    for pt in range(1, n_pts+1):\n",
    "        x = np.array([ samples0['P2Di'][pt], samples['P2Di'][pt] ])\n",
    "        y = np.array([ samples0['D2Di'][pt], samples['D2Di'][pt] ])\n",
    "        xlist.append(x)\n",
    "        ylist.append(y)\n",
    "    \n",
    "    return(xlist, ylist)\n",
    "    \n",
    "def HL_changed(change):\n",
    "    global isotope, sample, initial_samples, dots_current, line_current, connectors, slope_label\n",
    "    \n",
    "    # Determine half-life of this isotope\n",
    "    idx = (isotope_info.Name == isotope.value)\n",
    "    HL = float(isotope_info[idx].HalfLife.tolist()[0])\n",
    "    \n",
    "    # How many half-lives have passed?  Use this to get new sample and line info\n",
    "    this_tau = HL_slider.value / HL\n",
    "    sample = amt_left(initial_samples, this_tau)\n",
    "    x_sample, y_sample, slope =  line_points(sample)\n",
    "    \n",
    "    # Update plot\n",
    "    dots_current.x = sample['P2Di']\n",
    "    dots_current.y = sample['D2Di']\n",
    "    line_current.x = x_sample\n",
    "    line_current.y = y_sample\n",
    "    slope_label.value = 'Slope: {0:0.4f}'.format(slope)\n",
    "    xlist, ylist = init2current(initial_samples, sample)\n",
    "    connectors.x = xlist\n",
    "    connectors.y = ylist\n",
    "    \n",
    "    \n",
    "def isotope_changed(change):\n",
    "    global ax_x_P2Di, ax_y_D2Di, HL_slider, HLlabel, UnitsText, Max_half_lives\n",
    "\n",
    "    # Extract the necessary isotope descriptors from the Pandas DataFrame\n",
    "    idx = (isotope_info.Name == change.new)\n",
    "    HL = float(isotope_info[idx].HalfLife.tolist()[0])\n",
    "    HLUnits = isotope_info[idx].HLUnits.tolist()[0]\n",
    "    PAbbrev = isotope_info[idx].PAbbrev.tolist()[0]\n",
    "    DAbbrev = isotope_info[idx].DAbbrev.tolist()[0]\n",
    "    DiAbbrev = isotope_info[idx].DiAbbrev.tolist()[0]\n",
    "\n",
    "    # Get old half-life\n",
    "    idx_old = (isotope_info.Name == change.old)\n",
    "    HL_old = float(isotope_info[idx_old].HalfLife.tolist()[0])\n",
    "\n",
    "    # Determine current age reading from slider and adjust to new units\n",
    "    init_age = HL_slider.value \n",
    "    \n",
    "    # Hard code generic versus others\n",
    "    if (change.new != isotope_info.loc['generic'].Name):\n",
    "        HL_slider.description = \"Time\"\n",
    "    else: \n",
    "        HL_slider.description = \"Half-lives\"    \n",
    "\n",
    "    # Adjust time scales\n",
    "    if (HL_old < HL):\n",
    "        # Adjust maximum limits first before adjusting values (since new HL > old HL)\n",
    "        HL_slider.max = Max_half_lives*HL\n",
    "        HLlabel.max = HL_slider.max \n",
    "        HL_slider.value = HL*(init_age/HL_old)\n",
    "        HLlabel.value = HL_slider.value       \n",
    "    else:\n",
    "        # Adjust maximum limits after adjusting values (since new HL < old HL)\n",
    "        HL_slider.value = HL*(init_age/HL_old)\n",
    "        HLlabel.value = HL_slider.value\n",
    "        HL_slider.max = Max_half_lives*HL\n",
    "        HLlabel.max = HL_slider.max \n",
    "                \n",
    "    # Set the axes and other labels to display\n",
    "    UnitsText.value = HLUnits\n",
    "    ax_x_P2Di.label = '{0} / {1}'.format(PAbbrev, DiAbbrev)\n",
    "    ax_y_D2Di.label = '{0} / {1}'.format(DAbbrev, DiAbbrev)\n",
    "\n"
   ]
  },
  {
   "cell_type": "code",
   "execution_count": 12,
   "metadata": {
    "execution": {
     "iopub.execute_input": "2020-06-29T04:17:15.814024Z",
     "iopub.status.busy": "2020-06-29T04:17:15.721005Z",
     "iopub.status.idle": "2020-06-29T04:17:15.846095Z",
     "shell.execute_reply": "2020-06-29T04:17:15.832652Z"
    }
   },
   "outputs": [
    {
     "data": {
      "application/vnd.jupyter.widget-view+json": {
       "model_id": "207b99ac3f2b461c8bbc483bc632a6c3",
       "version_major": 2,
       "version_minor": 0
      },
      "text/plain": [
       "HBox(children=(Figure(axes=[Axis(label='P / D_i', scale=LinearScale(max=0.35000000000000003, min=0.0)), Axis(l…"
      ]
     },
     "metadata": {},
     "output_type": "display_data"
    }
   ],
   "source": [
    "##\n",
    "## Set up isochron plot\n",
    "##\n",
    "\n",
    "# Largest possible fraction of decay (only go out to 5 half-lives)\n",
    "Max_half_lives = 5\n",
    "Max_decay_fraction = 1 - (1/2)**(Max_half_lives)\n",
    "\n",
    "# detemine maximum and minimum values of X and Y axes\n",
    "x_step = 0.05\n",
    "x_min = 0\n",
    "x_max = x_step * ceil(initial_samples['P2Di'][n_samples] / x_step)\n",
    "y_step = 0.04\n",
    "y_min = y_step * floor(initial_D2Di0 / y_step)\n",
    "y_max = y_step * ceil((initial_D2Di0 + initial_samples['P2Di'][n_samples] * Max_decay_fraction) / y_step)\n",
    "\n",
    "# Labels and scales for Axes\n",
    "x_P2Di = bq.LinearScale(min = x_min, max = x_max)\n",
    "y_D2Di = bq.LinearScale(min = y_min, max = y_max)\n",
    "ax_x_P2Di = bq.Axis(label='P / D_i', scale=x_P2Di)\n",
    "ax_y_D2Di = bq.Axis(label='D / D_i', scale=y_D2Di, orientation='vertical')\n",
    "\n",
    "# Set up initial conditions\n",
    "taus = 0    # zero half lives past\n",
    "sample = amt_left(initial_samples, taus)\n",
    "\n",
    "##\n",
    "## Define the lines\n",
    "##\n",
    "\n",
    "# Initial amount of daughter line (with dots for initial amounts of parent)\n",
    "x_init, y_init, slope_init =  line_points(initial_samples)\n",
    "line_initial = bq.Lines(x=x_init, y=y_init, scales={'x': x_P2Di, 'y': y_D2Di}, \n",
    "                   line_style='dashed', colors=['red'], labels=['Initial Sample'])\n",
    "dots_initial = bq.Scatter(x=initial_samples['P2Di'], y=initial_samples['D2Di'], scales={'x': x_P2Di, 'y': y_D2Di}, \n",
    "                   colors=['white'], stroke='red', fill= True, labels=['Initial Isochron'])\n",
    "\n",
    "# Current quantities on isochron line\n",
    "x_sample, y_sample, slope =  line_points(sample)\n",
    "line_current = bq.Lines(x=x_sample, y=y_sample, scales={'x': x_P2Di, 'y': y_D2Di}, \n",
    "                   line_style='solid', colors=['red'], labels=['Current Isochron'])\n",
    "dots_current = bq.Scatter(x=sample['P2Di'], y=sample['D2Di'], scales={'x': x_P2Di, 'y': y_D2Di}, \n",
    "                   colors=['red'], stroke='red', fill= True, labels=['Current Isochron'])\n",
    "\n",
    "# Connect Initial and Current quantities on isochron line\n",
    "xlist, ylist = init2current(initial_samples, sample)\n",
    "connectors = bq.Lines(x=xlist, y=ylist, scales={'x': x_P2Di, 'y': y_D2Di}, \n",
    "                   line_style='dotted', colors=['black'])\n",
    "\n",
    "##\n",
    "## Construct plot\n",
    "##\n",
    "isochron = bq.Figure(axes=[ax_x_P2Di, ax_y_D2Di], \n",
    "                     marks=[connectors, line_initial, dots_initial, line_current, dots_current],\n",
    "                     title='Geochron Diagram', \n",
    "                     layout={'width': '700px', 'height': '500px', \n",
    "                             'max_width': '700px', 'max_height': '500px',\n",
    "                             'min_width': '600px', 'min_height': '400px'})\n",
    "\n",
    "##\n",
    "## Construct controls\n",
    "##\n",
    "\n",
    "# Select Generic or Specific Isotopes\n",
    "isotope = widgets.RadioButtons(options=list(isotope_info.Name), \n",
    "                               value=isotope_info.loc[init_isotope].Name, description='Isotope:', \n",
    "                               disabled=False, \n",
    "                               layout=widgets.Layout(height='75px', max_height='100px', min_height='50px', \n",
    "                                                    width='200px', max_width='300px',  min_width='100px'))\n",
    "isotope.observe(isotope_changed, 'value')\n",
    "\n",
    "# Slider and text field controling age\n",
    "idx = (isotope_info.Name == isotope.value)\n",
    "HL = float(isotope_info[idx].HalfLife.tolist()[0])\n",
    "HLUnits = isotope_info[idx].HLUnits.tolist()[0]\n",
    "\n",
    "HL_slider = widgets.FloatSlider(value=0, min=0, max=Max_half_lives*HL, step=0.02,\n",
    "                                description='Half-lives', disabled=False,\n",
    "                                continuous_update=False, orientation='horizontal',\n",
    "                                readout=False, readout_format='.2f',\n",
    "                                layout=widgets.Layout(height='75px', max_height='100px', min_height='50px', \n",
    "                                                    width='200px', max_width='300px',  min_width='100px'))\n",
    "HL_slider.observe(HL_changed, 'value')\n",
    "\n",
    "# Get units value and units for age label, then apply them\n",
    "HLlabel = widgets.BoundedFloatText(value = HL_slider.value, min = HL_slider.min, max = HL_slider.max, \n",
    "                                   step = HL_slider.step,\n",
    "                                       layout={'width': '75px', 'height': '50px', \n",
    "                                               'max_width': '75px', 'max_height': '75px',\n",
    "                                               'min_width': '50px', 'min_height': '50px'})\n",
    "UnitsText = widgets.Label(value=HLUnits)\n",
    "age_label = widgets.HBox([HLlabel, UnitsText])\n",
    "# Link HL slider with this text\n",
    "widgets.jslink((HL_slider, 'value'), (HLlabel, 'value'))\n",
    "\n",
    "# Describe slope\n",
    "slope_label = widgets.Label(value = 'Slope: {0:0.4f}'.format(slope),\n",
    "                                       layout={'align_items':'center','align_content':'center', \n",
    "                                               'justify_content':'center', \n",
    "                                               'width': '100px', 'height': '50px', \n",
    "                                               'max_width': '100px', 'max_height': '75px',\n",
    "                                               'min_width': '50px', 'min_height': '50px'})\n",
    "\n",
    "\n",
    "controls = widgets.VBox( [isotope, HL_slider, age_label, slope_label], \n",
    "                        layout=widgets.Layout(align_content='center', align_items='center', \n",
    "                                              justify_content='center', \n",
    "                                              width='300px', height='500px', \n",
    "                                              max_width='300px', max_height='500px',\n",
    "                                              min_width='100px', min_height='400px',\n",
    "                                              overflow_x='hidden', overflow_y='hidden') )\n",
    "\n",
    "display(widgets.HBox( [isochron, controls] ) )"
   ]
  }
 ],
 "metadata": {
  "kernelspec": {
   "display_name": "Python 3",
   "language": "python",
   "name": "python3"
  },
  "language_info": {
   "codemirror_mode": {
    "name": "ipython",
    "version": 3
   },
   "file_extension": ".py",
   "mimetype": "text/x-python",
   "name": "python",
   "nbconvert_exporter": "python",
   "pygments_lexer": "ipython3",
   "version": "3.6.3"
  },
  "widgets": {
   "application/vnd.jupyter.widget-state+json": {
    "state": {
     "003f271f15c443d089c557ce70035b8e": {
      "model_module": "bqplot",
      "model_module_version": "^0.5.0",
      "model_name": "LinearScaleModel",
      "state": {
       "_model_module": "bqplot",
       "_model_module_version": "^0.5.0",
       "_model_name": "LinearScaleModel",
       "_view_count": null,
       "_view_module": "bqplot",
       "_view_module_version": "^0.5.0",
       "_view_name": "LinearScale",
       "allow_padding": false,
       "max": 1.0,
       "mid_range": 0.8,
       "min": 0.0,
       "min_range": 0.6,
       "reverse": false,
       "stabilized": false
      }
     },
     "037ca1df9c1f4e6caeb141f35353fea8": {
      "model_module": "bqplot",
      "model_module_version": "^0.5.0",
      "model_name": "LinearScaleModel",
      "state": {
       "_model_module": "bqplot",
       "_model_module_version": "^0.5.0",
       "_model_name": "LinearScaleModel",
       "_view_count": null,
       "_view_module": "bqplot",
       "_view_module_version": "^0.5.0",
       "_view_name": "LinearScale",
       "allow_padding": true,
       "max": 30.0,
       "mid_range": 0.8,
       "min": 1.0,
       "min_range": 0.6,
       "reverse": false,
       "stabilized": false
      }
     },
     "06b5321a7a024420aa7f2401ece0f6fb": {
      "model_module": "@jupyter-widgets/controls",
      "model_module_version": "1.5.0",
      "model_name": "HBoxModel",
      "state": {
       "_dom_classes": [],
       "_model_module": "@jupyter-widgets/controls",
       "_model_module_version": "1.5.0",
       "_model_name": "HBoxModel",
       "_view_count": null,
       "_view_module": "@jupyter-widgets/controls",
       "_view_module_version": "1.5.0",
       "_view_name": "HBoxView",
       "box_style": "",
       "children": [
        "IPY_MODEL_1c0963cd2fc9472a986e26d3182d44de",
        "IPY_MODEL_b35bba5b03f04240a21491ed4550fb83"
       ],
       "layout": "IPY_MODEL_378b87a8ddaa46ed984a1e080c737ed1"
      }
     },
     "09844c346e094562ae6c495e724e981d": {
      "model_module": "@jupyter-widgets/base",
      "model_module_version": "1.2.0",
      "model_name": "LayoutModel",
      "state": {
       "_model_module": "@jupyter-widgets/base",
       "_model_module_version": "1.2.0",
       "_model_name": "LayoutModel",
       "_view_count": null,
       "_view_module": "@jupyter-widgets/base",
       "_view_module_version": "1.2.0",
       "_view_name": "LayoutView",
       "align_content": null,
       "align_items": null,
       "align_self": null,
       "border": null,
       "bottom": null,
       "display": null,
       "flex": null,
       "flex_flow": null,
       "grid_area": null,
       "grid_auto_columns": null,
       "grid_auto_flow": null,
       "grid_auto_rows": null,
       "grid_column": null,
       "grid_gap": null,
       "grid_row": null,
       "grid_template_areas": null,
       "grid_template_columns": null,
       "grid_template_rows": null,
       "height": null,
       "justify_content": null,
       "justify_items": null,
       "left": null,
       "margin": null,
       "max_height": null,
       "max_width": null,
       "min_height": null,
       "min_width": null,
       "object_fit": null,
       "object_position": null,
       "order": null,
       "overflow": null,
       "overflow_x": null,
       "overflow_y": null,
       "padding": null,
       "right": null,
       "top": null,
       "visibility": null,
       "width": "900px"
      }
     },
     "0a0547476f924f6e944e40e3b6b56327": {
      "buffers": [
       {
        "data": "AAAAAAAA8D8=",
        "encoding": "base64",
        "path": [
         "default_opacities",
         "value"
        ]
       },
       {
        "data": "xyNPpKUtqj+c8f6deMjGP5qHHBzTc9I/cx9RhLOs1D8=",
        "encoding": "base64",
        "path": [
         "x",
         "value"
        ]
       },
       {
        "data": "3pBkpSXkyj/ekGSlJeTKP96QZKUl5Mo/3pBkpSXkyj8=",
        "encoding": "base64",
        "path": [
         "y",
         "value"
        ]
       }
      ],
      "model_module": "bqplot",
      "model_module_version": "^0.5.0",
      "model_name": "ScatterModel",
      "state": {
       "_model_module": "bqplot",
       "_model_module_version": "^0.5.0",
       "_model_name": "ScatterModel",
       "_view_count": null,
       "_view_module": "bqplot",
       "_view_module_version": "^0.5.0",
       "_view_name": "Scatter",
       "apply_clip": true,
       "color": null,
       "colors": [
        "white"
       ],
       "default_opacities": {
        "dtype": "float64",
        "shape": [
         1
        ],
        "type": null
       },
       "default_size": 64,
       "default_skew": 0.5,
       "display_legend": false,
       "display_names": true,
       "drag_color": null,
       "drag_size": 5.0,
       "enable_delete": false,
       "enable_hover": true,
       "enable_move": false,
       "fill": true,
       "hovered_point": null,
       "hovered_style": {},
       "interactions": {
        "hover": "tooltip"
       },
       "labels": [
        "Initial Isochron"
       ],
       "marker": "circle",
       "names": null,
       "names_unique": true,
       "opacity": null,
       "preserve_domain": {},
       "restrict_x": false,
       "restrict_y": false,
       "rotation": null,
       "scales": {
        "x": "IPY_MODEL_f34fe989f8c542b7aec3a5b6f5a22b51",
        "y": "IPY_MODEL_ea3bee4afd044aceac261fc914e720cd"
       },
       "scales_metadata": {
        "color": {
         "dimension": "color"
        },
        "opacity": {
         "dimension": "opacity"
        },
        "rotation": {
         "dimension": "rotation"
        },
        "size": {
         "dimension": "size"
        },
        "skew": {
         "dimension": "skew"
        },
        "x": {
         "dimension": "x",
         "orientation": "horizontal"
        },
        "y": {
         "dimension": "y",
         "orientation": "vertical"
        }
       },
       "selected": null,
       "selected_style": {},
       "size": null,
       "skew": null,
       "stroke": "red",
       "stroke_width": 1.5,
       "tooltip": null,
       "tooltip_location": "mouse",
       "tooltip_style": {
        "opacity": 0.9
       },
       "unhovered_style": {},
       "unselected_style": {},
       "update_on_move": false,
       "visible": true,
       "x": {
        "dtype": "float64",
        "shape": [
         4
        ],
        "type": null
       },
       "y": {
        "dtype": "float64",
        "shape": [
         4
        ],
        "type": null
       }
      }
     },
     "0b05cf9a1db84565878ab833bebca43c": {
      "buffers": [
       {
        "data": "AAAAAAAA8D8=",
        "encoding": "base64",
        "path": [
         "default_opacities",
         "value"
        ]
       },
       {
        "data": "xyNPpKUtqj+c8f6deMjGP5qHHBzTc9I/cx9RhLOs1D8=",
        "encoding": "base64",
        "path": [
         "x",
         "value"
        ]
       },
       {
        "data": "3pBkpSXkyj/ekGSlJeTKP96QZKUl5Mo/3pBkpSXkyj8=",
        "encoding": "base64",
        "path": [
         "y",
         "value"
        ]
       }
      ],
      "model_module": "bqplot",
      "model_module_version": "^0.5.0",
      "model_name": "ScatterModel",
      "state": {
       "_model_module": "bqplot",
       "_model_module_version": "^0.5.0",
       "_model_name": "ScatterModel",
       "_view_count": null,
       "_view_module": "bqplot",
       "_view_module_version": "^0.5.0",
       "_view_name": "Scatter",
       "apply_clip": true,
       "color": null,
       "colors": [
        "red"
       ],
       "default_opacities": {
        "dtype": "float64",
        "shape": [
         1
        ],
        "type": null
       },
       "default_size": 64,
       "default_skew": 0.5,
       "display_legend": false,
       "display_names": true,
       "drag_color": null,
       "drag_size": 5.0,
       "enable_delete": false,
       "enable_hover": true,
       "enable_move": false,
       "fill": true,
       "hovered_point": null,
       "hovered_style": {},
       "interactions": {
        "hover": "tooltip"
       },
       "labels": [
        "Current Isochron"
       ],
       "marker": "circle",
       "names": null,
       "names_unique": true,
       "opacity": null,
       "preserve_domain": {},
       "restrict_x": false,
       "restrict_y": false,
       "rotation": null,
       "scales": {
        "x": "IPY_MODEL_f34fe989f8c542b7aec3a5b6f5a22b51",
        "y": "IPY_MODEL_ea3bee4afd044aceac261fc914e720cd"
       },
       "scales_metadata": {
        "color": {
         "dimension": "color"
        },
        "opacity": {
         "dimension": "opacity"
        },
        "rotation": {
         "dimension": "rotation"
        },
        "size": {
         "dimension": "size"
        },
        "skew": {
         "dimension": "skew"
        },
        "x": {
         "dimension": "x",
         "orientation": "horizontal"
        },
        "y": {
         "dimension": "y",
         "orientation": "vertical"
        }
       },
       "selected": null,
       "selected_style": {},
       "size": null,
       "skew": null,
       "stroke": "red",
       "stroke_width": 1.5,
       "tooltip": null,
       "tooltip_location": "mouse",
       "tooltip_style": {
        "opacity": 0.9
       },
       "unhovered_style": {},
       "unselected_style": {},
       "update_on_move": false,
       "visible": true,
       "x": {
        "dtype": "float64",
        "shape": [
         4
        ],
        "type": null
       },
       "y": {
        "dtype": "float64",
        "shape": [
         4
        ],
        "type": null
       }
      }
     },
     "0e031903a52644a3ac8a3b57f0699299": {
      "buffers": [
       {
        "data": "xyNPpKUtqj/HI0+kpS2qP5zx/p14yMY/nPH+nXjIxj+ahxwc03PSP5qHHBzTc9I/cx9RhLOs1D9zH1GEs6zUPw==",
        "encoding": "base64",
        "path": [
         "x",
         "value"
        ]
       },
       {
        "data": "3pBkpSXkyj/ekGSlJeTKP96QZKUl5Mo/3pBkpSXkyj/ekGSlJeTKP96QZKUl5Mo/3pBkpSXkyj/ekGSlJeTKPw==",
        "encoding": "base64",
        "path": [
         "y",
         "value"
        ]
       }
      ],
      "model_module": "bqplot",
      "model_module_version": "^0.5.0",
      "model_name": "LinesModel",
      "state": {
       "_model_module": "bqplot",
       "_model_module_version": "^0.5.0",
       "_model_name": "LinesModel",
       "_view_count": null,
       "_view_module": "bqplot",
       "_view_module_version": "^0.5.0",
       "_view_name": "Lines",
       "apply_clip": true,
       "close_path": false,
       "color": null,
       "colors": [
        "black"
       ],
       "curves_subset": [],
       "display_legend": false,
       "enable_hover": true,
       "fill": "none",
       "fill_colors": [],
       "fill_opacities": [],
       "interactions": {
        "hover": "tooltip"
       },
       "interpolation": "linear",
       "labels": [],
       "labels_visibility": "none",
       "line_style": "dotted",
       "marker": null,
       "marker_size": 64,
       "opacities": [],
       "preserve_domain": {},
       "scales": {
        "x": "IPY_MODEL_f34fe989f8c542b7aec3a5b6f5a22b51",
        "y": "IPY_MODEL_ea3bee4afd044aceac261fc914e720cd"
       },
       "scales_metadata": {
        "color": {
         "dimension": "color"
        },
        "x": {
         "dimension": "x",
         "orientation": "horizontal"
        },
        "y": {
         "dimension": "y",
         "orientation": "vertical"
        }
       },
       "selected": null,
       "selected_style": {},
       "stroke_width": 2.0,
       "tooltip": null,
       "tooltip_location": "mouse",
       "tooltip_style": {
        "opacity": 0.9
       },
       "unselected_style": {},
       "visible": true,
       "x": {
        "dtype": "float64",
        "shape": [
         4,
         2
        ],
        "type": null
       },
       "y": {
        "dtype": "float64",
        "shape": [
         4,
         2
        ],
        "type": null
       }
      }
     },
     "11b8f4905a4b440394c4d99594b4c0fb": {
      "model_module": "@jupyter-widgets/controls",
      "model_module_version": "1.5.0",
      "model_name": "LabelModel",
      "state": {
       "_dom_classes": [],
       "_model_module": "@jupyter-widgets/controls",
       "_model_module_version": "1.5.0",
       "_model_name": "LabelModel",
       "_view_count": null,
       "_view_module": "@jupyter-widgets/controls",
       "_view_module_version": "1.5.0",
       "_view_name": "LabelView",
       "description": "",
       "description_tooltip": null,
       "layout": "IPY_MODEL_54fea9376ada4d7c91a19b21e2e68858",
       "placeholder": "​",
       "style": "IPY_MODEL_337813008c0341af89af00dcb904deb4",
       "value": "half-lives"
      }
     },
     "11f5dc773be247b4bafe56028bf57ff3": {
      "model_module": "@jupyter-widgets/controls",
      "model_module_version": "1.5.0",
      "model_name": "DescriptionStyleModel",
      "state": {
       "_model_module": "@jupyter-widgets/controls",
       "_model_module_version": "1.5.0",
       "_model_name": "DescriptionStyleModel",
       "_view_count": null,
       "_view_module": "@jupyter-widgets/base",
       "_view_module_version": "1.2.0",
       "_view_name": "StyleView",
       "description_width": ""
      }
     },
     "1235a21208e34c8185a5cee97e3fd12b": {
      "model_module": "@jupyter-widgets/controls",
      "model_module_version": "1.5.0",
      "model_name": "HBoxModel",
      "state": {
       "_dom_classes": [],
       "_model_module": "@jupyter-widgets/controls",
       "_model_module_version": "1.5.0",
       "_model_name": "HBoxModel",
       "_view_count": null,
       "_view_module": "@jupyter-widgets/controls",
       "_view_module_version": "1.5.0",
       "_view_name": "HBoxView",
       "box_style": "",
       "children": [
        "IPY_MODEL_605973aa4dff40afa60b89e8c7fb1e23",
        "IPY_MODEL_9b7774566854448da39b934d000d54ca"
       ],
       "layout": "IPY_MODEL_b9c4b40c04924c8681e75ef7eacba824"
      }
     },
     "13772523c5a0426e89717a55b055a1d7": {
      "model_module": "@jupyter-widgets/controls",
      "model_module_version": "1.5.0",
      "model_name": "HBoxModel",
      "state": {
       "_dom_classes": [],
       "_model_module": "@jupyter-widgets/controls",
       "_model_module_version": "1.5.0",
       "_model_name": "HBoxModel",
       "_view_count": null,
       "_view_module": "@jupyter-widgets/controls",
       "_view_module_version": "1.5.0",
       "_view_name": "HBoxView",
       "box_style": "",
       "children": [
        "IPY_MODEL_5d0ef877c769406cbb5e98796cbcb4f5",
        "IPY_MODEL_11b8f4905a4b440394c4d99594b4c0fb"
       ],
       "layout": "IPY_MODEL_2bf84d8771da44778dfa12a888983b28"
      }
     },
     "139060e917a248b98aacbd3296b281aa": {
      "model_module": "@jupyter-widgets/base",
      "model_module_version": "1.2.0",
      "model_name": "LayoutModel",
      "state": {
       "_model_module": "@jupyter-widgets/base",
       "_model_module_version": "1.2.0",
       "_model_name": "LayoutModel",
       "_view_count": null,
       "_view_module": "@jupyter-widgets/base",
       "_view_module_version": "1.2.0",
       "_view_name": "LayoutView",
       "align_content": null,
       "align_items": null,
       "align_self": null,
       "border": null,
       "bottom": null,
       "display": null,
       "flex": null,
       "flex_flow": null,
       "grid_area": null,
       "grid_auto_columns": null,
       "grid_auto_flow": null,
       "grid_auto_rows": null,
       "grid_column": null,
       "grid_gap": null,
       "grid_row": null,
       "grid_template_areas": null,
       "grid_template_columns": null,
       "grid_template_rows": null,
       "height": null,
       "justify_content": null,
       "justify_items": null,
       "left": null,
       "margin": null,
       "max_height": null,
       "max_width": null,
       "min_height": null,
       "min_width": null,
       "object_fit": null,
       "object_position": null,
       "order": null,
       "overflow": null,
       "overflow_x": null,
       "overflow_y": null,
       "padding": null,
       "right": null,
       "top": null,
       "visibility": null,
       "width": null
      }
     },
     "1b57a4034ecc44d5b815cf21d8ed5ea8": {
      "model_module": "@jupyter-widgets/controls",
      "model_module_version": "1.5.0",
      "model_name": "FloatSliderModel",
      "state": {
       "_dom_classes": [],
       "_model_module": "@jupyter-widgets/controls",
       "_model_module_version": "1.5.0",
       "_model_name": "FloatSliderModel",
       "_view_count": null,
       "_view_module": "@jupyter-widgets/controls",
       "_view_module_version": "1.5.0",
       "_view_name": "FloatSliderView",
       "continuous_update": false,
       "description": "Half-lives",
       "description_tooltip": null,
       "disabled": false,
       "layout": "IPY_MODEL_e8613cebb8994ce8a8228f7686060e09",
       "max": 5.0,
       "min": 0.0,
       "orientation": "horizontal",
       "readout": false,
       "readout_format": ".2f",
       "step": 0.02,
       "style": "IPY_MODEL_33fbeb7bb1a547d282c1d26f208501a2",
       "value": 0.0
      }
     },
     "1c0963cd2fc9472a986e26d3182d44de": {
      "model_module": "@jupyter-widgets/controls",
      "model_module_version": "1.5.0",
      "model_name": "LabelModel",
      "state": {
       "_dom_classes": [],
       "_model_module": "@jupyter-widgets/controls",
       "_model_module_version": "1.5.0",
       "_model_name": "LabelModel",
       "_view_count": null,
       "_view_module": "@jupyter-widgets/controls",
       "_view_module_version": "1.5.0",
       "_view_name": "LabelView",
       "description": "",
       "description_tooltip": null,
       "layout": "IPY_MODEL_bafc836294124324a50a36fc71b1b398",
       "placeholder": "​",
       "style": "IPY_MODEL_3f5bda48e7e04d299630a8db1eb8cb84",
       "value": "Parent remaining"
      }
     },
     "1d287d8e8a82469aa3fcf24a703278b7": {
      "model_module": "@jupyter-widgets/base",
      "model_module_version": "1.2.0",
      "model_name": "LayoutModel",
      "state": {
       "_model_module": "@jupyter-widgets/base",
       "_model_module_version": "1.2.0",
       "_model_name": "LayoutModel",
       "_view_count": null,
       "_view_module": "@jupyter-widgets/base",
       "_view_module_version": "1.2.0",
       "_view_name": "LayoutView",
       "align_content": null,
       "align_items": null,
       "align_self": null,
       "border": null,
       "bottom": null,
       "display": null,
       "flex": null,
       "flex_flow": null,
       "grid_area": null,
       "grid_auto_columns": null,
       "grid_auto_flow": null,
       "grid_auto_rows": null,
       "grid_column": null,
       "grid_gap": null,
       "grid_row": null,
       "grid_template_areas": null,
       "grid_template_columns": null,
       "grid_template_rows": null,
       "height": null,
       "justify_content": null,
       "justify_items": null,
       "left": null,
       "margin": null,
       "max_height": null,
       "max_width": null,
       "min_height": null,
       "min_width": null,
       "object_fit": null,
       "object_position": null,
       "order": null,
       "overflow": null,
       "overflow_x": null,
       "overflow_y": null,
       "padding": null,
       "right": null,
       "top": null,
       "visibility": null,
       "width": "450px"
      }
     },
     "1e62b0e65ac84e6abdc3bb434f3e9481": {
      "model_module": "@jupyter-widgets/controls",
      "model_module_version": "1.5.0",
      "model_name": "HBoxModel",
      "state": {
       "_dom_classes": [],
       "_model_module": "@jupyter-widgets/controls",
       "_model_module_version": "1.5.0",
       "_model_name": "HBoxModel",
       "_view_count": null,
       "_view_module": "@jupyter-widgets/controls",
       "_view_module_version": "1.5.0",
       "_view_name": "HBoxView",
       "box_style": "",
       "children": [
        "IPY_MODEL_ce2751f9f9994dd19ffd781866553631",
        "IPY_MODEL_218c2faee6434fc883193b7477f083c5"
       ],
       "layout": "IPY_MODEL_e012684d45ff406682d9c0edf2bffa64"
      }
     },
     "207b99ac3f2b461c8bbc483bc632a6c3": {
      "model_module": "@jupyter-widgets/controls",
      "model_module_version": "1.5.0",
      "model_name": "HBoxModel",
      "state": {
       "_dom_classes": [],
       "_model_module": "@jupyter-widgets/controls",
       "_model_module_version": "1.5.0",
       "_model_name": "HBoxModel",
       "_view_count": null,
       "_view_module": "@jupyter-widgets/controls",
       "_view_module_version": "1.5.0",
       "_view_name": "HBoxView",
       "box_style": "",
       "children": [
        "IPY_MODEL_7c13889645d1455988e9199a0ae54c9f",
        "IPY_MODEL_2d168409a61b4df6822b3b3c4b6f2c93"
       ],
       "layout": "IPY_MODEL_139060e917a248b98aacbd3296b281aa"
      }
     },
     "20f717b488184be8b1f9a8caecf89f0d": {
      "buffers": [
       {
        "data": "AAAAAAAAAABnZmZmZmbWPw==",
        "encoding": "base64",
        "path": [
         "x",
         "value"
        ]
       },
       {
        "data": "3pBkpSXkyj/ekGSlJeTKPw==",
        "encoding": "base64",
        "path": [
         "y",
         "value"
        ]
       }
      ],
      "model_module": "bqplot",
      "model_module_version": "^0.5.0",
      "model_name": "LinesModel",
      "state": {
       "_model_module": "bqplot",
       "_model_module_version": "^0.5.0",
       "_model_name": "LinesModel",
       "_view_count": null,
       "_view_module": "bqplot",
       "_view_module_version": "^0.5.0",
       "_view_name": "Lines",
       "apply_clip": true,
       "close_path": false,
       "color": null,
       "colors": [
        "red"
       ],
       "curves_subset": [],
       "display_legend": false,
       "enable_hover": true,
       "fill": "none",
       "fill_colors": [],
       "fill_opacities": [],
       "interactions": {
        "hover": "tooltip"
       },
       "interpolation": "linear",
       "labels": [
        "Initial Sample"
       ],
       "labels_visibility": "none",
       "line_style": "dashed",
       "marker": null,
       "marker_size": 64,
       "opacities": [],
       "preserve_domain": {},
       "scales": {
        "x": "IPY_MODEL_f34fe989f8c542b7aec3a5b6f5a22b51",
        "y": "IPY_MODEL_ea3bee4afd044aceac261fc914e720cd"
       },
       "scales_metadata": {
        "color": {
         "dimension": "color"
        },
        "x": {
         "dimension": "x",
         "orientation": "horizontal"
        },
        "y": {
         "dimension": "y",
         "orientation": "vertical"
        }
       },
       "selected": null,
       "selected_style": {},
       "stroke_width": 2.0,
       "tooltip": null,
       "tooltip_location": "mouse",
       "tooltip_style": {
        "opacity": 0.9
       },
       "unselected_style": {},
       "visible": true,
       "x": {
        "dtype": "float64",
        "shape": [
         2
        ],
        "type": null
       },
       "y": {
        "dtype": "float64",
        "shape": [
         2
        ],
        "type": null
       }
      }
     },
     "218c2faee6434fc883193b7477f083c5": {
      "model_module": "@jupyter-widgets/controls",
      "model_module_version": "1.5.0",
      "model_name": "LabelModel",
      "state": {
       "_dom_classes": [],
       "_model_module": "@jupyter-widgets/controls",
       "_model_module_version": "1.5.0",
       "_model_name": "LabelModel",
       "_view_count": null,
       "_view_module": "@jupyter-widgets/controls",
       "_view_module_version": "1.5.0",
       "_view_name": "LabelView",
       "description": "",
       "description_tooltip": null,
       "layout": "IPY_MODEL_57324f398dde4ee6bce288e4eca9dca3",
       "placeholder": "​",
       "style": "IPY_MODEL_327981acabc4479c9cfda6a652014ed9",
       "value": "half-lives"
      }
     },
     "23410ab2e87b4c7f91c51568b4a6cf9e": {
      "model_module": "@jupyter-widgets/controls",
      "model_module_version": "1.5.0",
      "model_name": "RadioButtonsModel",
      "state": {
       "_dom_classes": [],
       "_model_module": "@jupyter-widgets/controls",
       "_model_module_version": "1.5.0",
       "_model_name": "RadioButtonsModel",
       "_options_labels": [
        "Generic",
        "Rb-87->Sr-87"
       ],
       "_view_count": null,
       "_view_module": "@jupyter-widgets/controls",
       "_view_module_version": "1.5.0",
       "_view_name": "RadioButtonsView",
       "description": "Isotope:",
       "description_tooltip": null,
       "disabled": false,
       "index": 0,
       "layout": "IPY_MODEL_f8c5c2efe1414161bdb53cbf95befe7c",
       "style": "IPY_MODEL_3f4fda3103034c999b20f54e84eeaf13"
      }
     },
     "24d4ae02d27046b6bbe6252903407174": {
      "model_module": "bqplot",
      "model_module_version": "^0.5.0",
      "model_name": "AxisModel",
      "state": {
       "_model_module": "bqplot",
       "_model_module_version": "^0.5.0",
       "_model_name": "AxisModel",
       "_view_count": null,
       "_view_module": "bqplot",
       "_view_module_version": "^0.5.0",
       "_view_name": "Axis",
       "color": null,
       "grid_color": null,
       "grid_lines": "solid",
       "label": "",
       "label_color": null,
       "label_location": "middle",
       "label_offset": null,
       "num_ticks": 0,
       "offset": {},
       "orientation": "horizontal",
       "scale": "IPY_MODEL_fbddc4d644e84a479dad6fd194bca483",
       "side": null,
       "tick_format": null,
       "tick_rotate": 0,
       "tick_style": {},
       "tick_values": null,
       "visible": true
      }
     },
     "29ca4079b642471c883bec1ec9963ccd": {
      "model_module": "bqplot",
      "model_module_version": "^0.5.0",
      "model_name": "FigureModel",
      "state": {
       "_dom_classes": [],
       "_model_module": "bqplot",
       "_model_module_version": "^0.5.0",
       "_model_name": "FigureModel",
       "_view_count": null,
       "_view_module": "bqplot",
       "_view_module_version": "^0.5.0",
       "_view_name": "Figure",
       "animation_duration": 0,
       "axes": [
        "IPY_MODEL_3888d7772fe741c89e929ec2a3a8599e",
        "IPY_MODEL_3ccb9115b8d3494b8ab9f411d0dce8b4"
       ],
       "background_style": {
        "fill": "black"
       },
       "fig_margin": {
        "bottom": 60,
        "left": 60,
        "right": 60,
        "top": 60
       },
       "interaction": null,
       "layout": "IPY_MODEL_ec09f21c49304dc6bc0594af90097dc9",
       "legend_location": "right",
       "legend_style": {
        "fill": "white"
       },
       "legend_text": {},
       "marks": [
        "IPY_MODEL_87cf2c8ae49244e2a456642bb06a2fd1",
        "IPY_MODEL_dbfbc68c484e47eeaf09382176be5a6a",
        "IPY_MODEL_918c5915d74f4a4baa86a35723c0315d",
        "IPY_MODEL_a2f1cb19c9c341d1bfa8ed018a4b630c",
        "IPY_MODEL_c500f4c74c0840f89cfc8e4b05bad283"
       ],
       "max_aspect_ratio": 100.0,
       "min_aspect_ratio": 0.01,
       "padding_x": 0.0,
       "padding_y": 0.025,
       "pixel_ratio": null,
       "scale_x": "IPY_MODEL_003f271f15c443d089c557ce70035b8e",
       "scale_y": "IPY_MODEL_a2a5a34fc5754b91970859f11f7f1fc9",
       "theme": "classic",
       "title": "Counts versus Time",
       "title_style": {}
      }
     },
     "2bf84d8771da44778dfa12a888983b28": {
      "model_module": "@jupyter-widgets/base",
      "model_module_version": "1.2.0",
      "model_name": "LayoutModel",
      "state": {
       "_model_module": "@jupyter-widgets/base",
       "_model_module_version": "1.2.0",
       "_model_name": "LayoutModel",
       "_view_count": null,
       "_view_module": "@jupyter-widgets/base",
       "_view_module_version": "1.2.0",
       "_view_name": "LayoutView",
       "align_content": null,
       "align_items": null,
       "align_self": null,
       "border": null,
       "bottom": null,
       "display": null,
       "flex": null,
       "flex_flow": null,
       "grid_area": null,
       "grid_auto_columns": null,
       "grid_auto_flow": null,
       "grid_auto_rows": null,
       "grid_column": null,
       "grid_gap": null,
       "grid_row": null,
       "grid_template_areas": null,
       "grid_template_columns": null,
       "grid_template_rows": null,
       "height": null,
       "justify_content": null,
       "justify_items": null,
       "left": null,
       "margin": null,
       "max_height": null,
       "max_width": null,
       "min_height": null,
       "min_width": null,
       "object_fit": null,
       "object_position": null,
       "order": null,
       "overflow": null,
       "overflow_x": null,
       "overflow_y": null,
       "padding": null,
       "right": null,
       "top": null,
       "visibility": null,
       "width": null
      }
     },
     "2c5a6cdd50454756974eb20693092595": {
      "model_module": "bqplot",
      "model_module_version": "^0.5.0",
      "model_name": "LinearScaleModel",
      "state": {
       "_model_module": "bqplot",
       "_model_module_version": "^0.5.0",
       "_model_name": "LinearScaleModel",
       "_view_count": null,
       "_view_module": "bqplot",
       "_view_module_version": "^0.5.0",
       "_view_name": "LinearScale",
       "allow_padding": false,
       "max": 1.0,
       "mid_range": 0.8,
       "min": 0.0,
       "min_range": 0.6,
       "reverse": false,
       "stabilized": false
      }
     },
     "2d168409a61b4df6822b3b3c4b6f2c93": {
      "model_module": "@jupyter-widgets/controls",
      "model_module_version": "1.5.0",
      "model_name": "VBoxModel",
      "state": {
       "_dom_classes": [],
       "_model_module": "@jupyter-widgets/controls",
       "_model_module_version": "1.5.0",
       "_model_name": "VBoxModel",
       "_view_count": null,
       "_view_module": "@jupyter-widgets/controls",
       "_view_module_version": "1.5.0",
       "_view_name": "VBoxView",
       "box_style": "",
       "children": [
        "IPY_MODEL_23410ab2e87b4c7f91c51568b4a6cf9e",
        "IPY_MODEL_1b57a4034ecc44d5b815cf21d8ed5ea8",
        "IPY_MODEL_13772523c5a0426e89717a55b055a1d7",
        "IPY_MODEL_73fccd4f46b4459ca80a973dc20f6026"
       ],
       "layout": "IPY_MODEL_410ec4fc41b648888d59f7f610c28894"
      }
     },
     "3049178549944047bfd576fc699af18b": {
      "model_module": "@jupyter-widgets/controls",
      "model_module_version": "1.5.0",
      "model_name": "TextModel",
      "state": {
       "_dom_classes": [],
       "_model_module": "@jupyter-widgets/controls",
       "_model_module_version": "1.5.0",
       "_model_name": "TextModel",
       "_view_count": null,
       "_view_module": "@jupyter-widgets/controls",
       "_view_module_version": "1.5.0",
       "_view_name": "TextView",
       "continuous_update": true,
       "description": "",
       "description_tooltip": null,
       "disabled": true,
       "layout": "IPY_MODEL_edb8b74d938e4091abb3e3cd9c9e2734",
       "placeholder": "​",
       "style": "IPY_MODEL_c233c1434cee41c2baa401bc67240039",
       "value": "0"
      }
     },
     "309759edcd9740c09a3471582d7cb875": {
      "model_module": "@jupyter-widgets/controls",
      "model_module_version": "1.5.0",
      "model_name": "CheckboxModel",
      "state": {
       "_dom_classes": [],
       "_model_module": "@jupyter-widgets/controls",
       "_model_module_version": "1.5.0",
       "_model_name": "CheckboxModel",
       "_view_count": null,
       "_view_module": "@jupyter-widgets/controls",
       "_view_module_version": "1.5.0",
       "_view_name": "CheckboxView",
       "description": "Display as fraction of atoms",
       "description_tooltip": null,
       "disabled": false,
       "indent": true,
       "layout": "IPY_MODEL_a8f4408d11d248fe9a99852ed03480ae",
       "style": "IPY_MODEL_342ad3fdcddd4fc981f3cadd2f30301e",
       "value": false
      }
     },
     "327981acabc4479c9cfda6a652014ed9": {
      "model_module": "@jupyter-widgets/controls",
      "model_module_version": "1.5.0",
      "model_name": "DescriptionStyleModel",
      "state": {
       "_model_module": "@jupyter-widgets/controls",
       "_model_module_version": "1.5.0",
       "_model_name": "DescriptionStyleModel",
       "_view_count": null,
       "_view_module": "@jupyter-widgets/base",
       "_view_module_version": "1.2.0",
       "_view_name": "StyleView",
       "description_width": ""
      }
     },
     "337813008c0341af89af00dcb904deb4": {
      "model_module": "@jupyter-widgets/controls",
      "model_module_version": "1.5.0",
      "model_name": "DescriptionStyleModel",
      "state": {
       "_model_module": "@jupyter-widgets/controls",
       "_model_module_version": "1.5.0",
       "_model_name": "DescriptionStyleModel",
       "_view_count": null,
       "_view_module": "@jupyter-widgets/base",
       "_view_module_version": "1.2.0",
       "_view_name": "StyleView",
       "description_width": ""
      }
     },
     "33fbeb7bb1a547d282c1d26f208501a2": {
      "model_module": "@jupyter-widgets/controls",
      "model_module_version": "1.5.0",
      "model_name": "SliderStyleModel",
      "state": {
       "_model_module": "@jupyter-widgets/controls",
       "_model_module_version": "1.5.0",
       "_model_name": "SliderStyleModel",
       "_view_count": null,
       "_view_module": "@jupyter-widgets/base",
       "_view_module_version": "1.2.0",
       "_view_name": "StyleView",
       "description_width": "",
       "handle_color": null
      }
     },
     "342ad3fdcddd4fc981f3cadd2f30301e": {
      "model_module": "@jupyter-widgets/controls",
      "model_module_version": "1.5.0",
      "model_name": "DescriptionStyleModel",
      "state": {
       "_model_module": "@jupyter-widgets/controls",
       "_model_module_version": "1.5.0",
       "_model_name": "DescriptionStyleModel",
       "_view_count": null,
       "_view_module": "@jupyter-widgets/base",
       "_view_module_version": "1.2.0",
       "_view_name": "StyleView",
       "description_width": ""
      }
     },
     "3590daf7343f4d44ba849ec774e50ee1": {
      "model_module": "@jupyter-widgets/controls",
      "model_module_version": "1.5.0",
      "model_name": "VBoxModel",
      "state": {
       "_dom_classes": [],
       "_model_module": "@jupyter-widgets/controls",
       "_model_module_version": "1.5.0",
       "_model_name": "VBoxModel",
       "_view_count": null,
       "_view_module": "@jupyter-widgets/controls",
       "_view_module_version": "1.5.0",
       "_view_name": "VBoxView",
       "box_style": "",
       "children": [
        "IPY_MODEL_06b5321a7a024420aa7f2401ece0f6fb",
        "IPY_MODEL_7749df5cd34f45b58ea566ceba71da10"
       ],
       "layout": "IPY_MODEL_c7840ea889ba44cdbdda5313094067c5"
      }
     },
     "378b87a8ddaa46ed984a1e080c737ed1": {
      "model_module": "@jupyter-widgets/base",
      "model_module_version": "1.2.0",
      "model_name": "LayoutModel",
      "state": {
       "_model_module": "@jupyter-widgets/base",
       "_model_module_version": "1.2.0",
       "_model_name": "LayoutModel",
       "_view_count": null,
       "_view_module": "@jupyter-widgets/base",
       "_view_module_version": "1.2.0",
       "_view_name": "LayoutView",
       "align_content": null,
       "align_items": null,
       "align_self": null,
       "border": null,
       "bottom": null,
       "display": null,
       "flex": null,
       "flex_flow": null,
       "grid_area": null,
       "grid_auto_columns": null,
       "grid_auto_flow": null,
       "grid_auto_rows": null,
       "grid_column": null,
       "grid_gap": null,
       "grid_row": null,
       "grid_template_areas": null,
       "grid_template_columns": null,
       "grid_template_rows": null,
       "height": null,
       "justify_content": null,
       "justify_items": null,
       "left": null,
       "margin": null,
       "max_height": null,
       "max_width": null,
       "min_height": null,
       "min_width": null,
       "object_fit": null,
       "object_position": null,
       "order": null,
       "overflow": null,
       "overflow_x": "visible",
       "overflow_y": "visible",
       "padding": null,
       "right": null,
       "top": null,
       "visibility": null,
       "width": null
      }
     },
     "3888d7772fe741c89e929ec2a3a8599e": {
      "buffers": [
       {
        "data": "AAAAAAAAAAAAAAAAAAAAQAAAAAAAABBAAAAAAAAAGEAAAAAAAAAgQAAAAAAAACRA",
        "encoding": "base64",
        "path": [
         "tick_values",
         "value"
        ]
       }
      ],
      "model_module": "bqplot",
      "model_module_version": "^0.5.0",
      "model_name": "AxisModel",
      "state": {
       "_model_module": "bqplot",
       "_model_module_version": "^0.5.0",
       "_model_name": "AxisModel",
       "_view_count": null,
       "_view_module": "bqplot",
       "_view_module_version": "^0.5.0",
       "_view_name": "Axis",
       "color": null,
       "grid_color": null,
       "grid_lines": "solid",
       "label": "half-lives",
       "label_color": null,
       "label_location": "middle",
       "label_offset": null,
       "num_ticks": 6,
       "offset": {},
       "orientation": "horizontal",
       "scale": "IPY_MODEL_3b1583c6ec4f4220aadd9f51815e5e3d",
       "side": null,
       "tick_format": null,
       "tick_rotate": 0,
       "tick_style": {},
       "tick_values": {
        "dtype": "float64",
        "shape": [
         6
        ],
        "type": null
       },
       "visible": true
      }
     },
     "38b3fb0e5b454b00aa4f9527176af612": {
      "model_module": "bqplot",
      "model_module_version": "^0.5.0",
      "model_name": "LinearScaleModel",
      "state": {
       "_model_module": "bqplot",
       "_model_module_version": "^0.5.0",
       "_model_name": "LinearScaleModel",
       "_view_count": null,
       "_view_module": "bqplot",
       "_view_module_version": "^0.5.0",
       "_view_name": "LinearScale",
       "allow_padding": true,
       "max": 1.0,
       "mid_range": 0.8,
       "min": 0.0,
       "min_range": 0.6,
       "reverse": false,
       "stabilized": false
      }
     },
     "3b1583c6ec4f4220aadd9f51815e5e3d": {
      "model_module": "bqplot",
      "model_module_version": "^0.5.0",
      "model_name": "LinearScaleModel",
      "state": {
       "_model_module": "bqplot",
       "_model_module_version": "^0.5.0",
       "_model_name": "LinearScaleModel",
       "_view_count": null,
       "_view_module": "bqplot",
       "_view_module_version": "^0.5.0",
       "_view_name": "LinearScale",
       "allow_padding": true,
       "max": 10.0,
       "mid_range": 0.8,
       "min": 0.0,
       "min_range": 0.6,
       "reverse": false,
       "stabilized": false
      }
     },
     "3ccb9115b8d3494b8ab9f411d0dce8b4": {
      "model_module": "bqplot",
      "model_module_version": "^0.5.0",
      "model_name": "AxisModel",
      "state": {
       "_model_module": "bqplot",
       "_model_module_version": "^0.5.0",
       "_model_name": "AxisModel",
       "_view_count": null,
       "_view_module": "bqplot",
       "_view_module_version": "^0.5.0",
       "_view_name": "Axis",
       "color": null,
       "grid_color": null,
       "grid_lines": "solid",
       "label": "Number of atoms",
       "label_color": null,
       "label_location": "middle",
       "label_offset": null,
       "num_ticks": null,
       "offset": {},
       "orientation": "vertical",
       "scale": "IPY_MODEL_f25ed5aa92d846ea9d6735386ac6b36a",
       "side": null,
       "tick_format": null,
       "tick_rotate": 0,
       "tick_style": {},
       "tick_values": null,
       "visible": true
      }
     },
     "3f4fda3103034c999b20f54e84eeaf13": {
      "model_module": "@jupyter-widgets/controls",
      "model_module_version": "1.5.0",
      "model_name": "DescriptionStyleModel",
      "state": {
       "_model_module": "@jupyter-widgets/controls",
       "_model_module_version": "1.5.0",
       "_model_name": "DescriptionStyleModel",
       "_view_count": null,
       "_view_module": "@jupyter-widgets/base",
       "_view_module_version": "1.2.0",
       "_view_name": "StyleView",
       "description_width": ""
      }
     },
     "3f5bda48e7e04d299630a8db1eb8cb84": {
      "model_module": "@jupyter-widgets/controls",
      "model_module_version": "1.5.0",
      "model_name": "DescriptionStyleModel",
      "state": {
       "_model_module": "@jupyter-widgets/controls",
       "_model_module_version": "1.5.0",
       "_model_name": "DescriptionStyleModel",
       "_view_count": null,
       "_view_module": "@jupyter-widgets/base",
       "_view_module_version": "1.2.0",
       "_view_name": "StyleView",
       "description_width": ""
      }
     },
     "410ec4fc41b648888d59f7f610c28894": {
      "model_module": "@jupyter-widgets/base",
      "model_module_version": "1.2.0",
      "model_name": "LayoutModel",
      "state": {
       "_model_module": "@jupyter-widgets/base",
       "_model_module_version": "1.2.0",
       "_model_name": "LayoutModel",
       "_view_count": null,
       "_view_module": "@jupyter-widgets/base",
       "_view_module_version": "1.2.0",
       "_view_name": "LayoutView",
       "align_content": "center",
       "align_items": "center",
       "align_self": null,
       "border": null,
       "bottom": null,
       "display": null,
       "flex": null,
       "flex_flow": null,
       "grid_area": null,
       "grid_auto_columns": null,
       "grid_auto_flow": null,
       "grid_auto_rows": null,
       "grid_column": null,
       "grid_gap": null,
       "grid_row": null,
       "grid_template_areas": null,
       "grid_template_columns": null,
       "grid_template_rows": null,
       "height": "500px",
       "justify_content": "center",
       "justify_items": null,
       "left": null,
       "margin": null,
       "max_height": "500px",
       "max_width": "300px",
       "min_height": "400px",
       "min_width": "100px",
       "object_fit": null,
       "object_position": null,
       "order": null,
       "overflow": null,
       "overflow_x": "hidden",
       "overflow_y": "hidden",
       "padding": null,
       "right": null,
       "top": null,
       "visibility": null,
       "width": "300px"
      }
     },
     "46438511b5134403bb753cd8243a94c8": {
      "model_module": "@jupyter-widgets/base",
      "model_module_version": "1.2.0",
      "model_name": "LayoutModel",
      "state": {
       "_model_module": "@jupyter-widgets/base",
       "_model_module_version": "1.2.0",
       "_model_name": "LayoutModel",
       "_view_count": null,
       "_view_module": "@jupyter-widgets/base",
       "_view_module_version": "1.2.0",
       "_view_name": "LayoutView",
       "align_content": null,
       "align_items": null,
       "align_self": null,
       "border": null,
       "bottom": null,
       "display": null,
       "flex": null,
       "flex_flow": null,
       "grid_area": null,
       "grid_auto_columns": null,
       "grid_auto_flow": null,
       "grid_auto_rows": null,
       "grid_column": null,
       "grid_gap": null,
       "grid_row": null,
       "grid_template_areas": null,
       "grid_template_columns": null,
       "grid_template_rows": null,
       "height": "500px",
       "justify_content": null,
       "justify_items": null,
       "left": null,
       "margin": null,
       "max_height": "500px",
       "max_width": "700px",
       "min_height": "400px",
       "min_width": "600px",
       "object_fit": null,
       "object_position": null,
       "order": null,
       "overflow": null,
       "overflow_x": null,
       "overflow_y": null,
       "padding": null,
       "right": null,
       "top": null,
       "visibility": null,
       "width": "700px"
      }
     },
     "4763bc9e033045528c43daf934147312": {
      "model_module": "@jupyter-widgets/base",
      "model_module_version": "1.2.0",
      "model_name": "LayoutModel",
      "state": {
       "_model_module": "@jupyter-widgets/base",
       "_model_module_version": "1.2.0",
       "_model_name": "LayoutModel",
       "_view_count": null,
       "_view_module": "@jupyter-widgets/base",
       "_view_module_version": "1.2.0",
       "_view_name": "LayoutView",
       "align_content": null,
       "align_items": null,
       "align_self": null,
       "border": null,
       "bottom": null,
       "display": null,
       "flex": null,
       "flex_flow": null,
       "grid_area": null,
       "grid_auto_columns": null,
       "grid_auto_flow": null,
       "grid_auto_rows": null,
       "grid_column": null,
       "grid_gap": null,
       "grid_row": null,
       "grid_template_areas": null,
       "grid_template_columns": null,
       "grid_template_rows": null,
       "height": null,
       "justify_content": null,
       "justify_items": null,
       "left": null,
       "margin": null,
       "max_height": null,
       "max_width": "300px",
       "min_height": null,
       "min_width": "125px",
       "object_fit": null,
       "object_position": null,
       "order": null,
       "overflow": null,
       "overflow_x": "visible",
       "overflow_y": "visible",
       "padding": null,
       "right": null,
       "top": null,
       "visibility": null,
       "width": "175px"
      }
     },
     "4fd17e50b383485b8e1a12621344b4f3": {
      "model_module": "bqplot",
      "model_module_version": "^0.5.0",
      "model_name": "TooltipModel",
      "state": {
       "_dom_classes": [],
       "_model_module": "bqplot",
       "_model_module_version": "^0.5.0",
       "_model_name": "TooltipModel",
       "_view_count": null,
       "_view_module": "bqplot",
       "_view_module_version": "^0.5.0",
       "_view_name": "Tooltip",
       "fields": [
        "x",
        "y"
       ],
       "formats": [
        ".2f",
        ".3f"
       ],
       "labels": [
        "time",
        "amount of daughter isotope"
       ],
       "layout": "IPY_MODEL_78873f84654843e49746e898cf4bc51d",
       "show_labels": true
      }
     },
     "524b13b17ad64adab1b9173835093b5a": {
      "model_module": "bqplot",
      "model_module_version": "^0.5.0",
      "model_name": "FigureModel",
      "state": {
       "_dom_classes": [],
       "_model_module": "bqplot",
       "_model_module_version": "^0.5.0",
       "_model_name": "FigureModel",
       "_view_count": null,
       "_view_module": "bqplot",
       "_view_module_version": "^0.5.0",
       "_view_name": "Figure",
       "animation_duration": 0,
       "axes": [
        "IPY_MODEL_24d4ae02d27046b6bbe6252903407174",
        "IPY_MODEL_a29516453718457e8ced248bb5da6886"
       ],
       "background_style": {
        "fill": "black"
       },
       "fig_margin": {
        "bottom": 60,
        "left": 60,
        "right": 60,
        "top": 60
       },
       "interaction": null,
       "layout": "IPY_MODEL_d71193bcf4804c90bda99ed216edcea2",
       "legend_location": "top-right",
       "legend_style": {},
       "legend_text": {},
       "marks": [
        "IPY_MODEL_f0bb4d51aa1d488d8a102357a83e314a"
       ],
       "max_aspect_ratio": 1.0,
       "min_aspect_ratio": 1.0,
       "padding_x": 0.025,
       "padding_y": 0.025,
       "pixel_ratio": null,
       "scale_x": "IPY_MODEL_ddbb1cf08782454fb4c07e30b5d53eae",
       "scale_y": "IPY_MODEL_2c5a6cdd50454756974eb20693092595",
       "theme": "classic",
       "title": "Population of Atoms",
       "title_style": {}
      }
     },
     "54fea9376ada4d7c91a19b21e2e68858": {
      "model_module": "@jupyter-widgets/base",
      "model_module_version": "1.2.0",
      "model_name": "LayoutModel",
      "state": {
       "_model_module": "@jupyter-widgets/base",
       "_model_module_version": "1.2.0",
       "_model_name": "LayoutModel",
       "_view_count": null,
       "_view_module": "@jupyter-widgets/base",
       "_view_module_version": "1.2.0",
       "_view_name": "LayoutView",
       "align_content": null,
       "align_items": null,
       "align_self": null,
       "border": null,
       "bottom": null,
       "display": null,
       "flex": null,
       "flex_flow": null,
       "grid_area": null,
       "grid_auto_columns": null,
       "grid_auto_flow": null,
       "grid_auto_rows": null,
       "grid_column": null,
       "grid_gap": null,
       "grid_row": null,
       "grid_template_areas": null,
       "grid_template_columns": null,
       "grid_template_rows": null,
       "height": null,
       "justify_content": null,
       "justify_items": null,
       "left": null,
       "margin": null,
       "max_height": null,
       "max_width": null,
       "min_height": null,
       "min_width": null,
       "object_fit": null,
       "object_position": null,
       "order": null,
       "overflow": null,
       "overflow_x": null,
       "overflow_y": null,
       "padding": null,
       "right": null,
       "top": null,
       "visibility": null,
       "width": null
      }
     },
     "57324f398dde4ee6bce288e4eca9dca3": {
      "model_module": "@jupyter-widgets/base",
      "model_module_version": "1.2.0",
      "model_name": "LayoutModel",
      "state": {
       "_model_module": "@jupyter-widgets/base",
       "_model_module_version": "1.2.0",
       "_model_name": "LayoutModel",
       "_view_count": null,
       "_view_module": "@jupyter-widgets/base",
       "_view_module_version": "1.2.0",
       "_view_name": "LayoutView",
       "align_content": null,
       "align_items": null,
       "align_self": null,
       "border": null,
       "bottom": null,
       "display": null,
       "flex": null,
       "flex_flow": null,
       "grid_area": null,
       "grid_auto_columns": null,
       "grid_auto_flow": null,
       "grid_auto_rows": null,
       "grid_column": null,
       "grid_gap": null,
       "grid_row": null,
       "grid_template_areas": null,
       "grid_template_columns": null,
       "grid_template_rows": null,
       "height": null,
       "justify_content": null,
       "justify_items": null,
       "left": null,
       "margin": null,
       "max_height": null,
       "max_width": null,
       "min_height": null,
       "min_width": null,
       "object_fit": null,
       "object_position": null,
       "order": null,
       "overflow": null,
       "overflow_x": null,
       "overflow_y": null,
       "padding": null,
       "right": null,
       "top": null,
       "visibility": null,
       "width": null
      }
     },
     "59626bf65a5f4a6591ab064fb6a9ef7c": {
      "model_module": "@jupyter-widgets/base",
      "model_module_version": "1.2.0",
      "model_name": "LayoutModel",
      "state": {
       "_model_module": "@jupyter-widgets/base",
       "_model_module_version": "1.2.0",
       "_model_name": "LayoutModel",
       "_view_count": null,
       "_view_module": "@jupyter-widgets/base",
       "_view_module_version": "1.2.0",
       "_view_name": "LayoutView",
       "align_content": null,
       "align_items": null,
       "align_self": null,
       "border": null,
       "bottom": null,
       "display": null,
       "flex": null,
       "flex_flow": null,
       "grid_area": null,
       "grid_auto_columns": null,
       "grid_auto_flow": null,
       "grid_auto_rows": null,
       "grid_column": null,
       "grid_gap": null,
       "grid_row": null,
       "grid_template_areas": null,
       "grid_template_columns": null,
       "grid_template_rows": null,
       "height": null,
       "justify_content": null,
       "justify_items": null,
       "left": null,
       "margin": null,
       "max_height": null,
       "max_width": null,
       "min_height": null,
       "min_width": null,
       "object_fit": null,
       "object_position": null,
       "order": null,
       "overflow": "hidden",
       "overflow_x": null,
       "overflow_y": null,
       "padding": null,
       "right": null,
       "top": null,
       "visibility": null,
       "width": null
      }
     },
     "5c48931aa7594e348b75a35a46171b35": {
      "model_module": "@jupyter-widgets/base",
      "model_module_version": "1.2.0",
      "model_name": "LayoutModel",
      "state": {
       "_model_module": "@jupyter-widgets/base",
       "_model_module_version": "1.2.0",
       "_model_name": "LayoutModel",
       "_view_count": null,
       "_view_module": "@jupyter-widgets/base",
       "_view_module_version": "1.2.0",
       "_view_name": "LayoutView",
       "align_content": null,
       "align_items": null,
       "align_self": null,
       "border": null,
       "bottom": null,
       "display": null,
       "flex": null,
       "flex_flow": null,
       "grid_area": null,
       "grid_auto_columns": null,
       "grid_auto_flow": null,
       "grid_auto_rows": null,
       "grid_column": null,
       "grid_gap": null,
       "grid_row": null,
       "grid_template_areas": null,
       "grid_template_columns": null,
       "grid_template_rows": null,
       "height": null,
       "justify_content": null,
       "justify_items": null,
       "left": null,
       "margin": null,
       "max_height": null,
       "max_width": null,
       "min_height": null,
       "min_width": null,
       "object_fit": null,
       "object_position": null,
       "order": null,
       "overflow": null,
       "overflow_x": null,
       "overflow_y": null,
       "padding": null,
       "right": null,
       "top": null,
       "visibility": null,
       "width": "250px"
      }
     },
     "5d0ef877c769406cbb5e98796cbcb4f5": {
      "model_module": "@jupyter-widgets/controls",
      "model_module_version": "1.5.0",
      "model_name": "BoundedFloatTextModel",
      "state": {
       "_dom_classes": [],
       "_model_module": "@jupyter-widgets/controls",
       "_model_module_version": "1.5.0",
       "_model_name": "BoundedFloatTextModel",
       "_view_count": null,
       "_view_module": "@jupyter-widgets/controls",
       "_view_module_version": "1.5.0",
       "_view_name": "FloatTextView",
       "continuous_update": false,
       "description": "",
       "description_tooltip": null,
       "disabled": false,
       "layout": "IPY_MODEL_a11368ccd0614d7fbfb00daa5eaa8a8e",
       "max": 5.0,
       "min": 0.0,
       "step": 0.02,
       "style": "IPY_MODEL_be3e4872d23a412e910c27790092c647",
       "value": 0.0
      }
     },
     "605973aa4dff40afa60b89e8c7fb1e23": {
      "model_module": "@jupyter-widgets/controls",
      "model_module_version": "1.5.0",
      "model_name": "HBoxModel",
      "state": {
       "_dom_classes": [],
       "_model_module": "@jupyter-widgets/controls",
       "_model_module_version": "1.5.0",
       "_model_name": "HBoxModel",
       "_view_count": null,
       "_view_module": "@jupyter-widgets/controls",
       "_view_module_version": "1.5.0",
       "_view_name": "HBoxView",
       "box_style": "",
       "children": [
        "IPY_MODEL_3590daf7343f4d44ba849ec774e50ee1",
        "IPY_MODEL_75c4acb862ef42e0b96ffc2e96fddca2"
       ],
       "layout": "IPY_MODEL_6a9e539ae6dd492d978b7d781b28d324"
      }
     },
     "63b1a317fe46418696af4c8cc8a0e341": {
      "model_module": "bqplot",
      "model_module_version": "^0.5.0",
      "model_name": "AxisModel",
      "state": {
       "_model_module": "bqplot",
       "_model_module_version": "^0.5.0",
       "_model_name": "AxisModel",
       "_view_count": null,
       "_view_module": "bqplot",
       "_view_module_version": "^0.5.0",
       "_view_name": "Axis",
       "color": null,
       "grid_color": null,
       "grid_lines": "solid",
       "label": "P / D_i",
       "label_color": null,
       "label_location": "middle",
       "label_offset": null,
       "num_ticks": null,
       "offset": {},
       "orientation": "horizontal",
       "scale": "IPY_MODEL_f34fe989f8c542b7aec3a5b6f5a22b51",
       "side": null,
       "tick_format": null,
       "tick_rotate": 0,
       "tick_style": {},
       "tick_values": null,
       "visible": true
      }
     },
     "65bd88585fd647ac8f7c296c05610ddc": {
      "model_module": "@jupyter-widgets/base",
      "model_module_version": "1.2.0",
      "model_name": "LayoutModel",
      "state": {
       "_model_module": "@jupyter-widgets/base",
       "_model_module_version": "1.2.0",
       "_model_name": "LayoutModel",
       "_view_count": null,
       "_view_module": "@jupyter-widgets/base",
       "_view_module_version": "1.2.0",
       "_view_name": "LayoutView",
       "align_content": null,
       "align_items": null,
       "align_self": null,
       "border": null,
       "bottom": null,
       "display": null,
       "flex": null,
       "flex_flow": null,
       "grid_area": null,
       "grid_auto_columns": null,
       "grid_auto_flow": null,
       "grid_auto_rows": null,
       "grid_column": null,
       "grid_gap": null,
       "grid_row": null,
       "grid_template_areas": null,
       "grid_template_columns": null,
       "grid_template_rows": null,
       "height": null,
       "justify_content": null,
       "justify_items": null,
       "left": null,
       "margin": null,
       "max_height": null,
       "max_width": null,
       "min_height": null,
       "min_width": null,
       "object_fit": null,
       "object_position": null,
       "order": null,
       "overflow": null,
       "overflow_x": null,
       "overflow_y": null,
       "padding": null,
       "right": null,
       "top": null,
       "visibility": null,
       "width": null
      }
     },
     "6a9e539ae6dd492d978b7d781b28d324": {
      "model_module": "@jupyter-widgets/base",
      "model_module_version": "1.2.0",
      "model_name": "LayoutModel",
      "state": {
       "_model_module": "@jupyter-widgets/base",
       "_model_module_version": "1.2.0",
       "_model_name": "LayoutModel",
       "_view_count": null,
       "_view_module": "@jupyter-widgets/base",
       "_view_module_version": "1.2.0",
       "_view_name": "LayoutView",
       "align_content": null,
       "align_items": null,
       "align_self": null,
       "border": null,
       "bottom": null,
       "display": null,
       "flex": null,
       "flex_flow": null,
       "grid_area": null,
       "grid_auto_columns": null,
       "grid_auto_flow": null,
       "grid_auto_rows": null,
       "grid_column": null,
       "grid_gap": null,
       "grid_row": null,
       "grid_template_areas": null,
       "grid_template_columns": null,
       "grid_template_rows": null,
       "height": null,
       "justify_content": null,
       "justify_items": null,
       "left": null,
       "margin": null,
       "max_height": null,
       "max_width": null,
       "min_height": null,
       "min_width": null,
       "object_fit": null,
       "object_position": null,
       "order": null,
       "overflow": null,
       "overflow_x": null,
       "overflow_y": null,
       "padding": null,
       "right": null,
       "top": null,
       "visibility": null,
       "width": "450px"
      }
     },
     "6b1ed19b0bca40d995f803e4ecc378bc": {
      "model_module": "@jupyter-widgets/base",
      "model_module_version": "1.2.0",
      "model_name": "LayoutModel",
      "state": {
       "_model_module": "@jupyter-widgets/base",
       "_model_module_version": "1.2.0",
       "_model_name": "LayoutModel",
       "_view_count": null,
       "_view_module": "@jupyter-widgets/base",
       "_view_module_version": "1.2.0",
       "_view_name": "LayoutView",
       "align_content": "center",
       "align_items": "center",
       "align_self": null,
       "border": null,
       "bottom": null,
       "display": null,
       "flex": null,
       "flex_flow": null,
       "grid_area": null,
       "grid_auto_columns": null,
       "grid_auto_flow": null,
       "grid_auto_rows": null,
       "grid_column": null,
       "grid_gap": null,
       "grid_row": null,
       "grid_template_areas": null,
       "grid_template_columns": null,
       "grid_template_rows": null,
       "height": "50px",
       "justify_content": "center",
       "justify_items": null,
       "left": null,
       "margin": null,
       "max_height": "75px",
       "max_width": "100px",
       "min_height": "50px",
       "min_width": "50px",
       "object_fit": null,
       "object_position": null,
       "order": null,
       "overflow": null,
       "overflow_x": null,
       "overflow_y": null,
       "padding": null,
       "right": null,
       "top": null,
       "visibility": null,
       "width": "100px"
      }
     },
     "6d87b1d934034e568b31c300e725d7e8": {
      "model_module": "@jupyter-widgets/controls",
      "model_module_version": "1.5.0",
      "model_name": "LinkModel",
      "state": {
       "_model_module": "@jupyter-widgets/controls",
       "_model_module_version": "1.5.0",
       "_model_name": "LinkModel",
       "_view_count": null,
       "_view_module": "@jupyter-widgets/controls",
       "_view_module_version": "1.5.0",
       "_view_name": null,
       "source": [
        "IPY_MODEL_1b57a4034ecc44d5b815cf21d8ed5ea8",
        "value"
       ],
       "target": [
        "IPY_MODEL_5d0ef877c769406cbb5e98796cbcb4f5",
        "value"
       ]
      }
     },
     "73fccd4f46b4459ca80a973dc20f6026": {
      "model_module": "@jupyter-widgets/controls",
      "model_module_version": "1.5.0",
      "model_name": "LabelModel",
      "state": {
       "_dom_classes": [],
       "_model_module": "@jupyter-widgets/controls",
       "_model_module_version": "1.5.0",
       "_model_name": "LabelModel",
       "_view_count": null,
       "_view_module": "@jupyter-widgets/controls",
       "_view_module_version": "1.5.0",
       "_view_name": "LabelView",
       "description": "",
       "description_tooltip": null,
       "layout": "IPY_MODEL_6b1ed19b0bca40d995f803e4ecc378bc",
       "placeholder": "​",
       "style": "IPY_MODEL_adce45c04a1043b28fbb6dc9b328b0a0",
       "value": "Slope: 0.0000"
      }
     },
     "75c4acb862ef42e0b96ffc2e96fddca2": {
      "model_module": "@jupyter-widgets/controls",
      "model_module_version": "1.5.0",
      "model_name": "RadioButtonsModel",
      "state": {
       "_dom_classes": [],
       "_model_module": "@jupyter-widgets/controls",
       "_model_module_version": "1.5.0",
       "_model_name": "RadioButtonsModel",
       "_options_labels": [
        "Generic",
        "Carbon",
        "Thallium",
        "Uranium",
        "Rubidium"
       ],
       "_view_count": null,
       "_view_module": "@jupyter-widgets/controls",
       "_view_module_version": "1.5.0",
       "_view_name": "RadioButtonsView",
       "description": "Species:",
       "description_tooltip": null,
       "disabled": false,
       "index": 0,
       "layout": "IPY_MODEL_5c48931aa7594e348b75a35a46171b35",
       "style": "IPY_MODEL_7eef3e3702cc43bdaabcb1526b98ed77"
      }
     },
     "7749df5cd34f45b58ea566ceba71da10": {
      "model_module": "@jupyter-widgets/controls",
      "model_module_version": "1.5.0",
      "model_name": "HBoxModel",
      "state": {
       "_dom_classes": [],
       "_model_module": "@jupyter-widgets/controls",
       "_model_module_version": "1.5.0",
       "_model_name": "HBoxModel",
       "_view_count": null,
       "_view_module": "@jupyter-widgets/controls",
       "_view_module_version": "1.5.0",
       "_view_name": "HBoxView",
       "box_style": "",
       "children": [
        "IPY_MODEL_9c9e588dfe2a45fda4cb0045282b95aa",
        "IPY_MODEL_3049178549944047bfd576fc699af18b"
       ],
       "layout": "IPY_MODEL_e034c4f6696445518d2d6cbb05b65fdd"
      }
     },
     "78873f84654843e49746e898cf4bc51d": {
      "model_module": "@jupyter-widgets/base",
      "model_module_version": "1.2.0",
      "model_name": "LayoutModel",
      "state": {
       "_model_module": "@jupyter-widgets/base",
       "_model_module_version": "1.2.0",
       "_model_name": "LayoutModel",
       "_view_count": null,
       "_view_module": "@jupyter-widgets/base",
       "_view_module_version": "1.2.0",
       "_view_name": "LayoutView",
       "align_content": null,
       "align_items": null,
       "align_self": null,
       "border": null,
       "bottom": null,
       "display": null,
       "flex": null,
       "flex_flow": null,
       "grid_area": null,
       "grid_auto_columns": null,
       "grid_auto_flow": null,
       "grid_auto_rows": null,
       "grid_column": null,
       "grid_gap": null,
       "grid_row": null,
       "grid_template_areas": null,
       "grid_template_columns": null,
       "grid_template_rows": null,
       "height": null,
       "justify_content": null,
       "justify_items": null,
       "left": null,
       "margin": null,
       "max_height": null,
       "max_width": null,
       "min_height": null,
       "min_width": null,
       "object_fit": null,
       "object_position": null,
       "order": null,
       "overflow": null,
       "overflow_x": null,
       "overflow_y": null,
       "padding": null,
       "right": null,
       "top": null,
       "visibility": null,
       "width": null
      }
     },
     "7c13889645d1455988e9199a0ae54c9f": {
      "model_module": "bqplot",
      "model_module_version": "^0.5.0",
      "model_name": "FigureModel",
      "state": {
       "_dom_classes": [],
       "_model_module": "bqplot",
       "_model_module_version": "^0.5.0",
       "_model_name": "FigureModel",
       "_view_count": null,
       "_view_module": "bqplot",
       "_view_module_version": "^0.5.0",
       "_view_name": "Figure",
       "animation_duration": 0,
       "axes": [
        "IPY_MODEL_63b1a317fe46418696af4c8cc8a0e341",
        "IPY_MODEL_85d4244352d845ba9c6b60cd28a25bb8"
       ],
       "background_style": {},
       "fig_margin": {
        "bottom": 60,
        "left": 60,
        "right": 60,
        "top": 60
       },
       "interaction": null,
       "layout": "IPY_MODEL_46438511b5134403bb753cd8243a94c8",
       "legend_location": "top-right",
       "legend_style": {},
       "legend_text": {},
       "marks": [
        "IPY_MODEL_0e031903a52644a3ac8a3b57f0699299",
        "IPY_MODEL_20f717b488184be8b1f9a8caecf89f0d",
        "IPY_MODEL_0a0547476f924f6e944e40e3b6b56327",
        "IPY_MODEL_af43d3b6476e44bf975c500734738c37",
        "IPY_MODEL_0b05cf9a1db84565878ab833bebca43c"
       ],
       "max_aspect_ratio": 100.0,
       "min_aspect_ratio": 0.01,
       "padding_x": 0.0,
       "padding_y": 0.025,
       "pixel_ratio": null,
       "scale_x": "IPY_MODEL_eefe01a58b724223a4b6e630cb652956",
       "scale_y": "IPY_MODEL_932d54a2170241eb961e4de1e427166b",
       "theme": "classic",
       "title": "Geochron Diagram",
       "title_style": {}
      }
     },
     "7c42bf9f7ae84c39b387909f5d712d27": {
      "model_module": "@jupyter-widgets/base",
      "model_module_version": "1.2.0",
      "model_name": "LayoutModel",
      "state": {
       "_model_module": "@jupyter-widgets/base",
       "_model_module_version": "1.2.0",
       "_model_name": "LayoutModel",
       "_view_count": null,
       "_view_module": "@jupyter-widgets/base",
       "_view_module_version": "1.2.0",
       "_view_name": "LayoutView",
       "align_content": null,
       "align_items": null,
       "align_self": null,
       "border": null,
       "bottom": null,
       "display": null,
       "flex": null,
       "flex_flow": null,
       "grid_area": null,
       "grid_auto_columns": null,
       "grid_auto_flow": null,
       "grid_auto_rows": null,
       "grid_column": null,
       "grid_gap": null,
       "grid_row": null,
       "grid_template_areas": null,
       "grid_template_columns": null,
       "grid_template_rows": null,
       "height": null,
       "justify_content": null,
       "justify_items": null,
       "left": null,
       "margin": null,
       "max_height": null,
       "max_width": "500px",
       "min_height": null,
       "min_width": "250px",
       "object_fit": null,
       "object_position": null,
       "order": null,
       "overflow": null,
       "overflow_x": "visible",
       "overflow_y": "visible",
       "padding": null,
       "right": null,
       "top": null,
       "visibility": null,
       "width": "400px"
      }
     },
     "7eef3e3702cc43bdaabcb1526b98ed77": {
      "model_module": "@jupyter-widgets/controls",
      "model_module_version": "1.5.0",
      "model_name": "DescriptionStyleModel",
      "state": {
       "_model_module": "@jupyter-widgets/controls",
       "_model_module_version": "1.5.0",
       "_model_name": "DescriptionStyleModel",
       "_view_count": null,
       "_view_module": "@jupyter-widgets/base",
       "_view_module_version": "1.2.0",
       "_view_name": "StyleView",
       "description_width": ""
      }
     },
     "85d4244352d845ba9c6b60cd28a25bb8": {
      "model_module": "bqplot",
      "model_module_version": "^0.5.0",
      "model_name": "AxisModel",
      "state": {
       "_model_module": "bqplot",
       "_model_module_version": "^0.5.0",
       "_model_name": "AxisModel",
       "_view_count": null,
       "_view_module": "bqplot",
       "_view_module_version": "^0.5.0",
       "_view_name": "Axis",
       "color": null,
       "grid_color": null,
       "grid_lines": "solid",
       "label": "D / D_i",
       "label_color": null,
       "label_location": "middle",
       "label_offset": null,
       "num_ticks": null,
       "offset": {},
       "orientation": "vertical",
       "scale": "IPY_MODEL_ea3bee4afd044aceac261fc914e720cd",
       "side": null,
       "tick_format": null,
       "tick_rotate": 0,
       "tick_style": {},
       "tick_values": null,
       "visible": true
      }
     },
     "87cf2c8ae49244e2a456642bb06a2fd1": {
      "buffers": [
       {
        "data": "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",
        "encoding": "base64",
        "path": [
         "x",
         "value"
        ]
       },
       {
        "data": "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",
        "encoding": "base64",
        "path": [
         "y",
         "value"
        ]
       }
      ],
      "model_module": "bqplot",
      "model_module_version": "^0.5.0",
      "model_name": "LinesModel",
      "state": {
       "_model_module": "bqplot",
       "_model_module_version": "^0.5.0",
       "_model_name": "LinesModel",
       "_view_count": null,
       "_view_module": "bqplot",
       "_view_module_version": "^0.5.0",
       "_view_name": "Lines",
       "apply_clip": true,
       "close_path": false,
       "color": null,
       "colors": [
        "red"
       ],
       "curves_subset": [],
       "display_legend": true,
       "enable_hover": true,
       "fill": "none",
       "fill_colors": [],
       "fill_opacities": [],
       "interactions": {
        "hover": "tooltip"
       },
       "interpolation": "linear",
       "labels": [
        "Parent"
       ],
       "labels_visibility": "none",
       "line_style": "solid",
       "marker": null,
       "marker_size": 64,
       "opacities": [],
       "preserve_domain": {},
       "scales": {
        "x": "IPY_MODEL_3b1583c6ec4f4220aadd9f51815e5e3d",
        "y": "IPY_MODEL_f25ed5aa92d846ea9d6735386ac6b36a"
       },
       "scales_metadata": {
        "color": {
         "dimension": "color"
        },
        "x": {
         "dimension": "x",
         "orientation": "horizontal"
        },
        "y": {
         "dimension": "y",
         "orientation": "vertical"
        }
       },
       "selected": null,
       "selected_style": {},
       "stroke_width": 2.0,
       "tooltip": null,
       "tooltip_location": "mouse",
       "tooltip_style": {
        "opacity": 0.9
       },
       "unselected_style": {},
       "visible": true,
       "x": {
        "dtype": "float64",
        "shape": [
         901
        ],
        "type": null
       },
       "y": {
        "dtype": "int32",
        "shape": [
         901
        ],
        "type": null
       }
      }
     },
     "918c5915d74f4a4baa86a35723c0315d": {
      "buffers": [
       {
        "data": "AAAAAAAAAAA=",
        "encoding": "base64",
        "path": [
         "x",
         "value"
        ]
       },
       {
        "data": "AAAAAIQDAAA=",
        "encoding": "base64",
        "path": [
         "y",
         "value"
        ]
       }
      ],
      "model_module": "bqplot",
      "model_module_version": "^0.5.0",
      "model_name": "LinesModel",
      "state": {
       "_model_module": "bqplot",
       "_model_module_version": "^0.5.0",
       "_model_name": "LinesModel",
       "_view_count": null,
       "_view_module": "bqplot",
       "_view_module_version": "^0.5.0",
       "_view_name": "Lines",
       "apply_clip": true,
       "close_path": false,
       "color": null,
       "colors": [
        "greenyellow"
       ],
       "curves_subset": [],
       "display_legend": false,
       "enable_hover": true,
       "fill": "none",
       "fill_colors": [],
       "fill_opacities": [],
       "interactions": {
        "hover": "tooltip"
       },
       "interpolation": "linear",
       "labels": [],
       "labels_visibility": "none",
       "line_style": "solid",
       "marker": null,
       "marker_size": 64,
       "opacities": [],
       "preserve_domain": {},
       "scales": {
        "x": "IPY_MODEL_3b1583c6ec4f4220aadd9f51815e5e3d",
        "y": "IPY_MODEL_f25ed5aa92d846ea9d6735386ac6b36a"
       },
       "scales_metadata": {
        "color": {
         "dimension": "color"
        },
        "x": {
         "dimension": "x",
         "orientation": "horizontal"
        },
        "y": {
         "dimension": "y",
         "orientation": "vertical"
        }
       },
       "selected": null,
       "selected_style": {},
       "stroke_width": 2.0,
       "tooltip": null,
       "tooltip_location": "mouse",
       "tooltip_style": {
        "opacity": 0.9
       },
       "unselected_style": {},
       "visible": true,
       "x": {
        "dtype": "int32",
        "shape": [
         2
        ],
        "type": null
       },
       "y": {
        "dtype": "int32",
        "shape": [
         2
        ],
        "type": null
       }
      }
     },
     "932d54a2170241eb961e4de1e427166b": {
      "model_module": "bqplot",
      "model_module_version": "^0.5.0",
      "model_name": "LinearScaleModel",
      "state": {
       "_model_module": "bqplot",
       "_model_module_version": "^0.5.0",
       "_model_name": "LinearScaleModel",
       "_view_count": null,
       "_view_module": "bqplot",
       "_view_module_version": "^0.5.0",
       "_view_name": "LinearScale",
       "allow_padding": false,
       "max": 1.0,
       "mid_range": 0.8,
       "min": 0.0,
       "min_range": 0.6,
       "reverse": false,
       "stabilized": false
      }
     },
     "9b7774566854448da39b934d000d54ca": {
      "model_module": "@jupyter-widgets/controls",
      "model_module_version": "1.5.0",
      "model_name": "VBoxModel",
      "state": {
       "_dom_classes": [],
       "_model_module": "@jupyter-widgets/controls",
       "_model_module_version": "1.5.0",
       "_model_name": "VBoxModel",
       "_view_count": null,
       "_view_module": "@jupyter-widgets/controls",
       "_view_module_version": "1.5.0",
       "_view_name": "VBoxView",
       "box_style": "",
       "children": [
        "IPY_MODEL_b997cf012559461385f6f6f6a903dfb9",
        "IPY_MODEL_309759edcd9740c09a3471582d7cb875"
       ],
       "layout": "IPY_MODEL_1d287d8e8a82469aa3fcf24a703278b7"
      }
     },
     "9c9e588dfe2a45fda4cb0045282b95aa": {
      "model_module": "@jupyter-widgets/controls",
      "model_module_version": "1.5.0",
      "model_name": "LabelModel",
      "state": {
       "_dom_classes": [],
       "_model_module": "@jupyter-widgets/controls",
       "_model_module_version": "1.5.0",
       "_model_name": "LabelModel",
       "_view_count": null,
       "_view_module": "@jupyter-widgets/controls",
       "_view_module_version": "1.5.0",
       "_view_name": "LabelView",
       "description": "",
       "description_tooltip": null,
       "layout": "IPY_MODEL_f636edc3776749c49e5a221850912031",
       "placeholder": "​",
       "style": "IPY_MODEL_aeef16e6f1744538aedeb676850510ea",
       "value": "Daughter produced"
      }
     },
     "a11368ccd0614d7fbfb00daa5eaa8a8e": {
      "model_module": "@jupyter-widgets/base",
      "model_module_version": "1.2.0",
      "model_name": "LayoutModel",
      "state": {
       "_model_module": "@jupyter-widgets/base",
       "_model_module_version": "1.2.0",
       "_model_name": "LayoutModel",
       "_view_count": null,
       "_view_module": "@jupyter-widgets/base",
       "_view_module_version": "1.2.0",
       "_view_name": "LayoutView",
       "align_content": null,
       "align_items": null,
       "align_self": null,
       "border": null,
       "bottom": null,
       "display": null,
       "flex": null,
       "flex_flow": null,
       "grid_area": null,
       "grid_auto_columns": null,
       "grid_auto_flow": null,
       "grid_auto_rows": null,
       "grid_column": null,
       "grid_gap": null,
       "grid_row": null,
       "grid_template_areas": null,
       "grid_template_columns": null,
       "grid_template_rows": null,
       "height": "50px",
       "justify_content": null,
       "justify_items": null,
       "left": null,
       "margin": null,
       "max_height": "75px",
       "max_width": "75px",
       "min_height": "50px",
       "min_width": "50px",
       "object_fit": null,
       "object_position": null,
       "order": null,
       "overflow": null,
       "overflow_x": null,
       "overflow_y": null,
       "padding": null,
       "right": null,
       "top": null,
       "visibility": null,
       "width": "75px"
      }
     },
     "a29516453718457e8ced248bb5da6886": {
      "model_module": "bqplot",
      "model_module_version": "^0.5.0",
      "model_name": "AxisModel",
      "state": {
       "_model_module": "bqplot",
       "_model_module_version": "^0.5.0",
       "_model_name": "AxisModel",
       "_view_count": null,
       "_view_module": "bqplot",
       "_view_module_version": "^0.5.0",
       "_view_name": "Axis",
       "color": null,
       "grid_color": null,
       "grid_lines": "solid",
       "label": "",
       "label_color": null,
       "label_location": "middle",
       "label_offset": null,
       "num_ticks": 0,
       "offset": {},
       "orientation": "vertical",
       "scale": "IPY_MODEL_037ca1df9c1f4e6caeb141f35353fea8",
       "side": null,
       "tick_format": null,
       "tick_rotate": 0,
       "tick_style": {},
       "tick_values": null,
       "visible": true
      }
     },
     "a2a5a34fc5754b91970859f11f7f1fc9": {
      "model_module": "bqplot",
      "model_module_version": "^0.5.0",
      "model_name": "LinearScaleModel",
      "state": {
       "_model_module": "bqplot",
       "_model_module_version": "^0.5.0",
       "_model_name": "LinearScaleModel",
       "_view_count": null,
       "_view_module": "bqplot",
       "_view_module_version": "^0.5.0",
       "_view_name": "LinearScale",
       "allow_padding": false,
       "max": 1.0,
       "mid_range": 0.8,
       "min": 0.0,
       "min_range": 0.6,
       "reverse": false,
       "stabilized": false
      }
     },
     "a2f1cb19c9c341d1bfa8ed018a4b630c": {
      "buffers": [
       {
        "data": "AAAAAAAA8D8=",
        "encoding": "base64",
        "path": [
         "default_opacities",
         "value"
        ]
       },
       {
        "data": "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",
        "encoding": "base64",
        "path": [
         "x",
         "value"
        ]
       },
       {
        "data": "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",
        "encoding": "base64",
        "path": [
         "y",
         "value"
        ]
       }
      ],
      "model_module": "bqplot",
      "model_module_version": "^0.5.0",
      "model_name": "ScatterModel",
      "state": {
       "_model_module": "bqplot",
       "_model_module_version": "^0.5.0",
       "_model_name": "ScatterModel",
       "_view_count": null,
       "_view_module": "bqplot",
       "_view_module_version": "^0.5.0",
       "_view_name": "Scatter",
       "apply_clip": true,
       "color": null,
       "colors": [
        "red"
       ],
       "default_opacities": {
        "dtype": "float64",
        "shape": [
         1
        ],
        "type": null
       },
       "default_size": 2,
       "default_skew": 0.5,
       "display_legend": false,
       "display_names": true,
       "drag_color": null,
       "drag_size": 5.0,
       "enable_delete": false,
       "enable_hover": true,
       "enable_move": false,
       "fill": true,
       "hovered_point": null,
       "hovered_style": {},
       "interactions": {
        "hover": "tooltip"
       },
       "labels": [
        "Parent"
       ],
       "marker": "circle",
       "names": null,
       "names_unique": true,
       "opacity": null,
       "preserve_domain": {},
       "restrict_x": false,
       "restrict_y": false,
       "rotation": null,
       "scales": {
        "x": "IPY_MODEL_3b1583c6ec4f4220aadd9f51815e5e3d",
        "y": "IPY_MODEL_f25ed5aa92d846ea9d6735386ac6b36a"
       },
       "scales_metadata": {
        "color": {
         "dimension": "color"
        },
        "opacity": {
         "dimension": "opacity"
        },
        "rotation": {
         "dimension": "rotation"
        },
        "size": {
         "dimension": "size"
        },
        "skew": {
         "dimension": "skew"
        },
        "x": {
         "dimension": "x",
         "orientation": "horizontal"
        },
        "y": {
         "dimension": "y",
         "orientation": "vertical"
        }
       },
       "selected": null,
       "selected_style": {},
       "size": null,
       "skew": null,
       "stroke": null,
       "stroke_width": 1.5,
       "tooltip": "IPY_MODEL_adae3bc5402a4ce38b88ef5ac92b578c",
       "tooltip_location": "mouse",
       "tooltip_style": {
        "opacity": 0.9
       },
       "unhovered_style": {},
       "unselected_style": {},
       "update_on_move": false,
       "visible": true,
       "x": {
        "dtype": "float64",
        "shape": [
         901
        ],
        "type": null
       },
       "y": {
        "dtype": "int32",
        "shape": [
         901
        ],
        "type": null
       }
      }
     },
     "a8f4408d11d248fe9a99852ed03480ae": {
      "model_module": "@jupyter-widgets/base",
      "model_module_version": "1.2.0",
      "model_name": "LayoutModel",
      "state": {
       "_model_module": "@jupyter-widgets/base",
       "_model_module_version": "1.2.0",
       "_model_name": "LayoutModel",
       "_view_count": null,
       "_view_module": "@jupyter-widgets/base",
       "_view_module_version": "1.2.0",
       "_view_name": "LayoutView",
       "align_content": null,
       "align_items": null,
       "align_self": null,
       "border": null,
       "bottom": null,
       "display": null,
       "flex": null,
       "flex_flow": null,
       "grid_area": null,
       "grid_auto_columns": null,
       "grid_auto_flow": null,
       "grid_auto_rows": null,
       "grid_column": null,
       "grid_gap": null,
       "grid_row": null,
       "grid_template_areas": null,
       "grid_template_columns": null,
       "grid_template_rows": null,
       "height": null,
       "justify_content": null,
       "justify_items": null,
       "left": null,
       "margin": null,
       "max_height": null,
       "max_width": null,
       "min_height": null,
       "min_width": null,
       "object_fit": null,
       "object_position": null,
       "order": null,
       "overflow": null,
       "overflow_x": null,
       "overflow_y": null,
       "padding": null,
       "right": null,
       "top": null,
       "visibility": null,
       "width": null
      }
     },
     "adae3bc5402a4ce38b88ef5ac92b578c": {
      "model_module": "bqplot",
      "model_module_version": "^0.5.0",
      "model_name": "TooltipModel",
      "state": {
       "_dom_classes": [],
       "_model_module": "bqplot",
       "_model_module_version": "^0.5.0",
       "_model_name": "TooltipModel",
       "_view_count": null,
       "_view_module": "bqplot",
       "_view_module_version": "^0.5.0",
       "_view_name": "Tooltip",
       "fields": [
        "x",
        "y"
       ],
       "formats": [
        ".2f",
        ".3f"
       ],
       "labels": [
        "time",
        "amount of parent isotope"
       ],
       "layout": "IPY_MODEL_f3646ecfbc2b482bb5513a5e9a6864e5",
       "show_labels": true
      }
     },
     "adce45c04a1043b28fbb6dc9b328b0a0": {
      "model_module": "@jupyter-widgets/controls",
      "model_module_version": "1.5.0",
      "model_name": "DescriptionStyleModel",
      "state": {
       "_model_module": "@jupyter-widgets/controls",
       "_model_module_version": "1.5.0",
       "_model_name": "DescriptionStyleModel",
       "_view_count": null,
       "_view_module": "@jupyter-widgets/base",
       "_view_module_version": "1.2.0",
       "_view_name": "StyleView",
       "description_width": ""
      }
     },
     "aeef16e6f1744538aedeb676850510ea": {
      "model_module": "@jupyter-widgets/controls",
      "model_module_version": "1.5.0",
      "model_name": "DescriptionStyleModel",
      "state": {
       "_model_module": "@jupyter-widgets/controls",
       "_model_module_version": "1.5.0",
       "_model_name": "DescriptionStyleModel",
       "_view_count": null,
       "_view_module": "@jupyter-widgets/base",
       "_view_module_version": "1.2.0",
       "_view_name": "StyleView",
       "description_width": ""
      }
     },
     "af43d3b6476e44bf975c500734738c37": {
      "buffers": [
       {
        "data": "AAAAAAAAAABnZmZmZmbWPw==",
        "encoding": "base64",
        "path": [
         "x",
         "value"
        ]
       },
       {
        "data": "3pBkpSXkyj/ekGSlJeTKPw==",
        "encoding": "base64",
        "path": [
         "y",
         "value"
        ]
       }
      ],
      "model_module": "bqplot",
      "model_module_version": "^0.5.0",
      "model_name": "LinesModel",
      "state": {
       "_model_module": "bqplot",
       "_model_module_version": "^0.5.0",
       "_model_name": "LinesModel",
       "_view_count": null,
       "_view_module": "bqplot",
       "_view_module_version": "^0.5.0",
       "_view_name": "Lines",
       "apply_clip": true,
       "close_path": false,
       "color": null,
       "colors": [
        "red"
       ],
       "curves_subset": [],
       "display_legend": false,
       "enable_hover": true,
       "fill": "none",
       "fill_colors": [],
       "fill_opacities": [],
       "interactions": {
        "hover": "tooltip"
       },
       "interpolation": "linear",
       "labels": [
        "Current Isochron"
       ],
       "labels_visibility": "none",
       "line_style": "solid",
       "marker": null,
       "marker_size": 64,
       "opacities": [],
       "preserve_domain": {},
       "scales": {
        "x": "IPY_MODEL_f34fe989f8c542b7aec3a5b6f5a22b51",
        "y": "IPY_MODEL_ea3bee4afd044aceac261fc914e720cd"
       },
       "scales_metadata": {
        "color": {
         "dimension": "color"
        },
        "x": {
         "dimension": "x",
         "orientation": "horizontal"
        },
        "y": {
         "dimension": "y",
         "orientation": "vertical"
        }
       },
       "selected": null,
       "selected_style": {},
       "stroke_width": 2.0,
       "tooltip": null,
       "tooltip_location": "mouse",
       "tooltip_style": {
        "opacity": 0.9
       },
       "unselected_style": {},
       "visible": true,
       "x": {
        "dtype": "float64",
        "shape": [
         2
        ],
        "type": null
       },
       "y": {
        "dtype": "float64",
        "shape": [
         2
        ],
        "type": null
       }
      }
     },
     "b35bba5b03f04240a21491ed4550fb83": {
      "model_module": "@jupyter-widgets/controls",
      "model_module_version": "1.5.0",
      "model_name": "TextModel",
      "state": {
       "_dom_classes": [],
       "_model_module": "@jupyter-widgets/controls",
       "_model_module_version": "1.5.0",
       "_model_name": "TextModel",
       "_view_count": null,
       "_view_module": "@jupyter-widgets/controls",
       "_view_module_version": "1.5.0",
       "_view_name": "TextView",
       "continuous_update": true,
       "description": "",
       "description_tooltip": null,
       "disabled": true,
       "layout": "IPY_MODEL_4763bc9e033045528c43daf934147312",
       "placeholder": "​",
       "style": "IPY_MODEL_ba893c95577f4cf288178ae05be7d9c0",
       "value": "900"
      }
     },
     "b997cf012559461385f6f6f6a903dfb9": {
      "model_module": "@jupyter-widgets/controls",
      "model_module_version": "1.5.0",
      "model_name": "HBoxModel",
      "state": {
       "_dom_classes": [],
       "_model_module": "@jupyter-widgets/controls",
       "_model_module_version": "1.5.0",
       "_model_name": "HBoxModel",
       "_view_count": null,
       "_view_module": "@jupyter-widgets/controls",
       "_view_module_version": "1.5.0",
       "_view_name": "HBoxView",
       "box_style": "",
       "children": [
        "IPY_MODEL_c047287c5d164062bcab29f3887aab79",
        "IPY_MODEL_1e62b0e65ac84e6abdc3bb434f3e9481"
       ],
       "layout": "IPY_MODEL_65bd88585fd647ac8f7c296c05610ddc"
      }
     },
     "b9c4b40c04924c8681e75ef7eacba824": {
      "model_module": "@jupyter-widgets/base",
      "model_module_version": "1.2.0",
      "model_name": "LayoutModel",
      "state": {
       "_model_module": "@jupyter-widgets/base",
       "_model_module_version": "1.2.0",
       "_model_name": "LayoutModel",
       "_view_count": null,
       "_view_module": "@jupyter-widgets/base",
       "_view_module_version": "1.2.0",
       "_view_name": "LayoutView",
       "align_content": null,
       "align_items": null,
       "align_self": null,
       "border": null,
       "bottom": null,
       "display": null,
       "flex": null,
       "flex_flow": null,
       "grid_area": null,
       "grid_auto_columns": null,
       "grid_auto_flow": null,
       "grid_auto_rows": null,
       "grid_column": null,
       "grid_gap": null,
       "grid_row": null,
       "grid_template_areas": null,
       "grid_template_columns": null,
       "grid_template_rows": null,
       "height": null,
       "justify_content": null,
       "justify_items": null,
       "left": null,
       "margin": null,
       "max_height": null,
       "max_width": null,
       "min_height": null,
       "min_width": null,
       "object_fit": null,
       "object_position": null,
       "order": null,
       "overflow": null,
       "overflow_x": null,
       "overflow_y": null,
       "padding": null,
       "right": null,
       "top": null,
       "visibility": null,
       "width": "900px"
      }
     },
     "ba893c95577f4cf288178ae05be7d9c0": {
      "model_module": "@jupyter-widgets/controls",
      "model_module_version": "1.5.0",
      "model_name": "DescriptionStyleModel",
      "state": {
       "_model_module": "@jupyter-widgets/controls",
       "_model_module_version": "1.5.0",
       "_model_name": "DescriptionStyleModel",
       "_view_count": null,
       "_view_module": "@jupyter-widgets/base",
       "_view_module_version": "1.2.0",
       "_view_name": "StyleView",
       "description_width": "initial"
      }
     },
     "bafc836294124324a50a36fc71b1b398": {
      "model_module": "@jupyter-widgets/base",
      "model_module_version": "1.2.0",
      "model_name": "LayoutModel",
      "state": {
       "_model_module": "@jupyter-widgets/base",
       "_model_module_version": "1.2.0",
       "_model_name": "LayoutModel",
       "_view_count": null,
       "_view_module": "@jupyter-widgets/base",
       "_view_module_version": "1.2.0",
       "_view_name": "LayoutView",
       "align_content": null,
       "align_items": null,
       "align_self": null,
       "border": null,
       "bottom": null,
       "display": null,
       "flex": null,
       "flex_flow": null,
       "grid_area": null,
       "grid_auto_columns": null,
       "grid_auto_flow": null,
       "grid_auto_rows": null,
       "grid_column": null,
       "grid_gap": null,
       "grid_row": null,
       "grid_template_areas": null,
       "grid_template_columns": null,
       "grid_template_rows": null,
       "height": null,
       "justify_content": null,
       "justify_items": null,
       "left": null,
       "margin": null,
       "max_height": null,
       "max_width": null,
       "min_height": null,
       "min_width": null,
       "object_fit": null,
       "object_position": null,
       "order": null,
       "overflow": null,
       "overflow_x": "visible",
       "overflow_y": "visible",
       "padding": null,
       "right": null,
       "top": null,
       "visibility": null,
       "width": "200px"
      }
     },
     "be1ee4b9bcce4f0ba7fdecbd7785cde1": {
      "model_module": "bqplot",
      "model_module_version": "^0.5.0",
      "model_name": "AxisModel",
      "state": {
       "_model_module": "bqplot",
       "_model_module_version": "^0.5.0",
       "_model_name": "AxisModel",
       "_view_count": null,
       "_view_module": "bqplot",
       "_view_module_version": "^0.5.0",
       "_view_name": "Axis",
       "color": null,
       "grid_color": null,
       "grid_lines": "solid",
       "label": "Fraction of atoms",
       "label_color": null,
       "label_location": "middle",
       "label_offset": null,
       "num_ticks": null,
       "offset": {},
       "orientation": "vertical",
       "scale": "IPY_MODEL_38b3fb0e5b454b00aa4f9527176af612",
       "side": null,
       "tick_format": null,
       "tick_rotate": 0,
       "tick_style": {},
       "tick_values": null,
       "visible": true
      }
     },
     "be3e4872d23a412e910c27790092c647": {
      "model_module": "@jupyter-widgets/controls",
      "model_module_version": "1.5.0",
      "model_name": "DescriptionStyleModel",
      "state": {
       "_model_module": "@jupyter-widgets/controls",
       "_model_module_version": "1.5.0",
       "_model_name": "DescriptionStyleModel",
       "_view_count": null,
       "_view_module": "@jupyter-widgets/base",
       "_view_module_version": "1.2.0",
       "_view_name": "StyleView",
       "description_width": ""
      }
     },
     "c047287c5d164062bcab29f3887aab79": {
      "model_module": "@jupyter-widgets/controls",
      "model_module_version": "1.5.0",
      "model_name": "FloatSliderModel",
      "state": {
       "_dom_classes": [],
       "_model_module": "@jupyter-widgets/controls",
       "_model_module_version": "1.5.0",
       "_model_name": "FloatSliderModel",
       "_view_count": null,
       "_view_module": "@jupyter-widgets/controls",
       "_view_module_version": "1.5.0",
       "_view_name": "FloatSliderView",
       "continuous_update": false,
       "description": "Time",
       "description_tooltip": null,
       "disabled": false,
       "layout": "IPY_MODEL_7c42bf9f7ae84c39b387909f5d712d27",
       "max": 10.0,
       "min": 0.0,
       "orientation": "horizontal",
       "readout": false,
       "readout_format": ".1f",
       "step": 0.025,
       "style": "IPY_MODEL_eb1fffb35f99464782f51e35b8a2f77f",
       "value": 0.0
      }
     },
     "c233c1434cee41c2baa401bc67240039": {
      "model_module": "@jupyter-widgets/controls",
      "model_module_version": "1.5.0",
      "model_name": "DescriptionStyleModel",
      "state": {
       "_model_module": "@jupyter-widgets/controls",
       "_model_module_version": "1.5.0",
       "_model_name": "DescriptionStyleModel",
       "_view_count": null,
       "_view_module": "@jupyter-widgets/base",
       "_view_module_version": "1.2.0",
       "_view_name": "StyleView",
       "description_width": "initial"
      }
     },
     "c500f4c74c0840f89cfc8e4b05bad283": {
      "buffers": [
       {
        "data": "AAAAAAAA8D8=",
        "encoding": "base64",
        "path": [
         "default_opacities",
         "value"
        ]
       },
       {
        "data": "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",
        "encoding": "base64",
        "path": [
         "x",
         "value"
        ]
       },
       {
        "data": "AAAAAAEAAAACAAAAAwAAAAQAAAAFAAAABgAAAAcAAAAIAAAACQAAAAoAAAALAAAADAAAAA0AAAAOAAAADwAAABAAAAARAAAAEgAAABMAAAAUAAAAFQAAABYAAAAXAAAAGAAAABkAAAAaAAAAGwAAABwAAAAdAAAAHgAAAB8AAAAgAAAAIQAAACIAAAAjAAAAJAAAACUAAAAmAAAAJwAAACgAAAApAAAAKgAAACsAAAAsAAAALQAAAC4AAAAvAAAAMAAAADEAAAAyAAAAMwAAADQAAAA1AAAANgAAADcAAAA4AAAAOQAAADoAAAA7AAAAPAAAAD0AAAA+AAAAPwAAAEAAAABBAAAAQgAAAEMAAABEAAAARQAAAEYAAABHAAAASAAAAEkAAABKAAAASwAAAEwAAABNAAAATgAAAE8AAABQAAAAUQAAAFIAAABTAAAAVAAAAFUAAABWAAAAVwAAAFgAAABZAAAAWgAAAFsAAABcAAAAXQAAAF4AAABfAAAAYAAAAGEAAABiAAAAYwAAAGQAAABlAAAAZgAAAGcAAABoAAAAaQAAAGoAAABrAAAAbAAAAG0AAABuAAAAbwAAAHAAAABxAAAAcgAAAHMAAAB0AAAAdQAAAHYAAAB3AAAAeAAAAHkAAAB6AAAAewAAAHwAAAB9AAAAfgAAAH8AAACAAAAAgQAAAIIAAACDAAAAhAAAAIUAAACGAAAAhwAAAIgAAACJAAAAigAAAIsAAACMAAAAjQAAAI4AAACPAAAAkAAAAJEAAACSAAAAkwAAAJQAAACVAAAAlgAAAJcAAACYAAAAmQAAAJoAAACbAAAAnAAAAJ0AAACeAAAAnwAAAKAAAAChAAAAogAAAKMAAACkAAAApQAAAKYAAACnAAAAqAAAAKkAAACqAAAAqwAAAKwAAACtAAAArgAAAK8AAACwAAAAsQAAALIAAACzAAAAtAAAALUAAAC2AAAAtwAAALgAAAC5AAAAugAAALsAAAC8AAAAvQAAAL4AAAC/AAAAwAAAAMEAAADCAAAAwwAAAMQAAADFAAAAxgAAAMcAAADIAAAAyQAAAMoAAADLAAAAzAAAAM0AAADOAAAAzwAAANAAAADRAAAA0gAAANMAAADUAAAA1QAAANYAAADXAAAA2AAAANkAAADaAAAA2wAAANwAAADdAAAA3gAAAN8AAADgAAAA4QAAAOIAAADjAAAA5AAAAOUAAADmAAAA5wAAAOgAAADpAAAA6gAAAOsAAADsAAAA7QAAAO4AAADvAAAA8AAAAPEAAADyAAAA8wAAAPQAAAD1AAAA9gAAAPcAAAD4AAAA+QAAAPoAAAD7AAAA/AAAAP0AAAD+AAAA/wAAAAABAAABAQAAAgEAAAMBAAAEAQAABQEAAAYBAAAHAQAACAEAAAkBAAAKAQAACwEAAAwBAAANAQAADgEAAA8BAAAQAQAAEQEAABIBAAATAQAAFAEAABUBAAAWAQAAFwEAABgBAAAZAQAAGgEAABsBAAAcAQAAHQEAAB4BAAAfAQAAIAEAACEBAAAiAQAAIwEAACQBAAAlAQAAJgEAACcBAAAoAQAAKQEAACoBAAArAQAALAEAAC0BAAAuAQAALwEAADABAAAxAQAAMgEAADMBAAA0AQAANQEAADYBAAA3AQAAOAEAADkBAAA6AQAAOwEAADwBAAA9AQAAPgEAAD8BAABAAQAAQQEAAEIBAABDAQAARAEAAEUBAABGAQAARwEAAEgBAABJAQAASgEAAEsBAABMAQAATQEAAE4BAABPAQAAUAEAAFEBAABSAQAAUwEAAFQBAABVAQAAVgEAAFcBAABYAQAAWQEAAFoBAABbAQAAXAEAAF0BAABeAQAAXwEAAGABAABhAQAAYgEAAGMBAABkAQAAZQEAAGYBAABnAQAAaAEAAGkBAABqAQAAawEAAGwBAABtAQAAbgEAAG8BAABwAQAAcQEAAHIBAABzAQAAdAEAAHUBAAB2AQAAdwEAAHgBAAB5AQAAegEAAHsBAAB8AQAAfQEAAH4BAAB/AQAAgAEAAIEBAACCAQAAgwEAAIQBAACFAQAAhgEAAIcBAACIAQAAiQEAAIoBAACLAQAAjAEAAI0BAACOAQAAjwEAAJABAACRAQAAkgEAAJMBAACUAQAAlQEAAJYBAACXAQAAmAEAAJkBAACaAQAAmwEAAJwBAACdAQAAngEAAJ8BAACgAQAAoQEAAKIBAACjAQAApAEAAKUBAACmAQAApwEAAKgBAACpAQAAqgEAAKsBAACsAQAArQEAAK4BAACvAQAAsAEAALEBAACyAQAAswEAALQBAAC1AQAAtgEAALcBAAC4AQAAuQEAALoBAAC7AQAAvAEAAL0BAAC+AQAAvwEAAMABAADBAQAAwgEAAMMBAADEAQAAxQEAAMYBAADHAQAAyAEAAMkBAADKAQAAywEAAMwBAADNAQAAzgEAAM8BAADQAQAA0QEAANIBAADTAQAA1AEAANUBAADWAQAA1wEAANgBAADZAQAA2gEAANsBAADcAQAA3QEAAN4BAADfAQAA4AEAAOEBAADiAQAA4wEAAOQBAADlAQAA5gEAAOcBAADoAQAA6QEAAOoBAADrAQAA7AEAAO0BAADuAQAA7wEAAPABAADxAQAA8gEAAPMBAAD0AQAA9QEAAPYBAAD3AQAA+AEAAPkBAAD6AQAA+wEAAPwBAAD9AQAA/gEAAP8BAAAAAgAAAQIAAAICAAADAgAABAIAAAUCAAAGAgAABwIAAAgCAAAJAgAACgIAAAsCAAAMAgAADQIAAA4CAAAPAgAAEAIAABECAAASAgAAEwIAABQCAAAVAgAAFgIAABcCAAAYAgAAGQIAABoCAAAbAgAAHAIAAB0CAAAeAgAAHwIAACACAAAhAgAAIgIAACMCAAAkAgAAJQIAACYCAAAnAgAAKAIAACkCAAAqAgAAKwIAACwCAAAtAgAALgIAAC8CAAAwAgAAMQIAADICAAAzAgAANAIAADUCAAA2AgAANwIAADgCAAA5AgAAOgIAADsCAAA8AgAAPQIAAD4CAAA/AgAAQAIAAEECAABCAgAAQwIAAEQCAABFAgAARgIAAEcCAABIAgAASQIAAEoCAABLAgAATAIAAE0CAABOAgAATwIAAFACAABRAgAAUgIAAFMCAABUAgAAVQIAAFYCAABXAgAAWAIAAFkCAABaAgAAWwIAAFwCAABdAgAAXgIAAF8CAABgAgAAYQIAAGICAABjAgAAZAIAAGUCAABmAgAAZwIAAGgCAABpAgAAagIAAGsCAABsAgAAbQIAAG4CAABvAgAAcAIAAHECAAByAgAAcwIAAHQCAAB1AgAAdgIAAHcCAAB4AgAAeQIAAHoCAAB7AgAAfAIAAH0CAAB+AgAAfwIAAIACAACBAgAAggIAAIMCAACEAgAAhQIAAIYCAACHAgAAiAIAAIkCAACKAgAAiwIAAIwCAACNAgAAjgIAAI8CAACQAgAAkQIAAJICAACTAgAAlAIAAJUCAACWAgAAlwIAAJgCAACZAgAAmgIAAJsCAACcAgAAnQIAAJ4CAACfAgAAoAIAAKECAACiAgAAowIAAKQCAAClAgAApgIAAKcCAACoAgAAqQIAAKoCAACrAgAArAIAAK0CAACuAgAArwIAALACAACxAgAAsgIAALMCAAC0AgAAtQIAALYCAAC3AgAAuAIAALkCAAC6AgAAuwIAALwCAAC9AgAAvgIAAL8CAADAAgAAwQIAAMICAADDAgAAxAIAAMUCAADGAgAAxwIAAMgCAADJAgAAygIAAMsCAADMAgAAzQIAAM4CAADPAgAA0AIAANECAADSAgAA0wIAANQCAADVAgAA1gIAANcCAADYAgAA2QIAANoCAADbAgAA3AIAAN0CAADeAgAA3wIAAOACAADhAgAA4gIAAOMCAADkAgAA5QIAAOYCAADnAgAA6AIAAOkCAADqAgAA6wIAAOwCAADtAgAA7gIAAO8CAADwAgAA8QIAAPICAADzAgAA9AIAAPUCAAD2AgAA9wIAAPgCAAD5AgAA+gIAAPsCAAD8AgAA/QIAAP4CAAD/AgAAAAMAAAEDAAACAwAAAwMAAAQDAAAFAwAABgMAAAcDAAAIAwAACQMAAAoDAAALAwAADAMAAA0DAAAOAwAADwMAABADAAARAwAAEgMAABMDAAAUAwAAFQMAABYDAAAXAwAAGAMAABkDAAAaAwAAGwMAABwDAAAdAwAAHgMAAB8DAAAgAwAAIQMAACIDAAAjAwAAJAMAACUDAAAmAwAAJwMAACgDAAApAwAAKgMAACsDAAAsAwAALQMAAC4DAAAvAwAAMAMAADEDAAAyAwAAMwMAADQDAAA1AwAANgMAADcDAAA4AwAAOQMAADoDAAA7AwAAPAMAAD0DAAA+AwAAPwMAAEADAABBAwAAQgMAAEMDAABEAwAARQMAAEYDAABHAwAASAMAAEkDAABKAwAASwMAAEwDAABNAwAATgMAAE8DAABQAwAAUQMAAFIDAABTAwAAVAMAAFUDAABWAwAAVwMAAFgDAABZAwAAWgMAAFsDAABcAwAAXQMAAF4DAABfAwAAYAMAAGEDAABiAwAAYwMAAGQDAABlAwAAZgMAAGcDAABoAwAAaQMAAGoDAABrAwAAbAMAAG0DAABuAwAAbwMAAHADAABxAwAAcgMAAHMDAAB0AwAAdQMAAHYDAAB3AwAAeAMAAHkDAAB6AwAAewMAAHwDAAB9AwAAfgMAAH8DAACAAwAAgQMAAIIDAACDAwAAhAMAAA==",
        "encoding": "base64",
        "path": [
         "y",
         "value"
        ]
       }
      ],
      "model_module": "bqplot",
      "model_module_version": "^0.5.0",
      "model_name": "ScatterModel",
      "state": {
       "_model_module": "bqplot",
       "_model_module_version": "^0.5.0",
       "_model_name": "ScatterModel",
       "_view_count": null,
       "_view_module": "bqplot",
       "_view_module_version": "^0.5.0",
       "_view_name": "Scatter",
       "apply_clip": true,
       "color": null,
       "colors": [
        "blue"
       ],
       "default_opacities": {
        "dtype": "float64",
        "shape": [
         1
        ],
        "type": null
       },
       "default_size": 2,
       "default_skew": 0.5,
       "display_legend": false,
       "display_names": true,
       "drag_color": null,
       "drag_size": 5.0,
       "enable_delete": false,
       "enable_hover": true,
       "enable_move": false,
       "fill": true,
       "hovered_point": null,
       "hovered_style": {},
       "interactions": {
        "hover": "tooltip"
       },
       "labels": [
        "Daughter"
       ],
       "marker": "circle",
       "names": null,
       "names_unique": true,
       "opacity": null,
       "preserve_domain": {},
       "restrict_x": false,
       "restrict_y": false,
       "rotation": null,
       "scales": {
        "x": "IPY_MODEL_3b1583c6ec4f4220aadd9f51815e5e3d",
        "y": "IPY_MODEL_f25ed5aa92d846ea9d6735386ac6b36a"
       },
       "scales_metadata": {
        "color": {
         "dimension": "color"
        },
        "opacity": {
         "dimension": "opacity"
        },
        "rotation": {
         "dimension": "rotation"
        },
        "size": {
         "dimension": "size"
        },
        "skew": {
         "dimension": "skew"
        },
        "x": {
         "dimension": "x",
         "orientation": "horizontal"
        },
        "y": {
         "dimension": "y",
         "orientation": "vertical"
        }
       },
       "selected": null,
       "selected_style": {},
       "size": null,
       "skew": null,
       "stroke": null,
       "stroke_width": 1.5,
       "tooltip": "IPY_MODEL_4fd17e50b383485b8e1a12621344b4f3",
       "tooltip_location": "mouse",
       "tooltip_style": {
        "opacity": 0.9
       },
       "unhovered_style": {},
       "unselected_style": {},
       "update_on_move": false,
       "visible": true,
       "x": {
        "dtype": "float64",
        "shape": [
         901
        ],
        "type": null
       },
       "y": {
        "dtype": "int32",
        "shape": [
         901
        ],
        "type": null
       }
      }
     },
     "c7840ea889ba44cdbdda5313094067c5": {
      "model_module": "@jupyter-widgets/base",
      "model_module_version": "1.2.0",
      "model_name": "LayoutModel",
      "state": {
       "_model_module": "@jupyter-widgets/base",
       "_model_module_version": "1.2.0",
       "_model_name": "LayoutModel",
       "_view_count": null,
       "_view_module": "@jupyter-widgets/base",
       "_view_module_version": "1.2.0",
       "_view_name": "LayoutView",
       "align_content": null,
       "align_items": null,
       "align_self": null,
       "border": null,
       "bottom": null,
       "display": null,
       "flex": null,
       "flex_flow": null,
       "grid_area": null,
       "grid_auto_columns": null,
       "grid_auto_flow": null,
       "grid_auto_rows": null,
       "grid_column": null,
       "grid_gap": null,
       "grid_row": null,
       "grid_template_areas": null,
       "grid_template_columns": null,
       "grid_template_rows": null,
       "height": null,
       "justify_content": null,
       "justify_items": null,
       "left": null,
       "margin": null,
       "max_height": null,
       "max_width": null,
       "min_height": null,
       "min_width": null,
       "object_fit": null,
       "object_position": null,
       "order": null,
       "overflow": null,
       "overflow_x": null,
       "overflow_y": null,
       "padding": null,
       "right": null,
       "top": null,
       "visibility": null,
       "width": null
      }
     },
     "ce2751f9f9994dd19ffd781866553631": {
      "model_module": "@jupyter-widgets/controls",
      "model_module_version": "1.5.0",
      "model_name": "LabelModel",
      "state": {
       "_dom_classes": [],
       "_model_module": "@jupyter-widgets/controls",
       "_model_module_version": "1.5.0",
       "_model_name": "LabelModel",
       "_view_count": null,
       "_view_module": "@jupyter-widgets/controls",
       "_view_module_version": "1.5.0",
       "_view_name": "LabelView",
       "description": "",
       "description_tooltip": null,
       "layout": "IPY_MODEL_d50ed999c8b348bcbe23a8e757fe27b8",
       "placeholder": "​",
       "style": "IPY_MODEL_11f5dc773be247b4bafe56028bf57ff3",
       "value": "0.0"
      }
     },
     "d50ed999c8b348bcbe23a8e757fe27b8": {
      "model_module": "@jupyter-widgets/base",
      "model_module_version": "1.2.0",
      "model_name": "LayoutModel",
      "state": {
       "_model_module": "@jupyter-widgets/base",
       "_model_module_version": "1.2.0",
       "_model_name": "LayoutModel",
       "_view_count": null,
       "_view_module": "@jupyter-widgets/base",
       "_view_module_version": "1.2.0",
       "_view_name": "LayoutView",
       "align_content": null,
       "align_items": null,
       "align_self": null,
       "border": null,
       "bottom": null,
       "display": null,
       "flex": null,
       "flex_flow": null,
       "grid_area": null,
       "grid_auto_columns": null,
       "grid_auto_flow": null,
       "grid_auto_rows": null,
       "grid_column": null,
       "grid_gap": null,
       "grid_row": null,
       "grid_template_areas": null,
       "grid_template_columns": null,
       "grid_template_rows": null,
       "height": null,
       "justify_content": null,
       "justify_items": null,
       "left": null,
       "margin": null,
       "max_height": null,
       "max_width": null,
       "min_height": null,
       "min_width": null,
       "object_fit": null,
       "object_position": null,
       "order": null,
       "overflow": null,
       "overflow_x": null,
       "overflow_y": null,
       "padding": null,
       "right": null,
       "top": null,
       "visibility": null,
       "width": null
      }
     },
     "d71193bcf4804c90bda99ed216edcea2": {
      "model_module": "@jupyter-widgets/base",
      "model_module_version": "1.2.0",
      "model_name": "LayoutModel",
      "state": {
       "_model_module": "@jupyter-widgets/base",
       "_model_module_version": "1.2.0",
       "_model_name": "LayoutModel",
       "_view_count": null,
       "_view_module": "@jupyter-widgets/base",
       "_view_module_version": "1.2.0",
       "_view_name": "LayoutView",
       "align_content": null,
       "align_items": null,
       "align_self": null,
       "border": null,
       "bottom": null,
       "display": null,
       "flex": null,
       "flex_flow": null,
       "grid_area": null,
       "grid_auto_columns": null,
       "grid_auto_flow": null,
       "grid_auto_rows": null,
       "grid_column": null,
       "grid_gap": null,
       "grid_row": null,
       "grid_template_areas": null,
       "grid_template_columns": null,
       "grid_template_rows": null,
       "height": null,
       "justify_content": null,
       "justify_items": null,
       "left": null,
       "margin": null,
       "max_height": null,
       "max_width": null,
       "min_height": null,
       "min_width": null,
       "object_fit": null,
       "object_position": null,
       "order": null,
       "overflow": null,
       "overflow_x": null,
       "overflow_y": null,
       "padding": null,
       "right": null,
       "top": null,
       "visibility": null,
       "width": "450px"
      }
     },
     "dbfbc68c484e47eeaf09382176be5a6a": {
      "buffers": [
       {
        "data": "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",
        "encoding": "base64",
        "path": [
         "x",
         "value"
        ]
       },
       {
        "data": "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",
        "encoding": "base64",
        "path": [
         "y",
         "value"
        ]
       }
      ],
      "model_module": "bqplot",
      "model_module_version": "^0.5.0",
      "model_name": "LinesModel",
      "state": {
       "_model_module": "bqplot",
       "_model_module_version": "^0.5.0",
       "_model_name": "LinesModel",
       "_view_count": null,
       "_view_module": "bqplot",
       "_view_module_version": "^0.5.0",
       "_view_name": "Lines",
       "apply_clip": true,
       "close_path": false,
       "color": null,
       "colors": [
        "blue"
       ],
       "curves_subset": [],
       "display_legend": true,
       "enable_hover": true,
       "fill": "none",
       "fill_colors": [],
       "fill_opacities": [],
       "interactions": {
        "hover": "tooltip"
       },
       "interpolation": "linear",
       "labels": [
        "Daughter"
       ],
       "labels_visibility": "none",
       "line_style": "solid",
       "marker": null,
       "marker_size": 64,
       "opacities": [],
       "preserve_domain": {},
       "scales": {
        "x": "IPY_MODEL_3b1583c6ec4f4220aadd9f51815e5e3d",
        "y": "IPY_MODEL_f25ed5aa92d846ea9d6735386ac6b36a"
       },
       "scales_metadata": {
        "color": {
         "dimension": "color"
        },
        "x": {
         "dimension": "x",
         "orientation": "horizontal"
        },
        "y": {
         "dimension": "y",
         "orientation": "vertical"
        }
       },
       "selected": null,
       "selected_style": {},
       "stroke_width": 2.0,
       "tooltip": null,
       "tooltip_location": "mouse",
       "tooltip_style": {
        "opacity": 0.9
       },
       "unselected_style": {},
       "visible": true,
       "x": {
        "dtype": "float64",
        "shape": [
         901
        ],
        "type": null
       },
       "y": {
        "dtype": "int32",
        "shape": [
         901
        ],
        "type": null
       }
      }
     },
     "ddbb1cf08782454fb4c07e30b5d53eae": {
      "model_module": "bqplot",
      "model_module_version": "^0.5.0",
      "model_name": "LinearScaleModel",
      "state": {
       "_model_module": "bqplot",
       "_model_module_version": "^0.5.0",
       "_model_name": "LinearScaleModel",
       "_view_count": null,
       "_view_module": "bqplot",
       "_view_module_version": "^0.5.0",
       "_view_name": "LinearScale",
       "allow_padding": false,
       "max": 1.0,
       "mid_range": 0.8,
       "min": 0.0,
       "min_range": 0.6,
       "reverse": false,
       "stabilized": false
      }
     },
     "e012684d45ff406682d9c0edf2bffa64": {
      "model_module": "@jupyter-widgets/base",
      "model_module_version": "1.2.0",
      "model_name": "LayoutModel",
      "state": {
       "_model_module": "@jupyter-widgets/base",
       "_model_module_version": "1.2.0",
       "_model_name": "LayoutModel",
       "_view_count": null,
       "_view_module": "@jupyter-widgets/base",
       "_view_module_version": "1.2.0",
       "_view_name": "LayoutView",
       "align_content": null,
       "align_items": null,
       "align_self": null,
       "border": null,
       "bottom": null,
       "display": null,
       "flex": null,
       "flex_flow": null,
       "grid_area": null,
       "grid_auto_columns": null,
       "grid_auto_flow": null,
       "grid_auto_rows": null,
       "grid_column": null,
       "grid_gap": null,
       "grid_row": null,
       "grid_template_areas": null,
       "grid_template_columns": null,
       "grid_template_rows": null,
       "height": null,
       "justify_content": null,
       "justify_items": null,
       "left": null,
       "margin": null,
       "max_height": null,
       "max_width": null,
       "min_height": null,
       "min_width": null,
       "object_fit": null,
       "object_position": null,
       "order": null,
       "overflow": null,
       "overflow_x": null,
       "overflow_y": null,
       "padding": null,
       "right": null,
       "top": null,
       "visibility": null,
       "width": "200px"
      }
     },
     "e034c4f6696445518d2d6cbb05b65fdd": {
      "model_module": "@jupyter-widgets/base",
      "model_module_version": "1.2.0",
      "model_name": "LayoutModel",
      "state": {
       "_model_module": "@jupyter-widgets/base",
       "_model_module_version": "1.2.0",
       "_model_name": "LayoutModel",
       "_view_count": null,
       "_view_module": "@jupyter-widgets/base",
       "_view_module_version": "1.2.0",
       "_view_name": "LayoutView",
       "align_content": null,
       "align_items": null,
       "align_self": null,
       "border": null,
       "bottom": null,
       "display": null,
       "flex": null,
       "flex_flow": null,
       "grid_area": null,
       "grid_auto_columns": null,
       "grid_auto_flow": null,
       "grid_auto_rows": null,
       "grid_column": null,
       "grid_gap": null,
       "grid_row": null,
       "grid_template_areas": null,
       "grid_template_columns": null,
       "grid_template_rows": null,
       "height": null,
       "justify_content": null,
       "justify_items": null,
       "left": null,
       "margin": null,
       "max_height": null,
       "max_width": null,
       "min_height": null,
       "min_width": null,
       "object_fit": null,
       "object_position": null,
       "order": null,
       "overflow": null,
       "overflow_x": "visible",
       "overflow_y": "visible",
       "padding": null,
       "right": null,
       "top": null,
       "visibility": null,
       "width": null
      }
     },
     "e8613cebb8994ce8a8228f7686060e09": {
      "model_module": "@jupyter-widgets/base",
      "model_module_version": "1.2.0",
      "model_name": "LayoutModel",
      "state": {
       "_model_module": "@jupyter-widgets/base",
       "_model_module_version": "1.2.0",
       "_model_name": "LayoutModel",
       "_view_count": null,
       "_view_module": "@jupyter-widgets/base",
       "_view_module_version": "1.2.0",
       "_view_name": "LayoutView",
       "align_content": null,
       "align_items": null,
       "align_self": null,
       "border": null,
       "bottom": null,
       "display": null,
       "flex": null,
       "flex_flow": null,
       "grid_area": null,
       "grid_auto_columns": null,
       "grid_auto_flow": null,
       "grid_auto_rows": null,
       "grid_column": null,
       "grid_gap": null,
       "grid_row": null,
       "grid_template_areas": null,
       "grid_template_columns": null,
       "grid_template_rows": null,
       "height": "75px",
       "justify_content": null,
       "justify_items": null,
       "left": null,
       "margin": null,
       "max_height": "100px",
       "max_width": "300px",
       "min_height": "50px",
       "min_width": "100px",
       "object_fit": null,
       "object_position": null,
       "order": null,
       "overflow": null,
       "overflow_x": null,
       "overflow_y": null,
       "padding": null,
       "right": null,
       "top": null,
       "visibility": null,
       "width": "200px"
      }
     },
     "ea3bee4afd044aceac261fc914e720cd": {
      "model_module": "bqplot",
      "model_module_version": "^0.5.0",
      "model_name": "LinearScaleModel",
      "state": {
       "_model_module": "bqplot",
       "_model_module_version": "^0.5.0",
       "_model_name": "LinearScaleModel",
       "_view_count": null,
       "_view_module": "bqplot",
       "_view_module_version": "^0.5.0",
       "_view_name": "LinearScale",
       "allow_padding": true,
       "max": 0.56,
       "mid_range": 0.8,
       "min": 0.2,
       "min_range": 0.6,
       "reverse": false,
       "stabilized": false
      }
     },
     "eb1fffb35f99464782f51e35b8a2f77f": {
      "model_module": "@jupyter-widgets/controls",
      "model_module_version": "1.5.0",
      "model_name": "SliderStyleModel",
      "state": {
       "_model_module": "@jupyter-widgets/controls",
       "_model_module_version": "1.5.0",
       "_model_name": "SliderStyleModel",
       "_view_count": null,
       "_view_module": "@jupyter-widgets/base",
       "_view_module_version": "1.2.0",
       "_view_name": "StyleView",
       "description_width": "",
       "handle_color": null
      }
     },
     "ec09f21c49304dc6bc0594af90097dc9": {
      "model_module": "@jupyter-widgets/base",
      "model_module_version": "1.2.0",
      "model_name": "LayoutModel",
      "state": {
       "_model_module": "@jupyter-widgets/base",
       "_model_module_version": "1.2.0",
       "_model_name": "LayoutModel",
       "_view_count": null,
       "_view_module": "@jupyter-widgets/base",
       "_view_module_version": "1.2.0",
       "_view_name": "LayoutView",
       "align_content": null,
       "align_items": null,
       "align_self": null,
       "border": null,
       "bottom": null,
       "display": null,
       "flex": null,
       "flex_flow": null,
       "grid_area": null,
       "grid_auto_columns": null,
       "grid_auto_flow": null,
       "grid_auto_rows": null,
       "grid_column": null,
       "grid_gap": null,
       "grid_row": null,
       "grid_template_areas": null,
       "grid_template_columns": null,
       "grid_template_rows": null,
       "height": null,
       "justify_content": null,
       "justify_items": null,
       "left": null,
       "margin": null,
       "max_height": null,
       "max_width": null,
       "min_height": "400px",
       "min_width": null,
       "object_fit": null,
       "object_position": null,
       "order": null,
       "overflow": null,
       "overflow_x": null,
       "overflow_y": null,
       "padding": null,
       "right": null,
       "top": null,
       "visibility": null,
       "width": "450px"
      }
     },
     "edb8b74d938e4091abb3e3cd9c9e2734": {
      "model_module": "@jupyter-widgets/base",
      "model_module_version": "1.2.0",
      "model_name": "LayoutModel",
      "state": {
       "_model_module": "@jupyter-widgets/base",
       "_model_module_version": "1.2.0",
       "_model_name": "LayoutModel",
       "_view_count": null,
       "_view_module": "@jupyter-widgets/base",
       "_view_module_version": "1.2.0",
       "_view_name": "LayoutView",
       "align_content": null,
       "align_items": null,
       "align_self": null,
       "border": null,
       "bottom": null,
       "display": null,
       "flex": null,
       "flex_flow": null,
       "grid_area": null,
       "grid_auto_columns": null,
       "grid_auto_flow": null,
       "grid_auto_rows": null,
       "grid_column": null,
       "grid_gap": null,
       "grid_row": null,
       "grid_template_areas": null,
       "grid_template_columns": null,
       "grid_template_rows": null,
       "height": null,
       "justify_content": null,
       "justify_items": null,
       "left": null,
       "margin": null,
       "max_height": null,
       "max_width": "300px",
       "min_height": null,
       "min_width": "125px",
       "object_fit": null,
       "object_position": null,
       "order": null,
       "overflow": null,
       "overflow_x": "visible",
       "overflow_y": "visible",
       "padding": null,
       "right": null,
       "top": null,
       "visibility": null,
       "width": "175px"
      }
     },
     "eefe01a58b724223a4b6e630cb652956": {
      "model_module": "bqplot",
      "model_module_version": "^0.5.0",
      "model_name": "LinearScaleModel",
      "state": {
       "_model_module": "bqplot",
       "_model_module_version": "^0.5.0",
       "_model_name": "LinearScaleModel",
       "_view_count": null,
       "_view_module": "bqplot",
       "_view_module_version": "^0.5.0",
       "_view_name": "LinearScale",
       "allow_padding": false,
       "max": 1.0,
       "mid_range": 0.8,
       "min": 0.0,
       "min_range": 0.6,
       "reverse": false,
       "stabilized": false
      }
     },
     "efbefb177ed04b549fd51a7a73fb2fa9": {
      "model_module": "@jupyter-widgets/controls",
      "model_module_version": "1.5.0",
      "model_name": "HBoxModel",
      "state": {
       "_dom_classes": [],
       "_model_module": "@jupyter-widgets/controls",
       "_model_module_version": "1.5.0",
       "_model_name": "HBoxModel",
       "_view_count": null,
       "_view_module": "@jupyter-widgets/controls",
       "_view_module_version": "1.5.0",
       "_view_name": "HBoxView",
       "box_style": "",
       "children": [
        "IPY_MODEL_29ca4079b642471c883bec1ec9963ccd",
        "IPY_MODEL_524b13b17ad64adab1b9173835093b5a"
       ],
       "layout": "IPY_MODEL_09844c346e094562ae6c495e724e981d"
      }
     },
     "f08162f026ba453d8938035f347b90d2": {
      "model_module": "@jupyter-widgets/controls",
      "model_module_version": "1.5.0",
      "model_name": "VBoxModel",
      "state": {
       "_dom_classes": [],
       "_model_module": "@jupyter-widgets/controls",
       "_model_module_version": "1.5.0",
       "_model_name": "VBoxModel",
       "_view_count": null,
       "_view_module": "@jupyter-widgets/controls",
       "_view_module_version": "1.5.0",
       "_view_name": "VBoxView",
       "box_style": "",
       "children": [
        "IPY_MODEL_efbefb177ed04b549fd51a7a73fb2fa9",
        "IPY_MODEL_1235a21208e34c8185a5cee97e3fd12b"
       ],
       "layout": "IPY_MODEL_59626bf65a5f4a6591ab064fb6a9ef7c"
      }
     },
     "f0bb4d51aa1d488d8a102357a83e314a": {
      "buffers": [
       {
        "data": "AAAAAAAA8D8=",
        "encoding": "base64",
        "path": [
         "default_opacities",
         "value"
        ]
       },
       {
        "data": "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",
        "encoding": "base64",
        "path": [
         "x",
         "value"
        ]
       },
       {
        "data": "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",
        "encoding": "base64",
        "path": [
         "y",
         "value"
        ]
       }
      ],
      "model_module": "bqplot",
      "model_module_version": "^0.5.0",
      "model_name": "ScatterModel",
      "state": {
       "_model_module": "bqplot",
       "_model_module_version": "^0.5.0",
       "_model_name": "ScatterModel",
       "_view_count": null,
       "_view_module": "bqplot",
       "_view_module_version": "^0.5.0",
       "_view_name": "Scatter",
       "apply_clip": true,
       "color": null,
       "colors": [
        "red"
       ],
       "default_opacities": {
        "dtype": "float64",
        "shape": [
         1
        ],
        "type": null
       },
       "default_size": 64,
       "default_skew": 0.5,
       "display_legend": false,
       "display_names": true,
       "drag_color": null,
       "drag_size": 5.0,
       "enable_delete": false,
       "enable_hover": true,
       "enable_move": false,
       "fill": true,
       "hovered_point": null,
       "hovered_style": {},
       "interactions": {
        "hover": "tooltip"
       },
       "labels": [],
       "marker": "circle",
       "names": null,
       "names_unique": true,
       "opacity": null,
       "preserve_domain": {},
       "restrict_x": false,
       "restrict_y": false,
       "rotation": null,
       "scales": {
        "x": "IPY_MODEL_fbddc4d644e84a479dad6fd194bca483",
        "y": "IPY_MODEL_037ca1df9c1f4e6caeb141f35353fea8"
       },
       "scales_metadata": {
        "color": {
         "dimension": "color"
        },
        "opacity": {
         "dimension": "opacity"
        },
        "rotation": {
         "dimension": "rotation"
        },
        "size": {
         "dimension": "size"
        },
        "skew": {
         "dimension": "skew"
        },
        "x": {
         "dimension": "x",
         "orientation": "horizontal"
        },
        "y": {
         "dimension": "y",
         "orientation": "vertical"
        }
       },
       "selected": null,
       "selected_style": {},
       "size": null,
       "skew": null,
       "stroke": null,
       "stroke_width": 1.5,
       "tooltip": null,
       "tooltip_location": "mouse",
       "tooltip_style": {
        "opacity": 0.9
       },
       "unhovered_style": {},
       "unselected_style": {},
       "update_on_move": false,
       "visible": true,
       "x": {
        "dtype": "float64",
        "shape": [
         900
        ],
        "type": null
       },
       "y": {
        "dtype": "float64",
        "shape": [
         900
        ],
        "type": null
       }
      }
     },
     "f25ed5aa92d846ea9d6735386ac6b36a": {
      "model_module": "bqplot",
      "model_module_version": "^0.5.0",
      "model_name": "LinearScaleModel",
      "state": {
       "_model_module": "bqplot",
       "_model_module_version": "^0.5.0",
       "_model_name": "LinearScaleModel",
       "_view_count": null,
       "_view_module": "bqplot",
       "_view_module_version": "^0.5.0",
       "_view_name": "LinearScale",
       "allow_padding": true,
       "max": 900.0,
       "mid_range": 0.8,
       "min": 0.0,
       "min_range": 0.6,
       "reverse": false,
       "stabilized": false
      }
     },
     "f34fe989f8c542b7aec3a5b6f5a22b51": {
      "model_module": "bqplot",
      "model_module_version": "^0.5.0",
      "model_name": "LinearScaleModel",
      "state": {
       "_model_module": "bqplot",
       "_model_module_version": "^0.5.0",
       "_model_name": "LinearScaleModel",
       "_view_count": null,
       "_view_module": "bqplot",
       "_view_module_version": "^0.5.0",
       "_view_name": "LinearScale",
       "allow_padding": true,
       "max": 0.35000000000000003,
       "mid_range": 0.8,
       "min": 0.0,
       "min_range": 0.6,
       "reverse": false,
       "stabilized": false
      }
     },
     "f3646ecfbc2b482bb5513a5e9a6864e5": {
      "model_module": "@jupyter-widgets/base",
      "model_module_version": "1.2.0",
      "model_name": "LayoutModel",
      "state": {
       "_model_module": "@jupyter-widgets/base",
       "_model_module_version": "1.2.0",
       "_model_name": "LayoutModel",
       "_view_count": null,
       "_view_module": "@jupyter-widgets/base",
       "_view_module_version": "1.2.0",
       "_view_name": "LayoutView",
       "align_content": null,
       "align_items": null,
       "align_self": null,
       "border": null,
       "bottom": null,
       "display": null,
       "flex": null,
       "flex_flow": null,
       "grid_area": null,
       "grid_auto_columns": null,
       "grid_auto_flow": null,
       "grid_auto_rows": null,
       "grid_column": null,
       "grid_gap": null,
       "grid_row": null,
       "grid_template_areas": null,
       "grid_template_columns": null,
       "grid_template_rows": null,
       "height": null,
       "justify_content": null,
       "justify_items": null,
       "left": null,
       "margin": null,
       "max_height": null,
       "max_width": null,
       "min_height": null,
       "min_width": null,
       "object_fit": null,
       "object_position": null,
       "order": null,
       "overflow": null,
       "overflow_x": null,
       "overflow_y": null,
       "padding": null,
       "right": null,
       "top": null,
       "visibility": null,
       "width": null
      }
     },
     "f636edc3776749c49e5a221850912031": {
      "model_module": "@jupyter-widgets/base",
      "model_module_version": "1.2.0",
      "model_name": "LayoutModel",
      "state": {
       "_model_module": "@jupyter-widgets/base",
       "_model_module_version": "1.2.0",
       "_model_name": "LayoutModel",
       "_view_count": null,
       "_view_module": "@jupyter-widgets/base",
       "_view_module_version": "1.2.0",
       "_view_name": "LayoutView",
       "align_content": null,
       "align_items": null,
       "align_self": null,
       "border": null,
       "bottom": null,
       "display": null,
       "flex": null,
       "flex_flow": null,
       "grid_area": null,
       "grid_auto_columns": null,
       "grid_auto_flow": null,
       "grid_auto_rows": null,
       "grid_column": null,
       "grid_gap": null,
       "grid_row": null,
       "grid_template_areas": null,
       "grid_template_columns": null,
       "grid_template_rows": null,
       "height": null,
       "justify_content": null,
       "justify_items": null,
       "left": null,
       "margin": null,
       "max_height": null,
       "max_width": null,
       "min_height": null,
       "min_width": null,
       "object_fit": null,
       "object_position": null,
       "order": null,
       "overflow": null,
       "overflow_x": "visible",
       "overflow_y": "visible",
       "padding": null,
       "right": null,
       "top": null,
       "visibility": null,
       "width": "200px"
      }
     },
     "f8c5c2efe1414161bdb53cbf95befe7c": {
      "model_module": "@jupyter-widgets/base",
      "model_module_version": "1.2.0",
      "model_name": "LayoutModel",
      "state": {
       "_model_module": "@jupyter-widgets/base",
       "_model_module_version": "1.2.0",
       "_model_name": "LayoutModel",
       "_view_count": null,
       "_view_module": "@jupyter-widgets/base",
       "_view_module_version": "1.2.0",
       "_view_name": "LayoutView",
       "align_content": null,
       "align_items": null,
       "align_self": null,
       "border": null,
       "bottom": null,
       "display": null,
       "flex": null,
       "flex_flow": null,
       "grid_area": null,
       "grid_auto_columns": null,
       "grid_auto_flow": null,
       "grid_auto_rows": null,
       "grid_column": null,
       "grid_gap": null,
       "grid_row": null,
       "grid_template_areas": null,
       "grid_template_columns": null,
       "grid_template_rows": null,
       "height": "75px",
       "justify_content": null,
       "justify_items": null,
       "left": null,
       "margin": null,
       "max_height": "100px",
       "max_width": "300px",
       "min_height": "50px",
       "min_width": "100px",
       "object_fit": null,
       "object_position": null,
       "order": null,
       "overflow": null,
       "overflow_x": null,
       "overflow_y": null,
       "padding": null,
       "right": null,
       "top": null,
       "visibility": null,
       "width": "200px"
      }
     },
     "fbddc4d644e84a479dad6fd194bca483": {
      "model_module": "bqplot",
      "model_module_version": "^0.5.0",
      "model_name": "LinearScaleModel",
      "state": {
       "_model_module": "bqplot",
       "_model_module_version": "^0.5.0",
       "_model_name": "LinearScaleModel",
       "_view_count": null,
       "_view_module": "bqplot",
       "_view_module_version": "^0.5.0",
       "_view_name": "LinearScale",
       "allow_padding": true,
       "max": 30.0,
       "mid_range": 0.8,
       "min": 1.0,
       "min_range": 0.6,
       "reverse": false,
       "stabilized": false
      }
     }
    },
    "version_major": 2,
    "version_minor": 0
   }
  }
 },
 "nbformat": 4,
 "nbformat_minor": 2
}