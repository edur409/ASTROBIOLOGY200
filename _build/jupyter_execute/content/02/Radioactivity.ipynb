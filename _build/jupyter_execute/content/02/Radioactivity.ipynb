{
 "cells": [
  {
   "cell_type": "code",
   "execution_count": 1,
   "metadata": {
    "execution": {
     "iopub.execute_input": "2020-06-29T22:29:19.696657Z",
     "iopub.status.busy": "2020-06-29T22:29:19.691636Z",
     "iopub.status.idle": "2020-06-29T22:29:19.702934Z",
     "shell.execute_reply": "2020-06-29T22:29:19.701862Z"
    },
    "tags": [
     "remove_cell"
    ]
   },
   "outputs": [
    {
     "data": {
      "text/html": [
       "<script>\n",
       "code_show=true; \n",
       "function code_toggle() {\n",
       " if (code_show){\n",
       " $('div.input').hide();\n",
       " } else {\n",
       " $('div.input').show();\n",
       " }\n",
       " code_show = !code_show\n",
       "} \n",
       "$( document ).ready(code_toggle);\n",
       "</script>\n",
       "The raw code for this IPython notebook is by default hidden for easier reading.\n",
       "To toggle on/off the raw code, click <a href=\"javascript:code_toggle()\">here</a>."
      ],
      "text/plain": [
       "<IPython.core.display.HTML object>"
      ]
     },
     "execution_count": 1,
     "metadata": {},
     "output_type": "execute_result"
    }
   ],
   "source": [
    "from IPython.display import HTML\n",
    "\n",
    "HTML('''<script>\n",
    "code_show=true; \n",
    "function code_toggle() {\n",
    " if (code_show){\n",
    " $('div.input').hide();\n",
    " } else {\n",
    " $('div.input').show();\n",
    " }\n",
    " code_show = !code_show\n",
    "} \n",
    "$( document ).ready(code_toggle);\n",
    "</script>\n",
    "The raw code for this IPython notebook is by default hidden for easier reading.\n",
    "To toggle on/off the raw code, click <a href=\"javascript:code_toggle()\">here</a>.''')"
   ]
  },
  {
   "cell_type": "markdown",
   "metadata": {},
   "source": [
    "# Radioactive Decay Interactives\n",
    "\n",
    "The following interactive figures were borrowed from [Astro Interactives](https://juancab.github.io/AstroInteractives/) and adapted for easy access into this Jupyter Book. The first one shows the random yet predictable nature of radioactive decay and its use as a time clock.  The second one illustrates Geochron plots. \n",
    "\n",
    "## Interactive Figure 1: Model of Radioactive Decay\n",
    "\n",
    "This first figure takes a population of 900 atoms and models their radioactive decay."
   ]
  },
  {
   "cell_type": "markdown",
   "metadata": {},
   "source": [
    "This first interactive is designed to allow you to explore what happens during radioactive decay of some isotope. An *isotope* refers to a particular version of an element.  For example, the non-radioactive Carbon-12 isotope has 6 protons and 6 neutrons in its nucleus but the radioactive Carbon-14 isotope has 6 protons and 8 neutrons in its nucleus.  Different isotopes of the same element behave identically in terms of chemistry and bonding to other atoms, but their nuclear properties can differ.\n",
    "\n",
    "During radioactive decay, a *parent isotope* is said to decay into a *daughter isotope*.  So, for example, the parent isotope of Carbon-14 decays into Nitrogen-14.  There is no way to predict when any one nucleus of a *parent isotope* will decay into a *daughter isotope*.   That said, if you look at a large number of nuclei of a parent isotope, they exhibit a very simple property:\n",
    "\n",
    "> **The same *fraction* of a radioactive parent isotope will decay over the same amount of time.**\n",
    "    \n",
    "The time it takes for one-half of a population of parent isotopes to decay (on average) into daughter isotopes is called the *half-life* of that isotope.  Different parent isotopes can have very different half-lifes.   **NOTE:** This interactive shows a simulation of the decay of only 900 atoms.  The radioactive decay is still modelled as occurring randomly for any one atom, so the simulation will show slightly different results on different runs!!"
   ]
  },
  {
   "cell_type": "markdown",
   "metadata": {},
   "source": [
    "Some questions to consider \n",
    "1. After 1 half-life, about 50% of a parent isotope should have decayed and become daughter isotope.  Use the interactive graphic below and adjust the elapsed time to figure out how long one half-life is for each isotope.  Explain your approach.\n",
    "2. How much of a parent isotope is left after 2 half-lifes? 3 half-lifes? 4 half-lifes? 5 half-lifes?  Explain how you figured this out.\n",
    "3. You should have found about 25% of the original amount of parent isotope is left after 2 half-lifes.  This may seem surprising since in the first half-life 50% of the original amount of parent isotope decayed.  Explain why 'less' of it decayed during the second half-life.  **HINT** Consider the very simple property of radioactive decay we highlighted above."
   ]
  },
  {
   "cell_type": "code",
   "execution_count": 2,
   "metadata": {
    "execution": {
     "iopub.execute_input": "2020-06-29T22:29:19.711616Z",
     "iopub.status.busy": "2020-06-29T22:29:19.710623Z",
     "iopub.status.idle": "2020-06-29T22:29:20.078999Z",
     "shell.execute_reply": "2020-06-29T22:29:20.077455Z"
    },
    "tags": [
     "remove_cell"
    ]
   },
   "outputs": [],
   "source": [
    "from IPython.display import display\n",
    "import numpy as np\n",
    "import bqplot as bq\n",
    "import ipywidgets as widgets\n",
    "import random as random\n",
    "import pandas as pd\n",
    "import number_formatting as nf\n",
    "from math import ceil, floor, log10"
   ]
  },
  {
   "cell_type": "code",
   "execution_count": 3,
   "metadata": {
    "execution": {
     "iopub.execute_input": "2020-06-29T22:29:20.100727Z",
     "iopub.status.busy": "2020-06-29T22:29:20.091104Z",
     "iopub.status.idle": "2020-06-29T22:29:20.103193Z",
     "shell.execute_reply": "2020-06-29T22:29:20.102650Z"
    },
    "tags": [
     "remove_cell"
    ]
   },
   "outputs": [],
   "source": [
    "## Originally developed June 2018 by Samuel Holen\n",
    "##\n",
    "## Edits by Juan Cabanela October 2018 to allow changes in the GUI.\n",
    "## - Made the display of the precise number/faction of parent/daught atoms instructor\n",
    "##   configurable.\n",
    "## - Fixed a problem with the display of data, forced data to only be displayed for first\n",
    "##   10 half-lifes regardless of actual generated decay times (this allows hard-coding of)\n",
    "##   num_ticks and tick values.\n",
    "\n",
    "## Pre-construct model of radioactive decay of a population\n",
    "## of parent and daughter atoms.\n",
    "## \n",
    "\n",
    "# GUI Configuration Parameters\n",
    "show_counts = True\n",
    "max_half_lifes = 10   # maximum half-lives to graph\n",
    "time_ticks = 6  # number of ticks for the time axis\n",
    "# half-lives to place ticks on horizontal axis\n",
    "half_life_ticks = np.linspace(0, max_half_lifes, time_ticks)\n",
    "\n",
    "# Constants Related to decay of the parent species to the daughter species\n",
    "N_parent = 900          # initial number of parent atoms (should be a perfect square)\n",
    "N_daughter = 0          # initial number of daughter atoms\n",
    "tau = 1                 # placeholder for the half-life of the parent species \n",
    "h = 0.025               # time step (in half lives)\n",
    "mu = np.log(2.) / tau   # constant for decay time distribution \n",
    "Plot_all_times = True   # Plot all times (otherwise, selects only before time slider value)\n",
    "\n",
    "# Initialize tracking of number of atoms\n",
    "Parent_counts = []          # list of number of parent atoms \n",
    "Dauther_counts = []          # list of number of daughter atoms\n",
    "\n",
    "# Generate a uniform random distribution of N_parent numbers from 0 to 1\n",
    "z = np.random.rand(N_parent)\n",
    "\n",
    "# Function to convert uniform distribution of random numbers to\n",
    "# a distribution weighted to model radiactive decay. The times are in number of \n",
    "# half-lives. \n",
    "#\n",
    "# The unsorted data representing the number of half-lifes until the individual\n",
    "# decay of each atom.\n",
    "decay_times = -np.log(1 - z) / mu\n",
    "decay_times_sorted = np.sort( decay_times )\n",
    "\n",
    "# Genereate array of numbers of atoms left\n",
    "# Adjusted so that each count contains 0 and N_parent\n",
    "Parent_counts = np.arange(N_parent,-1, -1, dtype='int') # Number of parent atoms\n",
    "Daughter_counts = np.ones_like(Parent_counts)\n",
    "Daughter_counts = N_parent - Parent_counts   # Number of daughter atoms\n",
    "\n",
    "#\n",
    "# Construct Pandas data frames\n",
    "#\n",
    "\n",
    "# Time column adjusted to include t=0\n",
    "decay_data = pd.DataFrame()\n",
    "decay_data['time'] = np.concatenate((np.zeros(1), decay_times_sorted))\n",
    "decay_data['Parent'] = Parent_counts\n",
    "decay_data['Daughter'] = Daughter_counts\n",
    "\n",
    "# Data array for species\n",
    "species = pd.DataFrame()\n",
    "species['parent_long'] = ['Generic', 'Carbon', 'Thallium','Uranium','Rubidium']\n",
    "species['daughter_long'] = ['Generic', 'Nitrogen','Lead','Thorium','Strontium']\n",
    "species['parent_short'] = ['Parent', 'C-14','Tl-208','U-235','Rb-87']\n",
    "species['daughter_short'] = ['Daughter', 'N-14','Pb-208','Th-231','Sr-87']\n",
    "species['half-lives'] = [tau, 5730, 3.053 * 60, 703.8, 48.8]\n",
    "species['step-size'] = [h, 125, 0.05 * 60, 15, 1]\n",
    "species['timeunits'] = ['half-lives', 'years', 'seconds', 'million years', 'billion years']"
   ]
  },
  {
   "cell_type": "code",
   "execution_count": 4,
   "metadata": {
    "execution": {
     "iopub.execute_input": "2020-06-29T22:29:20.129487Z",
     "iopub.status.busy": "2020-06-29T22:29:20.110324Z",
     "iopub.status.idle": "2020-06-29T22:29:20.131747Z",
     "shell.execute_reply": "2020-06-29T22:29:20.131184Z"
    },
    "tags": [
     "remove_cell"
    ]
   },
   "outputs": [],
   "source": [
    "##\n",
    "## Define functions to respond to controls on population plots.\n",
    "##\n",
    "\n",
    "def UpdateSpecies(change=None):\n",
    "    ##\n",
    "    ## Deal with possible changes of species\n",
    "    ##\n",
    "    \n",
    "    # Generate a new uniform random distribution of N_parent numbers from 0 to 1 and\n",
    "    # then convert uniform distribution to one weighted to model radioactive decay.\n",
    "    z = np.random.rand(N_parent)\n",
    "    decay_times = -np.log(1 - z) / mu\n",
    "    decay_times_sorted = np.sort( decay_times )\n",
    "    decay_data['time'] = np.concatenate((np.zeros(1), decay_times_sorted))\n",
    "    \n",
    "    # Reset the time to zero\n",
    "    Time_slide.value = 0\n",
    "    \n",
    "    # Adjust half-life data and limits on plots appropriately \n",
    "    new_index = species.loc[species.parent_long == pick_Species.value].index[0]\n",
    "    \n",
    "    # Set the half-life based the selected species\n",
    "    hf = species['half-lives'][new_index]\n",
    "    \n",
    "    # Set the limit on the time sider to be 10 half-lifes\n",
    "    Time_slide.max = max_half_lifes*hf\n",
    "    \n",
    "    # Set the time step on slider\n",
    "    Time_slide.step = species['step-size'][new_index]\n",
    "\n",
    "    # Updates the time slider label/units\n",
    "    unit_label.value = species['timeunits'][new_index]\n",
    "    \n",
    "    # Updates the time axes on the plot\n",
    "    x_time.max = Time_slide.max\n",
    "    ax_x_time.scale = x_time\n",
    "    ax_x_time.label = unit_label.value\n",
    "    \n",
    "    # Update tick values\n",
    "    ax_x_time.tick_values = list(half_life_ticks*hf)\n",
    "\n",
    "    # Update the legend\n",
    "    parent_label_new = species['parent_short'][new_index]\n",
    "    daughter_label_new = species['daughter_short'][new_index]\n",
    "    line_parent.labels = [parent_label_new]\n",
    "    line_daughter.labels = [daughter_label_new]\n",
    "    \n",
    "    # Update the species in the box that shows how many are present    \n",
    "    parent_label.value = parent_label_new + ' produced'\n",
    "    daughter_label.value = daughter_label_new + ' remaining'\n",
    "\n",
    "    # Now call the function for updating the plot in the event of a time change\n",
    "    UpdateTimes()\n",
    "\n",
    "    \n",
    "def UpdateFraction(change=None):\n",
    "    ##\n",
    "    ## Deal with whether fraction view or number view selected to set scales for plot,\n",
    "    ## y values for plot, and label values\n",
    "    ##\n",
    "    if frac_or_num.value == False:\n",
    "        # Number count mode enabled\n",
    "\n",
    "        # Update axes and scales\n",
    "        fig_counts.axes = [ax_x_time, ax_y_number]\n",
    "        line_parent.scales={'x': x_time, 'y': y_number}\n",
    "        line_daughter.scales={'x': x_time, 'y': y_number}\n",
    "        pts_parent.scales={'x': x_time, 'y': y_number}\n",
    "        pts_daughter.scales={'x': x_time, 'y': y_number}\n",
    "        line_time.scales={'x': x_time, 'y': y_number}\n",
    "\n",
    "        # Update 'time line' limits\n",
    "        line_time.y = [0, N_parent]    \n",
    "    else:\n",
    "        # Fraction mode enabled\n",
    "\n",
    "        # Updated axes and scales\n",
    "        fig_counts.axes = [ax_x_time, ax_y_fraction]\n",
    "        line_parent.scales={'x': x_time, 'y': y_fraction}\n",
    "        line_daughter.scales={'x': x_time, 'y': y_fraction}\n",
    "        pts_parent.scales={'x': x_time, 'y': y_fraction}\n",
    "        pts_daughter.scales={'x': x_time, 'y': y_fraction}\n",
    "        line_time.scales={'x': x_time, 'y': y_fraction}\n",
    "\n",
    "        # Update 'time line' limits\n",
    "        line_time.y = [0, 1]\n",
    "\n",
    "    UpdateTimes()\n",
    "\n",
    "    \n",
    "def UpdateTimes(change=None):\n",
    "    ##\n",
    "    ## Deal with changes in the time slider\n",
    "    ##\n",
    "\n",
    "    # Recall half-life of this species\n",
    "    species_idx = species.loc[species.parent_long == pick_Species.value].index[0]\n",
    "    hf = species['half-lives'][species_idx]\n",
    "\n",
    "    # Update time label with 3 significant figures\n",
    "    Time_label.value = str(nf.SigFig(Time_slide.value, 3))\n",
    "        \n",
    "    # Get the array of times\n",
    "    time_arr = hf * decay_data['time']\n",
    "    \n",
    "    # Set the times to be x values\n",
    "    line_daughter.x = time_arr\n",
    "    line_parent.x = line_daughter.x\n",
    "    pts_daughter.x = line_daughter.x\n",
    "    pts_parent.x = line_daughter.x\n",
    "    line_time.x = [Time_slide.value, Time_slide.value]\n",
    "    \n",
    "    # Changes the color of population to reflect the decays\n",
    "    for i in range(N_parent):\n",
    "        if Time_slide.value >= decay_times[i]*hf:\n",
    "            Colors[i] = 'blue'\n",
    "        else:\n",
    "            Colors[i] = 'red'\n",
    "    population_scat.colors = Colors\n",
    "    \n",
    "    # Identify where we are in the data set\n",
    "    i = 0\n",
    "    while i < N_parent + 1 and hf*decay_data['time'][i] < Time_slide.value:        \n",
    "        i += 1\n",
    "    if i > 0:\n",
    "        i -= 1\n",
    "        \n",
    "    # Update selection of the parent and daughter data to be plotted\n",
    "    if Plot_all_times:\n",
    "        daughter_decay = decay_data['Daughter']\n",
    "        parent_decay = decay_data['Parent']\n",
    "    else:\n",
    "        daughter_decay = decay_data['Daughter'][0:i+1]\n",
    "        parent_decay = decay_data['Parent'][0:i+1] \n",
    "    \n",
    "    line_parent.y = parent_decay\n",
    "    line_daughter.y = daughter_decay\n",
    "        \n",
    "    ##\n",
    "    ## Deal with whether fraction view or number view selected to set scales for plot,\n",
    "    ## y values for plot, and label values\n",
    "    ##\n",
    "    if frac_or_num.value == False:\n",
    "        # Number count mode enabled\n",
    "\n",
    "        # Update number of parent and daughter in labels\n",
    "        parent_present.value = str(decay_data['Parent'][i])\n",
    "        daughter_present.value = str(decay_data['Daughter'][i])\n",
    "    else:\n",
    "        # Fraction mode enabled\n",
    "        \n",
    "        # Update the x and y arrays for the parent and daughter lines\n",
    "        line_parent.y = (1/N_parent)*parent_decay\n",
    "        line_daughter.y = (1/N_parent)*daughter_decay\n",
    "    \n",
    "        # Update number of parent and daughter in labels\n",
    "        parent_present.value = '{:.3f}'.format((1/N_parent)*decay_data['Parent'][i])\n",
    "        daughter_present.value = '{:.3f}'.format((1/N_parent)*decay_data['Daughter'][i])\n",
    "    \n",
    "    # Update parent and daughter lines\n",
    "    pts_parent.y = line_parent.y\n",
    "    pts_daughter.y = line_daughter.y\n",
    "    \n",
    "    # Update the tooltip labels and formats (Bug? Doesn't appear to be working)\n",
    "    #pts_parent.tooltip.labels[1] = parent_label_new\n",
    "    #pts_daughter.tooltip.labels[1] = daughter_label_new\n",
    "    #if frac_or_num.value == False:\n",
    "    #    pts_parent.tooltip.formats[1] = '3.0f'\n",
    "    #    pts_daughter.tooltip.formats[1] = '3.0f'\n",
    "    #else:\n",
    "    #    pts_parent.tooltip.formats[1] = '0.3f'\n",
    "    #    pts_daughter.tooltip.formats[1] = '0.3f'\n",
    "        \n"
   ]
  },
  {
   "cell_type": "code",
   "execution_count": 5,
   "metadata": {
    "execution": {
     "iopub.execute_input": "2020-06-29T22:29:20.167379Z",
     "iopub.status.busy": "2020-06-29T22:29:20.166703Z",
     "iopub.status.idle": "2020-06-29T22:29:20.209018Z",
     "shell.execute_reply": "2020-06-29T22:29:20.205665Z"
    },
    "tags": [
     "remove_input"
    ]
   },
   "outputs": [],
   "source": [
    "##\n",
    "## Set up counts versus time plot\n",
    "##\n",
    "\n",
    "# Set up Species to be Generic\n",
    "init_species_ind = 0  \n",
    "\n",
    "# Set up initial time\n",
    "init_time = 0\n",
    "init_time_idx = 0\n",
    "\n",
    "# Set up axes\n",
    "x_time = bq.LinearScale(min = 0, max=max_half_lifes)\n",
    "y_number = bq.LinearScale(min = 0, max=N_parent)\n",
    "y_fraction = bq.LinearScale(min = 0, max=1)\n",
    "\n",
    "# Labels and scales for Axes\n",
    "ax_x_time = bq.Axis(label=species['timeunits'][init_species_ind], scale=x_time, num_ticks = time_ticks,\n",
    "                    tick_values = half_life_ticks )\n",
    "ax_y_number = bq.Axis(label='Number of atoms', scale=y_number, orientation='vertical')\n",
    "ax_y_fraction = bq.Axis(label='Fraction of atoms', scale=y_fraction, orientation='vertical')\n",
    "\n",
    "# Define tooltip (Bug: doesn't allow relabeling Tooltips, also needs to apply to Scatter, not Lines)\n",
    "#def_tt_parent = bq.Tooltip(fields=['x', 'y'], formats=['.2f', '3.0f'], labels=['time', species['parent_short'][init_species_ind]])\n",
    "#def_tt_daughter = bq.Tooltip(fields=['x', 'y'], formats=['.2f', '3.0f'], labels=['time', species['daughter_short'][init_species_ind]])\n",
    "def_tt_parent = bq.Tooltip(fields=['x', 'y'], formats=['.2f', '.3f'], labels=['time', 'amount of parent isotope'])\n",
    "def_tt_daughter = bq.Tooltip(fields=['x', 'y'], formats=['.2f', '.3f'], labels=['time', 'amount of daughter isotope'])\n",
    "\n",
    "# Define the Lines and Scatter plots\n",
    "# NOTE: Scatter only necessary to allow tooltips to function.\n",
    "init_x = decay_data['time']*species['half-lives'][init_species_ind]\n",
    "if Plot_all_times:\n",
    "    init_parent = decay_data['Parent']\n",
    "    init_daughter = decay_data['Daughter']\n",
    "else:\n",
    "    init_parent = decay_data['Parent'][0:init_time_idx]\n",
    "    init_daughter = decay_data['Daughter'][0:init_time_idx]\n",
    "    \n",
    "pts_parent = bq.Scatter(x=init_x, y=init_parent,\n",
    "                      scales={'x': x_time, 'y': y_number}, marker='circle', default_size=2,\n",
    "                      display_legend=False, colors=['red'], labels=[species['parent_short'][init_species_ind]], \n",
    "                      tooltip=def_tt_parent)\n",
    "pts_daughter = bq.Scatter(x=init_x, y=init_daughter,\n",
    "                        scales={'x': x_time, 'y': y_number}, marker='circle', default_size=2,\n",
    "                        display_legend=False, colors=['blue'], labels=[species['daughter_short'][init_species_ind]],\n",
    "                        tooltip=def_tt_daughter)\n",
    "line_parent = bq.Lines(x=init_x, y=init_parent, \n",
    "                       scales={'x': x_time, 'y': y_number}, display_legend=True, colors=['red'], \n",
    "                       labels=[species['parent_short'][init_species_ind]], )\n",
    "line_daughter = bq.Lines(x=init_x, y=init_daughter, \n",
    "                         scales={'x': x_time, 'y': y_number}, display_legend=True, colors=['blue'], \n",
    "                         labels=[species['daughter_short'][init_species_ind]] )\n",
    "\n",
    "# Set up a vertical line on this plot to indicate the current time\n",
    "times_x = [init_time, init_time]\n",
    "times_y = [0, N_parent]\n",
    "line_time = bq.Lines(x=times_x, y=times_y,\n",
    "                     scales={'x': x_time, 'y': y_number}, \n",
    "                     colors=['greenyellow'])\n",
    "\n",
    "# Creates figure for plot\n",
    "fig_counts = bq.Figure(axes=[ax_x_time, ax_y_number], marks=[line_parent, line_daughter, line_time, pts_parent, pts_daughter], \n",
    "                       legend_location='right', legend_style={'fill': 'white'}, \n",
    "                       title='Counts versus Time', background_style={'fill': 'black'}, \n",
    "                       layout={'width': '500px', 'min_height': '400px'},\n",
    "                      animation=1000)"
   ]
  },
  {
   "cell_type": "code",
   "execution_count": 6,
   "metadata": {
    "execution": {
     "iopub.execute_input": "2020-06-29T22:29:20.279909Z",
     "iopub.status.busy": "2020-06-29T22:29:20.279302Z",
     "iopub.status.idle": "2020-06-29T22:29:20.296153Z",
     "shell.execute_reply": "2020-06-29T22:29:20.283199Z"
    },
    "tags": [
     "remove_input"
    ]
   },
   "outputs": [],
   "source": [
    "# Slider widget to control the amount of time that has passed\n",
    "# Set for generic half-life situation initially (0 to 10 half-lifes)\n",
    "Time_slide = widgets.FloatSlider(\n",
    "    value=0.,\n",
    "    description='Time',\n",
    "    min=0.,\n",
    "    max=max_half_lifes,\n",
    "    step=h,\n",
    "    disabled=False,\n",
    "    continuous_update=False,\n",
    "    orientation='horizontal',\n",
    "    readout=False,\n",
    "    readout_format='.1f',\n",
    "    layout=widgets.Layout(overflow_x='visible',\n",
    "                          overflow_y='visible',\n",
    "                          width='400px',\n",
    "                          max_width='500px',\n",
    "                          min_width='250px')\n",
    ")\n",
    "\n",
    "# Widget to display the number of parent atoms present\n",
    "parent_present = widgets.Text(\n",
    "    value = str(N_parent),\n",
    "    style = {'description_width': 'initial'},\n",
    "    #description = species['parent_short'][0]+' remaining',\n",
    "    disabled = True,\n",
    "    layout=widgets.Layout(overflow_x='visible',\n",
    "                          overflow_y='visible',\n",
    "                          width='175px',\n",
    "                          max_width='300px',\n",
    "                          min_width='125px')\n",
    ")\n",
    "\n",
    "# Widget to display the number of daughter atoms present\n",
    "daughter_present = widgets.Text(\n",
    "    value = str(0),\n",
    "    style = {'description_width': 'initial'},\n",
    "    #description = species['daughter_short'][0]+' produced',\n",
    "    disabled = True,\n",
    "    layout=widgets.Layout(overflow_x='visible',\n",
    "                          overflow_y='visible',\n",
    "                          width='175px',\n",
    "                          max_width='300px',\n",
    "                          min_width='125px')\n",
    ")\n",
    "\n",
    "# Widgets to label the time slider with units\n",
    "Time_label = widgets.Label(value=str(Time_slide.value))\n",
    "unit_label = widgets.Label(value=str(species['timeunits'][0]))\n",
    "Composite_Time_Label = widgets.HBox([Time_label, unit_label],\n",
    "                                   layout=widgets.Layout(width='200px'))\n",
    "\n",
    "# Labels for the parent/daughter present displays\n",
    "parent_label = widgets.Label(value=species['parent_short'][0]+' remaining',\n",
    "                             layout=widgets.Layout(width='200px', \n",
    "                                                   overflow_x='visible',\n",
    "                                                   overflow_y='visible') )\n",
    "daughter_label = widgets.Label(value=species['daughter_short'][0]+' produced',\n",
    "                             layout=widgets.Layout(width='200px', \n",
    "                                                   overflow_x='visible',\n",
    "                                                   overflow_y='visible') )\n",
    "\n",
    "# Checkbox to choose whether to display the number of each species\n",
    "# or the fraction of each\n",
    "frac_or_num = widgets.Checkbox(value=False, description='Display as fraction of atoms')\n",
    "\n",
    "# Widget to allow one to choose which species to work with\n",
    "pick_Species = widgets.RadioButtons(options=species['parent_long'][:],\n",
    "                                    value='Generic', description='Species:', disabled=False,\n",
    "                                    layout=widgets.Layout(width='250px'))\n"
   ]
  },
  {
   "cell_type": "code",
   "execution_count": 7,
   "metadata": {
    "execution": {
     "iopub.execute_input": "2020-06-29T22:29:20.317423Z",
     "iopub.status.busy": "2020-06-29T22:29:20.316852Z",
     "iopub.status.idle": "2020-06-29T22:29:20.321232Z",
     "shell.execute_reply": "2020-06-29T22:29:20.319605Z"
    },
    "tags": [
     "remove_input"
    ]
   },
   "outputs": [],
   "source": [
    "# Scale for population figure\n",
    "x_sc = bq.LinearScale(min=1, max=np.sqrt(N_parent))\n",
    "y_sc = bq.LinearScale(min=1, max=np.sqrt(N_parent))\n",
    "\n",
    "# Axes for population figure\n",
    "ax_x = bq.Axis(scale=x_sc, num_ticks=0)\n",
    "ax_y = bq.Axis(scale=y_sc, orientation='vertical', num_ticks=0)\n",
    "\n",
    "# Creates an array of x values: [1,2,...,30,1,2,...30,.....,1,2,...,30]\n",
    "x_ls = []\n",
    "for i in range(1,int(np.sqrt(N_parent))+1):\n",
    "    x_ls.append(float(i))\n",
    "x_ls = x_ls * int(np.sqrt(N_parent))\n",
    "x_arr = np.array(x_ls)\n",
    "\n",
    "# Creates an array of y values: [1,1,...,1,2,2,...2,......,30,30,...,30]\n",
    "y_ls = []\n",
    "for i in range(1,int(np.sqrt(N_parent))+1):\n",
    "    y_ls += [float(i)] * int(np.sqrt(N_parent))\n",
    "y_arr = np.array(y_ls)    \n",
    "\n",
    "# Creates a color array with the same number of entries as the number of atoms in\n",
    "# the sample\n",
    "Colors = ['red'] * N_parent\n",
    "\n",
    "# Plot the population model\n",
    "population_scat = bq.Scatter(x=x_arr, y=y_arr, scales={'x': x_sc, 'y': y_sc}, colors =['red'])"
   ]
  },
  {
   "cell_type": "code",
   "execution_count": 8,
   "metadata": {
    "execution": {
     "iopub.execute_input": "2020-06-29T22:29:20.459760Z",
     "iopub.status.busy": "2020-06-29T22:29:20.409184Z",
     "iopub.status.idle": "2020-06-29T22:29:20.475918Z",
     "shell.execute_reply": "2020-06-29T22:29:20.465753Z"
    },
    "tags": [
     "remove_input"
    ]
   },
   "outputs": [
    {
     "data": {
      "application/vnd.jupyter.widget-view+json": {
       "model_id": "0578d3aa0c6a4aaaaeb6a0f7c2440c1c",
       "version_major": 2,
       "version_minor": 0
      },
      "text/plain": [
       "VBox(children=(HBox(children=(Figure(axes=[Axis(label='half-lives', num_ticks=6, scale=LinearScale(max=10.0, m…"
      ]
     },
     "metadata": {},
     "output_type": "display_data"
    }
   ],
   "source": [
    "# Picking a new species resets everything\n",
    "pick_Species.observe(UpdateSpecies, names=['value'])\n",
    "\n",
    "# Update view from fraction to/from number\n",
    "frac_or_num.observe(UpdateFraction, names=['value'])\n",
    "\n",
    "# Update times\n",
    "Time_slide.observe(UpdateTimes, names=['value'])\n",
    "Time_label.observe(UpdateTimes, names=['value'])\n",
    "\n",
    "# Figure for the population\n",
    "fig_population = bq.Figure(title='Population of Atoms', marks=[population_scat], axes=[ax_x, ax_y], \n",
    "                background_style={'fill' : 'black'},padding_x = 0.025,\n",
    "                min_aspect_ratio=1, max_aspect_ratio=1)\n",
    "\n",
    "# Boxes to organize display\n",
    "parent_box = widgets.HBox([parent_label, parent_present],\n",
    "                          layout=widgets.Layout(overflow_x='visible', overflow_y='visible'))\n",
    "daughter_box = widgets.HBox([daughter_label, daughter_present],\n",
    "                            layout=widgets.Layout(overflow_x='visible', overflow_y='visible'))\n",
    "# Set visibility of the exact counts/fractions\n",
    "if (show_counts == False):\n",
    "    parent_box.layout.visibility = 'hidden'\n",
    "    daughter_box.layout.visibility = 'hidden'\n",
    "\n",
    "value_box = widgets.VBox([parent_box, daughter_box])\n",
    "species_box = widgets.HBox([value_box, pick_Species])\n",
    "\n",
    "slide_box = widgets.HBox([Time_slide, Composite_Time_Label])\n",
    "slide_check_box = widgets.VBox([slide_box, frac_or_num])\n",
    "\n",
    "top_box = widgets.HBox([fig_counts, fig_population],\n",
    "                      layout=widgets.Layout(width='900px'))\n",
    "top_box.children[0].layout.width = '450px'\n",
    "top_box.children[1].layout.width = '450px'\n",
    "\n",
    "bottom_box = widgets.HBox([species_box, slide_check_box],\n",
    "                      layout=widgets.Layout(width='900px'))\n",
    "bottom_box.children[0].layout.width = '450px'\n",
    "bottom_box.children[1].layout.width = '450px'\n",
    "\n",
    "# Final display\n",
    "Final = widgets.VBox([top_box, bottom_box])\n",
    "Final.layout.overflow = 'hidden'\n",
    "display(Final)"
   ]
  },
  {
   "cell_type": "markdown",
   "metadata": {},
   "source": [
    "## Interactive Figure 2: Geochron Plot"
   ]
  },
  {
   "cell_type": "markdown",
   "metadata": {},
   "source": [
    "Assuming a non-radiogenic isotope (that is, an isotope that is not the result of radioactive decay) that also will not decay, its amount should be constant.  This means that for different mineral samples we can measure the ratio of parent isotope versus the non-radiogenic isotope ($P/D_i$) and daughter isotope ($D$) versus the non-radiogenic isotope ($D/D_i$) to build an geochron plot.  For example, using the following isotopes\n",
    "\n",
    "- $D_i$ (non-radiogenic isotope of daughter element)\n",
    "- $D$ (Daughter Isoptope)\n",
    "- $P$ (Parent isotope)\n",
    "\n",
    "an geochron plot could plot $D/D_i$ versus $P/D_i$.  \n",
    "\n",
    "What sets the *geochron method* (also known as the *isochron method*) apart from the just measuring parent and daughter abundances is the use of the non-radiogenic isotope of the daughter element.  This avoids the assumption of no initial daughter isotope before the rock solidified (radioactive decay can occur while rock is molten).\n",
    "\n",
    "Some minerals in the rock incorporate the parent better than daughter which is why the initial amount of parent \n",
    "isotope versus daughter isotope can vary.  We expect daughter versus non-radiogenic isotope ratio to be constant\n",
    "if we pick the non-radiogenic isotope to be the same element as the daughter isotope.\n",
    "\n",
    "With all this said, it is actually often not this simple as many daughter isotopes are themselves radioactive and decay, leading to a chain of reactions, so comparing abundances of parent to daughter isotopes is not simple.\n",
    "\n",
    "*Note:* The idea for the geochron dating interactive came from a Isochron Diagram Java app at *ScienceCourseware.org*.  However that app had some issues in that it didn't divide by a non-radiogenic isotope (or at least didn't mention it).  In fact, they used $D_i$ for the initial amount of daughter isotope instead of the non-radiogenic isotope of the same element as the daughter isotope."
   ]
  },
  {
   "cell_type": "markdown",
   "metadata": {},
   "source": [
    "Consider the following questions:\n",
    "\n",
    "1. Notice that the geochron shown here is using the parent and daugther isotope ratios for 4 mineral samples in a rock.  Consider the sample that starts off with the most parent isotope initially (the point initially farthest to the right).  Adjust the geochron to show the samples after 1 half-life.  How much of that parent isotope was there initially?  How much is there after 1 half-life?  Does this make sense? \n",
    "2. Consider the sample that starts off with the least parent isotope initially (the point initially farthest to the left).  Adjust the geochron to show the samples after 1 half-life.  How much of that parent isotope was there initially?  How much is there after 1 half-life?  Does this make sense? \n",
    "3. What fraction of the parent isotope should have decayed into daughter isotope after one half-life?  Does it matter if the mineral sample we look at started with more parent isotope than another mineral sample in the same rock?  Why or why not?  \n",
    "4. Why is it as time elapses that the points representing the 4 mineral samples all move toward the upper left?  Can you explain why their motions are parallel to one another?\n",
    "4. Imagine you are looking at the parent isotope Rubidium-87 which decays into Strontium-87.  You examine 4 mineral samples in an meteorite and they line up in a line with a slope of 0.0666.  Determine the age of that meteorite (or rather, the time since it solidified).  Also explain how we can determine how much of the daughter isotope was in the meteorite initially.\n"
   ]
  },
  {
   "cell_type": "code",
   "execution_count": 9,
   "metadata": {
    "execution": {
     "iopub.execute_input": "2020-06-29T22:29:20.492988Z",
     "iopub.status.busy": "2020-06-29T22:29:20.492426Z",
     "iopub.status.idle": "2020-06-29T22:29:20.494410Z",
     "shell.execute_reply": "2020-06-29T22:29:20.494872Z"
    },
    "tags": [
     "remove_input"
    ]
   },
   "outputs": [],
   "source": [
    "##\n",
    "## Define the various isotopes we want to consider\n",
    "##\n",
    "\n",
    "isotope_info = pd.DataFrame(columns=['Name', 'PName', 'PAbbrev', 'DName', 'DAbbrev', 'DiName', 'DiAbbrev', 'HalfLife', 'HLUnits'])\n",
    "isotope_info['index'] = ['generic', 'Rb87']\n",
    "isotope_info['Name'] = ['Generic', 'Rb-87->Sr-87']\n",
    "isotope_info['PName'] = ['Parent', 'Rubidium-87']\n",
    "isotope_info['PAbbrev'] = ['P', 'Rb-87']\n",
    "isotope_info['DName'] = ['Daughter', 'Strontium-87']\n",
    "isotope_info['DAbbrev'] = ['D', 'Sr-87']\n",
    "isotope_info['DiName'] = ['Non-Radiogenic Isotope of Daughter Element', 'Strontium-86']\n",
    "isotope_info['DiAbbrev'] = ['D_i', 'Sr-86']\n",
    "isotope_info['HalfLife'] = [ 1, 48.8 ]\n",
    "isotope_info['HLUnits'] = [ 'half-lives', 'Billion years']\n",
    "isotope_info = isotope_info.set_index('index')\n",
    "\n",
    "# Set initial isotope to plot\n",
    "init_isotope = 'generic'"
   ]
  },
  {
   "cell_type": "code",
   "execution_count": 10,
   "metadata": {
    "execution": {
     "iopub.execute_input": "2020-06-29T22:29:20.502778Z",
     "iopub.status.busy": "2020-06-29T22:29:20.502223Z",
     "iopub.status.idle": "2020-06-29T22:29:20.503959Z",
     "shell.execute_reply": "2020-06-29T22:29:20.504416Z"
    },
    "tags": [
     "remove_input"
    ]
   },
   "outputs": [],
   "source": [
    "##\n",
    "## Define the initial amounts of parent and daughter in the sample.\n",
    "##\n",
    "## In principle, I would change this depending on the isotopes we plot.  But I am only plotting\n",
    "## Rb87 --> Sr-87, since that is the most classical use of this Geochron approach.\n",
    "##\n",
    "\n",
    "# Range of P to D_i fractions and initial amounts of D to D_i to consider\n",
    "P2Di_min = 0.05\n",
    "P2Di_max = 0.40\n",
    "D2Di0_min = 0.05\n",
    "D2Di0_max = 0.75\n",
    "\n",
    "# Generate three mineral samples in different thirds of the entire range\n",
    "range_P2Di  = (P2Di_max-P2Di_min)\n",
    "\n",
    "# Create sample amounts\n",
    "n_samples = 4\n",
    "nums = np.array(list(range(1, n_samples+1)))\n",
    "initial_samples = pd.DataFrame(index=nums)\n",
    "initial_D2Di0 = D2Di0_min + (D2Di0_max - D2Di0_min) * np.random.random()\n",
    "initial_samples['P2Di'] = P2Di_min + (range_P2Di/n_samples) * (nums - np.random.random(n_samples))\n",
    "initial_samples['D2Di'] = initial_D2Di0*np.ones_like(nums)\n"
   ]
  },
  {
   "cell_type": "code",
   "execution_count": 11,
   "metadata": {
    "execution": {
     "iopub.execute_input": "2020-06-29T22:29:20.525688Z",
     "iopub.status.busy": "2020-06-29T22:29:20.525100Z",
     "iopub.status.idle": "2020-06-29T22:29:20.527854Z",
     "shell.execute_reply": "2020-06-29T22:29:20.527308Z"
    },
    "tags": [
     "remove_input"
    ]
   },
   "outputs": [],
   "source": [
    "##\n",
    "## Define functions to call when building interactive plot\n",
    "##\n",
    "\n",
    "def amt_left(sample_in, taus):\n",
    "    # Generate a sample DataFrame after tau half-lifes given an initial DataFrame\n",
    "    sample = sample_in.copy(deep = True)\n",
    "    sample['P2Di'] = sample_in['P2Di']*((1/2)**(taus))\n",
    "    sample['D2Di'] = sample_in['D2Di'] + sample_in['P2Di']*(1 - (1/2)**(taus))\n",
    "    return sample\n",
    "\n",
    "def line_points(sample):\n",
    "    global x_min, x_max, y_min, y_max, initial_D2Di0\n",
    "    \n",
    "    # Determine the end points of a line going through the sample points.\n",
    "    x_range = x_max - x_min\n",
    "    y_range = y_max - y_min\n",
    "    \n",
    "    # Slope (extrapolate from first two points - could be done by a fit to the points)\n",
    "    slope = (sample['D2Di'][2]-sample['D2Di'][1])/(sample['P2Di'][2]-sample['P2Di'][1])\n",
    "    y_final = initial_D2Di0 + slope*x_range\n",
    "    x_points = (x_min, x_max)\n",
    "    y_points = (initial_D2Di0, y_final)\n",
    "    return x_points, y_points, slope\n",
    "\n",
    "def init2current(samples0, samples):\n",
    "    # Compute the lines connecting initital and final points for plotting\n",
    "    n_pts = len(samples0)\n",
    "\n",
    "    xlist = []\n",
    "    ylist = []\n",
    "    for pt in range(1, n_pts+1):\n",
    "        x = np.array([ samples0['P2Di'][pt], samples['P2Di'][pt] ])\n",
    "        y = np.array([ samples0['D2Di'][pt], samples['D2Di'][pt] ])\n",
    "        xlist.append(x)\n",
    "        ylist.append(y)\n",
    "    \n",
    "    return(xlist, ylist)\n",
    "    \n",
    "def HL_changed(change):\n",
    "    global isotope, sample, initial_samples, dots_current, line_current, connectors, slope_label\n",
    "    \n",
    "    # Determine half-life of this isotope\n",
    "    idx = (isotope_info.Name == isotope.value)\n",
    "    HL = float(isotope_info[idx].HalfLife.tolist()[0])\n",
    "    \n",
    "    # How many half-lives have passed?  Use this to get new sample and line info\n",
    "    this_tau = HL_slider.value / HL\n",
    "    sample = amt_left(initial_samples, this_tau)\n",
    "    x_sample, y_sample, slope =  line_points(sample)\n",
    "    \n",
    "    # Update plot\n",
    "    dots_current.x = sample['P2Di']\n",
    "    dots_current.y = sample['D2Di']\n",
    "    line_current.x = x_sample\n",
    "    line_current.y = y_sample\n",
    "    slope_label.value = 'Slope: {0:0.4f}'.format(slope)\n",
    "    xlist, ylist = init2current(initial_samples, sample)\n",
    "    connectors.x = xlist\n",
    "    connectors.y = ylist\n",
    "    \n",
    "    \n",
    "def isotope_changed(change):\n",
    "    global ax_x_P2Di, ax_y_D2Di, HL_slider, HLlabel, UnitsText, Max_half_lives\n",
    "\n",
    "    # Extract the necessary isotope descriptors from the Pandas DataFrame\n",
    "    idx = (isotope_info.Name == change.new)\n",
    "    HL = float(isotope_info[idx].HalfLife.tolist()[0])\n",
    "    HLUnits = isotope_info[idx].HLUnits.tolist()[0]\n",
    "    PAbbrev = isotope_info[idx].PAbbrev.tolist()[0]\n",
    "    DAbbrev = isotope_info[idx].DAbbrev.tolist()[0]\n",
    "    DiAbbrev = isotope_info[idx].DiAbbrev.tolist()[0]\n",
    "\n",
    "    # Get old half-life\n",
    "    idx_old = (isotope_info.Name == change.old)\n",
    "    HL_old = float(isotope_info[idx_old].HalfLife.tolist()[0])\n",
    "\n",
    "    # Determine current age reading from slider and adjust to new units\n",
    "    init_age = HL_slider.value \n",
    "    \n",
    "    # Hard code generic versus others\n",
    "    if (change.new != isotope_info.loc['generic'].Name):\n",
    "        HL_slider.description = \"Time\"\n",
    "    else: \n",
    "        HL_slider.description = \"Half-lives\"    \n",
    "\n",
    "    # Adjust time scales\n",
    "    if (HL_old < HL):\n",
    "        # Adjust maximum limits first before adjusting values (since new HL > old HL)\n",
    "        HL_slider.max = Max_half_lives*HL\n",
    "        HLlabel.max = HL_slider.max \n",
    "        HL_slider.value = HL*(init_age/HL_old)\n",
    "        HLlabel.value = HL_slider.value       \n",
    "    else:\n",
    "        # Adjust maximum limits after adjusting values (since new HL < old HL)\n",
    "        HL_slider.value = HL*(init_age/HL_old)\n",
    "        HLlabel.value = HL_slider.value\n",
    "        HL_slider.max = Max_half_lives*HL\n",
    "        HLlabel.max = HL_slider.max \n",
    "                \n",
    "    # Set the axes and other labels to display\n",
    "    UnitsText.value = HLUnits\n",
    "    ax_x_P2Di.label = '{0} / {1}'.format(PAbbrev, DiAbbrev)\n",
    "    ax_y_D2Di.label = '{0} / {1}'.format(DAbbrev, DiAbbrev)\n",
    "\n"
   ]
  },
  {
   "cell_type": "code",
   "execution_count": 12,
   "metadata": {
    "execution": {
     "iopub.execute_input": "2020-06-29T22:29:20.644102Z",
     "iopub.status.busy": "2020-06-29T22:29:20.632429Z",
     "iopub.status.idle": "2020-06-29T22:29:20.665974Z",
     "shell.execute_reply": "2020-06-29T22:29:20.651473Z"
    },
    "tags": [
     "remove_input"
    ]
   },
   "outputs": [
    {
     "data": {
      "application/vnd.jupyter.widget-view+json": {
       "model_id": "92a68ab817814ddca5a970694e76b36a",
       "version_major": 2,
       "version_minor": 0
      },
      "text/plain": [
       "HBox(children=(Figure(axes=[Axis(label='P / D_i', scale=LinearScale(max=0.4, min=0.0)), Axis(label='D / D_i', …"
      ]
     },
     "metadata": {},
     "output_type": "display_data"
    }
   ],
   "source": [
    "##\n",
    "## Set up isochron plot\n",
    "##\n",
    "\n",
    "# Largest possible fraction of decay (only go out to 5 half-lives)\n",
    "Max_half_lives = 5\n",
    "Max_decay_fraction = 1 - (1/2)**(Max_half_lives)\n",
    "\n",
    "# detemine maximum and minimum values of X and Y axes\n",
    "x_step = 0.05\n",
    "x_min = 0\n",
    "x_max = x_step * ceil(initial_samples['P2Di'][n_samples] / x_step)\n",
    "y_step = 0.04\n",
    "y_min = y_step * floor(initial_D2Di0 / y_step)\n",
    "y_max = y_step * ceil((initial_D2Di0 + initial_samples['P2Di'][n_samples] * Max_decay_fraction) / y_step)\n",
    "\n",
    "# Labels and scales for Axes\n",
    "x_P2Di = bq.LinearScale(min = x_min, max = x_max)\n",
    "y_D2Di = bq.LinearScale(min = y_min, max = y_max)\n",
    "ax_x_P2Di = bq.Axis(label='P / D_i', scale=x_P2Di)\n",
    "ax_y_D2Di = bq.Axis(label='D / D_i', scale=y_D2Di, orientation='vertical')\n",
    "\n",
    "# Set up initial conditions\n",
    "taus = 0    # zero half lives past\n",
    "sample = amt_left(initial_samples, taus)\n",
    "\n",
    "##\n",
    "## Define the lines\n",
    "##\n",
    "\n",
    "# Initial amount of daughter line (with dots for initial amounts of parent)\n",
    "x_init, y_init, slope_init =  line_points(initial_samples)\n",
    "line_initial = bq.Lines(x=x_init, y=y_init, scales={'x': x_P2Di, 'y': y_D2Di}, \n",
    "                   line_style='dashed', colors=['red'], labels=['Initial Sample'])\n",
    "dots_initial = bq.Scatter(x=initial_samples['P2Di'], y=initial_samples['D2Di'], scales={'x': x_P2Di, 'y': y_D2Di}, \n",
    "                   colors=['white'], stroke='red', fill= True, labels=['Initial Isochron'])\n",
    "\n",
    "# Current quantities on isochron line\n",
    "x_sample, y_sample, slope =  line_points(sample)\n",
    "line_current = bq.Lines(x=x_sample, y=y_sample, scales={'x': x_P2Di, 'y': y_D2Di}, \n",
    "                   line_style='solid', colors=['red'], labels=['Current Isochron'])\n",
    "dots_current = bq.Scatter(x=sample['P2Di'], y=sample['D2Di'], scales={'x': x_P2Di, 'y': y_D2Di}, \n",
    "                   colors=['red'], stroke='red', fill= True, labels=['Current Isochron'])\n",
    "\n",
    "# Connect Initial and Current quantities on isochron line\n",
    "xlist, ylist = init2current(initial_samples, sample)\n",
    "connectors = bq.Lines(x=xlist, y=ylist, scales={'x': x_P2Di, 'y': y_D2Di}, \n",
    "                   line_style='dotted', colors=['black'])\n",
    "\n",
    "##\n",
    "## Construct plot\n",
    "##\n",
    "isochron = bq.Figure(axes=[ax_x_P2Di, ax_y_D2Di], \n",
    "                     marks=[connectors, line_initial, dots_initial, line_current, dots_current],\n",
    "                     title='Geochron Diagram', \n",
    "                     layout={'width': '700px', 'height': '500px', \n",
    "                             'max_width': '700px', 'max_height': '500px',\n",
    "                             'min_width': '600px', 'min_height': '400px'})\n",
    "\n",
    "##\n",
    "## Construct controls\n",
    "##\n",
    "\n",
    "# Select Generic or Specific Isotopes\n",
    "isotope = widgets.RadioButtons(options=list(isotope_info.Name), \n",
    "                               value=isotope_info.loc[init_isotope].Name, description='Isotope:', \n",
    "                               disabled=False, \n",
    "                               layout=widgets.Layout(height='75px', max_height='100px', min_height='50px', \n",
    "                                                    width='200px', max_width='300px',  min_width='100px'))\n",
    "isotope.observe(isotope_changed, 'value')\n",
    "\n",
    "# Slider and text field controling age\n",
    "idx = (isotope_info.Name == isotope.value)\n",
    "HL = float(isotope_info[idx].HalfLife.tolist()[0])\n",
    "HLUnits = isotope_info[idx].HLUnits.tolist()[0]\n",
    "\n",
    "HL_slider = widgets.FloatSlider(value=0, min=0, max=Max_half_lives*HL, step=0.02,\n",
    "                                description='Half-lives', disabled=False,\n",
    "                                continuous_update=False, orientation='horizontal',\n",
    "                                readout=False, readout_format='.2f',\n",
    "                                layout=widgets.Layout(height='75px', max_height='100px', min_height='50px', \n",
    "                                                    width='200px', max_width='300px',  min_width='100px'))\n",
    "HL_slider.observe(HL_changed, 'value')\n",
    "\n",
    "# Get units value and units for age label, then apply them\n",
    "HLlabel = widgets.BoundedFloatText(value = HL_slider.value, min = HL_slider.min, max = HL_slider.max, \n",
    "                                   step = HL_slider.step,\n",
    "                                       layout={'width': '75px', 'height': '50px', \n",
    "                                               'max_width': '75px', 'max_height': '75px',\n",
    "                                               'min_width': '50px', 'min_height': '50px'})\n",
    "UnitsText = widgets.Label(value=HLUnits)\n",
    "age_label = widgets.HBox([HLlabel, UnitsText])\n",
    "# Link HL slider with this text\n",
    "widgets.jslink((HL_slider, 'value'), (HLlabel, 'value'))\n",
    "\n",
    "# Describe slope\n",
    "slope_label = widgets.Label(value = 'Slope: {0:0.4f}'.format(slope),\n",
    "                                       layout={'align_items':'center','align_content':'center', \n",
    "                                               'justify_content':'center', \n",
    "                                               'width': '100px', 'height': '50px', \n",
    "                                               'max_width': '100px', 'max_height': '75px',\n",
    "                                               'min_width': '50px', 'min_height': '50px'})\n",
    "\n",
    "\n",
    "controls = widgets.VBox( [isotope, HL_slider, age_label, slope_label], \n",
    "                        layout=widgets.Layout(align_content='center', align_items='center', \n",
    "                                              justify_content='center', \n",
    "                                              width='300px', height='500px', \n",
    "                                              max_width='300px', max_height='500px',\n",
    "                                              min_width='100px', min_height='400px',\n",
    "                                              overflow_x='hidden', overflow_y='hidden') )\n",
    "\n",
    "display(widgets.HBox( [isochron, controls] ) )"
   ]
  }
 ],
 "metadata": {
  "kernelspec": {
   "display_name": "Python 3",
   "language": "python",
   "name": "python3"
  },
  "language_info": {
   "codemirror_mode": {
    "name": "ipython",
    "version": 3
   },
   "file_extension": ".py",
   "mimetype": "text/x-python",
   "name": "python",
   "nbconvert_exporter": "python",
   "pygments_lexer": "ipython3",
   "version": "3.6.3"
  },
  "widgets": {
   "application/vnd.jupyter.widget-state+json": {
    "state": {
     "031af52760b141af8c79b76482ddc14a": {
      "model_module": "@jupyter-widgets/controls",
      "model_module_version": "1.5.0",
      "model_name": "RadioButtonsModel",
      "state": {
       "_dom_classes": [],
       "_model_module": "@jupyter-widgets/controls",
       "_model_module_version": "1.5.0",
       "_model_name": "RadioButtonsModel",
       "_options_labels": [
        "Generic",
        "Rb-87->Sr-87"
       ],
       "_view_count": null,
       "_view_module": "@jupyter-widgets/controls",
       "_view_module_version": "1.5.0",
       "_view_name": "RadioButtonsView",
       "description": "Isotope:",
       "description_tooltip": null,
       "disabled": false,
       "index": 0,
       "layout": "IPY_MODEL_6b6cb59064584879bd53de9109503c7d",
       "style": "IPY_MODEL_a5f237b403e24ac1ae87c16bbe17df72"
      }
     },
     "0578d3aa0c6a4aaaaeb6a0f7c2440c1c": {
      "model_module": "@jupyter-widgets/controls",
      "model_module_version": "1.5.0",
      "model_name": "VBoxModel",
      "state": {
       "_dom_classes": [],
       "_model_module": "@jupyter-widgets/controls",
       "_model_module_version": "1.5.0",
       "_model_name": "VBoxModel",
       "_view_count": null,
       "_view_module": "@jupyter-widgets/controls",
       "_view_module_version": "1.5.0",
       "_view_name": "VBoxView",
       "box_style": "",
       "children": [
        "IPY_MODEL_73ab1aa4bab04a828d448168e47a2e35",
        "IPY_MODEL_903640380bd1403ebe63bdbbb3246233"
       ],
       "layout": "IPY_MODEL_a8632c2f998b498dbb7bbc3db376ad04"
      }
     },
     "0698c8c960544f71a337651fa64ea280": {
      "model_module": "bqplot",
      "model_module_version": "^0.5.0",
      "model_name": "AxisModel",
      "state": {
       "_model_module": "bqplot",
       "_model_module_version": "^0.5.0",
       "_model_name": "AxisModel",
       "_view_count": null,
       "_view_module": "bqplot",
       "_view_module_version": "^0.5.0",
       "_view_name": "Axis",
       "color": null,
       "grid_color": null,
       "grid_lines": "solid",
       "label": "Number of atoms",
       "label_color": null,
       "label_location": "middle",
       "label_offset": null,
       "num_ticks": null,
       "offset": {},
       "orientation": "vertical",
       "scale": "IPY_MODEL_fc1390c33c924117bc55e5fe3b405660",
       "side": null,
       "tick_format": null,
       "tick_rotate": 0,
       "tick_style": {},
       "tick_values": null,
       "visible": true
      }
     },
     "14829bd426a74335a5fa6507a2785039": {
      "model_module": "@jupyter-widgets/controls",
      "model_module_version": "1.5.0",
      "model_name": "DescriptionStyleModel",
      "state": {
       "_model_module": "@jupyter-widgets/controls",
       "_model_module_version": "1.5.0",
       "_model_name": "DescriptionStyleModel",
       "_view_count": null,
       "_view_module": "@jupyter-widgets/base",
       "_view_module_version": "1.2.0",
       "_view_name": "StyleView",
       "description_width": ""
      }
     },
     "14d2b12752e2424dbf250e460837a501": {
      "model_module": "bqplot",
      "model_module_version": "^0.5.0",
      "model_name": "AxisModel",
      "state": {
       "_model_module": "bqplot",
       "_model_module_version": "^0.5.0",
       "_model_name": "AxisModel",
       "_view_count": null,
       "_view_module": "bqplot",
       "_view_module_version": "^0.5.0",
       "_view_name": "Axis",
       "color": null,
       "grid_color": null,
       "grid_lines": "solid",
       "label": "Fraction of atoms",
       "label_color": null,
       "label_location": "middle",
       "label_offset": null,
       "num_ticks": null,
       "offset": {},
       "orientation": "vertical",
       "scale": "IPY_MODEL_526a3e3e53f7427980da4dd4019e7ed6",
       "side": null,
       "tick_format": null,
       "tick_rotate": 0,
       "tick_style": {},
       "tick_values": null,
       "visible": true
      }
     },
     "1940c73fd62040eb95be04606e5e8a86": {
      "model_module": "@jupyter-widgets/base",
      "model_module_version": "1.2.0",
      "model_name": "LayoutModel",
      "state": {
       "_model_module": "@jupyter-widgets/base",
       "_model_module_version": "1.2.0",
       "_model_name": "LayoutModel",
       "_view_count": null,
       "_view_module": "@jupyter-widgets/base",
       "_view_module_version": "1.2.0",
       "_view_name": "LayoutView",
       "align_content": null,
       "align_items": null,
       "align_self": null,
       "border": null,
       "bottom": null,
       "display": null,
       "flex": null,
       "flex_flow": null,
       "grid_area": null,
       "grid_auto_columns": null,
       "grid_auto_flow": null,
       "grid_auto_rows": null,
       "grid_column": null,
       "grid_gap": null,
       "grid_row": null,
       "grid_template_areas": null,
       "grid_template_columns": null,
       "grid_template_rows": null,
       "height": null,
       "justify_content": null,
       "justify_items": null,
       "left": null,
       "margin": null,
       "max_height": null,
       "max_width": null,
       "min_height": null,
       "min_width": null,
       "object_fit": null,
       "object_position": null,
       "order": null,
       "overflow": null,
       "overflow_x": null,
       "overflow_y": null,
       "padding": null,
       "right": null,
       "top": null,
       "visibility": null,
       "width": "900px"
      }
     },
     "211aadcfd252480f9a54cdfb59b8a4f3": {
      "model_module": "@jupyter-widgets/base",
      "model_module_version": "1.2.0",
      "model_name": "LayoutModel",
      "state": {
       "_model_module": "@jupyter-widgets/base",
       "_model_module_version": "1.2.0",
       "_model_name": "LayoutModel",
       "_view_count": null,
       "_view_module": "@jupyter-widgets/base",
       "_view_module_version": "1.2.0",
       "_view_name": "LayoutView",
       "align_content": null,
       "align_items": null,
       "align_self": null,
       "border": null,
       "bottom": null,
       "display": null,
       "flex": null,
       "flex_flow": null,
       "grid_area": null,
       "grid_auto_columns": null,
       "grid_auto_flow": null,
       "grid_auto_rows": null,
       "grid_column": null,
       "grid_gap": null,
       "grid_row": null,
       "grid_template_areas": null,
       "grid_template_columns": null,
       "grid_template_rows": null,
       "height": null,
       "justify_content": null,
       "justify_items": null,
       "left": null,
       "margin": null,
       "max_height": null,
       "max_width": null,
       "min_height": null,
       "min_width": null,
       "object_fit": null,
       "object_position": null,
       "order": null,
       "overflow": null,
       "overflow_x": null,
       "overflow_y": null,
       "padding": null,
       "right": null,
       "top": null,
       "visibility": null,
       "width": null
      }
     },
     "257bc987ddae4cb7958751c3a21066b9": {
      "buffers": [
       {
        "data": "AAAAAAAAAAAAAAAAAAAAQAAAAAAAABBAAAAAAAAAGEAAAAAAAAAgQAAAAAAAACRA",
        "encoding": "base64",
        "path": [
         "tick_values",
         "value"
        ]
       }
      ],
      "model_module": "bqplot",
      "model_module_version": "^0.5.0",
      "model_name": "AxisModel",
      "state": {
       "_model_module": "bqplot",
       "_model_module_version": "^0.5.0",
       "_model_name": "AxisModel",
       "_view_count": null,
       "_view_module": "bqplot",
       "_view_module_version": "^0.5.0",
       "_view_name": "Axis",
       "color": null,
       "grid_color": null,
       "grid_lines": "solid",
       "label": "half-lives",
       "label_color": null,
       "label_location": "middle",
       "label_offset": null,
       "num_ticks": 6,
       "offset": {},
       "orientation": "horizontal",
       "scale": "IPY_MODEL_a3834883f07443be88066a0a7b946b04",
       "side": null,
       "tick_format": null,
       "tick_rotate": 0,
       "tick_style": {},
       "tick_values": {
        "dtype": "float64",
        "shape": [
         6
        ],
        "type": null
       },
       "visible": true
      }
     },
     "267084c73af6493f8fd1aa3d44b40b3d": {
      "model_module": "@jupyter-widgets/base",
      "model_module_version": "1.2.0",
      "model_name": "LayoutModel",
      "state": {
       "_model_module": "@jupyter-widgets/base",
       "_model_module_version": "1.2.0",
       "_model_name": "LayoutModel",
       "_view_count": null,
       "_view_module": "@jupyter-widgets/base",
       "_view_module_version": "1.2.0",
       "_view_name": "LayoutView",
       "align_content": null,
       "align_items": null,
       "align_self": null,
       "border": null,
       "bottom": null,
       "display": null,
       "flex": null,
       "flex_flow": null,
       "grid_area": null,
       "grid_auto_columns": null,
       "grid_auto_flow": null,
       "grid_auto_rows": null,
       "grid_column": null,
       "grid_gap": null,
       "grid_row": null,
       "grid_template_areas": null,
       "grid_template_columns": null,
       "grid_template_rows": null,
       "height": null,
       "justify_content": null,
       "justify_items": null,
       "left": null,
       "margin": null,
       "max_height": null,
       "max_width": null,
       "min_height": null,
       "min_width": null,
       "object_fit": null,
       "object_position": null,
       "order": null,
       "overflow": null,
       "overflow_x": null,
       "overflow_y": null,
       "padding": null,
       "right": null,
       "top": null,
       "visibility": null,
       "width": "250px"
      }
     },
     "26da006e6f354297b340ce7e0482a354": {
      "model_module": "@jupyter-widgets/controls",
      "model_module_version": "1.5.0",
      "model_name": "FloatSliderModel",
      "state": {
       "_dom_classes": [],
       "_model_module": "@jupyter-widgets/controls",
       "_model_module_version": "1.5.0",
       "_model_name": "FloatSliderModel",
       "_view_count": null,
       "_view_module": "@jupyter-widgets/controls",
       "_view_module_version": "1.5.0",
       "_view_name": "FloatSliderView",
       "continuous_update": false,
       "description": "Time",
       "description_tooltip": null,
       "disabled": false,
       "layout": "IPY_MODEL_91c48cbda23e4d9ea1e68cb5f78cece9",
       "max": 10.0,
       "min": 0.0,
       "orientation": "horizontal",
       "readout": false,
       "readout_format": ".1f",
       "step": 0.025,
       "style": "IPY_MODEL_34da1ccb5fd945a5b73774d7dc18e9c9",
       "value": 0.0
      }
     },
     "271ed3146ecf49d4b0589c2f58760234": {
      "model_module": "@jupyter-widgets/controls",
      "model_module_version": "1.5.0",
      "model_name": "FloatSliderModel",
      "state": {
       "_dom_classes": [],
       "_model_module": "@jupyter-widgets/controls",
       "_model_module_version": "1.5.0",
       "_model_name": "FloatSliderModel",
       "_view_count": null,
       "_view_module": "@jupyter-widgets/controls",
       "_view_module_version": "1.5.0",
       "_view_name": "FloatSliderView",
       "continuous_update": false,
       "description": "Half-lives",
       "description_tooltip": null,
       "disabled": false,
       "layout": "IPY_MODEL_801af98f30da414997193ed8358709e7",
       "max": 5.0,
       "min": 0.0,
       "orientation": "horizontal",
       "readout": false,
       "readout_format": ".2f",
       "step": 0.02,
       "style": "IPY_MODEL_54e489d47ed4493088374f95a80e4be4",
       "value": 0.0
      }
     },
     "2766410ba7d44425bfefc9b14069cc0d": {
      "model_module": "@jupyter-widgets/controls",
      "model_module_version": "1.5.0",
      "model_name": "VBoxModel",
      "state": {
       "_dom_classes": [],
       "_model_module": "@jupyter-widgets/controls",
       "_model_module_version": "1.5.0",
       "_model_name": "VBoxModel",
       "_view_count": null,
       "_view_module": "@jupyter-widgets/controls",
       "_view_module_version": "1.5.0",
       "_view_name": "VBoxView",
       "box_style": "",
       "children": [
        "IPY_MODEL_cbcedb352708466cafae6908eda143de",
        "IPY_MODEL_87c8317f3fc74857a6a14478e9c59a03"
       ],
       "layout": "IPY_MODEL_e5c69dac98ed4eb299c5f41e388e9ce1"
      }
     },
     "27ca9f9b36f9452685ac65e712657e58": {
      "model_module": "@jupyter-widgets/base",
      "model_module_version": "1.2.0",
      "model_name": "LayoutModel",
      "state": {
       "_model_module": "@jupyter-widgets/base",
       "_model_module_version": "1.2.0",
       "_model_name": "LayoutModel",
       "_view_count": null,
       "_view_module": "@jupyter-widgets/base",
       "_view_module_version": "1.2.0",
       "_view_name": "LayoutView",
       "align_content": null,
       "align_items": null,
       "align_self": null,
       "border": null,
       "bottom": null,
       "display": null,
       "flex": null,
       "flex_flow": null,
       "grid_area": null,
       "grid_auto_columns": null,
       "grid_auto_flow": null,
       "grid_auto_rows": null,
       "grid_column": null,
       "grid_gap": null,
       "grid_row": null,
       "grid_template_areas": null,
       "grid_template_columns": null,
       "grid_template_rows": null,
       "height": null,
       "justify_content": null,
       "justify_items": null,
       "left": null,
       "margin": null,
       "max_height": null,
       "max_width": null,
       "min_height": null,
       "min_width": null,
       "object_fit": null,
       "object_position": null,
       "order": null,
       "overflow": null,
       "overflow_x": null,
       "overflow_y": null,
       "padding": null,
       "right": null,
       "top": null,
       "visibility": null,
       "width": null
      }
     },
     "297b1a6faac74fa18ac2e935fec4e31e": {
      "model_module": "bqplot",
      "model_module_version": "^0.5.0",
      "model_name": "LinearScaleModel",
      "state": {
       "_model_module": "bqplot",
       "_model_module_version": "^0.5.0",
       "_model_name": "LinearScaleModel",
       "_view_count": null,
       "_view_module": "bqplot",
       "_view_module_version": "^0.5.0",
       "_view_name": "LinearScale",
       "allow_padding": true,
       "max": 0.92,
       "mid_range": 0.8,
       "min": 0.52,
       "min_range": 0.6,
       "reverse": false,
       "stabilized": false
      }
     },
     "3010267d57f94e99b06e219887eebe53": {
      "buffers": [
       {
        "data": "AAAAAAAAAACamZmZmZnZPw==",
        "encoding": "base64",
        "path": [
         "x",
         "value"
        ]
       },
       {
        "data": "YZvl5b3z4D9hm+XlvfPgPw==",
        "encoding": "base64",
        "path": [
         "y",
         "value"
        ]
       }
      ],
      "model_module": "bqplot",
      "model_module_version": "^0.5.0",
      "model_name": "LinesModel",
      "state": {
       "_model_module": "bqplot",
       "_model_module_version": "^0.5.0",
       "_model_name": "LinesModel",
       "_view_count": null,
       "_view_module": "bqplot",
       "_view_module_version": "^0.5.0",
       "_view_name": "Lines",
       "apply_clip": true,
       "close_path": false,
       "color": null,
       "colors": [
        "red"
       ],
       "curves_subset": [],
       "display_legend": false,
       "enable_hover": true,
       "fill": "none",
       "fill_colors": [],
       "fill_opacities": [],
       "interactions": {
        "hover": "tooltip"
       },
       "interpolation": "linear",
       "labels": [
        "Current Isochron"
       ],
       "labels_visibility": "none",
       "line_style": "solid",
       "marker": null,
       "marker_size": 64,
       "opacities": [],
       "preserve_domain": {},
       "scales": {
        "x": "IPY_MODEL_cb6f87fc2e70478ca28d5c77c0502881",
        "y": "IPY_MODEL_297b1a6faac74fa18ac2e935fec4e31e"
       },
       "scales_metadata": {
        "color": {
         "dimension": "color"
        },
        "x": {
         "dimension": "x",
         "orientation": "horizontal"
        },
        "y": {
         "dimension": "y",
         "orientation": "vertical"
        }
       },
       "selected": null,
       "selected_style": {},
       "stroke_width": 2.0,
       "tooltip": null,
       "tooltip_location": "mouse",
       "tooltip_style": {
        "opacity": 0.9
       },
       "unselected_style": {},
       "visible": true,
       "x": {
        "dtype": "float64",
        "shape": [
         2
        ],
        "type": null
       },
       "y": {
        "dtype": "float64",
        "shape": [
         2
        ],
        "type": null
       }
      }
     },
     "34da1ccb5fd945a5b73774d7dc18e9c9": {
      "model_module": "@jupyter-widgets/controls",
      "model_module_version": "1.5.0",
      "model_name": "SliderStyleModel",
      "state": {
       "_model_module": "@jupyter-widgets/controls",
       "_model_module_version": "1.5.0",
       "_model_name": "SliderStyleModel",
       "_view_count": null,
       "_view_module": "@jupyter-widgets/base",
       "_view_module_version": "1.2.0",
       "_view_name": "StyleView",
       "description_width": "",
       "handle_color": null
      }
     },
     "387fbe4496cb45839fed749fbbc2c94f": {
      "model_module": "@jupyter-widgets/controls",
      "model_module_version": "1.5.0",
      "model_name": "HBoxModel",
      "state": {
       "_dom_classes": [],
       "_model_module": "@jupyter-widgets/controls",
       "_model_module_version": "1.5.0",
       "_model_name": "HBoxModel",
       "_view_count": null,
       "_view_module": "@jupyter-widgets/controls",
       "_view_module_version": "1.5.0",
       "_view_name": "HBoxView",
       "box_style": "",
       "children": [
        "IPY_MODEL_2766410ba7d44425bfefc9b14069cc0d",
        "IPY_MODEL_c346f624e7254917a8cb98a0515c3d9a"
       ],
       "layout": "IPY_MODEL_e7eac8f1494c415283d19fdb11858688"
      }
     },
     "3c94bbb6f74141ec983612e80b091c2f": {
      "model_module": "@jupyter-widgets/controls",
      "model_module_version": "1.5.0",
      "model_name": "DescriptionStyleModel",
      "state": {
       "_model_module": "@jupyter-widgets/controls",
       "_model_module_version": "1.5.0",
       "_model_name": "DescriptionStyleModel",
       "_view_count": null,
       "_view_module": "@jupyter-widgets/base",
       "_view_module_version": "1.2.0",
       "_view_name": "StyleView",
       "description_width": ""
      }
     },
     "3e5280326bca4e0fb45b2fc95a26c3ef": {
      "buffers": [
       {
        "data": "AAAAAAAA8D8=",
        "encoding": "base64",
        "path": [
         "default_opacities",
         "value"
        ]
       },
       {
        "data": "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",
        "encoding": "base64",
        "path": [
         "x",
         "value"
        ]
       },
       {
        "data": "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",
        "encoding": "base64",
        "path": [
         "y",
         "value"
        ]
       }
      ],
      "model_module": "bqplot",
      "model_module_version": "^0.5.0",
      "model_name": "ScatterModel",
      "state": {
       "_model_module": "bqplot",
       "_model_module_version": "^0.5.0",
       "_model_name": "ScatterModel",
       "_view_count": null,
       "_view_module": "bqplot",
       "_view_module_version": "^0.5.0",
       "_view_name": "Scatter",
       "apply_clip": true,
       "color": null,
       "colors": [
        "red"
       ],
       "default_opacities": {
        "dtype": "float64",
        "shape": [
         1
        ],
        "type": null
       },
       "default_size": 64,
       "default_skew": 0.5,
       "display_legend": false,
       "display_names": true,
       "drag_color": null,
       "drag_size": 5.0,
       "enable_delete": false,
       "enable_hover": true,
       "enable_move": false,
       "fill": true,
       "hovered_point": null,
       "hovered_style": {},
       "interactions": {
        "hover": "tooltip"
       },
       "labels": [],
       "marker": "circle",
       "names": null,
       "names_unique": true,
       "opacity": null,
       "preserve_domain": {},
       "restrict_x": false,
       "restrict_y": false,
       "rotation": null,
       "scales": {
        "x": "IPY_MODEL_63c546442c5245b5969f97d43ea78ad5",
        "y": "IPY_MODEL_a43813ae754248dfba43b8115cdec78e"
       },
       "scales_metadata": {
        "color": {
         "dimension": "color"
        },
        "opacity": {
         "dimension": "opacity"
        },
        "rotation": {
         "dimension": "rotation"
        },
        "size": {
         "dimension": "size"
        },
        "skew": {
         "dimension": "skew"
        },
        "x": {
         "dimension": "x",
         "orientation": "horizontal"
        },
        "y": {
         "dimension": "y",
         "orientation": "vertical"
        }
       },
       "selected": null,
       "selected_style": {},
       "size": null,
       "skew": null,
       "stroke": null,
       "stroke_width": 1.5,
       "tooltip": null,
       "tooltip_location": "mouse",
       "tooltip_style": {
        "opacity": 0.9
       },
       "unhovered_style": {},
       "unselected_style": {},
       "update_on_move": false,
       "visible": true,
       "x": {
        "dtype": "float64",
        "shape": [
         900
        ],
        "type": null
       },
       "y": {
        "dtype": "float64",
        "shape": [
         900
        ],
        "type": null
       }
      }
     },
     "3efcbf451c7248bf9263acc44fca0ad8": {
      "model_module": "@jupyter-widgets/base",
      "model_module_version": "1.2.0",
      "model_name": "LayoutModel",
      "state": {
       "_model_module": "@jupyter-widgets/base",
       "_model_module_version": "1.2.0",
       "_model_name": "LayoutModel",
       "_view_count": null,
       "_view_module": "@jupyter-widgets/base",
       "_view_module_version": "1.2.0",
       "_view_name": "LayoutView",
       "align_content": null,
       "align_items": null,
       "align_self": null,
       "border": null,
       "bottom": null,
       "display": null,
       "flex": null,
       "flex_flow": null,
       "grid_area": null,
       "grid_auto_columns": null,
       "grid_auto_flow": null,
       "grid_auto_rows": null,
       "grid_column": null,
       "grid_gap": null,
       "grid_row": null,
       "grid_template_areas": null,
       "grid_template_columns": null,
       "grid_template_rows": null,
       "height": "50px",
       "justify_content": null,
       "justify_items": null,
       "left": null,
       "margin": null,
       "max_height": "75px",
       "max_width": "75px",
       "min_height": "50px",
       "min_width": "50px",
       "object_fit": null,
       "object_position": null,
       "order": null,
       "overflow": null,
       "overflow_x": null,
       "overflow_y": null,
       "padding": null,
       "right": null,
       "top": null,
       "visibility": null,
       "width": "75px"
      }
     },
     "4367d5fcf47f4de3aded7740e5693d15": {
      "model_module": "@jupyter-widgets/controls",
      "model_module_version": "1.5.0",
      "model_name": "LabelModel",
      "state": {
       "_dom_classes": [],
       "_model_module": "@jupyter-widgets/controls",
       "_model_module_version": "1.5.0",
       "_model_name": "LabelModel",
       "_view_count": null,
       "_view_module": "@jupyter-widgets/controls",
       "_view_module_version": "1.5.0",
       "_view_name": "LabelView",
       "description": "",
       "description_tooltip": null,
       "layout": "IPY_MODEL_211aadcfd252480f9a54cdfb59b8a4f3",
       "placeholder": "​",
       "style": "IPY_MODEL_57ffad82c76f4dabbc726d8ba21ed435",
       "value": "0.0"
      }
     },
     "457a4f16337443998ba42a19630cd3d8": {
      "model_module": "@jupyter-widgets/base",
      "model_module_version": "1.2.0",
      "model_name": "LayoutModel",
      "state": {
       "_model_module": "@jupyter-widgets/base",
       "_model_module_version": "1.2.0",
       "_model_name": "LayoutModel",
       "_view_count": null,
       "_view_module": "@jupyter-widgets/base",
       "_view_module_version": "1.2.0",
       "_view_name": "LayoutView",
       "align_content": null,
       "align_items": null,
       "align_self": null,
       "border": null,
       "bottom": null,
       "display": null,
       "flex": null,
       "flex_flow": null,
       "grid_area": null,
       "grid_auto_columns": null,
       "grid_auto_flow": null,
       "grid_auto_rows": null,
       "grid_column": null,
       "grid_gap": null,
       "grid_row": null,
       "grid_template_areas": null,
       "grid_template_columns": null,
       "grid_template_rows": null,
       "height": null,
       "justify_content": null,
       "justify_items": null,
       "left": null,
       "margin": null,
       "max_height": null,
       "max_width": null,
       "min_height": null,
       "min_width": null,
       "object_fit": null,
       "object_position": null,
       "order": null,
       "overflow": null,
       "overflow_x": null,
       "overflow_y": null,
       "padding": null,
       "right": null,
       "top": null,
       "visibility": null,
       "width": "200px"
      }
     },
     "478be105c3114484a33c4ae9380829ed": {
      "buffers": [
       {
        "data": "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",
        "encoding": "base64",
        "path": [
         "x",
         "value"
        ]
       },
       {
        "data": "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",
        "encoding": "base64",
        "path": [
         "y",
         "value"
        ]
       }
      ],
      "model_module": "bqplot",
      "model_module_version": "^0.5.0",
      "model_name": "LinesModel",
      "state": {
       "_model_module": "bqplot",
       "_model_module_version": "^0.5.0",
       "_model_name": "LinesModel",
       "_view_count": null,
       "_view_module": "bqplot",
       "_view_module_version": "^0.5.0",
       "_view_name": "Lines",
       "apply_clip": true,
       "close_path": false,
       "color": null,
       "colors": [
        "red"
       ],
       "curves_subset": [],
       "display_legend": true,
       "enable_hover": true,
       "fill": "none",
       "fill_colors": [],
       "fill_opacities": [],
       "interactions": {
        "hover": "tooltip"
       },
       "interpolation": "linear",
       "labels": [
        "Parent"
       ],
       "labels_visibility": "none",
       "line_style": "solid",
       "marker": null,
       "marker_size": 64,
       "opacities": [],
       "preserve_domain": {},
       "scales": {
        "x": "IPY_MODEL_a3834883f07443be88066a0a7b946b04",
        "y": "IPY_MODEL_fc1390c33c924117bc55e5fe3b405660"
       },
       "scales_metadata": {
        "color": {
         "dimension": "color"
        },
        "x": {
         "dimension": "x",
         "orientation": "horizontal"
        },
        "y": {
         "dimension": "y",
         "orientation": "vertical"
        }
       },
       "selected": null,
       "selected_style": {},
       "stroke_width": 2.0,
       "tooltip": null,
       "tooltip_location": "mouse",
       "tooltip_style": {
        "opacity": 0.9
       },
       "unselected_style": {},
       "visible": true,
       "x": {
        "dtype": "float64",
        "shape": [
         901
        ],
        "type": null
       },
       "y": {
        "dtype": "int32",
        "shape": [
         901
        ],
        "type": null
       }
      }
     },
     "4849271d12d445efb6eb2493cabf3d92": {
      "model_module": "@jupyter-widgets/controls",
      "model_module_version": "1.5.0",
      "model_name": "DescriptionStyleModel",
      "state": {
       "_model_module": "@jupyter-widgets/controls",
       "_model_module_version": "1.5.0",
       "_model_name": "DescriptionStyleModel",
       "_view_count": null,
       "_view_module": "@jupyter-widgets/base",
       "_view_module_version": "1.2.0",
       "_view_name": "StyleView",
       "description_width": ""
      }
     },
     "49d35da0ca82481b86e3e17a979e0f5c": {
      "model_module": "@jupyter-widgets/base",
      "model_module_version": "1.2.0",
      "model_name": "LayoutModel",
      "state": {
       "_model_module": "@jupyter-widgets/base",
       "_model_module_version": "1.2.0",
       "_model_name": "LayoutModel",
       "_view_count": null,
       "_view_module": "@jupyter-widgets/base",
       "_view_module_version": "1.2.0",
       "_view_name": "LayoutView",
       "align_content": "center",
       "align_items": "center",
       "align_self": null,
       "border": null,
       "bottom": null,
       "display": null,
       "flex": null,
       "flex_flow": null,
       "grid_area": null,
       "grid_auto_columns": null,
       "grid_auto_flow": null,
       "grid_auto_rows": null,
       "grid_column": null,
       "grid_gap": null,
       "grid_row": null,
       "grid_template_areas": null,
       "grid_template_columns": null,
       "grid_template_rows": null,
       "height": "50px",
       "justify_content": "center",
       "justify_items": null,
       "left": null,
       "margin": null,
       "max_height": "75px",
       "max_width": "100px",
       "min_height": "50px",
       "min_width": "50px",
       "object_fit": null,
       "object_position": null,
       "order": null,
       "overflow": null,
       "overflow_x": null,
       "overflow_y": null,
       "padding": null,
       "right": null,
       "top": null,
       "visibility": null,
       "width": "100px"
      }
     },
     "4a000d0739eb40b493bed2b2df471143": {
      "model_module": "@jupyter-widgets/controls",
      "model_module_version": "1.5.0",
      "model_name": "DescriptionStyleModel",
      "state": {
       "_model_module": "@jupyter-widgets/controls",
       "_model_module_version": "1.5.0",
       "_model_name": "DescriptionStyleModel",
       "_view_count": null,
       "_view_module": "@jupyter-widgets/base",
       "_view_module_version": "1.2.0",
       "_view_name": "StyleView",
       "description_width": ""
      }
     },
     "4e5040de16af40eebb9b45f5d5a5d45c": {
      "model_module": "@jupyter-widgets/controls",
      "model_module_version": "1.5.0",
      "model_name": "LabelModel",
      "state": {
       "_dom_classes": [],
       "_model_module": "@jupyter-widgets/controls",
       "_model_module_version": "1.5.0",
       "_model_name": "LabelModel",
       "_view_count": null,
       "_view_module": "@jupyter-widgets/controls",
       "_view_module_version": "1.5.0",
       "_view_name": "LabelView",
       "description": "",
       "description_tooltip": null,
       "layout": "IPY_MODEL_c8b2fe2d41d84f94a48c4e444fa59577",
       "placeholder": "​",
       "style": "IPY_MODEL_810573618c364677a8e79cb73ce39565",
       "value": "Daughter produced"
      }
     },
     "4f87d24d415b494d840ae905430a6091": {
      "model_module": "bqplot",
      "model_module_version": "^0.5.0",
      "model_name": "LinearScaleModel",
      "state": {
       "_model_module": "bqplot",
       "_model_module_version": "^0.5.0",
       "_model_name": "LinearScaleModel",
       "_view_count": null,
       "_view_module": "bqplot",
       "_view_module_version": "^0.5.0",
       "_view_name": "LinearScale",
       "allow_padding": false,
       "max": 1.0,
       "mid_range": 0.8,
       "min": 0.0,
       "min_range": 0.6,
       "reverse": false,
       "stabilized": false
      }
     },
     "526a3e3e53f7427980da4dd4019e7ed6": {
      "model_module": "bqplot",
      "model_module_version": "^0.5.0",
      "model_name": "LinearScaleModel",
      "state": {
       "_model_module": "bqplot",
       "_model_module_version": "^0.5.0",
       "_model_name": "LinearScaleModel",
       "_view_count": null,
       "_view_module": "bqplot",
       "_view_module_version": "^0.5.0",
       "_view_name": "LinearScale",
       "allow_padding": true,
       "max": 1.0,
       "mid_range": 0.8,
       "min": 0.0,
       "min_range": 0.6,
       "reverse": false,
       "stabilized": false
      }
     },
     "54e489d47ed4493088374f95a80e4be4": {
      "model_module": "@jupyter-widgets/controls",
      "model_module_version": "1.5.0",
      "model_name": "SliderStyleModel",
      "state": {
       "_model_module": "@jupyter-widgets/controls",
       "_model_module_version": "1.5.0",
       "_model_name": "SliderStyleModel",
       "_view_count": null,
       "_view_module": "@jupyter-widgets/base",
       "_view_module_version": "1.2.0",
       "_view_name": "StyleView",
       "description_width": "",
       "handle_color": null
      }
     },
     "54f9e5c62320455cb47c94ccbb1a1a0d": {
      "model_module": "@jupyter-widgets/controls",
      "model_module_version": "1.5.0",
      "model_name": "DescriptionStyleModel",
      "state": {
       "_model_module": "@jupyter-widgets/controls",
       "_model_module_version": "1.5.0",
       "_model_name": "DescriptionStyleModel",
       "_view_count": null,
       "_view_module": "@jupyter-widgets/base",
       "_view_module_version": "1.2.0",
       "_view_name": "StyleView",
       "description_width": "initial"
      }
     },
     "57ffad82c76f4dabbc726d8ba21ed435": {
      "model_module": "@jupyter-widgets/controls",
      "model_module_version": "1.5.0",
      "model_name": "DescriptionStyleModel",
      "state": {
       "_model_module": "@jupyter-widgets/controls",
       "_model_module_version": "1.5.0",
       "_model_name": "DescriptionStyleModel",
       "_view_count": null,
       "_view_module": "@jupyter-widgets/base",
       "_view_module_version": "1.2.0",
       "_view_name": "StyleView",
       "description_width": ""
      }
     },
     "5dc54bb9d96a438ab048b138c6cdcc63": {
      "model_module": "bqplot",
      "model_module_version": "^0.5.0",
      "model_name": "AxisModel",
      "state": {
       "_model_module": "bqplot",
       "_model_module_version": "^0.5.0",
       "_model_name": "AxisModel",
       "_view_count": null,
       "_view_module": "bqplot",
       "_view_module_version": "^0.5.0",
       "_view_name": "Axis",
       "color": null,
       "grid_color": null,
       "grid_lines": "solid",
       "label": "",
       "label_color": null,
       "label_location": "middle",
       "label_offset": null,
       "num_ticks": 0,
       "offset": {},
       "orientation": "horizontal",
       "scale": "IPY_MODEL_63c546442c5245b5969f97d43ea78ad5",
       "side": null,
       "tick_format": null,
       "tick_rotate": 0,
       "tick_style": {},
       "tick_values": null,
       "visible": true
      }
     },
     "5f5a08c4bd184c6e9b581e2533902e33": {
      "model_module": "@jupyter-widgets/base",
      "model_module_version": "1.2.0",
      "model_name": "LayoutModel",
      "state": {
       "_model_module": "@jupyter-widgets/base",
       "_model_module_version": "1.2.0",
       "_model_name": "LayoutModel",
       "_view_count": null,
       "_view_module": "@jupyter-widgets/base",
       "_view_module_version": "1.2.0",
       "_view_name": "LayoutView",
       "align_content": null,
       "align_items": null,
       "align_self": null,
       "border": null,
       "bottom": null,
       "display": null,
       "flex": null,
       "flex_flow": null,
       "grid_area": null,
       "grid_auto_columns": null,
       "grid_auto_flow": null,
       "grid_auto_rows": null,
       "grid_column": null,
       "grid_gap": null,
       "grid_row": null,
       "grid_template_areas": null,
       "grid_template_columns": null,
       "grid_template_rows": null,
       "height": null,
       "justify_content": null,
       "justify_items": null,
       "left": null,
       "margin": null,
       "max_height": null,
       "max_width": null,
       "min_height": null,
       "min_width": null,
       "object_fit": null,
       "object_position": null,
       "order": null,
       "overflow": null,
       "overflow_x": null,
       "overflow_y": null,
       "padding": null,
       "right": null,
       "top": null,
       "visibility": null,
       "width": null
      }
     },
     "6034f0ec739143e88dc42df91c47c890": {
      "buffers": [
       {
        "data": "AAAAAAAA8D8=",
        "encoding": "base64",
        "path": [
         "default_opacities",
         "value"
        ]
       },
       {
        "data": "3A2XeukiwD+vqcug9vvBP1HhYpr4qNA/V29BnJGs1z8=",
        "encoding": "base64",
        "path": [
         "x",
         "value"
        ]
       },
       {
        "data": "YZvl5b3z4D9hm+XlvfPgP2Gb5eW98+A/YZvl5b3z4D8=",
        "encoding": "base64",
        "path": [
         "y",
         "value"
        ]
       }
      ],
      "model_module": "bqplot",
      "model_module_version": "^0.5.0",
      "model_name": "ScatterModel",
      "state": {
       "_model_module": "bqplot",
       "_model_module_version": "^0.5.0",
       "_model_name": "ScatterModel",
       "_view_count": null,
       "_view_module": "bqplot",
       "_view_module_version": "^0.5.0",
       "_view_name": "Scatter",
       "apply_clip": true,
       "color": null,
       "colors": [
        "white"
       ],
       "default_opacities": {
        "dtype": "float64",
        "shape": [
         1
        ],
        "type": null
       },
       "default_size": 64,
       "default_skew": 0.5,
       "display_legend": false,
       "display_names": true,
       "drag_color": null,
       "drag_size": 5.0,
       "enable_delete": false,
       "enable_hover": true,
       "enable_move": false,
       "fill": true,
       "hovered_point": null,
       "hovered_style": {},
       "interactions": {
        "hover": "tooltip"
       },
       "labels": [
        "Initial Isochron"
       ],
       "marker": "circle",
       "names": null,
       "names_unique": true,
       "opacity": null,
       "preserve_domain": {},
       "restrict_x": false,
       "restrict_y": false,
       "rotation": null,
       "scales": {
        "x": "IPY_MODEL_cb6f87fc2e70478ca28d5c77c0502881",
        "y": "IPY_MODEL_297b1a6faac74fa18ac2e935fec4e31e"
       },
       "scales_metadata": {
        "color": {
         "dimension": "color"
        },
        "opacity": {
         "dimension": "opacity"
        },
        "rotation": {
         "dimension": "rotation"
        },
        "size": {
         "dimension": "size"
        },
        "skew": {
         "dimension": "skew"
        },
        "x": {
         "dimension": "x",
         "orientation": "horizontal"
        },
        "y": {
         "dimension": "y",
         "orientation": "vertical"
        }
       },
       "selected": null,
       "selected_style": {},
       "size": null,
       "skew": null,
       "stroke": "red",
       "stroke_width": 1.5,
       "tooltip": null,
       "tooltip_location": "mouse",
       "tooltip_style": {
        "opacity": 0.9
       },
       "unhovered_style": {},
       "unselected_style": {},
       "update_on_move": false,
       "visible": true,
       "x": {
        "dtype": "float64",
        "shape": [
         4
        ],
        "type": null
       },
       "y": {
        "dtype": "float64",
        "shape": [
         4
        ],
        "type": null
       }
      }
     },
     "605a9e0f150b4868835d12f0a692a34e": {
      "model_module": "bqplot",
      "model_module_version": "^0.5.0",
      "model_name": "FigureModel",
      "state": {
       "_dom_classes": [],
       "_model_module": "bqplot",
       "_model_module_version": "^0.5.0",
       "_model_name": "FigureModel",
       "_view_count": null,
       "_view_module": "bqplot",
       "_view_module_version": "^0.5.0",
       "_view_name": "Figure",
       "animation_duration": 0,
       "axes": [
        "IPY_MODEL_5dc54bb9d96a438ab048b138c6cdcc63",
        "IPY_MODEL_bd24155564194095b1589bd6433487c5"
       ],
       "background_style": {
        "fill": "black"
       },
       "fig_margin": {
        "bottom": 60,
        "left": 60,
        "right": 60,
        "top": 60
       },
       "interaction": null,
       "layout": "IPY_MODEL_87aca88dada94e7d89484f35b34608e8",
       "legend_location": "top-right",
       "legend_style": {},
       "legend_text": {},
       "marks": [
        "IPY_MODEL_3e5280326bca4e0fb45b2fc95a26c3ef"
       ],
       "max_aspect_ratio": 1.0,
       "min_aspect_ratio": 1.0,
       "padding_x": 0.025,
       "padding_y": 0.025,
       "pixel_ratio": null,
       "scale_x": "IPY_MODEL_fde07c7fef214167a32938859787fb96",
       "scale_y": "IPY_MODEL_7248d857f78a41178b30d2f7983a3864",
       "theme": "classic",
       "title": "Population of Atoms",
       "title_style": {}
      }
     },
     "63c546442c5245b5969f97d43ea78ad5": {
      "model_module": "bqplot",
      "model_module_version": "^0.5.0",
      "model_name": "LinearScaleModel",
      "state": {
       "_model_module": "bqplot",
       "_model_module_version": "^0.5.0",
       "_model_name": "LinearScaleModel",
       "_view_count": null,
       "_view_module": "bqplot",
       "_view_module_version": "^0.5.0",
       "_view_name": "LinearScale",
       "allow_padding": true,
       "max": 30.0,
       "mid_range": 0.8,
       "min": 1.0,
       "min_range": 0.6,
       "reverse": false,
       "stabilized": false
      }
     },
     "663586baf90c41499cb92122d156c9fc": {
      "model_module": "@jupyter-widgets/base",
      "model_module_version": "1.2.0",
      "model_name": "LayoutModel",
      "state": {
       "_model_module": "@jupyter-widgets/base",
       "_model_module_version": "1.2.0",
       "_model_name": "LayoutModel",
       "_view_count": null,
       "_view_module": "@jupyter-widgets/base",
       "_view_module_version": "1.2.0",
       "_view_name": "LayoutView",
       "align_content": null,
       "align_items": null,
       "align_self": null,
       "border": null,
       "bottom": null,
       "display": null,
       "flex": null,
       "flex_flow": null,
       "grid_area": null,
       "grid_auto_columns": null,
       "grid_auto_flow": null,
       "grid_auto_rows": null,
       "grid_column": null,
       "grid_gap": null,
       "grid_row": null,
       "grid_template_areas": null,
       "grid_template_columns": null,
       "grid_template_rows": null,
       "height": null,
       "justify_content": null,
       "justify_items": null,
       "left": null,
       "margin": null,
       "max_height": null,
       "max_width": null,
       "min_height": null,
       "min_width": null,
       "object_fit": null,
       "object_position": null,
       "order": null,
       "overflow": null,
       "overflow_x": null,
       "overflow_y": null,
       "padding": null,
       "right": null,
       "top": null,
       "visibility": null,
       "width": "900px"
      }
     },
     "66979baa73ce4c85b5aace12bd9ec394": {
      "model_module": "@jupyter-widgets/controls",
      "model_module_version": "1.5.0",
      "model_name": "CheckboxModel",
      "state": {
       "_dom_classes": [],
       "_model_module": "@jupyter-widgets/controls",
       "_model_module_version": "1.5.0",
       "_model_name": "CheckboxModel",
       "_view_count": null,
       "_view_module": "@jupyter-widgets/controls",
       "_view_module_version": "1.5.0",
       "_view_name": "CheckboxView",
       "description": "Display as fraction of atoms",
       "description_tooltip": null,
       "disabled": false,
       "indent": true,
       "layout": "IPY_MODEL_27ca9f9b36f9452685ac65e712657e58",
       "style": "IPY_MODEL_c1781f86cdb6457eb5337219a8b090e9",
       "value": false
      }
     },
     "67a217b5ec25485c813613a44a7b351f": {
      "buffers": [
       {
        "data": "AAAAAAAA8D8=",
        "encoding": "base64",
        "path": [
         "default_opacities",
         "value"
        ]
       },
       {
        "data": "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",
        "encoding": "base64",
        "path": [
         "x",
         "value"
        ]
       },
       {
        "data": "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",
        "encoding": "base64",
        "path": [
         "y",
         "value"
        ]
       }
      ],
      "model_module": "bqplot",
      "model_module_version": "^0.5.0",
      "model_name": "ScatterModel",
      "state": {
       "_model_module": "bqplot",
       "_model_module_version": "^0.5.0",
       "_model_name": "ScatterModel",
       "_view_count": null,
       "_view_module": "bqplot",
       "_view_module_version": "^0.5.0",
       "_view_name": "Scatter",
       "apply_clip": true,
       "color": null,
       "colors": [
        "red"
       ],
       "default_opacities": {
        "dtype": "float64",
        "shape": [
         1
        ],
        "type": null
       },
       "default_size": 2,
       "default_skew": 0.5,
       "display_legend": false,
       "display_names": true,
       "drag_color": null,
       "drag_size": 5.0,
       "enable_delete": false,
       "enable_hover": true,
       "enable_move": false,
       "fill": true,
       "hovered_point": null,
       "hovered_style": {},
       "interactions": {
        "hover": "tooltip"
       },
       "labels": [
        "Parent"
       ],
       "marker": "circle",
       "names": null,
       "names_unique": true,
       "opacity": null,
       "preserve_domain": {},
       "restrict_x": false,
       "restrict_y": false,
       "rotation": null,
       "scales": {
        "x": "IPY_MODEL_a3834883f07443be88066a0a7b946b04",
        "y": "IPY_MODEL_fc1390c33c924117bc55e5fe3b405660"
       },
       "scales_metadata": {
        "color": {
         "dimension": "color"
        },
        "opacity": {
         "dimension": "opacity"
        },
        "rotation": {
         "dimension": "rotation"
        },
        "size": {
         "dimension": "size"
        },
        "skew": {
         "dimension": "skew"
        },
        "x": {
         "dimension": "x",
         "orientation": "horizontal"
        },
        "y": {
         "dimension": "y",
         "orientation": "vertical"
        }
       },
       "selected": null,
       "selected_style": {},
       "size": null,
       "skew": null,
       "stroke": null,
       "stroke_width": 1.5,
       "tooltip": "IPY_MODEL_aed831e95bcc4966966e4e4791c42f26",
       "tooltip_location": "mouse",
       "tooltip_style": {
        "opacity": 0.9
       },
       "unhovered_style": {},
       "unselected_style": {},
       "update_on_move": false,
       "visible": true,
       "x": {
        "dtype": "float64",
        "shape": [
         901
        ],
        "type": null
       },
       "y": {
        "dtype": "int32",
        "shape": [
         901
        ],
        "type": null
       }
      }
     },
     "68313d52eb2e4215829227ca26392463": {
      "model_module": "@jupyter-widgets/controls",
      "model_module_version": "1.5.0",
      "model_name": "LabelModel",
      "state": {
       "_dom_classes": [],
       "_model_module": "@jupyter-widgets/controls",
       "_model_module_version": "1.5.0",
       "_model_name": "LabelModel",
       "_view_count": null,
       "_view_module": "@jupyter-widgets/controls",
       "_view_module_version": "1.5.0",
       "_view_name": "LabelView",
       "description": "",
       "description_tooltip": null,
       "layout": "IPY_MODEL_49d35da0ca82481b86e3e17a979e0f5c",
       "placeholder": "​",
       "style": "IPY_MODEL_4a000d0739eb40b493bed2b2df471143",
       "value": "Slope: 0.0000"
      }
     },
     "6b6cb59064584879bd53de9109503c7d": {
      "model_module": "@jupyter-widgets/base",
      "model_module_version": "1.2.0",
      "model_name": "LayoutModel",
      "state": {
       "_model_module": "@jupyter-widgets/base",
       "_model_module_version": "1.2.0",
       "_model_name": "LayoutModel",
       "_view_count": null,
       "_view_module": "@jupyter-widgets/base",
       "_view_module_version": "1.2.0",
       "_view_name": "LayoutView",
       "align_content": null,
       "align_items": null,
       "align_self": null,
       "border": null,
       "bottom": null,
       "display": null,
       "flex": null,
       "flex_flow": null,
       "grid_area": null,
       "grid_auto_columns": null,
       "grid_auto_flow": null,
       "grid_auto_rows": null,
       "grid_column": null,
       "grid_gap": null,
       "grid_row": null,
       "grid_template_areas": null,
       "grid_template_columns": null,
       "grid_template_rows": null,
       "height": "75px",
       "justify_content": null,
       "justify_items": null,
       "left": null,
       "margin": null,
       "max_height": "100px",
       "max_width": "300px",
       "min_height": "50px",
       "min_width": "100px",
       "object_fit": null,
       "object_position": null,
       "order": null,
       "overflow": null,
       "overflow_x": null,
       "overflow_y": null,
       "padding": null,
       "right": null,
       "top": null,
       "visibility": null,
       "width": "200px"
      }
     },
     "7248d857f78a41178b30d2f7983a3864": {
      "model_module": "bqplot",
      "model_module_version": "^0.5.0",
      "model_name": "LinearScaleModel",
      "state": {
       "_model_module": "bqplot",
       "_model_module_version": "^0.5.0",
       "_model_name": "LinearScaleModel",
       "_view_count": null,
       "_view_module": "bqplot",
       "_view_module_version": "^0.5.0",
       "_view_name": "LinearScale",
       "allow_padding": false,
       "max": 1.0,
       "mid_range": 0.8,
       "min": 0.0,
       "min_range": 0.6,
       "reverse": false,
       "stabilized": false
      }
     },
     "73ab1aa4bab04a828d448168e47a2e35": {
      "model_module": "@jupyter-widgets/controls",
      "model_module_version": "1.5.0",
      "model_name": "HBoxModel",
      "state": {
       "_dom_classes": [],
       "_model_module": "@jupyter-widgets/controls",
       "_model_module_version": "1.5.0",
       "_model_name": "HBoxModel",
       "_view_count": null,
       "_view_module": "@jupyter-widgets/controls",
       "_view_module_version": "1.5.0",
       "_view_name": "HBoxView",
       "box_style": "",
       "children": [
        "IPY_MODEL_d30f66b7f5e14855b2c42c3f935c576a",
        "IPY_MODEL_605a9e0f150b4868835d12f0a692a34e"
       ],
       "layout": "IPY_MODEL_1940c73fd62040eb95be04606e5e8a86"
      }
     },
     "75a680d7296d4fd08028b71a42629dd0": {
      "model_module": "@jupyter-widgets/controls",
      "model_module_version": "1.5.0",
      "model_name": "VBoxModel",
      "state": {
       "_dom_classes": [],
       "_model_module": "@jupyter-widgets/controls",
       "_model_module_version": "1.5.0",
       "_model_name": "VBoxModel",
       "_view_count": null,
       "_view_module": "@jupyter-widgets/controls",
       "_view_module_version": "1.5.0",
       "_view_name": "VBoxView",
       "box_style": "",
       "children": [
        "IPY_MODEL_9eab0fa7a3e34f5ab47db269da1aad0a",
        "IPY_MODEL_66979baa73ce4c85b5aace12bd9ec394"
       ],
       "layout": "IPY_MODEL_b9a480ab89344c18a18b5e717b3fc4ab"
      }
     },
     "75f608e4d5c34272b12ef956d4296b47": {
      "model_module": "@jupyter-widgets/base",
      "model_module_version": "1.2.0",
      "model_name": "LayoutModel",
      "state": {
       "_model_module": "@jupyter-widgets/base",
       "_model_module_version": "1.2.0",
       "_model_name": "LayoutModel",
       "_view_count": null,
       "_view_module": "@jupyter-widgets/base",
       "_view_module_version": "1.2.0",
       "_view_name": "LayoutView",
       "align_content": null,
       "align_items": null,
       "align_self": null,
       "border": null,
       "bottom": null,
       "display": null,
       "flex": null,
       "flex_flow": null,
       "grid_area": null,
       "grid_auto_columns": null,
       "grid_auto_flow": null,
       "grid_auto_rows": null,
       "grid_column": null,
       "grid_gap": null,
       "grid_row": null,
       "grid_template_areas": null,
       "grid_template_columns": null,
       "grid_template_rows": null,
       "height": null,
       "justify_content": null,
       "justify_items": null,
       "left": null,
       "margin": null,
       "max_height": null,
       "max_width": null,
       "min_height": null,
       "min_width": null,
       "object_fit": null,
       "object_position": null,
       "order": null,
       "overflow": null,
       "overflow_x": null,
       "overflow_y": null,
       "padding": null,
       "right": null,
       "top": null,
       "visibility": null,
       "width": null
      }
     },
     "797fad1193e14c4d80ca553ee7d17358": {
      "model_module": "bqplot",
      "model_module_version": "^0.5.0",
      "model_name": "AxisModel",
      "state": {
       "_model_module": "bqplot",
       "_model_module_version": "^0.5.0",
       "_model_name": "AxisModel",
       "_view_count": null,
       "_view_module": "bqplot",
       "_view_module_version": "^0.5.0",
       "_view_name": "Axis",
       "color": null,
       "grid_color": null,
       "grid_lines": "solid",
       "label": "D / D_i",
       "label_color": null,
       "label_location": "middle",
       "label_offset": null,
       "num_ticks": null,
       "offset": {},
       "orientation": "vertical",
       "scale": "IPY_MODEL_297b1a6faac74fa18ac2e935fec4e31e",
       "side": null,
       "tick_format": null,
       "tick_rotate": 0,
       "tick_style": {},
       "tick_values": null,
       "visible": true
      }
     },
     "7ddb920565b54568bdae5ecd5c2ab15f": {
      "model_module": "@jupyter-widgets/controls",
      "model_module_version": "1.5.0",
      "model_name": "DescriptionStyleModel",
      "state": {
       "_model_module": "@jupyter-widgets/controls",
       "_model_module_version": "1.5.0",
       "_model_name": "DescriptionStyleModel",
       "_view_count": null,
       "_view_module": "@jupyter-widgets/base",
       "_view_module_version": "1.2.0",
       "_view_name": "StyleView",
       "description_width": ""
      }
     },
     "801af98f30da414997193ed8358709e7": {
      "model_module": "@jupyter-widgets/base",
      "model_module_version": "1.2.0",
      "model_name": "LayoutModel",
      "state": {
       "_model_module": "@jupyter-widgets/base",
       "_model_module_version": "1.2.0",
       "_model_name": "LayoutModel",
       "_view_count": null,
       "_view_module": "@jupyter-widgets/base",
       "_view_module_version": "1.2.0",
       "_view_name": "LayoutView",
       "align_content": null,
       "align_items": null,
       "align_self": null,
       "border": null,
       "bottom": null,
       "display": null,
       "flex": null,
       "flex_flow": null,
       "grid_area": null,
       "grid_auto_columns": null,
       "grid_auto_flow": null,
       "grid_auto_rows": null,
       "grid_column": null,
       "grid_gap": null,
       "grid_row": null,
       "grid_template_areas": null,
       "grid_template_columns": null,
       "grid_template_rows": null,
       "height": "75px",
       "justify_content": null,
       "justify_items": null,
       "left": null,
       "margin": null,
       "max_height": "100px",
       "max_width": "300px",
       "min_height": "50px",
       "min_width": "100px",
       "object_fit": null,
       "object_position": null,
       "order": null,
       "overflow": null,
       "overflow_x": null,
       "overflow_y": null,
       "padding": null,
       "right": null,
       "top": null,
       "visibility": null,
       "width": "200px"
      }
     },
     "810573618c364677a8e79cb73ce39565": {
      "model_module": "@jupyter-widgets/controls",
      "model_module_version": "1.5.0",
      "model_name": "DescriptionStyleModel",
      "state": {
       "_model_module": "@jupyter-widgets/controls",
       "_model_module_version": "1.5.0",
       "_model_name": "DescriptionStyleModel",
       "_view_count": null,
       "_view_module": "@jupyter-widgets/base",
       "_view_module_version": "1.2.0",
       "_view_name": "StyleView",
       "description_width": ""
      }
     },
     "84ebef763f554ea897e1970b36391728": {
      "model_module": "@jupyter-widgets/base",
      "model_module_version": "1.2.0",
      "model_name": "LayoutModel",
      "state": {
       "_model_module": "@jupyter-widgets/base",
       "_model_module_version": "1.2.0",
       "_model_name": "LayoutModel",
       "_view_count": null,
       "_view_module": "@jupyter-widgets/base",
       "_view_module_version": "1.2.0",
       "_view_name": "LayoutView",
       "align_content": null,
       "align_items": null,
       "align_self": null,
       "border": null,
       "bottom": null,
       "display": null,
       "flex": null,
       "flex_flow": null,
       "grid_area": null,
       "grid_auto_columns": null,
       "grid_auto_flow": null,
       "grid_auto_rows": null,
       "grid_column": null,
       "grid_gap": null,
       "grid_row": null,
       "grid_template_areas": null,
       "grid_template_columns": null,
       "grid_template_rows": null,
       "height": null,
       "justify_content": null,
       "justify_items": null,
       "left": null,
       "margin": null,
       "max_height": null,
       "max_width": null,
       "min_height": null,
       "min_width": null,
       "object_fit": null,
       "object_position": null,
       "order": null,
       "overflow": null,
       "overflow_x": null,
       "overflow_y": null,
       "padding": null,
       "right": null,
       "top": null,
       "visibility": null,
       "width": null
      }
     },
     "864ae4d5ec8e490cbf3a544949e382d1": {
      "model_module": "@jupyter-widgets/controls",
      "model_module_version": "1.5.0",
      "model_name": "DescriptionStyleModel",
      "state": {
       "_model_module": "@jupyter-widgets/controls",
       "_model_module_version": "1.5.0",
       "_model_name": "DescriptionStyleModel",
       "_view_count": null,
       "_view_module": "@jupyter-widgets/base",
       "_view_module_version": "1.2.0",
       "_view_name": "StyleView",
       "description_width": ""
      }
     },
     "87aca88dada94e7d89484f35b34608e8": {
      "model_module": "@jupyter-widgets/base",
      "model_module_version": "1.2.0",
      "model_name": "LayoutModel",
      "state": {
       "_model_module": "@jupyter-widgets/base",
       "_model_module_version": "1.2.0",
       "_model_name": "LayoutModel",
       "_view_count": null,
       "_view_module": "@jupyter-widgets/base",
       "_view_module_version": "1.2.0",
       "_view_name": "LayoutView",
       "align_content": null,
       "align_items": null,
       "align_self": null,
       "border": null,
       "bottom": null,
       "display": null,
       "flex": null,
       "flex_flow": null,
       "grid_area": null,
       "grid_auto_columns": null,
       "grid_auto_flow": null,
       "grid_auto_rows": null,
       "grid_column": null,
       "grid_gap": null,
       "grid_row": null,
       "grid_template_areas": null,
       "grid_template_columns": null,
       "grid_template_rows": null,
       "height": null,
       "justify_content": null,
       "justify_items": null,
       "left": null,
       "margin": null,
       "max_height": null,
       "max_width": null,
       "min_height": null,
       "min_width": null,
       "object_fit": null,
       "object_position": null,
       "order": null,
       "overflow": null,
       "overflow_x": null,
       "overflow_y": null,
       "padding": null,
       "right": null,
       "top": null,
       "visibility": null,
       "width": "450px"
      }
     },
     "87c8317f3fc74857a6a14478e9c59a03": {
      "model_module": "@jupyter-widgets/controls",
      "model_module_version": "1.5.0",
      "model_name": "HBoxModel",
      "state": {
       "_dom_classes": [],
       "_model_module": "@jupyter-widgets/controls",
       "_model_module_version": "1.5.0",
       "_model_name": "HBoxModel",
       "_view_count": null,
       "_view_module": "@jupyter-widgets/controls",
       "_view_module_version": "1.5.0",
       "_view_name": "HBoxView",
       "box_style": "",
       "children": [
        "IPY_MODEL_4e5040de16af40eebb9b45f5d5a5d45c",
        "IPY_MODEL_a17c25038dab4f27878492d00f2df7a8"
       ],
       "layout": "IPY_MODEL_a7122c35043b4970a8d6e3b16670934f"
      }
     },
     "87ebed59c94f4b5785ea54c48a6e7893": {
      "model_module": "@jupyter-widgets/controls",
      "model_module_version": "1.5.0",
      "model_name": "LabelModel",
      "state": {
       "_dom_classes": [],
       "_model_module": "@jupyter-widgets/controls",
       "_model_module_version": "1.5.0",
       "_model_name": "LabelModel",
       "_view_count": null,
       "_view_module": "@jupyter-widgets/controls",
       "_view_module_version": "1.5.0",
       "_view_name": "LabelView",
       "description": "",
       "description_tooltip": null,
       "layout": "IPY_MODEL_75f608e4d5c34272b12ef956d4296b47",
       "placeholder": "​",
       "style": "IPY_MODEL_14829bd426a74335a5fa6507a2785039",
       "value": "half-lives"
      }
     },
     "88aa45d6f01e4ad4846e75153cd03481": {
      "buffers": [
       {
        "data": "AAAAAAAAAAA=",
        "encoding": "base64",
        "path": [
         "x",
         "value"
        ]
       },
       {
        "data": "AAAAAIQDAAA=",
        "encoding": "base64",
        "path": [
         "y",
         "value"
        ]
       }
      ],
      "model_module": "bqplot",
      "model_module_version": "^0.5.0",
      "model_name": "LinesModel",
      "state": {
       "_model_module": "bqplot",
       "_model_module_version": "^0.5.0",
       "_model_name": "LinesModel",
       "_view_count": null,
       "_view_module": "bqplot",
       "_view_module_version": "^0.5.0",
       "_view_name": "Lines",
       "apply_clip": true,
       "close_path": false,
       "color": null,
       "colors": [
        "greenyellow"
       ],
       "curves_subset": [],
       "display_legend": false,
       "enable_hover": true,
       "fill": "none",
       "fill_colors": [],
       "fill_opacities": [],
       "interactions": {
        "hover": "tooltip"
       },
       "interpolation": "linear",
       "labels": [],
       "labels_visibility": "none",
       "line_style": "solid",
       "marker": null,
       "marker_size": 64,
       "opacities": [],
       "preserve_domain": {},
       "scales": {
        "x": "IPY_MODEL_a3834883f07443be88066a0a7b946b04",
        "y": "IPY_MODEL_fc1390c33c924117bc55e5fe3b405660"
       },
       "scales_metadata": {
        "color": {
         "dimension": "color"
        },
        "x": {
         "dimension": "x",
         "orientation": "horizontal"
        },
        "y": {
         "dimension": "y",
         "orientation": "vertical"
        }
       },
       "selected": null,
       "selected_style": {},
       "stroke_width": 2.0,
       "tooltip": null,
       "tooltip_location": "mouse",
       "tooltip_style": {
        "opacity": 0.9
       },
       "unselected_style": {},
       "visible": true,
       "x": {
        "dtype": "int32",
        "shape": [
         2
        ],
        "type": null
       },
       "y": {
        "dtype": "int32",
        "shape": [
         2
        ],
        "type": null
       }
      }
     },
     "899ca8df2704476e81126c85304d2df2": {
      "model_module": "@jupyter-widgets/base",
      "model_module_version": "1.2.0",
      "model_name": "LayoutModel",
      "state": {
       "_model_module": "@jupyter-widgets/base",
       "_model_module_version": "1.2.0",
       "_model_name": "LayoutModel",
       "_view_count": null,
       "_view_module": "@jupyter-widgets/base",
       "_view_module_version": "1.2.0",
       "_view_name": "LayoutView",
       "align_content": null,
       "align_items": null,
       "align_self": null,
       "border": null,
       "bottom": null,
       "display": null,
       "flex": null,
       "flex_flow": null,
       "grid_area": null,
       "grid_auto_columns": null,
       "grid_auto_flow": null,
       "grid_auto_rows": null,
       "grid_column": null,
       "grid_gap": null,
       "grid_row": null,
       "grid_template_areas": null,
       "grid_template_columns": null,
       "grid_template_rows": null,
       "height": null,
       "justify_content": null,
       "justify_items": null,
       "left": null,
       "margin": null,
       "max_height": null,
       "max_width": null,
       "min_height": null,
       "min_width": null,
       "object_fit": null,
       "object_position": null,
       "order": null,
       "overflow": null,
       "overflow_x": "visible",
       "overflow_y": "visible",
       "padding": null,
       "right": null,
       "top": null,
       "visibility": null,
       "width": null
      }
     },
     "8e3f9ba10c9645d78008b079658bd014": {
      "model_module": "@jupyter-widgets/base",
      "model_module_version": "1.2.0",
      "model_name": "LayoutModel",
      "state": {
       "_model_module": "@jupyter-widgets/base",
       "_model_module_version": "1.2.0",
       "_model_name": "LayoutModel",
       "_view_count": null,
       "_view_module": "@jupyter-widgets/base",
       "_view_module_version": "1.2.0",
       "_view_name": "LayoutView",
       "align_content": null,
       "align_items": null,
       "align_self": null,
       "border": null,
       "bottom": null,
       "display": null,
       "flex": null,
       "flex_flow": null,
       "grid_area": null,
       "grid_auto_columns": null,
       "grid_auto_flow": null,
       "grid_auto_rows": null,
       "grid_column": null,
       "grid_gap": null,
       "grid_row": null,
       "grid_template_areas": null,
       "grid_template_columns": null,
       "grid_template_rows": null,
       "height": null,
       "justify_content": null,
       "justify_items": null,
       "left": null,
       "margin": null,
       "max_height": null,
       "max_width": null,
       "min_height": null,
       "min_width": null,
       "object_fit": null,
       "object_position": null,
       "order": null,
       "overflow": null,
       "overflow_x": null,
       "overflow_y": null,
       "padding": null,
       "right": null,
       "top": null,
       "visibility": null,
       "width": null
      }
     },
     "8ff33814e78249f0807e2164e69fd719": {
      "model_module": "bqplot",
      "model_module_version": "^0.5.0",
      "model_name": "AxisModel",
      "state": {
       "_model_module": "bqplot",
       "_model_module_version": "^0.5.0",
       "_model_name": "AxisModel",
       "_view_count": null,
       "_view_module": "bqplot",
       "_view_module_version": "^0.5.0",
       "_view_name": "Axis",
       "color": null,
       "grid_color": null,
       "grid_lines": "solid",
       "label": "P / D_i",
       "label_color": null,
       "label_location": "middle",
       "label_offset": null,
       "num_ticks": null,
       "offset": {},
       "orientation": "horizontal",
       "scale": "IPY_MODEL_cb6f87fc2e70478ca28d5c77c0502881",
       "side": null,
       "tick_format": null,
       "tick_rotate": 0,
       "tick_style": {},
       "tick_values": null,
       "visible": true
      }
     },
     "903640380bd1403ebe63bdbbb3246233": {
      "model_module": "@jupyter-widgets/controls",
      "model_module_version": "1.5.0",
      "model_name": "HBoxModel",
      "state": {
       "_dom_classes": [],
       "_model_module": "@jupyter-widgets/controls",
       "_model_module_version": "1.5.0",
       "_model_name": "HBoxModel",
       "_view_count": null,
       "_view_module": "@jupyter-widgets/controls",
       "_view_module_version": "1.5.0",
       "_view_name": "HBoxView",
       "box_style": "",
       "children": [
        "IPY_MODEL_387fbe4496cb45839fed749fbbc2c94f",
        "IPY_MODEL_75a680d7296d4fd08028b71a42629dd0"
       ],
       "layout": "IPY_MODEL_663586baf90c41499cb92122d156c9fc"
      }
     },
     "91c48cbda23e4d9ea1e68cb5f78cece9": {
      "model_module": "@jupyter-widgets/base",
      "model_module_version": "1.2.0",
      "model_name": "LayoutModel",
      "state": {
       "_model_module": "@jupyter-widgets/base",
       "_model_module_version": "1.2.0",
       "_model_name": "LayoutModel",
       "_view_count": null,
       "_view_module": "@jupyter-widgets/base",
       "_view_module_version": "1.2.0",
       "_view_name": "LayoutView",
       "align_content": null,
       "align_items": null,
       "align_self": null,
       "border": null,
       "bottom": null,
       "display": null,
       "flex": null,
       "flex_flow": null,
       "grid_area": null,
       "grid_auto_columns": null,
       "grid_auto_flow": null,
       "grid_auto_rows": null,
       "grid_column": null,
       "grid_gap": null,
       "grid_row": null,
       "grid_template_areas": null,
       "grid_template_columns": null,
       "grid_template_rows": null,
       "height": null,
       "justify_content": null,
       "justify_items": null,
       "left": null,
       "margin": null,
       "max_height": null,
       "max_width": "500px",
       "min_height": null,
       "min_width": "250px",
       "object_fit": null,
       "object_position": null,
       "order": null,
       "overflow": null,
       "overflow_x": "visible",
       "overflow_y": "visible",
       "padding": null,
       "right": null,
       "top": null,
       "visibility": null,
       "width": "400px"
      }
     },
     "92a68ab817814ddca5a970694e76b36a": {
      "model_module": "@jupyter-widgets/controls",
      "model_module_version": "1.5.0",
      "model_name": "HBoxModel",
      "state": {
       "_dom_classes": [],
       "_model_module": "@jupyter-widgets/controls",
       "_model_module_version": "1.5.0",
       "_model_name": "HBoxModel",
       "_view_count": null,
       "_view_module": "@jupyter-widgets/controls",
       "_view_module_version": "1.5.0",
       "_view_name": "HBoxView",
       "box_style": "",
       "children": [
        "IPY_MODEL_b2a45802b58a4302af68591fb9205ce0",
        "IPY_MODEL_d0b92a51dc35401bbe0431cface227bc"
       ],
       "layout": "IPY_MODEL_84ebef763f554ea897e1970b36391728"
      }
     },
     "9e82c31d568348ecbe20c7159c78a020": {
      "model_module": "bqplot",
      "model_module_version": "^0.5.0",
      "model_name": "LinearScaleModel",
      "state": {
       "_model_module": "bqplot",
       "_model_module_version": "^0.5.0",
       "_model_name": "LinearScaleModel",
       "_view_count": null,
       "_view_module": "bqplot",
       "_view_module_version": "^0.5.0",
       "_view_name": "LinearScale",
       "allow_padding": false,
       "max": 1.0,
       "mid_range": 0.8,
       "min": 0.0,
       "min_range": 0.6,
       "reverse": false,
       "stabilized": false
      }
     },
     "9eab0fa7a3e34f5ab47db269da1aad0a": {
      "model_module": "@jupyter-widgets/controls",
      "model_module_version": "1.5.0",
      "model_name": "HBoxModel",
      "state": {
       "_dom_classes": [],
       "_model_module": "@jupyter-widgets/controls",
       "_model_module_version": "1.5.0",
       "_model_name": "HBoxModel",
       "_view_count": null,
       "_view_module": "@jupyter-widgets/controls",
       "_view_module_version": "1.5.0",
       "_view_name": "HBoxView",
       "box_style": "",
       "children": [
        "IPY_MODEL_26da006e6f354297b340ce7e0482a354",
        "IPY_MODEL_d495ea87070c4d81aa30e710df4c9f3f"
       ],
       "layout": "IPY_MODEL_da545f7d33da4205a8f59b9d1ef6827c"
      }
     },
     "9f152338c196422e8ff62edda0e368bb": {
      "model_module": "@jupyter-widgets/controls",
      "model_module_version": "1.5.0",
      "model_name": "LabelModel",
      "state": {
       "_dom_classes": [],
       "_model_module": "@jupyter-widgets/controls",
       "_model_module_version": "1.5.0",
       "_model_name": "LabelModel",
       "_view_count": null,
       "_view_module": "@jupyter-widgets/controls",
       "_view_module_version": "1.5.0",
       "_view_name": "LabelView",
       "description": "",
       "description_tooltip": null,
       "layout": "IPY_MODEL_a527de24572148d4bf0f2ae2dc7c8f3b",
       "placeholder": "​",
       "style": "IPY_MODEL_864ae4d5ec8e490cbf3a544949e382d1",
       "value": "Parent remaining"
      }
     },
     "a17c25038dab4f27878492d00f2df7a8": {
      "model_module": "@jupyter-widgets/controls",
      "model_module_version": "1.5.0",
      "model_name": "TextModel",
      "state": {
       "_dom_classes": [],
       "_model_module": "@jupyter-widgets/controls",
       "_model_module_version": "1.5.0",
       "_model_name": "TextModel",
       "_view_count": null,
       "_view_module": "@jupyter-widgets/controls",
       "_view_module_version": "1.5.0",
       "_view_name": "TextView",
       "continuous_update": true,
       "description": "",
       "description_tooltip": null,
       "disabled": true,
       "layout": "IPY_MODEL_fa5976c68d574abd84a60650bdc9142e",
       "placeholder": "​",
       "style": "IPY_MODEL_54f9e5c62320455cb47c94ccbb1a1a0d",
       "value": "0"
      }
     },
     "a3834883f07443be88066a0a7b946b04": {
      "model_module": "bqplot",
      "model_module_version": "^0.5.0",
      "model_name": "LinearScaleModel",
      "state": {
       "_model_module": "bqplot",
       "_model_module_version": "^0.5.0",
       "_model_name": "LinearScaleModel",
       "_view_count": null,
       "_view_module": "bqplot",
       "_view_module_version": "^0.5.0",
       "_view_name": "LinearScale",
       "allow_padding": true,
       "max": 10.0,
       "mid_range": 0.8,
       "min": 0.0,
       "min_range": 0.6,
       "reverse": false,
       "stabilized": false
      }
     },
     "a43813ae754248dfba43b8115cdec78e": {
      "model_module": "bqplot",
      "model_module_version": "^0.5.0",
      "model_name": "LinearScaleModel",
      "state": {
       "_model_module": "bqplot",
       "_model_module_version": "^0.5.0",
       "_model_name": "LinearScaleModel",
       "_view_count": null,
       "_view_module": "bqplot",
       "_view_module_version": "^0.5.0",
       "_view_name": "LinearScale",
       "allow_padding": true,
       "max": 30.0,
       "mid_range": 0.8,
       "min": 1.0,
       "min_range": 0.6,
       "reverse": false,
       "stabilized": false
      }
     },
     "a527de24572148d4bf0f2ae2dc7c8f3b": {
      "model_module": "@jupyter-widgets/base",
      "model_module_version": "1.2.0",
      "model_name": "LayoutModel",
      "state": {
       "_model_module": "@jupyter-widgets/base",
       "_model_module_version": "1.2.0",
       "_model_name": "LayoutModel",
       "_view_count": null,
       "_view_module": "@jupyter-widgets/base",
       "_view_module_version": "1.2.0",
       "_view_name": "LayoutView",
       "align_content": null,
       "align_items": null,
       "align_self": null,
       "border": null,
       "bottom": null,
       "display": null,
       "flex": null,
       "flex_flow": null,
       "grid_area": null,
       "grid_auto_columns": null,
       "grid_auto_flow": null,
       "grid_auto_rows": null,
       "grid_column": null,
       "grid_gap": null,
       "grid_row": null,
       "grid_template_areas": null,
       "grid_template_columns": null,
       "grid_template_rows": null,
       "height": null,
       "justify_content": null,
       "justify_items": null,
       "left": null,
       "margin": null,
       "max_height": null,
       "max_width": null,
       "min_height": null,
       "min_width": null,
       "object_fit": null,
       "object_position": null,
       "order": null,
       "overflow": null,
       "overflow_x": "visible",
       "overflow_y": "visible",
       "padding": null,
       "right": null,
       "top": null,
       "visibility": null,
       "width": "200px"
      }
     },
     "a5f237b403e24ac1ae87c16bbe17df72": {
      "model_module": "@jupyter-widgets/controls",
      "model_module_version": "1.5.0",
      "model_name": "DescriptionStyleModel",
      "state": {
       "_model_module": "@jupyter-widgets/controls",
       "_model_module_version": "1.5.0",
       "_model_name": "DescriptionStyleModel",
       "_view_count": null,
       "_view_module": "@jupyter-widgets/base",
       "_view_module_version": "1.2.0",
       "_view_name": "StyleView",
       "description_width": ""
      }
     },
     "a7122c35043b4970a8d6e3b16670934f": {
      "model_module": "@jupyter-widgets/base",
      "model_module_version": "1.2.0",
      "model_name": "LayoutModel",
      "state": {
       "_model_module": "@jupyter-widgets/base",
       "_model_module_version": "1.2.0",
       "_model_name": "LayoutModel",
       "_view_count": null,
       "_view_module": "@jupyter-widgets/base",
       "_view_module_version": "1.2.0",
       "_view_name": "LayoutView",
       "align_content": null,
       "align_items": null,
       "align_self": null,
       "border": null,
       "bottom": null,
       "display": null,
       "flex": null,
       "flex_flow": null,
       "grid_area": null,
       "grid_auto_columns": null,
       "grid_auto_flow": null,
       "grid_auto_rows": null,
       "grid_column": null,
       "grid_gap": null,
       "grid_row": null,
       "grid_template_areas": null,
       "grid_template_columns": null,
       "grid_template_rows": null,
       "height": null,
       "justify_content": null,
       "justify_items": null,
       "left": null,
       "margin": null,
       "max_height": null,
       "max_width": null,
       "min_height": null,
       "min_width": null,
       "object_fit": null,
       "object_position": null,
       "order": null,
       "overflow": null,
       "overflow_x": "visible",
       "overflow_y": "visible",
       "padding": null,
       "right": null,
       "top": null,
       "visibility": null,
       "width": null
      }
     },
     "a8632c2f998b498dbb7bbc3db376ad04": {
      "model_module": "@jupyter-widgets/base",
      "model_module_version": "1.2.0",
      "model_name": "LayoutModel",
      "state": {
       "_model_module": "@jupyter-widgets/base",
       "_model_module_version": "1.2.0",
       "_model_name": "LayoutModel",
       "_view_count": null,
       "_view_module": "@jupyter-widgets/base",
       "_view_module_version": "1.2.0",
       "_view_name": "LayoutView",
       "align_content": null,
       "align_items": null,
       "align_self": null,
       "border": null,
       "bottom": null,
       "display": null,
       "flex": null,
       "flex_flow": null,
       "grid_area": null,
       "grid_auto_columns": null,
       "grid_auto_flow": null,
       "grid_auto_rows": null,
       "grid_column": null,
       "grid_gap": null,
       "grid_row": null,
       "grid_template_areas": null,
       "grid_template_columns": null,
       "grid_template_rows": null,
       "height": null,
       "justify_content": null,
       "justify_items": null,
       "left": null,
       "margin": null,
       "max_height": null,
       "max_width": null,
       "min_height": null,
       "min_width": null,
       "object_fit": null,
       "object_position": null,
       "order": null,
       "overflow": "hidden",
       "overflow_x": null,
       "overflow_y": null,
       "padding": null,
       "right": null,
       "top": null,
       "visibility": null,
       "width": null
      }
     },
     "ad4f80c3fd644988a1da16ad4c62c30d": {
      "model_module": "@jupyter-widgets/base",
      "model_module_version": "1.2.0",
      "model_name": "LayoutModel",
      "state": {
       "_model_module": "@jupyter-widgets/base",
       "_model_module_version": "1.2.0",
       "_model_name": "LayoutModel",
       "_view_count": null,
       "_view_module": "@jupyter-widgets/base",
       "_view_module_version": "1.2.0",
       "_view_name": "LayoutView",
       "align_content": null,
       "align_items": null,
       "align_self": null,
       "border": null,
       "bottom": null,
       "display": null,
       "flex": null,
       "flex_flow": null,
       "grid_area": null,
       "grid_auto_columns": null,
       "grid_auto_flow": null,
       "grid_auto_rows": null,
       "grid_column": null,
       "grid_gap": null,
       "grid_row": null,
       "grid_template_areas": null,
       "grid_template_columns": null,
       "grid_template_rows": null,
       "height": "500px",
       "justify_content": null,
       "justify_items": null,
       "left": null,
       "margin": null,
       "max_height": "500px",
       "max_width": "700px",
       "min_height": "400px",
       "min_width": "600px",
       "object_fit": null,
       "object_position": null,
       "order": null,
       "overflow": null,
       "overflow_x": null,
       "overflow_y": null,
       "padding": null,
       "right": null,
       "top": null,
       "visibility": null,
       "width": "700px"
      }
     },
     "aed831e95bcc4966966e4e4791c42f26": {
      "model_module": "bqplot",
      "model_module_version": "^0.5.0",
      "model_name": "TooltipModel",
      "state": {
       "_dom_classes": [],
       "_model_module": "bqplot",
       "_model_module_version": "^0.5.0",
       "_model_name": "TooltipModel",
       "_view_count": null,
       "_view_module": "bqplot",
       "_view_module_version": "^0.5.0",
       "_view_name": "Tooltip",
       "fields": [
        "x",
        "y"
       ],
       "formats": [
        ".2f",
        ".3f"
       ],
       "labels": [
        "time",
        "amount of parent isotope"
       ],
       "layout": "IPY_MODEL_8e3f9ba10c9645d78008b079658bd014",
       "show_labels": true
      }
     },
     "b2a45802b58a4302af68591fb9205ce0": {
      "model_module": "bqplot",
      "model_module_version": "^0.5.0",
      "model_name": "FigureModel",
      "state": {
       "_dom_classes": [],
       "_model_module": "bqplot",
       "_model_module_version": "^0.5.0",
       "_model_name": "FigureModel",
       "_view_count": null,
       "_view_module": "bqplot",
       "_view_module_version": "^0.5.0",
       "_view_name": "Figure",
       "animation_duration": 0,
       "axes": [
        "IPY_MODEL_8ff33814e78249f0807e2164e69fd719",
        "IPY_MODEL_797fad1193e14c4d80ca553ee7d17358"
       ],
       "background_style": {},
       "fig_margin": {
        "bottom": 60,
        "left": 60,
        "right": 60,
        "top": 60
       },
       "interaction": null,
       "layout": "IPY_MODEL_ad4f80c3fd644988a1da16ad4c62c30d",
       "legend_location": "top-right",
       "legend_style": {},
       "legend_text": {},
       "marks": [
        "IPY_MODEL_d2aa1dfb4d66454a904c8be7ac724f03",
        "IPY_MODEL_c9889c308efe4dd5ac8006544a854a2d",
        "IPY_MODEL_6034f0ec739143e88dc42df91c47c890",
        "IPY_MODEL_3010267d57f94e99b06e219887eebe53",
        "IPY_MODEL_babccce4752b4e2689966f95a5009c57"
       ],
       "max_aspect_ratio": 100.0,
       "min_aspect_ratio": 0.01,
       "padding_x": 0.0,
       "padding_y": 0.025,
       "pixel_ratio": null,
       "scale_x": "IPY_MODEL_9e82c31d568348ecbe20c7159c78a020",
       "scale_y": "IPY_MODEL_4f87d24d415b494d840ae905430a6091",
       "theme": "classic",
       "title": "Geochron Diagram",
       "title_style": {}
      }
     },
     "b7f3a10a6be14f7caa8fca8555342957": {
      "model_module": "@jupyter-widgets/base",
      "model_module_version": "1.2.0",
      "model_name": "LayoutModel",
      "state": {
       "_model_module": "@jupyter-widgets/base",
       "_model_module_version": "1.2.0",
       "_model_name": "LayoutModel",
       "_view_count": null,
       "_view_module": "@jupyter-widgets/base",
       "_view_module_version": "1.2.0",
       "_view_name": "LayoutView",
       "align_content": "center",
       "align_items": "center",
       "align_self": null,
       "border": null,
       "bottom": null,
       "display": null,
       "flex": null,
       "flex_flow": null,
       "grid_area": null,
       "grid_auto_columns": null,
       "grid_auto_flow": null,
       "grid_auto_rows": null,
       "grid_column": null,
       "grid_gap": null,
       "grid_row": null,
       "grid_template_areas": null,
       "grid_template_columns": null,
       "grid_template_rows": null,
       "height": "500px",
       "justify_content": "center",
       "justify_items": null,
       "left": null,
       "margin": null,
       "max_height": "500px",
       "max_width": "300px",
       "min_height": "400px",
       "min_width": "100px",
       "object_fit": null,
       "object_position": null,
       "order": null,
       "overflow": null,
       "overflow_x": "hidden",
       "overflow_y": "hidden",
       "padding": null,
       "right": null,
       "top": null,
       "visibility": null,
       "width": "300px"
      }
     },
     "b9a480ab89344c18a18b5e717b3fc4ab": {
      "model_module": "@jupyter-widgets/base",
      "model_module_version": "1.2.0",
      "model_name": "LayoutModel",
      "state": {
       "_model_module": "@jupyter-widgets/base",
       "_model_module_version": "1.2.0",
       "_model_name": "LayoutModel",
       "_view_count": null,
       "_view_module": "@jupyter-widgets/base",
       "_view_module_version": "1.2.0",
       "_view_name": "LayoutView",
       "align_content": null,
       "align_items": null,
       "align_self": null,
       "border": null,
       "bottom": null,
       "display": null,
       "flex": null,
       "flex_flow": null,
       "grid_area": null,
       "grid_auto_columns": null,
       "grid_auto_flow": null,
       "grid_auto_rows": null,
       "grid_column": null,
       "grid_gap": null,
       "grid_row": null,
       "grid_template_areas": null,
       "grid_template_columns": null,
       "grid_template_rows": null,
       "height": null,
       "justify_content": null,
       "justify_items": null,
       "left": null,
       "margin": null,
       "max_height": null,
       "max_width": null,
       "min_height": null,
       "min_width": null,
       "object_fit": null,
       "object_position": null,
       "order": null,
       "overflow": null,
       "overflow_x": null,
       "overflow_y": null,
       "padding": null,
       "right": null,
       "top": null,
       "visibility": null,
       "width": "450px"
      }
     },
     "ba350ce1de1e48ffbb01426f5bab52c2": {
      "model_module": "bqplot",
      "model_module_version": "^0.5.0",
      "model_name": "TooltipModel",
      "state": {
       "_dom_classes": [],
       "_model_module": "bqplot",
       "_model_module_version": "^0.5.0",
       "_model_name": "TooltipModel",
       "_view_count": null,
       "_view_module": "bqplot",
       "_view_module_version": "^0.5.0",
       "_view_name": "Tooltip",
       "fields": [
        "x",
        "y"
       ],
       "formats": [
        ".2f",
        ".3f"
       ],
       "labels": [
        "time",
        "amount of daughter isotope"
       ],
       "layout": "IPY_MODEL_d58384fbd5c64d35b8c0eee5549d8872",
       "show_labels": true
      }
     },
     "babccce4752b4e2689966f95a5009c57": {
      "buffers": [
       {
        "data": "AAAAAAAA8D8=",
        "encoding": "base64",
        "path": [
         "default_opacities",
         "value"
        ]
       },
       {
        "data": "3A2XeukiwD+vqcug9vvBP1HhYpr4qNA/V29BnJGs1z8=",
        "encoding": "base64",
        "path": [
         "x",
         "value"
        ]
       },
       {
        "data": "YZvl5b3z4D9hm+XlvfPgP2Gb5eW98+A/YZvl5b3z4D8=",
        "encoding": "base64",
        "path": [
         "y",
         "value"
        ]
       }
      ],
      "model_module": "bqplot",
      "model_module_version": "^0.5.0",
      "model_name": "ScatterModel",
      "state": {
       "_model_module": "bqplot",
       "_model_module_version": "^0.5.0",
       "_model_name": "ScatterModel",
       "_view_count": null,
       "_view_module": "bqplot",
       "_view_module_version": "^0.5.0",
       "_view_name": "Scatter",
       "apply_clip": true,
       "color": null,
       "colors": [
        "red"
       ],
       "default_opacities": {
        "dtype": "float64",
        "shape": [
         1
        ],
        "type": null
       },
       "default_size": 64,
       "default_skew": 0.5,
       "display_legend": false,
       "display_names": true,
       "drag_color": null,
       "drag_size": 5.0,
       "enable_delete": false,
       "enable_hover": true,
       "enable_move": false,
       "fill": true,
       "hovered_point": null,
       "hovered_style": {},
       "interactions": {
        "hover": "tooltip"
       },
       "labels": [
        "Current Isochron"
       ],
       "marker": "circle",
       "names": null,
       "names_unique": true,
       "opacity": null,
       "preserve_domain": {},
       "restrict_x": false,
       "restrict_y": false,
       "rotation": null,
       "scales": {
        "x": "IPY_MODEL_cb6f87fc2e70478ca28d5c77c0502881",
        "y": "IPY_MODEL_297b1a6faac74fa18ac2e935fec4e31e"
       },
       "scales_metadata": {
        "color": {
         "dimension": "color"
        },
        "opacity": {
         "dimension": "opacity"
        },
        "rotation": {
         "dimension": "rotation"
        },
        "size": {
         "dimension": "size"
        },
        "skew": {
         "dimension": "skew"
        },
        "x": {
         "dimension": "x",
         "orientation": "horizontal"
        },
        "y": {
         "dimension": "y",
         "orientation": "vertical"
        }
       },
       "selected": null,
       "selected_style": {},
       "size": null,
       "skew": null,
       "stroke": "red",
       "stroke_width": 1.5,
       "tooltip": null,
       "tooltip_location": "mouse",
       "tooltip_style": {
        "opacity": 0.9
       },
       "unhovered_style": {},
       "unselected_style": {},
       "update_on_move": false,
       "visible": true,
       "x": {
        "dtype": "float64",
        "shape": [
         4
        ],
        "type": null
       },
       "y": {
        "dtype": "float64",
        "shape": [
         4
        ],
        "type": null
       }
      }
     },
     "bc4ea6beb96f4f629ec6ee613a9491d0": {
      "model_module": "@jupyter-widgets/base",
      "model_module_version": "1.2.0",
      "model_name": "LayoutModel",
      "state": {
       "_model_module": "@jupyter-widgets/base",
       "_model_module_version": "1.2.0",
       "_model_name": "LayoutModel",
       "_view_count": null,
       "_view_module": "@jupyter-widgets/base",
       "_view_module_version": "1.2.0",
       "_view_name": "LayoutView",
       "align_content": null,
       "align_items": null,
       "align_self": null,
       "border": null,
       "bottom": null,
       "display": null,
       "flex": null,
       "flex_flow": null,
       "grid_area": null,
       "grid_auto_columns": null,
       "grid_auto_flow": null,
       "grid_auto_rows": null,
       "grid_column": null,
       "grid_gap": null,
       "grid_row": null,
       "grid_template_areas": null,
       "grid_template_columns": null,
       "grid_template_rows": null,
       "height": null,
       "justify_content": null,
       "justify_items": null,
       "left": null,
       "margin": null,
       "max_height": null,
       "max_width": null,
       "min_height": null,
       "min_width": null,
       "object_fit": null,
       "object_position": null,
       "order": null,
       "overflow": null,
       "overflow_x": null,
       "overflow_y": null,
       "padding": null,
       "right": null,
       "top": null,
       "visibility": null,
       "width": null
      }
     },
     "bc753f8c2fab41709e19eb5a4a668008": {
      "model_module": "@jupyter-widgets/controls",
      "model_module_version": "1.5.0",
      "model_name": "DescriptionStyleModel",
      "state": {
       "_model_module": "@jupyter-widgets/controls",
       "_model_module_version": "1.5.0",
       "_model_name": "DescriptionStyleModel",
       "_view_count": null,
       "_view_module": "@jupyter-widgets/base",
       "_view_module_version": "1.2.0",
       "_view_name": "StyleView",
       "description_width": "initial"
      }
     },
     "bd24155564194095b1589bd6433487c5": {
      "model_module": "bqplot",
      "model_module_version": "^0.5.0",
      "model_name": "AxisModel",
      "state": {
       "_model_module": "bqplot",
       "_model_module_version": "^0.5.0",
       "_model_name": "AxisModel",
       "_view_count": null,
       "_view_module": "bqplot",
       "_view_module_version": "^0.5.0",
       "_view_name": "Axis",
       "color": null,
       "grid_color": null,
       "grid_lines": "solid",
       "label": "",
       "label_color": null,
       "label_location": "middle",
       "label_offset": null,
       "num_ticks": 0,
       "offset": {},
       "orientation": "vertical",
       "scale": "IPY_MODEL_a43813ae754248dfba43b8115cdec78e",
       "side": null,
       "tick_format": null,
       "tick_rotate": 0,
       "tick_style": {},
       "tick_values": null,
       "visible": true
      }
     },
     "c1781f86cdb6457eb5337219a8b090e9": {
      "model_module": "@jupyter-widgets/controls",
      "model_module_version": "1.5.0",
      "model_name": "DescriptionStyleModel",
      "state": {
       "_model_module": "@jupyter-widgets/controls",
       "_model_module_version": "1.5.0",
       "_model_name": "DescriptionStyleModel",
       "_view_count": null,
       "_view_module": "@jupyter-widgets/base",
       "_view_module_version": "1.2.0",
       "_view_name": "StyleView",
       "description_width": ""
      }
     },
     "c346f624e7254917a8cb98a0515c3d9a": {
      "model_module": "@jupyter-widgets/controls",
      "model_module_version": "1.5.0",
      "model_name": "RadioButtonsModel",
      "state": {
       "_dom_classes": [],
       "_model_module": "@jupyter-widgets/controls",
       "_model_module_version": "1.5.0",
       "_model_name": "RadioButtonsModel",
       "_options_labels": [
        "Generic",
        "Carbon",
        "Thallium",
        "Uranium",
        "Rubidium"
       ],
       "_view_count": null,
       "_view_module": "@jupyter-widgets/controls",
       "_view_module_version": "1.5.0",
       "_view_name": "RadioButtonsView",
       "description": "Species:",
       "description_tooltip": null,
       "disabled": false,
       "index": 0,
       "layout": "IPY_MODEL_267084c73af6493f8fd1aa3d44b40b3d",
       "style": "IPY_MODEL_4849271d12d445efb6eb2493cabf3d92"
      }
     },
     "c3ecbbbce1c14ba3a3d12ba55f86c5c0": {
      "model_module": "@jupyter-widgets/controls",
      "model_module_version": "1.5.0",
      "model_name": "LinkModel",
      "state": {
       "_model_module": "@jupyter-widgets/controls",
       "_model_module_version": "1.5.0",
       "_model_name": "LinkModel",
       "_view_count": null,
       "_view_module": "@jupyter-widgets/controls",
       "_view_module_version": "1.5.0",
       "_view_name": null,
       "source": [
        "IPY_MODEL_271ed3146ecf49d4b0589c2f58760234",
        "value"
       ],
       "target": [
        "IPY_MODEL_f4433ff43079431994969c130c3ec3b6",
        "value"
       ]
      }
     },
     "c7818e89eb8548e4910ff4abff191a22": {
      "buffers": [
       {
        "data": "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",
        "encoding": "base64",
        "path": [
         "x",
         "value"
        ]
       },
       {
        "data": "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",
        "encoding": "base64",
        "path": [
         "y",
         "value"
        ]
       }
      ],
      "model_module": "bqplot",
      "model_module_version": "^0.5.0",
      "model_name": "LinesModel",
      "state": {
       "_model_module": "bqplot",
       "_model_module_version": "^0.5.0",
       "_model_name": "LinesModel",
       "_view_count": null,
       "_view_module": "bqplot",
       "_view_module_version": "^0.5.0",
       "_view_name": "Lines",
       "apply_clip": true,
       "close_path": false,
       "color": null,
       "colors": [
        "blue"
       ],
       "curves_subset": [],
       "display_legend": true,
       "enable_hover": true,
       "fill": "none",
       "fill_colors": [],
       "fill_opacities": [],
       "interactions": {
        "hover": "tooltip"
       },
       "interpolation": "linear",
       "labels": [
        "Daughter"
       ],
       "labels_visibility": "none",
       "line_style": "solid",
       "marker": null,
       "marker_size": 64,
       "opacities": [],
       "preserve_domain": {},
       "scales": {
        "x": "IPY_MODEL_a3834883f07443be88066a0a7b946b04",
        "y": "IPY_MODEL_fc1390c33c924117bc55e5fe3b405660"
       },
       "scales_metadata": {
        "color": {
         "dimension": "color"
        },
        "x": {
         "dimension": "x",
         "orientation": "horizontal"
        },
        "y": {
         "dimension": "y",
         "orientation": "vertical"
        }
       },
       "selected": null,
       "selected_style": {},
       "stroke_width": 2.0,
       "tooltip": null,
       "tooltip_location": "mouse",
       "tooltip_style": {
        "opacity": 0.9
       },
       "unselected_style": {},
       "visible": true,
       "x": {
        "dtype": "float64",
        "shape": [
         901
        ],
        "type": null
       },
       "y": {
        "dtype": "int32",
        "shape": [
         901
        ],
        "type": null
       }
      }
     },
     "c8b2fe2d41d84f94a48c4e444fa59577": {
      "model_module": "@jupyter-widgets/base",
      "model_module_version": "1.2.0",
      "model_name": "LayoutModel",
      "state": {
       "_model_module": "@jupyter-widgets/base",
       "_model_module_version": "1.2.0",
       "_model_name": "LayoutModel",
       "_view_count": null,
       "_view_module": "@jupyter-widgets/base",
       "_view_module_version": "1.2.0",
       "_view_name": "LayoutView",
       "align_content": null,
       "align_items": null,
       "align_self": null,
       "border": null,
       "bottom": null,
       "display": null,
       "flex": null,
       "flex_flow": null,
       "grid_area": null,
       "grid_auto_columns": null,
       "grid_auto_flow": null,
       "grid_auto_rows": null,
       "grid_column": null,
       "grid_gap": null,
       "grid_row": null,
       "grid_template_areas": null,
       "grid_template_columns": null,
       "grid_template_rows": null,
       "height": null,
       "justify_content": null,
       "justify_items": null,
       "left": null,
       "margin": null,
       "max_height": null,
       "max_width": null,
       "min_height": null,
       "min_width": null,
       "object_fit": null,
       "object_position": null,
       "order": null,
       "overflow": null,
       "overflow_x": "visible",
       "overflow_y": "visible",
       "padding": null,
       "right": null,
       "top": null,
       "visibility": null,
       "width": "200px"
      }
     },
     "c9889c308efe4dd5ac8006544a854a2d": {
      "buffers": [
       {
        "data": "AAAAAAAAAACamZmZmZnZPw==",
        "encoding": "base64",
        "path": [
         "x",
         "value"
        ]
       },
       {
        "data": "YZvl5b3z4D9hm+XlvfPgPw==",
        "encoding": "base64",
        "path": [
         "y",
         "value"
        ]
       }
      ],
      "model_module": "bqplot",
      "model_module_version": "^0.5.0",
      "model_name": "LinesModel",
      "state": {
       "_model_module": "bqplot",
       "_model_module_version": "^0.5.0",
       "_model_name": "LinesModel",
       "_view_count": null,
       "_view_module": "bqplot",
       "_view_module_version": "^0.5.0",
       "_view_name": "Lines",
       "apply_clip": true,
       "close_path": false,
       "color": null,
       "colors": [
        "red"
       ],
       "curves_subset": [],
       "display_legend": false,
       "enable_hover": true,
       "fill": "none",
       "fill_colors": [],
       "fill_opacities": [],
       "interactions": {
        "hover": "tooltip"
       },
       "interpolation": "linear",
       "labels": [
        "Initial Sample"
       ],
       "labels_visibility": "none",
       "line_style": "dashed",
       "marker": null,
       "marker_size": 64,
       "opacities": [],
       "preserve_domain": {},
       "scales": {
        "x": "IPY_MODEL_cb6f87fc2e70478ca28d5c77c0502881",
        "y": "IPY_MODEL_297b1a6faac74fa18ac2e935fec4e31e"
       },
       "scales_metadata": {
        "color": {
         "dimension": "color"
        },
        "x": {
         "dimension": "x",
         "orientation": "horizontal"
        },
        "y": {
         "dimension": "y",
         "orientation": "vertical"
        }
       },
       "selected": null,
       "selected_style": {},
       "stroke_width": 2.0,
       "tooltip": null,
       "tooltip_location": "mouse",
       "tooltip_style": {
        "opacity": 0.9
       },
       "unselected_style": {},
       "visible": true,
       "x": {
        "dtype": "float64",
        "shape": [
         2
        ],
        "type": null
       },
       "y": {
        "dtype": "float64",
        "shape": [
         2
        ],
        "type": null
       }
      }
     },
     "cb6f87fc2e70478ca28d5c77c0502881": {
      "model_module": "bqplot",
      "model_module_version": "^0.5.0",
      "model_name": "LinearScaleModel",
      "state": {
       "_model_module": "bqplot",
       "_model_module_version": "^0.5.0",
       "_model_name": "LinearScaleModel",
       "_view_count": null,
       "_view_module": "bqplot",
       "_view_module_version": "^0.5.0",
       "_view_name": "LinearScale",
       "allow_padding": true,
       "max": 0.4,
       "mid_range": 0.8,
       "min": 0.0,
       "min_range": 0.6,
       "reverse": false,
       "stabilized": false
      }
     },
     "cbcedb352708466cafae6908eda143de": {
      "model_module": "@jupyter-widgets/controls",
      "model_module_version": "1.5.0",
      "model_name": "HBoxModel",
      "state": {
       "_dom_classes": [],
       "_model_module": "@jupyter-widgets/controls",
       "_model_module_version": "1.5.0",
       "_model_name": "HBoxModel",
       "_view_count": null,
       "_view_module": "@jupyter-widgets/controls",
       "_view_module_version": "1.5.0",
       "_view_name": "HBoxView",
       "box_style": "",
       "children": [
        "IPY_MODEL_9f152338c196422e8ff62edda0e368bb",
        "IPY_MODEL_d3f55acc90534c8e96e4665bd8f19fa2"
       ],
       "layout": "IPY_MODEL_899ca8df2704476e81126c85304d2df2"
      }
     },
     "d0b92a51dc35401bbe0431cface227bc": {
      "model_module": "@jupyter-widgets/controls",
      "model_module_version": "1.5.0",
      "model_name": "VBoxModel",
      "state": {
       "_dom_classes": [],
       "_model_module": "@jupyter-widgets/controls",
       "_model_module_version": "1.5.0",
       "_model_name": "VBoxModel",
       "_view_count": null,
       "_view_module": "@jupyter-widgets/controls",
       "_view_module_version": "1.5.0",
       "_view_name": "VBoxView",
       "box_style": "",
       "children": [
        "IPY_MODEL_031af52760b141af8c79b76482ddc14a",
        "IPY_MODEL_271ed3146ecf49d4b0589c2f58760234",
        "IPY_MODEL_e94a502da90c42858a95afc82d96fd51",
        "IPY_MODEL_68313d52eb2e4215829227ca26392463"
       ],
       "layout": "IPY_MODEL_b7f3a10a6be14f7caa8fca8555342957"
      }
     },
     "d1256318f5ac4aa3a8121f406af670f5": {
      "model_module": "@jupyter-widgets/base",
      "model_module_version": "1.2.0",
      "model_name": "LayoutModel",
      "state": {
       "_model_module": "@jupyter-widgets/base",
       "_model_module_version": "1.2.0",
       "_model_name": "LayoutModel",
       "_view_count": null,
       "_view_module": "@jupyter-widgets/base",
       "_view_module_version": "1.2.0",
       "_view_name": "LayoutView",
       "align_content": null,
       "align_items": null,
       "align_self": null,
       "border": null,
       "bottom": null,
       "display": null,
       "flex": null,
       "flex_flow": null,
       "grid_area": null,
       "grid_auto_columns": null,
       "grid_auto_flow": null,
       "grid_auto_rows": null,
       "grid_column": null,
       "grid_gap": null,
       "grid_row": null,
       "grid_template_areas": null,
       "grid_template_columns": null,
       "grid_template_rows": null,
       "height": null,
       "justify_content": null,
       "justify_items": null,
       "left": null,
       "margin": null,
       "max_height": null,
       "max_width": null,
       "min_height": "400px",
       "min_width": null,
       "object_fit": null,
       "object_position": null,
       "order": null,
       "overflow": null,
       "overflow_x": null,
       "overflow_y": null,
       "padding": null,
       "right": null,
       "top": null,
       "visibility": null,
       "width": "450px"
      }
     },
     "d2aa1dfb4d66454a904c8be7ac724f03": {
      "buffers": [
       {
        "data": "3A2XeukiwD/cDZd66SLAP6+py6D2+8E/r6nLoPb7wT9R4WKa+KjQP1HhYpr4qNA/V29BnJGs1z9Xb0GckazXPw==",
        "encoding": "base64",
        "path": [
         "x",
         "value"
        ]
       },
       {
        "data": "YZvl5b3z4D9hm+XlvfPgP2Gb5eW98+A/YZvl5b3z4D9hm+XlvfPgP2Gb5eW98+A/YZvl5b3z4D9hm+XlvfPgPw==",
        "encoding": "base64",
        "path": [
         "y",
         "value"
        ]
       }
      ],
      "model_module": "bqplot",
      "model_module_version": "^0.5.0",
      "model_name": "LinesModel",
      "state": {
       "_model_module": "bqplot",
       "_model_module_version": "^0.5.0",
       "_model_name": "LinesModel",
       "_view_count": null,
       "_view_module": "bqplot",
       "_view_module_version": "^0.5.0",
       "_view_name": "Lines",
       "apply_clip": true,
       "close_path": false,
       "color": null,
       "colors": [
        "black"
       ],
       "curves_subset": [],
       "display_legend": false,
       "enable_hover": true,
       "fill": "none",
       "fill_colors": [],
       "fill_opacities": [],
       "interactions": {
        "hover": "tooltip"
       },
       "interpolation": "linear",
       "labels": [],
       "labels_visibility": "none",
       "line_style": "dotted",
       "marker": null,
       "marker_size": 64,
       "opacities": [],
       "preserve_domain": {},
       "scales": {
        "x": "IPY_MODEL_cb6f87fc2e70478ca28d5c77c0502881",
        "y": "IPY_MODEL_297b1a6faac74fa18ac2e935fec4e31e"
       },
       "scales_metadata": {
        "color": {
         "dimension": "color"
        },
        "x": {
         "dimension": "x",
         "orientation": "horizontal"
        },
        "y": {
         "dimension": "y",
         "orientation": "vertical"
        }
       },
       "selected": null,
       "selected_style": {},
       "stroke_width": 2.0,
       "tooltip": null,
       "tooltip_location": "mouse",
       "tooltip_style": {
        "opacity": 0.9
       },
       "unselected_style": {},
       "visible": true,
       "x": {
        "dtype": "float64",
        "shape": [
         4,
         2
        ],
        "type": null
       },
       "y": {
        "dtype": "float64",
        "shape": [
         4,
         2
        ],
        "type": null
       }
      }
     },
     "d30f66b7f5e14855b2c42c3f935c576a": {
      "model_module": "bqplot",
      "model_module_version": "^0.5.0",
      "model_name": "FigureModel",
      "state": {
       "_dom_classes": [],
       "_model_module": "bqplot",
       "_model_module_version": "^0.5.0",
       "_model_name": "FigureModel",
       "_view_count": null,
       "_view_module": "bqplot",
       "_view_module_version": "^0.5.0",
       "_view_name": "Figure",
       "animation_duration": 0,
       "axes": [
        "IPY_MODEL_257bc987ddae4cb7958751c3a21066b9",
        "IPY_MODEL_0698c8c960544f71a337651fa64ea280"
       ],
       "background_style": {
        "fill": "black"
       },
       "fig_margin": {
        "bottom": 60,
        "left": 60,
        "right": 60,
        "top": 60
       },
       "interaction": null,
       "layout": "IPY_MODEL_d1256318f5ac4aa3a8121f406af670f5",
       "legend_location": "right",
       "legend_style": {
        "fill": "white"
       },
       "legend_text": {},
       "marks": [
        "IPY_MODEL_478be105c3114484a33c4ae9380829ed",
        "IPY_MODEL_c7818e89eb8548e4910ff4abff191a22",
        "IPY_MODEL_88aa45d6f01e4ad4846e75153cd03481",
        "IPY_MODEL_67a217b5ec25485c813613a44a7b351f",
        "IPY_MODEL_f1eb1f65cf934a7e8397eb5f081e276f"
       ],
       "max_aspect_ratio": 100.0,
       "min_aspect_ratio": 0.01,
       "padding_x": 0.0,
       "padding_y": 0.025,
       "pixel_ratio": null,
       "scale_x": "IPY_MODEL_e6585d2aad5e4632adda8d65b65ded6a",
       "scale_y": "IPY_MODEL_ffa55d4740da4f409fe0bc3d90ad57f2",
       "theme": "classic",
       "title": "Counts versus Time",
       "title_style": {}
      }
     },
     "d3f55acc90534c8e96e4665bd8f19fa2": {
      "model_module": "@jupyter-widgets/controls",
      "model_module_version": "1.5.0",
      "model_name": "TextModel",
      "state": {
       "_dom_classes": [],
       "_model_module": "@jupyter-widgets/controls",
       "_model_module_version": "1.5.0",
       "_model_name": "TextModel",
       "_view_count": null,
       "_view_module": "@jupyter-widgets/controls",
       "_view_module_version": "1.5.0",
       "_view_name": "TextView",
       "continuous_update": true,
       "description": "",
       "description_tooltip": null,
       "disabled": true,
       "layout": "IPY_MODEL_ee5463f6d84144bcac782f815da10afc",
       "placeholder": "​",
       "style": "IPY_MODEL_bc753f8c2fab41709e19eb5a4a668008",
       "value": "900"
      }
     },
     "d495ea87070c4d81aa30e710df4c9f3f": {
      "model_module": "@jupyter-widgets/controls",
      "model_module_version": "1.5.0",
      "model_name": "HBoxModel",
      "state": {
       "_dom_classes": [],
       "_model_module": "@jupyter-widgets/controls",
       "_model_module_version": "1.5.0",
       "_model_name": "HBoxModel",
       "_view_count": null,
       "_view_module": "@jupyter-widgets/controls",
       "_view_module_version": "1.5.0",
       "_view_name": "HBoxView",
       "box_style": "",
       "children": [
        "IPY_MODEL_4367d5fcf47f4de3aded7740e5693d15",
        "IPY_MODEL_f374784991c5465fb67983e6392eef00"
       ],
       "layout": "IPY_MODEL_457a4f16337443998ba42a19630cd3d8"
      }
     },
     "d58384fbd5c64d35b8c0eee5549d8872": {
      "model_module": "@jupyter-widgets/base",
      "model_module_version": "1.2.0",
      "model_name": "LayoutModel",
      "state": {
       "_model_module": "@jupyter-widgets/base",
       "_model_module_version": "1.2.0",
       "_model_name": "LayoutModel",
       "_view_count": null,
       "_view_module": "@jupyter-widgets/base",
       "_view_module_version": "1.2.0",
       "_view_name": "LayoutView",
       "align_content": null,
       "align_items": null,
       "align_self": null,
       "border": null,
       "bottom": null,
       "display": null,
       "flex": null,
       "flex_flow": null,
       "grid_area": null,
       "grid_auto_columns": null,
       "grid_auto_flow": null,
       "grid_auto_rows": null,
       "grid_column": null,
       "grid_gap": null,
       "grid_row": null,
       "grid_template_areas": null,
       "grid_template_columns": null,
       "grid_template_rows": null,
       "height": null,
       "justify_content": null,
       "justify_items": null,
       "left": null,
       "margin": null,
       "max_height": null,
       "max_width": null,
       "min_height": null,
       "min_width": null,
       "object_fit": null,
       "object_position": null,
       "order": null,
       "overflow": null,
       "overflow_x": null,
       "overflow_y": null,
       "padding": null,
       "right": null,
       "top": null,
       "visibility": null,
       "width": null
      }
     },
     "da545f7d33da4205a8f59b9d1ef6827c": {
      "model_module": "@jupyter-widgets/base",
      "model_module_version": "1.2.0",
      "model_name": "LayoutModel",
      "state": {
       "_model_module": "@jupyter-widgets/base",
       "_model_module_version": "1.2.0",
       "_model_name": "LayoutModel",
       "_view_count": null,
       "_view_module": "@jupyter-widgets/base",
       "_view_module_version": "1.2.0",
       "_view_name": "LayoutView",
       "align_content": null,
       "align_items": null,
       "align_self": null,
       "border": null,
       "bottom": null,
       "display": null,
       "flex": null,
       "flex_flow": null,
       "grid_area": null,
       "grid_auto_columns": null,
       "grid_auto_flow": null,
       "grid_auto_rows": null,
       "grid_column": null,
       "grid_gap": null,
       "grid_row": null,
       "grid_template_areas": null,
       "grid_template_columns": null,
       "grid_template_rows": null,
       "height": null,
       "justify_content": null,
       "justify_items": null,
       "left": null,
       "margin": null,
       "max_height": null,
       "max_width": null,
       "min_height": null,
       "min_width": null,
       "object_fit": null,
       "object_position": null,
       "order": null,
       "overflow": null,
       "overflow_x": null,
       "overflow_y": null,
       "padding": null,
       "right": null,
       "top": null,
       "visibility": null,
       "width": null
      }
     },
     "e5c69dac98ed4eb299c5f41e388e9ce1": {
      "model_module": "@jupyter-widgets/base",
      "model_module_version": "1.2.0",
      "model_name": "LayoutModel",
      "state": {
       "_model_module": "@jupyter-widgets/base",
       "_model_module_version": "1.2.0",
       "_model_name": "LayoutModel",
       "_view_count": null,
       "_view_module": "@jupyter-widgets/base",
       "_view_module_version": "1.2.0",
       "_view_name": "LayoutView",
       "align_content": null,
       "align_items": null,
       "align_self": null,
       "border": null,
       "bottom": null,
       "display": null,
       "flex": null,
       "flex_flow": null,
       "grid_area": null,
       "grid_auto_columns": null,
       "grid_auto_flow": null,
       "grid_auto_rows": null,
       "grid_column": null,
       "grid_gap": null,
       "grid_row": null,
       "grid_template_areas": null,
       "grid_template_columns": null,
       "grid_template_rows": null,
       "height": null,
       "justify_content": null,
       "justify_items": null,
       "left": null,
       "margin": null,
       "max_height": null,
       "max_width": null,
       "min_height": null,
       "min_width": null,
       "object_fit": null,
       "object_position": null,
       "order": null,
       "overflow": null,
       "overflow_x": null,
       "overflow_y": null,
       "padding": null,
       "right": null,
       "top": null,
       "visibility": null,
       "width": null
      }
     },
     "e6585d2aad5e4632adda8d65b65ded6a": {
      "model_module": "bqplot",
      "model_module_version": "^0.5.0",
      "model_name": "LinearScaleModel",
      "state": {
       "_model_module": "bqplot",
       "_model_module_version": "^0.5.0",
       "_model_name": "LinearScaleModel",
       "_view_count": null,
       "_view_module": "bqplot",
       "_view_module_version": "^0.5.0",
       "_view_name": "LinearScale",
       "allow_padding": false,
       "max": 1.0,
       "mid_range": 0.8,
       "min": 0.0,
       "min_range": 0.6,
       "reverse": false,
       "stabilized": false
      }
     },
     "e7eac8f1494c415283d19fdb11858688": {
      "model_module": "@jupyter-widgets/base",
      "model_module_version": "1.2.0",
      "model_name": "LayoutModel",
      "state": {
       "_model_module": "@jupyter-widgets/base",
       "_model_module_version": "1.2.0",
       "_model_name": "LayoutModel",
       "_view_count": null,
       "_view_module": "@jupyter-widgets/base",
       "_view_module_version": "1.2.0",
       "_view_name": "LayoutView",
       "align_content": null,
       "align_items": null,
       "align_self": null,
       "border": null,
       "bottom": null,
       "display": null,
       "flex": null,
       "flex_flow": null,
       "grid_area": null,
       "grid_auto_columns": null,
       "grid_auto_flow": null,
       "grid_auto_rows": null,
       "grid_column": null,
       "grid_gap": null,
       "grid_row": null,
       "grid_template_areas": null,
       "grid_template_columns": null,
       "grid_template_rows": null,
       "height": null,
       "justify_content": null,
       "justify_items": null,
       "left": null,
       "margin": null,
       "max_height": null,
       "max_width": null,
       "min_height": null,
       "min_width": null,
       "object_fit": null,
       "object_position": null,
       "order": null,
       "overflow": null,
       "overflow_x": null,
       "overflow_y": null,
       "padding": null,
       "right": null,
       "top": null,
       "visibility": null,
       "width": "450px"
      }
     },
     "e94a502da90c42858a95afc82d96fd51": {
      "model_module": "@jupyter-widgets/controls",
      "model_module_version": "1.5.0",
      "model_name": "HBoxModel",
      "state": {
       "_dom_classes": [],
       "_model_module": "@jupyter-widgets/controls",
       "_model_module_version": "1.5.0",
       "_model_name": "HBoxModel",
       "_view_count": null,
       "_view_module": "@jupyter-widgets/controls",
       "_view_module_version": "1.5.0",
       "_view_name": "HBoxView",
       "box_style": "",
       "children": [
        "IPY_MODEL_f4433ff43079431994969c130c3ec3b6",
        "IPY_MODEL_87ebed59c94f4b5785ea54c48a6e7893"
       ],
       "layout": "IPY_MODEL_5f5a08c4bd184c6e9b581e2533902e33"
      }
     },
     "ee5463f6d84144bcac782f815da10afc": {
      "model_module": "@jupyter-widgets/base",
      "model_module_version": "1.2.0",
      "model_name": "LayoutModel",
      "state": {
       "_model_module": "@jupyter-widgets/base",
       "_model_module_version": "1.2.0",
       "_model_name": "LayoutModel",
       "_view_count": null,
       "_view_module": "@jupyter-widgets/base",
       "_view_module_version": "1.2.0",
       "_view_name": "LayoutView",
       "align_content": null,
       "align_items": null,
       "align_self": null,
       "border": null,
       "bottom": null,
       "display": null,
       "flex": null,
       "flex_flow": null,
       "grid_area": null,
       "grid_auto_columns": null,
       "grid_auto_flow": null,
       "grid_auto_rows": null,
       "grid_column": null,
       "grid_gap": null,
       "grid_row": null,
       "grid_template_areas": null,
       "grid_template_columns": null,
       "grid_template_rows": null,
       "height": null,
       "justify_content": null,
       "justify_items": null,
       "left": null,
       "margin": null,
       "max_height": null,
       "max_width": "300px",
       "min_height": null,
       "min_width": "125px",
       "object_fit": null,
       "object_position": null,
       "order": null,
       "overflow": null,
       "overflow_x": "visible",
       "overflow_y": "visible",
       "padding": null,
       "right": null,
       "top": null,
       "visibility": null,
       "width": "175px"
      }
     },
     "f1eb1f65cf934a7e8397eb5f081e276f": {
      "buffers": [
       {
        "data": "AAAAAAAA8D8=",
        "encoding": "base64",
        "path": [
         "default_opacities",
         "value"
        ]
       },
       {
        "data": "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",
        "encoding": "base64",
        "path": [
         "x",
         "value"
        ]
       },
       {
        "data": "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",
        "encoding": "base64",
        "path": [
         "y",
         "value"
        ]
       }
      ],
      "model_module": "bqplot",
      "model_module_version": "^0.5.0",
      "model_name": "ScatterModel",
      "state": {
       "_model_module": "bqplot",
       "_model_module_version": "^0.5.0",
       "_model_name": "ScatterModel",
       "_view_count": null,
       "_view_module": "bqplot",
       "_view_module_version": "^0.5.0",
       "_view_name": "Scatter",
       "apply_clip": true,
       "color": null,
       "colors": [
        "blue"
       ],
       "default_opacities": {
        "dtype": "float64",
        "shape": [
         1
        ],
        "type": null
       },
       "default_size": 2,
       "default_skew": 0.5,
       "display_legend": false,
       "display_names": true,
       "drag_color": null,
       "drag_size": 5.0,
       "enable_delete": false,
       "enable_hover": true,
       "enable_move": false,
       "fill": true,
       "hovered_point": null,
       "hovered_style": {},
       "interactions": {
        "hover": "tooltip"
       },
       "labels": [
        "Daughter"
       ],
       "marker": "circle",
       "names": null,
       "names_unique": true,
       "opacity": null,
       "preserve_domain": {},
       "restrict_x": false,
       "restrict_y": false,
       "rotation": null,
       "scales": {
        "x": "IPY_MODEL_a3834883f07443be88066a0a7b946b04",
        "y": "IPY_MODEL_fc1390c33c924117bc55e5fe3b405660"
       },
       "scales_metadata": {
        "color": {
         "dimension": "color"
        },
        "opacity": {
         "dimension": "opacity"
        },
        "rotation": {
         "dimension": "rotation"
        },
        "size": {
         "dimension": "size"
        },
        "skew": {
         "dimension": "skew"
        },
        "x": {
         "dimension": "x",
         "orientation": "horizontal"
        },
        "y": {
         "dimension": "y",
         "orientation": "vertical"
        }
       },
       "selected": null,
       "selected_style": {},
       "size": null,
       "skew": null,
       "stroke": null,
       "stroke_width": 1.5,
       "tooltip": "IPY_MODEL_ba350ce1de1e48ffbb01426f5bab52c2",
       "tooltip_location": "mouse",
       "tooltip_style": {
        "opacity": 0.9
       },
       "unhovered_style": {},
       "unselected_style": {},
       "update_on_move": false,
       "visible": true,
       "x": {
        "dtype": "float64",
        "shape": [
         901
        ],
        "type": null
       },
       "y": {
        "dtype": "int32",
        "shape": [
         901
        ],
        "type": null
       }
      }
     },
     "f374784991c5465fb67983e6392eef00": {
      "model_module": "@jupyter-widgets/controls",
      "model_module_version": "1.5.0",
      "model_name": "LabelModel",
      "state": {
       "_dom_classes": [],
       "_model_module": "@jupyter-widgets/controls",
       "_model_module_version": "1.5.0",
       "_model_name": "LabelModel",
       "_view_count": null,
       "_view_module": "@jupyter-widgets/controls",
       "_view_module_version": "1.5.0",
       "_view_name": "LabelView",
       "description": "",
       "description_tooltip": null,
       "layout": "IPY_MODEL_bc4ea6beb96f4f629ec6ee613a9491d0",
       "placeholder": "​",
       "style": "IPY_MODEL_3c94bbb6f74141ec983612e80b091c2f",
       "value": "half-lives"
      }
     },
     "f4433ff43079431994969c130c3ec3b6": {
      "model_module": "@jupyter-widgets/controls",
      "model_module_version": "1.5.0",
      "model_name": "BoundedFloatTextModel",
      "state": {
       "_dom_classes": [],
       "_model_module": "@jupyter-widgets/controls",
       "_model_module_version": "1.5.0",
       "_model_name": "BoundedFloatTextModel",
       "_view_count": null,
       "_view_module": "@jupyter-widgets/controls",
       "_view_module_version": "1.5.0",
       "_view_name": "FloatTextView",
       "continuous_update": false,
       "description": "",
       "description_tooltip": null,
       "disabled": false,
       "layout": "IPY_MODEL_3efcbf451c7248bf9263acc44fca0ad8",
       "max": 5.0,
       "min": 0.0,
       "step": 0.02,
       "style": "IPY_MODEL_7ddb920565b54568bdae5ecd5c2ab15f",
       "value": 0.0
      }
     },
     "fa5976c68d574abd84a60650bdc9142e": {
      "model_module": "@jupyter-widgets/base",
      "model_module_version": "1.2.0",
      "model_name": "LayoutModel",
      "state": {
       "_model_module": "@jupyter-widgets/base",
       "_model_module_version": "1.2.0",
       "_model_name": "LayoutModel",
       "_view_count": null,
       "_view_module": "@jupyter-widgets/base",
       "_view_module_version": "1.2.0",
       "_view_name": "LayoutView",
       "align_content": null,
       "align_items": null,
       "align_self": null,
       "border": null,
       "bottom": null,
       "display": null,
       "flex": null,
       "flex_flow": null,
       "grid_area": null,
       "grid_auto_columns": null,
       "grid_auto_flow": null,
       "grid_auto_rows": null,
       "grid_column": null,
       "grid_gap": null,
       "grid_row": null,
       "grid_template_areas": null,
       "grid_template_columns": null,
       "grid_template_rows": null,
       "height": null,
       "justify_content": null,
       "justify_items": null,
       "left": null,
       "margin": null,
       "max_height": null,
       "max_width": "300px",
       "min_height": null,
       "min_width": "125px",
       "object_fit": null,
       "object_position": null,
       "order": null,
       "overflow": null,
       "overflow_x": "visible",
       "overflow_y": "visible",
       "padding": null,
       "right": null,
       "top": null,
       "visibility": null,
       "width": "175px"
      }
     },
     "fc1390c33c924117bc55e5fe3b405660": {
      "model_module": "bqplot",
      "model_module_version": "^0.5.0",
      "model_name": "LinearScaleModel",
      "state": {
       "_model_module": "bqplot",
       "_model_module_version": "^0.5.0",
       "_model_name": "LinearScaleModel",
       "_view_count": null,
       "_view_module": "bqplot",
       "_view_module_version": "^0.5.0",
       "_view_name": "LinearScale",
       "allow_padding": true,
       "max": 900.0,
       "mid_range": 0.8,
       "min": 0.0,
       "min_range": 0.6,
       "reverse": false,
       "stabilized": false
      }
     },
     "fde07c7fef214167a32938859787fb96": {
      "model_module": "bqplot",
      "model_module_version": "^0.5.0",
      "model_name": "LinearScaleModel",
      "state": {
       "_model_module": "bqplot",
       "_model_module_version": "^0.5.0",
       "_model_name": "LinearScaleModel",
       "_view_count": null,
       "_view_module": "bqplot",
       "_view_module_version": "^0.5.0",
       "_view_name": "LinearScale",
       "allow_padding": false,
       "max": 1.0,
       "mid_range": 0.8,
       "min": 0.0,
       "min_range": 0.6,
       "reverse": false,
       "stabilized": false
      }
     },
     "ffa55d4740da4f409fe0bc3d90ad57f2": {
      "model_module": "bqplot",
      "model_module_version": "^0.5.0",
      "model_name": "LinearScaleModel",
      "state": {
       "_model_module": "bqplot",
       "_model_module_version": "^0.5.0",
       "_model_name": "LinearScaleModel",
       "_view_count": null,
       "_view_module": "bqplot",
       "_view_module_version": "^0.5.0",
       "_view_name": "LinearScale",
       "allow_padding": false,
       "max": 1.0,
       "mid_range": 0.8,
       "min": 0.0,
       "min_range": 0.6,
       "reverse": false,
       "stabilized": false
      }
     }
    },
    "version_major": 2,
    "version_minor": 0
   }
  }
 },
 "nbformat": 4,
 "nbformat_minor": 2
}